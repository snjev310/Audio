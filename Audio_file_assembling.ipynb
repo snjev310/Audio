{
 "cells": [
  {
   "cell_type": "code",
   "execution_count": 1,
   "metadata": {},
   "outputs": [],
   "source": [
    "import librosa\n",
    "import numpy as np\n",
    "import pandas as pd\n",
    "import matplotlib.pyplot as plt\n",
    "import librosa.display\n",
    "import os"
   ]
  },
  {
   "cell_type": "code",
   "execution_count": 2,
   "metadata": {},
   "outputs": [],
   "source": [
    "path = '/Users/sanjeevkumar/Desktop/TWR/DATA Samples/S/S = 1'\n",
    "files_s1 = []\n",
    "for r,d,f in os.walk(path):\n",
    "    files_s1.append(f)"
   ]
  },
  {
   "cell_type": "code",
   "execution_count": 3,
   "metadata": {},
   "outputs": [
    {
     "name": "stdout",
     "output_type": "stream",
     "text": [
      "[['A19LK_09910_1428_20_10_2019.MP3', 'A19LK_09910_1423_20_10_2019.MP3', 'A19LK_09910_1316_20_10_2019.MP3', 'A19LK_09910_1337_20_10_2019.MP3', 'A19LK_09910_1353_20_10_2019.MP3', 'A19LK_09910_1403_20_10_2019.MP3', 'A19LK_09910_1348_20_10_2019.MP3', 'A19LK_09910_1418_20_10_2019.MP3', 'A19LK_09910_1321_20_10_2019.MP3', 'A19LK_09910_1358_20_10_2019.MP3', 'A19LK_09910_1408_20_10_2019.MP3', 'A19LK_09910_1342_20_10_2019.MP3', 'A19LK_09910_1326_20_10_2019.MP3', 'A19LK_09910_1332_20_10_2019.MP3', 'A19LK_09910_1413_20_10_2019.MP3']]\n"
     ]
    }
   ],
   "source": [
    "print(files_s1)"
   ]
  },
  {
   "cell_type": "code",
   "execution_count": 4,
   "metadata": {},
   "outputs": [],
   "source": [
    "path = '/Users/sanjeevkumar/Desktop/TWR/DATA Samples/S/S = 2'\n",
    "files_s2 = []\n",
    "for r,d,f in os.walk(path):\n",
    "    files_s2.append(f)"
   ]
  },
  {
   "cell_type": "code",
   "execution_count": 5,
   "metadata": {},
   "outputs": [],
   "source": [
    "# count = 0\n",
    "# for i in range(len(files_s1)):\n",
    "#     if files_s2[0][i]==files_s1[0][i] or files_s1[0][i]==files_s3[0][i]:\n",
    "#         count += 1\n",
    "# print(count)"
   ]
  },
  {
   "cell_type": "code",
   "execution_count": 6,
   "metadata": {},
   "outputs": [],
   "source": [
    "path = '/Users/sanjeevkumar/Desktop/TWR/DATA Samples/S/S = 3'\n",
    "files_s3 = []\n",
    "for r,d,f in os.walk(path):\n",
    "    files_s3.append(f)"
   ]
  },
  {
   "cell_type": "code",
   "execution_count": 7,
   "metadata": {},
   "outputs": [],
   "source": [
    "path = '/Users/sanjeevkumar/Desktop/TWR/DATA Samples/S/S = 4'\n",
    "files_s4 = []\n",
    "for r,d,f in os.walk(path):\n",
    "    files_s4.append(f)"
   ]
  },
  {
   "cell_type": "code",
   "execution_count": 8,
   "metadata": {},
   "outputs": [],
   "source": [
    "path = '/Users/sanjeevkumar/Desktop/TWR/DATA Samples/I/I = 3'\n",
    "files_i3 = []\n",
    "for r,d,f in os.walk(path):\n",
    "    files_i3.append(f)"
   ]
  },
  {
   "cell_type": "code",
   "execution_count": 9,
   "metadata": {},
   "outputs": [],
   "source": [
    "# count = 0\n",
    "# for i in range(len(files_i5)):\n",
    "#     if files_i5[0][i]==files_s3[0][i]:\n",
    "#         count += 1\n",
    "# print(count)"
   ]
  },
  {
   "cell_type": "code",
   "execution_count": 10,
   "metadata": {},
   "outputs": [
    {
     "data": {
      "text/plain": [
       "24"
      ]
     },
     "execution_count": 10,
     "metadata": {},
     "output_type": "execute_result"
    }
   ],
   "source": [
    "len(files_i3[0])"
   ]
  },
  {
   "cell_type": "code",
   "execution_count": 11,
   "metadata": {},
   "outputs": [],
   "source": [
    "path = '/Users/sanjeevkumar/Desktop/TWR/DATA Samples/I/I = 4'\n",
    "files_i4 = []\n",
    "for r,d,f in os.walk(path):\n",
    "    files_i4.append(f)"
   ]
  },
  {
   "cell_type": "code",
   "execution_count": 12,
   "metadata": {},
   "outputs": [
    {
     "data": {
      "text/plain": [
       "['A19DL_09610_1617_04_10_2019.MP3',\n",
       " 'A19DL_09610_1602_04_10_2019.MP3',\n",
       " 'A19DL_09610_1612_07_10_2019.MP3',\n",
       " 'A19DL_09610_1607_07_10_2019.MP3',\n",
       " 'A19DL_09610_1607_04_10_2019.MP3',\n",
       " 'A19DL_09610_1612_04_10_2019.MP3',\n",
       " 'A19DL_09610_1602_07_10_2019.MP3',\n",
       " 'A19DL_09610_1617_07_10_2019.MP3',\n",
       " 'A19DL_09610_1627_04_10_2019.MP3',\n",
       " 'A19DL_09610_1622_07_10_2019.MP3',\n",
       " 'A19DL_09610_1622_04_10_2019.MP3',\n",
       " 'A19DL_09610_1627_07_10_2019.MP3']"
      ]
     },
     "execution_count": 12,
     "metadata": {},
     "output_type": "execute_result"
    }
   ],
   "source": [
    "(files_i4[0])"
   ]
  },
  {
   "cell_type": "code",
   "execution_count": 13,
   "metadata": {},
   "outputs": [],
   "source": [
    "path = '/Users/sanjeevkumar/Desktop/TWR/DATA Samples/I/I = 5'\n",
    "files_i5 = []\n",
    "for r,d,f in os.walk(path):\n",
    "    files_i5.append(f)"
   ]
  },
  {
   "cell_type": "code",
   "execution_count": null,
   "metadata": {},
   "outputs": [],
   "source": []
  },
  {
   "cell_type": "code",
   "execution_count": 14,
   "metadata": {},
   "outputs": [],
   "source": [
    "# count = 0\n",
    "# for i in range(len(files_n3[0])):\n",
    "#     #print(files_i5[0][i])\n",
    "#     if files_n3[0][i] in files_s3[0][i]:\n",
    "#         print(count)\n",
    "#         count += 1\n",
    "# print(count)"
   ]
  },
  {
   "cell_type": "code",
   "execution_count": 15,
   "metadata": {},
   "outputs": [],
   "source": [
    "path = '/Users/sanjeevkumar/Desktop/TWR/DATA Samples/N/N = 3'\n",
    "files_n3 = []\n",
    "for r,d,f in os.walk(path):\n",
    "    files_n3.append(f)"
   ]
  },
  {
   "cell_type": "code",
   "execution_count": 16,
   "metadata": {},
   "outputs": [],
   "source": [
    "path = '/Users/sanjeevkumar/Desktop/TWR/DATA Samples/N/N = 4'\n",
    "files_n4 = []\n",
    "for r,d,f in os.walk(path):\n",
    "    files_n4.append(f)"
   ]
  },
  {
   "cell_type": "code",
   "execution_count": 17,
   "metadata": {},
   "outputs": [
    {
     "data": {
      "text/plain": [
       "['B19DL_09300_1317_29_10_2019.MP3',\n",
       " 'B19DL_09300_1349_29_10_2019.MP3',\n",
       " 'B19DL_09300_1338_29_10_2019.MP3',\n",
       " 'B19DL_09300_1354_29_10_2019.MP3',\n",
       " 'B19DL_09300_1404_29_10_2019.MP3',\n",
       " 'B19DL_09300_1322_29_10_2019.MP3',\n",
       " 'B19DL_09300_1359_29_10_2019.MP3',\n",
       " 'B19DL_09300_1414_29_10_2019.MP3',\n",
       " 'B19DL_09300_1409_29_10_2019.MP3',\n",
       " 'B19DL_09300_1343_29_10_2019.MP3',\n",
       " 'B19DL_09300_1327_29_10_2019.MP3',\n",
       " 'B19DL_09300_1333_29_10_2019.MP3']"
      ]
     },
     "execution_count": 17,
     "metadata": {},
     "output_type": "execute_result"
    }
   ],
   "source": [
    "files_n4[0]"
   ]
  },
  {
   "cell_type": "code",
   "execution_count": 18,
   "metadata": {},
   "outputs": [],
   "source": [
    "path = '/Users/sanjeevkumar/Desktop/TWR/DATA Samples/N/N = 2'\n",
    "files_n2 = []\n",
    "for r,d,f in os.walk(path):\n",
    "    files_n2.append(f)"
   ]
  },
  {
   "cell_type": "code",
   "execution_count": 19,
   "metadata": {},
   "outputs": [
    {
     "data": {
      "text/plain": [
       "['B19LK_07280_0106_30_10_2019.MP3',\n",
       " 'B19LK_07280_0101_30_10_2019.MP3',\n",
       " 'B19LK_07280_0121_31_10_2019.MP3',\n",
       " 'B19LK_07280_0116_30_10_2019.MP3',\n",
       " 'B19LK_07280_0126_31_10_2019.MP3',\n",
       " 'B19LK_07280_0111_30_10_2019.MP3',\n",
       " 'B19LK_07280_0101_31_10_2019.MP3',\n",
       " 'B19LK_07280_0051_30_10_2019.MP3',\n",
       " 'B19LK_07280_0056_30_10_2019.MP3',\n",
       " 'B19LK_07280_0106_31_10_2019.MP3',\n",
       " 'B19LK_07280_0126_30_10_2019.MP3',\n",
       " 'B19LK_07280_0111_31_10_2019.MP3',\n",
       " 'B19LK_07280_0121_30_10_2019.MP3',\n",
       " 'B19LK_07280_0046_30_10_2019.MP3',\n",
       " 'B19LK_07280_0116_31_10_2019.MP3']"
      ]
     },
     "execution_count": 19,
     "metadata": {},
     "output_type": "execute_result"
    }
   ],
   "source": [
    "files_n2[0]"
   ]
  },
  {
   "cell_type": "code",
   "execution_count": 20,
   "metadata": {},
   "outputs": [],
   "source": [
    "path = '/Users/sanjeevkumar/Desktop/TWR/DATA Samples/N/N = 1'\n",
    "files_n1 = []\n",
    "for r,d,f in os.walk(path):\n",
    "    files_n1.append(f)"
   ]
  },
  {
   "cell_type": "code",
   "execution_count": 21,
   "metadata": {},
   "outputs": [
    {
     "data": {
      "text/plain": [
       "'A19HY_00882_2251_09_10_2019.MP3'"
      ]
     },
     "execution_count": 21,
     "metadata": {},
     "output_type": "execute_result"
    }
   ],
   "source": [
    "files_i5[0][1]"
   ]
  },
  {
   "cell_type": "code",
   "execution_count": 22,
   "metadata": {},
   "outputs": [],
   "source": [
    "path_list_i5 = []\n",
    "for i in range(55):\n",
    "    path_list_i5.append(files_i5[0][i])"
   ]
  },
  {
   "cell_type": "code",
   "execution_count": 23,
   "metadata": {},
   "outputs": [],
   "source": [
    "path_df = pd.DataFrame(path_list_i5,columns=['path'])\n",
    "path_df['interference'] = 5"
   ]
  },
  {
   "cell_type": "code",
   "execution_count": 24,
   "metadata": {},
   "outputs": [
    {
     "data": {
      "text/html": [
       "<div>\n",
       "<style scoped>\n",
       "    .dataframe tbody tr th:only-of-type {\n",
       "        vertical-align: middle;\n",
       "    }\n",
       "\n",
       "    .dataframe tbody tr th {\n",
       "        vertical-align: top;\n",
       "    }\n",
       "\n",
       "    .dataframe thead th {\n",
       "        text-align: right;\n",
       "    }\n",
       "</style>\n",
       "<table border=\"1\" class=\"dataframe\">\n",
       "  <thead>\n",
       "    <tr style=\"text-align: right;\">\n",
       "      <th></th>\n",
       "      <th>path</th>\n",
       "      <th>interference</th>\n",
       "    </tr>\n",
       "  </thead>\n",
       "  <tbody>\n",
       "    <tr>\n",
       "      <td>0</td>\n",
       "      <td>A19MB_00882_1506_11_10_2019.MP3</td>\n",
       "      <td>5</td>\n",
       "    </tr>\n",
       "    <tr>\n",
       "      <td>1</td>\n",
       "      <td>A19HY_00882_2251_09_10_2019.MP3</td>\n",
       "      <td>5</td>\n",
       "    </tr>\n",
       "    <tr>\n",
       "      <td>2</td>\n",
       "      <td>A19MB_00882_1621_11_10_2019.MP3</td>\n",
       "      <td>5</td>\n",
       "    </tr>\n",
       "    <tr>\n",
       "      <td>3</td>\n",
       "      <td>A19HY_00882_2336_09_10_2019.MP3</td>\n",
       "      <td>5</td>\n",
       "    </tr>\n",
       "    <tr>\n",
       "      <td>4</td>\n",
       "      <td>A19MB_00882_1501_11_10_2019.MP3</td>\n",
       "      <td>5</td>\n",
       "    </tr>\n",
       "    <tr>\n",
       "      <td>5</td>\n",
       "      <td>A19HY_00882_2256_09_10_2019.MP3</td>\n",
       "      <td>5</td>\n",
       "    </tr>\n",
       "    <tr>\n",
       "      <td>6</td>\n",
       "      <td>A19HY_00882_2331_09_10_2019.MP3</td>\n",
       "      <td>5</td>\n",
       "    </tr>\n",
       "    <tr>\n",
       "      <td>7</td>\n",
       "      <td>A19MB_00882_1626_11_10_2019.MP3</td>\n",
       "      <td>5</td>\n",
       "    </tr>\n",
       "    <tr>\n",
       "      <td>8</td>\n",
       "      <td>A19MB_00882_1656_11_10_2019.MP3</td>\n",
       "      <td>5</td>\n",
       "    </tr>\n",
       "    <tr>\n",
       "      <td>9</td>\n",
       "      <td>A19HY_00882_2341_09_10_2019.MP3</td>\n",
       "      <td>5</td>\n",
       "    </tr>\n",
       "    <tr>\n",
       "      <td>10</td>\n",
       "      <td>A19MB_00882_1416_11_10_2019.MP3</td>\n",
       "      <td>5</td>\n",
       "    </tr>\n",
       "    <tr>\n",
       "      <td>11</td>\n",
       "      <td>A19HY_00882_2346_09_10_2019.MP3</td>\n",
       "      <td>5</td>\n",
       "    </tr>\n",
       "    <tr>\n",
       "      <td>12</td>\n",
       "      <td>A19MB_00882_1651_11_10_2019.MP3</td>\n",
       "      <td>5</td>\n",
       "    </tr>\n",
       "    <tr>\n",
       "      <td>13</td>\n",
       "      <td>A19MB_00882_1411_11_10_2019.MP3</td>\n",
       "      <td>5</td>\n",
       "    </tr>\n",
       "    <tr>\n",
       "      <td>14</td>\n",
       "      <td>A19HY_00882_2236_09_10_2019.MP3</td>\n",
       "      <td>5</td>\n",
       "    </tr>\n",
       "    <tr>\n",
       "      <td>15</td>\n",
       "      <td>A19MB_00882_1646_11_10_2019.MP3</td>\n",
       "      <td>5</td>\n",
       "    </tr>\n",
       "    <tr>\n",
       "      <td>16</td>\n",
       "      <td>A19HY_00882_2351_09_10_2019.MP3</td>\n",
       "      <td>5</td>\n",
       "    </tr>\n",
       "    <tr>\n",
       "      <td>17</td>\n",
       "      <td>A19MB_00882_1406_11_10_2019.MP3</td>\n",
       "      <td>5</td>\n",
       "    </tr>\n",
       "    <tr>\n",
       "      <td>18</td>\n",
       "      <td>A19HY_00882_2231_09_10_2019.MP3</td>\n",
       "      <td>5</td>\n",
       "    </tr>\n",
       "    <tr>\n",
       "      <td>19</td>\n",
       "      <td>A19HY_00882_2356_09_10_2019.MP3</td>\n",
       "      <td>5</td>\n",
       "    </tr>\n",
       "  </tbody>\n",
       "</table>\n",
       "</div>"
      ],
      "text/plain": [
       "                               path  interference\n",
       "0   A19MB_00882_1506_11_10_2019.MP3             5\n",
       "1   A19HY_00882_2251_09_10_2019.MP3             5\n",
       "2   A19MB_00882_1621_11_10_2019.MP3             5\n",
       "3   A19HY_00882_2336_09_10_2019.MP3             5\n",
       "4   A19MB_00882_1501_11_10_2019.MP3             5\n",
       "5   A19HY_00882_2256_09_10_2019.MP3             5\n",
       "6   A19HY_00882_2331_09_10_2019.MP3             5\n",
       "7   A19MB_00882_1626_11_10_2019.MP3             5\n",
       "8   A19MB_00882_1656_11_10_2019.MP3             5\n",
       "9   A19HY_00882_2341_09_10_2019.MP3             5\n",
       "10  A19MB_00882_1416_11_10_2019.MP3             5\n",
       "11  A19HY_00882_2346_09_10_2019.MP3             5\n",
       "12  A19MB_00882_1651_11_10_2019.MP3             5\n",
       "13  A19MB_00882_1411_11_10_2019.MP3             5\n",
       "14  A19HY_00882_2236_09_10_2019.MP3             5\n",
       "15  A19MB_00882_1646_11_10_2019.MP3             5\n",
       "16  A19HY_00882_2351_09_10_2019.MP3             5\n",
       "17  A19MB_00882_1406_11_10_2019.MP3             5\n",
       "18  A19HY_00882_2231_09_10_2019.MP3             5\n",
       "19  A19HY_00882_2356_09_10_2019.MP3             5"
      ]
     },
     "execution_count": 24,
     "metadata": {},
     "output_type": "execute_result"
    }
   ],
   "source": [
    "path_df.head(n=20)"
   ]
  },
  {
   "cell_type": "code",
   "execution_count": 25,
   "metadata": {},
   "outputs": [],
   "source": [
    "def cal_mfcc(path):\n",
    "    X,sample_rate = librosa.load(path,res_type = 'kaiser_fast')\n",
    "    mfcc = np.mean(librosa.feature.mfcc(y=X, sr=sample_rate, n_mfcc=40).T,axis=0)\n",
    "    feature = mfcc\n",
    "    return feature"
   ]
  },
  {
   "cell_type": "code",
   "execution_count": 26,
   "metadata": {},
   "outputs": [],
   "source": [
    "l = []\n",
    "path = '/Users/sanjeevkumar/Desktop/TWR/DATA Samples/I/I = 5/'\n",
    "for i in range(55):\n",
    "    l.append(path)"
   ]
  },
  {
   "cell_type": "code",
   "execution_count": 27,
   "metadata": {},
   "outputs": [],
   "source": [
    "path = '/Users/sanjeevkumar/Desktop/TWR/DATA Samples/I/I = 5/'\n",
    "for r,d,f in os.walk(path):\n",
    "    l.append(f)"
   ]
  },
  {
   "cell_type": "code",
   "execution_count": 28,
   "metadata": {},
   "outputs": [],
   "source": [
    "for i in range(55):\n",
    "    p=(r+f[i])\n",
    "    l.append(p)"
   ]
  },
  {
   "cell_type": "code",
   "execution_count": 29,
   "metadata": {},
   "outputs": [
    {
     "data": {
      "text/plain": [
       "['/Users/sanjeevkumar/Desktop/TWR/DATA Samples/I/I = 5/A19HY_00882_2251_09_10_2019.MP3',\n",
       " '/Users/sanjeevkumar/Desktop/TWR/DATA Samples/I/I = 5/A19MB_00882_1621_11_10_2019.MP3',\n",
       " '/Users/sanjeevkumar/Desktop/TWR/DATA Samples/I/I = 5/A19HY_00882_2336_09_10_2019.MP3',\n",
       " '/Users/sanjeevkumar/Desktop/TWR/DATA Samples/I/I = 5/A19MB_00882_1501_11_10_2019.MP3',\n",
       " '/Users/sanjeevkumar/Desktop/TWR/DATA Samples/I/I = 5/A19HY_00882_2256_09_10_2019.MP3',\n",
       " '/Users/sanjeevkumar/Desktop/TWR/DATA Samples/I/I = 5/A19HY_00882_2331_09_10_2019.MP3',\n",
       " '/Users/sanjeevkumar/Desktop/TWR/DATA Samples/I/I = 5/A19MB_00882_1626_11_10_2019.MP3',\n",
       " '/Users/sanjeevkumar/Desktop/TWR/DATA Samples/I/I = 5/A19MB_00882_1656_11_10_2019.MP3',\n",
       " '/Users/sanjeevkumar/Desktop/TWR/DATA Samples/I/I = 5/A19HY_00882_2341_09_10_2019.MP3',\n",
       " '/Users/sanjeevkumar/Desktop/TWR/DATA Samples/I/I = 5/A19MB_00882_1416_11_10_2019.MP3',\n",
       " '/Users/sanjeevkumar/Desktop/TWR/DATA Samples/I/I = 5/A19HY_00882_2346_09_10_2019.MP3',\n",
       " '/Users/sanjeevkumar/Desktop/TWR/DATA Samples/I/I = 5/A19MB_00882_1651_11_10_2019.MP3',\n",
       " '/Users/sanjeevkumar/Desktop/TWR/DATA Samples/I/I = 5/A19MB_00882_1411_11_10_2019.MP3',\n",
       " '/Users/sanjeevkumar/Desktop/TWR/DATA Samples/I/I = 5/A19HY_00882_2236_09_10_2019.MP3',\n",
       " '/Users/sanjeevkumar/Desktop/TWR/DATA Samples/I/I = 5/A19MB_00882_1646_11_10_2019.MP3',\n",
       " '/Users/sanjeevkumar/Desktop/TWR/DATA Samples/I/I = 5/A19HY_00882_2351_09_10_2019.MP3',\n",
       " '/Users/sanjeevkumar/Desktop/TWR/DATA Samples/I/I = 5/A19MB_00882_1406_11_10_2019.MP3',\n",
       " '/Users/sanjeevkumar/Desktop/TWR/DATA Samples/I/I = 5/A19HY_00882_2231_09_10_2019.MP3',\n",
       " '/Users/sanjeevkumar/Desktop/TWR/DATA Samples/I/I = 5/A19HY_00882_2356_09_10_2019.MP3',\n",
       " '/Users/sanjeevkumar/Desktop/TWR/DATA Samples/I/I = 5/A19MB_00882_1641_11_10_2019.MP3',\n",
       " '/Users/sanjeevkumar/Desktop/TWR/DATA Samples/I/I = 5/A19MB_00882_1401_11_10_2019.MP3',\n",
       " '/Users/sanjeevkumar/Desktop/TWR/DATA Samples/I/I = 5/A19MB_00882_1516_11_10_2019.MP3',\n",
       " '/Users/sanjeevkumar/Desktop/TWR/DATA Samples/I/I = 5/A19HY_00882_2230_09_10_2019.MP3',\n",
       " '/Users/sanjeevkumar/Desktop/TWR/DATA Samples/I/I = 5/A19MB_00882_1631_11_10_2019.MP3',\n",
       " '/Users/sanjeevkumar/Desktop/TWR/DATA Samples/I/I = 5/A19HY_00882_2326_09_10_2019.MP3',\n",
       " '/Users/sanjeevkumar/Desktop/TWR/DATA Samples/I/I = 5/A19HY_00882_2241_09_10_2019.MP3',\n",
       " '/Users/sanjeevkumar/Desktop/TWR/DATA Samples/I/I = 5/A19MB_00882_1511_11_10_2019.MP3',\n",
       " '/Users/sanjeevkumar/Desktop/TWR/DATA Samples/I/I = 5/A19HY_00882_2321_09_10_2019.MP3',\n",
       " '/Users/sanjeevkumar/Desktop/TWR/DATA Samples/I/I = 5/A19MB_00882_1636_11_10_2019.MP3',\n",
       " '/Users/sanjeevkumar/Desktop/TWR/DATA Samples/I/I = 5/A19HY_00882_2246_09_10_2019.MP3',\n",
       " '/Users/sanjeevkumar/Desktop/TWR/DATA Samples/I/I = 5/A19MB_00882_1426_11_10_2019.MP3',\n",
       " '/Users/sanjeevkumar/Desktop/TWR/DATA Samples/I/I = 5/A19MB_00882_1541_11_10_2019.MP3',\n",
       " '/Users/sanjeevkumar/Desktop/TWR/DATA Samples/I/I = 5/A19MB_00882_1421_11_10_2019.MP3',\n",
       " '/Users/sanjeevkumar/Desktop/TWR/DATA Samples/I/I = 5/A19MB_00882_1546_11_10_2019.MP3',\n",
       " '/Users/sanjeevkumar/Desktop/TWR/DATA Samples/I/I = 5/A19MB_00882_1611_11_10_2019.MP3',\n",
       " '/Users/sanjeevkumar/Desktop/TWR/DATA Samples/I/I = 5/A19HY_00882_2306_09_10_2019.MP3',\n",
       " '/Users/sanjeevkumar/Desktop/TWR/DATA Samples/I/I = 5/A19MB_00882_1536_11_10_2019.MP3',\n",
       " '/Users/sanjeevkumar/Desktop/TWR/DATA Samples/I/I = 5/A19MB_00882_1451_11_10_2019.MP3',\n",
       " '/Users/sanjeevkumar/Desktop/TWR/DATA Samples/I/I = 5/A19HY_00882_2301_09_10_2019.MP3',\n",
       " '/Users/sanjeevkumar/Desktop/TWR/DATA Samples/I/I = 5/A19MB_00882_1616_11_10_2019.MP3',\n",
       " '/Users/sanjeevkumar/Desktop/TWR/DATA Samples/I/I = 5/A19MB_00882_1531_11_10_2019.MP3',\n",
       " '/Users/sanjeevkumar/Desktop/TWR/DATA Samples/I/I = 5/A19MB_00882_1456_11_10_2019.MP3',\n",
       " '/Users/sanjeevkumar/Desktop/TWR/DATA Samples/I/I = 5/A19MB_00882_1601_11_10_2019.MP3',\n",
       " '/Users/sanjeevkumar/Desktop/TWR/DATA Samples/I/I = 5/A19HY_00882_2316_09_10_2019.MP3',\n",
       " '/Users/sanjeevkumar/Desktop/TWR/DATA Samples/I/I = 5/A19MB_00882_1441_11_10_2019.MP3',\n",
       " '/Users/sanjeevkumar/Desktop/TWR/DATA Samples/I/I = 5/A19MB_00882_1526_11_10_2019.MP3',\n",
       " '/Users/sanjeevkumar/Desktop/TWR/DATA Samples/I/I = 5/A19HY_00882_2311_09_10_2019.MP3',\n",
       " '/Users/sanjeevkumar/Desktop/TWR/DATA Samples/I/I = 5/A19MB_00882_1606_11_10_2019.MP3',\n",
       " '/Users/sanjeevkumar/Desktop/TWR/DATA Samples/I/I = 5/A19MB_00882_1446_11_10_2019.MP3',\n",
       " '/Users/sanjeevkumar/Desktop/TWR/DATA Samples/I/I = 5/A19MB_00882_1521_11_10_2019.MP3',\n",
       " '/Users/sanjeevkumar/Desktop/TWR/DATA Samples/I/I = 5/A19MB_00882_1551_11_10_2019.MP3',\n",
       " '/Users/sanjeevkumar/Desktop/TWR/DATA Samples/I/I = 5/A19MB_00882_1436_11_10_2019.MP3',\n",
       " '/Users/sanjeevkumar/Desktop/TWR/DATA Samples/I/I = 5/A19MB_00882_1556_11_10_2019.MP3']"
      ]
     },
     "execution_count": 29,
     "metadata": {},
     "output_type": "execute_result"
    }
   ],
   "source": [
    "l[57:-1]"
   ]
  },
  {
   "cell_type": "code",
   "execution_count": 30,
   "metadata": {},
   "outputs": [],
   "source": [
    "df_i5 = pd.DataFrame(l[57:])"
   ]
  },
  {
   "cell_type": "code",
   "execution_count": 31,
   "metadata": {},
   "outputs": [
    {
     "data": {
      "text/html": [
       "<div>\n",
       "<style scoped>\n",
       "    .dataframe tbody tr th:only-of-type {\n",
       "        vertical-align: middle;\n",
       "    }\n",
       "\n",
       "    .dataframe tbody tr th {\n",
       "        vertical-align: top;\n",
       "    }\n",
       "\n",
       "    .dataframe thead th {\n",
       "        text-align: right;\n",
       "    }\n",
       "</style>\n",
       "<table border=\"1\" class=\"dataframe\">\n",
       "  <thead>\n",
       "    <tr style=\"text-align: right;\">\n",
       "      <th></th>\n",
       "      <th>path</th>\n",
       "      <th>interference</th>\n",
       "    </tr>\n",
       "  </thead>\n",
       "  <tbody>\n",
       "    <tr>\n",
       "      <td>0</td>\n",
       "      <td>/Users/sanjeevkumar/Desktop/TWR/DATA Samples/I...</td>\n",
       "      <td>5</td>\n",
       "    </tr>\n",
       "    <tr>\n",
       "      <td>1</td>\n",
       "      <td>/Users/sanjeevkumar/Desktop/TWR/DATA Samples/I...</td>\n",
       "      <td>5</td>\n",
       "    </tr>\n",
       "    <tr>\n",
       "      <td>2</td>\n",
       "      <td>/Users/sanjeevkumar/Desktop/TWR/DATA Samples/I...</td>\n",
       "      <td>5</td>\n",
       "    </tr>\n",
       "    <tr>\n",
       "      <td>3</td>\n",
       "      <td>/Users/sanjeevkumar/Desktop/TWR/DATA Samples/I...</td>\n",
       "      <td>5</td>\n",
       "    </tr>\n",
       "    <tr>\n",
       "      <td>4</td>\n",
       "      <td>/Users/sanjeevkumar/Desktop/TWR/DATA Samples/I...</td>\n",
       "      <td>5</td>\n",
       "    </tr>\n",
       "  </tbody>\n",
       "</table>\n",
       "</div>"
      ],
      "text/plain": [
       "                                                path  interference\n",
       "0  /Users/sanjeevkumar/Desktop/TWR/DATA Samples/I...             5\n",
       "1  /Users/sanjeevkumar/Desktop/TWR/DATA Samples/I...             5\n",
       "2  /Users/sanjeevkumar/Desktop/TWR/DATA Samples/I...             5\n",
       "3  /Users/sanjeevkumar/Desktop/TWR/DATA Samples/I...             5\n",
       "4  /Users/sanjeevkumar/Desktop/TWR/DATA Samples/I...             5"
      ]
     },
     "execution_count": 31,
     "metadata": {},
     "output_type": "execute_result"
    }
   ],
   "source": [
    "df_i5 = pd.DataFrame(l[57:],columns=['path'])\n",
    "df_i5['interference'] = 5\n",
    "df_i5.head()"
   ]
  },
  {
   "cell_type": "code",
   "execution_count": 32,
   "metadata": {},
   "outputs": [],
   "source": [
    "def cal_mfcc(path):\n",
    "    X,sample_rate = librosa.load(path,res_type = 'kaiser_fast')\n",
    "    mfcc = np.mean(librosa.feature.mfcc(y=X, sr=sample_rate, n_mfcc=40).T,axis=0)\n",
    "    feature = mfcc\n",
    "    return feature"
   ]
  },
  {
   "cell_type": "code",
   "execution_count": 33,
   "metadata": {},
   "outputs": [
    {
     "name": "stderr",
     "output_type": "stream",
     "text": [
      "/opt/anaconda3/lib/python3.7/site-packages/librosa/core/audio.py:146: UserWarning: PySoundFile failed. Trying audioread instead.\n",
      "  warnings.warn('PySoundFile failed. Trying audioread instead.')\n",
      "/opt/anaconda3/lib/python3.7/site-packages/librosa/core/audio.py:146: UserWarning: PySoundFile failed. Trying audioread instead.\n",
      "  warnings.warn('PySoundFile failed. Trying audioread instead.')\n",
      "/opt/anaconda3/lib/python3.7/site-packages/librosa/core/audio.py:146: UserWarning: PySoundFile failed. Trying audioread instead.\n",
      "  warnings.warn('PySoundFile failed. Trying audioread instead.')\n",
      "/opt/anaconda3/lib/python3.7/site-packages/librosa/core/audio.py:146: UserWarning: PySoundFile failed. Trying audioread instead.\n",
      "  warnings.warn('PySoundFile failed. Trying audioread instead.')\n",
      "/opt/anaconda3/lib/python3.7/site-packages/librosa/core/audio.py:146: UserWarning: PySoundFile failed. Trying audioread instead.\n",
      "  warnings.warn('PySoundFile failed. Trying audioread instead.')\n",
      "/opt/anaconda3/lib/python3.7/site-packages/librosa/core/audio.py:146: UserWarning: PySoundFile failed. Trying audioread instead.\n",
      "  warnings.warn('PySoundFile failed. Trying audioread instead.')\n",
      "/opt/anaconda3/lib/python3.7/site-packages/librosa/core/audio.py:146: UserWarning: PySoundFile failed. Trying audioread instead.\n",
      "  warnings.warn('PySoundFile failed. Trying audioread instead.')\n",
      "/opt/anaconda3/lib/python3.7/site-packages/librosa/core/audio.py:146: UserWarning: PySoundFile failed. Trying audioread instead.\n",
      "  warnings.warn('PySoundFile failed. Trying audioread instead.')\n",
      "/opt/anaconda3/lib/python3.7/site-packages/librosa/core/audio.py:146: UserWarning: PySoundFile failed. Trying audioread instead.\n",
      "  warnings.warn('PySoundFile failed. Trying audioread instead.')\n",
      "/opt/anaconda3/lib/python3.7/site-packages/librosa/core/audio.py:146: UserWarning: PySoundFile failed. Trying audioread instead.\n",
      "  warnings.warn('PySoundFile failed. Trying audioread instead.')\n",
      "/opt/anaconda3/lib/python3.7/site-packages/librosa/core/audio.py:146: UserWarning: PySoundFile failed. Trying audioread instead.\n",
      "  warnings.warn('PySoundFile failed. Trying audioread instead.')\n",
      "/opt/anaconda3/lib/python3.7/site-packages/librosa/core/audio.py:146: UserWarning: PySoundFile failed. Trying audioread instead.\n",
      "  warnings.warn('PySoundFile failed. Trying audioread instead.')\n",
      "/opt/anaconda3/lib/python3.7/site-packages/librosa/core/audio.py:146: UserWarning: PySoundFile failed. Trying audioread instead.\n",
      "  warnings.warn('PySoundFile failed. Trying audioread instead.')\n",
      "/opt/anaconda3/lib/python3.7/site-packages/librosa/core/audio.py:146: UserWarning: PySoundFile failed. Trying audioread instead.\n",
      "  warnings.warn('PySoundFile failed. Trying audioread instead.')\n",
      "/opt/anaconda3/lib/python3.7/site-packages/librosa/core/audio.py:146: UserWarning: PySoundFile failed. Trying audioread instead.\n",
      "  warnings.warn('PySoundFile failed. Trying audioread instead.')\n",
      "/opt/anaconda3/lib/python3.7/site-packages/librosa/core/audio.py:146: UserWarning: PySoundFile failed. Trying audioread instead.\n",
      "  warnings.warn('PySoundFile failed. Trying audioread instead.')\n",
      "/opt/anaconda3/lib/python3.7/site-packages/librosa/core/audio.py:146: UserWarning: PySoundFile failed. Trying audioread instead.\n",
      "  warnings.warn('PySoundFile failed. Trying audioread instead.')\n",
      "/opt/anaconda3/lib/python3.7/site-packages/librosa/core/audio.py:146: UserWarning: PySoundFile failed. Trying audioread instead.\n",
      "  warnings.warn('PySoundFile failed. Trying audioread instead.')\n",
      "/opt/anaconda3/lib/python3.7/site-packages/librosa/core/audio.py:146: UserWarning: PySoundFile failed. Trying audioread instead.\n",
      "  warnings.warn('PySoundFile failed. Trying audioread instead.')\n",
      "/opt/anaconda3/lib/python3.7/site-packages/librosa/core/audio.py:146: UserWarning: PySoundFile failed. Trying audioread instead.\n",
      "  warnings.warn('PySoundFile failed. Trying audioread instead.')\n",
      "/opt/anaconda3/lib/python3.7/site-packages/librosa/core/audio.py:146: UserWarning: PySoundFile failed. Trying audioread instead.\n",
      "  warnings.warn('PySoundFile failed. Trying audioread instead.')\n",
      "/opt/anaconda3/lib/python3.7/site-packages/librosa/core/audio.py:146: UserWarning: PySoundFile failed. Trying audioread instead.\n",
      "  warnings.warn('PySoundFile failed. Trying audioread instead.')\n",
      "/opt/anaconda3/lib/python3.7/site-packages/librosa/core/audio.py:146: UserWarning: PySoundFile failed. Trying audioread instead.\n",
      "  warnings.warn('PySoundFile failed. Trying audioread instead.')\n",
      "/opt/anaconda3/lib/python3.7/site-packages/librosa/core/audio.py:146: UserWarning: PySoundFile failed. Trying audioread instead.\n",
      "  warnings.warn('PySoundFile failed. Trying audioread instead.')\n",
      "/opt/anaconda3/lib/python3.7/site-packages/librosa/core/audio.py:146: UserWarning: PySoundFile failed. Trying audioread instead.\n",
      "  warnings.warn('PySoundFile failed. Trying audioread instead.')\n",
      "/opt/anaconda3/lib/python3.7/site-packages/librosa/core/audio.py:146: UserWarning: PySoundFile failed. Trying audioread instead.\n",
      "  warnings.warn('PySoundFile failed. Trying audioread instead.')\n",
      "/opt/anaconda3/lib/python3.7/site-packages/librosa/core/audio.py:146: UserWarning: PySoundFile failed. Trying audioread instead.\n",
      "  warnings.warn('PySoundFile failed. Trying audioread instead.')\n",
      "/opt/anaconda3/lib/python3.7/site-packages/librosa/core/audio.py:146: UserWarning: PySoundFile failed. Trying audioread instead.\n",
      "  warnings.warn('PySoundFile failed. Trying audioread instead.')\n",
      "/opt/anaconda3/lib/python3.7/site-packages/librosa/core/audio.py:146: UserWarning: PySoundFile failed. Trying audioread instead.\n",
      "  warnings.warn('PySoundFile failed. Trying audioread instead.')\n",
      "/opt/anaconda3/lib/python3.7/site-packages/librosa/core/audio.py:146: UserWarning: PySoundFile failed. Trying audioread instead.\n",
      "  warnings.warn('PySoundFile failed. Trying audioread instead.')\n",
      "/opt/anaconda3/lib/python3.7/site-packages/librosa/core/audio.py:146: UserWarning: PySoundFile failed. Trying audioread instead.\n",
      "  warnings.warn('PySoundFile failed. Trying audioread instead.')\n",
      "/opt/anaconda3/lib/python3.7/site-packages/librosa/core/audio.py:146: UserWarning: PySoundFile failed. Trying audioread instead.\n",
      "  warnings.warn('PySoundFile failed. Trying audioread instead.')\n",
      "/opt/anaconda3/lib/python3.7/site-packages/librosa/core/audio.py:146: UserWarning: PySoundFile failed. Trying audioread instead.\n",
      "  warnings.warn('PySoundFile failed. Trying audioread instead.')\n",
      "/opt/anaconda3/lib/python3.7/site-packages/librosa/core/audio.py:146: UserWarning: PySoundFile failed. Trying audioread instead.\n",
      "  warnings.warn('PySoundFile failed. Trying audioread instead.')\n",
      "/opt/anaconda3/lib/python3.7/site-packages/librosa/core/audio.py:146: UserWarning: PySoundFile failed. Trying audioread instead.\n",
      "  warnings.warn('PySoundFile failed. Trying audioread instead.')\n",
      "/opt/anaconda3/lib/python3.7/site-packages/librosa/core/audio.py:146: UserWarning: PySoundFile failed. Trying audioread instead.\n",
      "  warnings.warn('PySoundFile failed. Trying audioread instead.')\n",
      "/opt/anaconda3/lib/python3.7/site-packages/librosa/core/audio.py:146: UserWarning: PySoundFile failed. Trying audioread instead.\n",
      "  warnings.warn('PySoundFile failed. Trying audioread instead.')\n",
      "/opt/anaconda3/lib/python3.7/site-packages/librosa/core/audio.py:146: UserWarning: PySoundFile failed. Trying audioread instead.\n",
      "  warnings.warn('PySoundFile failed. Trying audioread instead.')\n",
      "/opt/anaconda3/lib/python3.7/site-packages/librosa/core/audio.py:146: UserWarning: PySoundFile failed. Trying audioread instead.\n",
      "  warnings.warn('PySoundFile failed. Trying audioread instead.')\n",
      "/opt/anaconda3/lib/python3.7/site-packages/librosa/core/audio.py:146: UserWarning: PySoundFile failed. Trying audioread instead.\n",
      "  warnings.warn('PySoundFile failed. Trying audioread instead.')\n",
      "/opt/anaconda3/lib/python3.7/site-packages/librosa/core/audio.py:146: UserWarning: PySoundFile failed. Trying audioread instead.\n",
      "  warnings.warn('PySoundFile failed. Trying audioread instead.')\n",
      "/opt/anaconda3/lib/python3.7/site-packages/librosa/core/audio.py:146: UserWarning: PySoundFile failed. Trying audioread instead.\n",
      "  warnings.warn('PySoundFile failed. Trying audioread instead.')\n",
      "/opt/anaconda3/lib/python3.7/site-packages/librosa/core/audio.py:146: UserWarning: PySoundFile failed. Trying audioread instead.\n",
      "  warnings.warn('PySoundFile failed. Trying audioread instead.')\n",
      "/opt/anaconda3/lib/python3.7/site-packages/librosa/core/audio.py:146: UserWarning: PySoundFile failed. Trying audioread instead.\n",
      "  warnings.warn('PySoundFile failed. Trying audioread instead.')\n",
      "/opt/anaconda3/lib/python3.7/site-packages/librosa/core/audio.py:146: UserWarning: PySoundFile failed. Trying audioread instead.\n",
      "  warnings.warn('PySoundFile failed. Trying audioread instead.')\n",
      "/opt/anaconda3/lib/python3.7/site-packages/librosa/core/audio.py:146: UserWarning: PySoundFile failed. Trying audioread instead.\n",
      "  warnings.warn('PySoundFile failed. Trying audioread instead.')\n",
      "/opt/anaconda3/lib/python3.7/site-packages/librosa/core/audio.py:146: UserWarning: PySoundFile failed. Trying audioread instead.\n",
      "  warnings.warn('PySoundFile failed. Trying audioread instead.')\n",
      "/opt/anaconda3/lib/python3.7/site-packages/librosa/core/audio.py:146: UserWarning: PySoundFile failed. Trying audioread instead.\n",
      "  warnings.warn('PySoundFile failed. Trying audioread instead.')\n",
      "/opt/anaconda3/lib/python3.7/site-packages/librosa/core/audio.py:146: UserWarning: PySoundFile failed. Trying audioread instead.\n",
      "  warnings.warn('PySoundFile failed. Trying audioread instead.')\n"
     ]
    },
    {
     "name": "stderr",
     "output_type": "stream",
     "text": [
      "/opt/anaconda3/lib/python3.7/site-packages/librosa/core/audio.py:146: UserWarning: PySoundFile failed. Trying audioread instead.\n",
      "  warnings.warn('PySoundFile failed. Trying audioread instead.')\n",
      "/opt/anaconda3/lib/python3.7/site-packages/librosa/core/audio.py:146: UserWarning: PySoundFile failed. Trying audioread instead.\n",
      "  warnings.warn('PySoundFile failed. Trying audioread instead.')\n",
      "/opt/anaconda3/lib/python3.7/site-packages/librosa/core/audio.py:146: UserWarning: PySoundFile failed. Trying audioread instead.\n",
      "  warnings.warn('PySoundFile failed. Trying audioread instead.')\n",
      "/opt/anaconda3/lib/python3.7/site-packages/librosa/core/audio.py:146: UserWarning: PySoundFile failed. Trying audioread instead.\n",
      "  warnings.warn('PySoundFile failed. Trying audioread instead.')\n",
      "/opt/anaconda3/lib/python3.7/site-packages/librosa/core/audio.py:146: UserWarning: PySoundFile failed. Trying audioread instead.\n",
      "  warnings.warn('PySoundFile failed. Trying audioread instead.')\n"
     ]
    }
   ],
   "source": [
    "df_i5['mfcc'] = df_i5['path'].apply(cal_mfcc)"
   ]
  },
  {
   "cell_type": "code",
   "execution_count": null,
   "metadata": {},
   "outputs": [],
   "source": []
  },
  {
   "cell_type": "code",
   "execution_count": 34,
   "metadata": {},
   "outputs": [],
   "source": [
    "from sklearn.preprocessing import LabelEncoder\n",
    "\n",
    "X = np.array(df_i5.mfcc.tolist())\n",
    "y = np.array(df_i5.interference.tolist())\n"
   ]
  },
  {
   "cell_type": "code",
   "execution_count": 35,
   "metadata": {},
   "outputs": [],
   "source": [
    "from sklearn.model_selection import train_test_split\n",
    "x_train,x_test,y_train,y_test = train_test_split(X,y,test_size=0.33,random_state=23)"
   ]
  },
  {
   "cell_type": "code",
   "execution_count": 36,
   "metadata": {},
   "outputs": [
    {
     "name": "stdout",
     "output_type": "stream",
     "text": [
      "1.0\n",
      "1.0\n"
     ]
    }
   ],
   "source": [
    "from sklearn.neural_network import MLPClassifier\n",
    "#60,40,10,\n",
    "clf = MLPClassifier(hidden_layer_sizes=(60,40,10,), activation='relu', solver='adam', alpha=0.0001, batch_size='auto', \n",
    "                   learning_rate='constant', max_iter=1000, verbose = False, random_state=5)\n",
    "\n",
    "clf.fit(x_train,y_train)\n",
    "print(clf.score(x_train,y_train))\n",
    "print(clf.score(x_test,y_test))"
   ]
  },
  {
   "cell_type": "code",
   "execution_count": 37,
   "metadata": {},
   "outputs": [
    {
     "name": "stdout",
     "output_type": "stream",
     "text": [
      "[5 5 5 5 5 5 5 5 5 5]\n",
      "[5 5 5 5 5 5 5 5 5 5]\n"
     ]
    }
   ],
   "source": [
    "print(clf.predict(x_test[0:10]))\n",
    "print(y_test[0:10])"
   ]
  },
  {
   "cell_type": "code",
   "execution_count": 38,
   "metadata": {},
   "outputs": [
    {
     "data": {
      "text/plain": [
       "array([5, 5, 5, 5, 5, 5, 5, 5, 5, 5, 5, 5, 5, 5, 5, 5, 5, 5, 5, 5, 5, 5,\n",
       "       5, 5, 5, 5, 5, 5, 5, 5, 5, 5, 5, 5, 5, 5, 5, 5, 5, 5, 5, 5, 5, 5,\n",
       "       5, 5, 5, 5, 5, 5, 5, 5, 5, 5])"
      ]
     },
     "execution_count": 38,
     "metadata": {},
     "output_type": "execute_result"
    }
   ],
   "source": [
    "y.ravel()"
   ]
  },
  {
   "cell_type": "code",
   "execution_count": 39,
   "metadata": {},
   "outputs": [],
   "source": [
    "l_i3 = []\n",
    "path = '/Users/sanjeevkumar/Desktop/TWR/DATA Samples/I/I = 3/'\n",
    "for r,d,f in os.walk(path):\n",
    "    l_i3.append(f)"
   ]
  },
  {
   "cell_type": "code",
   "execution_count": 40,
   "metadata": {},
   "outputs": [
    {
     "data": {
      "text/plain": [
       "24"
      ]
     },
     "execution_count": 40,
     "metadata": {},
     "output_type": "execute_result"
    }
   ],
   "source": [
    "len(l_i3[0])"
   ]
  },
  {
   "cell_type": "code",
   "execution_count": 41,
   "metadata": {},
   "outputs": [],
   "source": [
    "for i in range(24):\n",
    "    p=(r+f[i])\n",
    "    l_i3.append(p)"
   ]
  },
  {
   "cell_type": "code",
   "execution_count": 42,
   "metadata": {},
   "outputs": [
    {
     "data": {
      "text/plain": [
       "['/Users/sanjeevkumar/Desktop/TWR/DATA Samples/I/I = 3/A19MB_00882_1651_08_10_2019.MP3',\n",
       " '/Users/sanjeevkumar/Desktop/TWR/DATA Samples/I/I = 3/A19MB_00882_1656_08_10_2019.MP3',\n",
       " '/Users/sanjeevkumar/Desktop/TWR/DATA Samples/I/I = 3/A19MB_00882_1626_08_10_2019.MP3',\n",
       " '/Users/sanjeevkumar/Desktop/TWR/DATA Samples/I/I = 3/A19MB_00882_1501_08_10_2019.MP3',\n",
       " '/Users/sanjeevkumar/Desktop/TWR/DATA Samples/I/I = 3/A19MB_00882_1621_08_10_2019.MP3',\n",
       " '/Users/sanjeevkumar/Desktop/TWR/DATA Samples/I/I = 3/A19MB_00882_1506_08_10_2019.MP3',\n",
       " '/Users/sanjeevkumar/Desktop/TWR/DATA Samples/I/I = 3/A19MB_00882_1636_08_10_2019.MP3',\n",
       " '/Users/sanjeevkumar/Desktop/TWR/DATA Samples/I/I = 3/A19MB_00882_1511_08_10_2019.MP3',\n",
       " '/Users/sanjeevkumar/Desktop/TWR/DATA Samples/I/I = 3/A19MB_00882_1631_08_10_2019.MP3',\n",
       " '/Users/sanjeevkumar/Desktop/TWR/DATA Samples/I/I = 3/A19MB_00882_1516_08_10_2019.MP3',\n",
       " '/Users/sanjeevkumar/Desktop/TWR/DATA Samples/I/I = 3/A19MB_00882_1641_08_10_2019.MP3',\n",
       " '/Users/sanjeevkumar/Desktop/TWR/DATA Samples/I/I = 3/A19MB_00882_1646_08_10_2019.MP3',\n",
       " '/Users/sanjeevkumar/Desktop/TWR/DATA Samples/I/I = 3/A19MB_00882_1531_08_10_2019.MP3',\n",
       " '/Users/sanjeevkumar/Desktop/TWR/DATA Samples/I/I = 3/A19MB_00882_1616_08_10_2019.MP3',\n",
       " '/Users/sanjeevkumar/Desktop/TWR/DATA Samples/I/I = 3/A19MB_00882_1536_08_10_2019.MP3',\n",
       " '/Users/sanjeevkumar/Desktop/TWR/DATA Samples/I/I = 3/A19MB_00882_1611_08_10_2019.MP3',\n",
       " '/Users/sanjeevkumar/Desktop/TWR/DATA Samples/I/I = 3/A19MB_00882_1546_08_10_2019.MP3',\n",
       " '/Users/sanjeevkumar/Desktop/TWR/DATA Samples/I/I = 3/A19MB_00882_1541_08_10_2019.MP3',\n",
       " '/Users/sanjeevkumar/Desktop/TWR/DATA Samples/I/I = 3/A19MB_00882_1556_08_10_2019.MP3',\n",
       " '/Users/sanjeevkumar/Desktop/TWR/DATA Samples/I/I = 3/A19MB_00882_1551_08_10_2019.MP3',\n",
       " '/Users/sanjeevkumar/Desktop/TWR/DATA Samples/I/I = 3/A19MB_00882_1521_08_10_2019.MP3',\n",
       " '/Users/sanjeevkumar/Desktop/TWR/DATA Samples/I/I = 3/A19MB_00882_1606_08_10_2019.MP3',\n",
       " '/Users/sanjeevkumar/Desktop/TWR/DATA Samples/I/I = 3/A19MB_00882_1526_08_10_2019.MP3',\n",
       " '/Users/sanjeevkumar/Desktop/TWR/DATA Samples/I/I = 3/A19MB_00882_1601_08_10_2019.MP3']"
      ]
     },
     "execution_count": 42,
     "metadata": {},
     "output_type": "execute_result"
    }
   ],
   "source": [
    "l_i3[1:]"
   ]
  },
  {
   "cell_type": "code",
   "execution_count": 43,
   "metadata": {},
   "outputs": [
    {
     "data": {
      "text/html": [
       "<div>\n",
       "<style scoped>\n",
       "    .dataframe tbody tr th:only-of-type {\n",
       "        vertical-align: middle;\n",
       "    }\n",
       "\n",
       "    .dataframe tbody tr th {\n",
       "        vertical-align: top;\n",
       "    }\n",
       "\n",
       "    .dataframe thead th {\n",
       "        text-align: right;\n",
       "    }\n",
       "</style>\n",
       "<table border=\"1\" class=\"dataframe\">\n",
       "  <thead>\n",
       "    <tr style=\"text-align: right;\">\n",
       "      <th></th>\n",
       "      <th>path</th>\n",
       "      <th>interference</th>\n",
       "    </tr>\n",
       "  </thead>\n",
       "  <tbody>\n",
       "    <tr>\n",
       "      <td>0</td>\n",
       "      <td>/Users/sanjeevkumar/Desktop/TWR/DATA Samples/I...</td>\n",
       "      <td>3</td>\n",
       "    </tr>\n",
       "    <tr>\n",
       "      <td>1</td>\n",
       "      <td>/Users/sanjeevkumar/Desktop/TWR/DATA Samples/I...</td>\n",
       "      <td>3</td>\n",
       "    </tr>\n",
       "    <tr>\n",
       "      <td>2</td>\n",
       "      <td>/Users/sanjeevkumar/Desktop/TWR/DATA Samples/I...</td>\n",
       "      <td>3</td>\n",
       "    </tr>\n",
       "    <tr>\n",
       "      <td>3</td>\n",
       "      <td>/Users/sanjeevkumar/Desktop/TWR/DATA Samples/I...</td>\n",
       "      <td>3</td>\n",
       "    </tr>\n",
       "    <tr>\n",
       "      <td>4</td>\n",
       "      <td>/Users/sanjeevkumar/Desktop/TWR/DATA Samples/I...</td>\n",
       "      <td>3</td>\n",
       "    </tr>\n",
       "    <tr>\n",
       "      <td>5</td>\n",
       "      <td>/Users/sanjeevkumar/Desktop/TWR/DATA Samples/I...</td>\n",
       "      <td>3</td>\n",
       "    </tr>\n",
       "    <tr>\n",
       "      <td>6</td>\n",
       "      <td>/Users/sanjeevkumar/Desktop/TWR/DATA Samples/I...</td>\n",
       "      <td>3</td>\n",
       "    </tr>\n",
       "    <tr>\n",
       "      <td>7</td>\n",
       "      <td>/Users/sanjeevkumar/Desktop/TWR/DATA Samples/I...</td>\n",
       "      <td>3</td>\n",
       "    </tr>\n",
       "    <tr>\n",
       "      <td>8</td>\n",
       "      <td>/Users/sanjeevkumar/Desktop/TWR/DATA Samples/I...</td>\n",
       "      <td>3</td>\n",
       "    </tr>\n",
       "    <tr>\n",
       "      <td>9</td>\n",
       "      <td>/Users/sanjeevkumar/Desktop/TWR/DATA Samples/I...</td>\n",
       "      <td>3</td>\n",
       "    </tr>\n",
       "  </tbody>\n",
       "</table>\n",
       "</div>"
      ],
      "text/plain": [
       "                                                path  interference\n",
       "0  /Users/sanjeevkumar/Desktop/TWR/DATA Samples/I...             3\n",
       "1  /Users/sanjeevkumar/Desktop/TWR/DATA Samples/I...             3\n",
       "2  /Users/sanjeevkumar/Desktop/TWR/DATA Samples/I...             3\n",
       "3  /Users/sanjeevkumar/Desktop/TWR/DATA Samples/I...             3\n",
       "4  /Users/sanjeevkumar/Desktop/TWR/DATA Samples/I...             3\n",
       "5  /Users/sanjeevkumar/Desktop/TWR/DATA Samples/I...             3\n",
       "6  /Users/sanjeevkumar/Desktop/TWR/DATA Samples/I...             3\n",
       "7  /Users/sanjeevkumar/Desktop/TWR/DATA Samples/I...             3\n",
       "8  /Users/sanjeevkumar/Desktop/TWR/DATA Samples/I...             3\n",
       "9  /Users/sanjeevkumar/Desktop/TWR/DATA Samples/I...             3"
      ]
     },
     "execution_count": 43,
     "metadata": {},
     "output_type": "execute_result"
    }
   ],
   "source": [
    "df_i3 = pd.DataFrame(l_i3[1:],columns=['path'])\n",
    "df_i3['interference'] = 3\n",
    "df_i3.head(n=10)"
   ]
  },
  {
   "cell_type": "code",
   "execution_count": 44,
   "metadata": {},
   "outputs": [],
   "source": [
    "l_i4 = []\n",
    "path = '/Users/sanjeevkumar/Desktop/TWR/DATA Samples/I/I = 4/'\n",
    "for r,d,f in os.walk(path):\n",
    "    l_i4.append(f)\n",
    "for i in range(12):\n",
    "    p=(r+f[i])\n",
    "    l_i4.append(p)"
   ]
  },
  {
   "cell_type": "code",
   "execution_count": 45,
   "metadata": {},
   "outputs": [
    {
     "data": {
      "text/plain": [
       "['/Users/sanjeevkumar/Desktop/TWR/DATA Samples/I/I = 4/A19DL_09610_1617_04_10_2019.MP3',\n",
       " '/Users/sanjeevkumar/Desktop/TWR/DATA Samples/I/I = 4/A19DL_09610_1602_04_10_2019.MP3',\n",
       " '/Users/sanjeevkumar/Desktop/TWR/DATA Samples/I/I = 4/A19DL_09610_1612_07_10_2019.MP3',\n",
       " '/Users/sanjeevkumar/Desktop/TWR/DATA Samples/I/I = 4/A19DL_09610_1607_07_10_2019.MP3',\n",
       " '/Users/sanjeevkumar/Desktop/TWR/DATA Samples/I/I = 4/A19DL_09610_1607_04_10_2019.MP3',\n",
       " '/Users/sanjeevkumar/Desktop/TWR/DATA Samples/I/I = 4/A19DL_09610_1612_04_10_2019.MP3',\n",
       " '/Users/sanjeevkumar/Desktop/TWR/DATA Samples/I/I = 4/A19DL_09610_1602_07_10_2019.MP3',\n",
       " '/Users/sanjeevkumar/Desktop/TWR/DATA Samples/I/I = 4/A19DL_09610_1617_07_10_2019.MP3',\n",
       " '/Users/sanjeevkumar/Desktop/TWR/DATA Samples/I/I = 4/A19DL_09610_1627_04_10_2019.MP3',\n",
       " '/Users/sanjeevkumar/Desktop/TWR/DATA Samples/I/I = 4/A19DL_09610_1622_07_10_2019.MP3',\n",
       " '/Users/sanjeevkumar/Desktop/TWR/DATA Samples/I/I = 4/A19DL_09610_1622_04_10_2019.MP3',\n",
       " '/Users/sanjeevkumar/Desktop/TWR/DATA Samples/I/I = 4/A19DL_09610_1627_07_10_2019.MP3']"
      ]
     },
     "execution_count": 45,
     "metadata": {},
     "output_type": "execute_result"
    }
   ],
   "source": [
    "l_i4[1:]"
   ]
  },
  {
   "cell_type": "code",
   "execution_count": 46,
   "metadata": {},
   "outputs": [
    {
     "data": {
      "text/html": [
       "<div>\n",
       "<style scoped>\n",
       "    .dataframe tbody tr th:only-of-type {\n",
       "        vertical-align: middle;\n",
       "    }\n",
       "\n",
       "    .dataframe tbody tr th {\n",
       "        vertical-align: top;\n",
       "    }\n",
       "\n",
       "    .dataframe thead th {\n",
       "        text-align: right;\n",
       "    }\n",
       "</style>\n",
       "<table border=\"1\" class=\"dataframe\">\n",
       "  <thead>\n",
       "    <tr style=\"text-align: right;\">\n",
       "      <th></th>\n",
       "      <th>path</th>\n",
       "      <th>interference</th>\n",
       "    </tr>\n",
       "  </thead>\n",
       "  <tbody>\n",
       "    <tr>\n",
       "      <td>0</td>\n",
       "      <td>/Users/sanjeevkumar/Desktop/TWR/DATA Samples/I...</td>\n",
       "      <td>4</td>\n",
       "    </tr>\n",
       "    <tr>\n",
       "      <td>1</td>\n",
       "      <td>/Users/sanjeevkumar/Desktop/TWR/DATA Samples/I...</td>\n",
       "      <td>4</td>\n",
       "    </tr>\n",
       "    <tr>\n",
       "      <td>2</td>\n",
       "      <td>/Users/sanjeevkumar/Desktop/TWR/DATA Samples/I...</td>\n",
       "      <td>4</td>\n",
       "    </tr>\n",
       "    <tr>\n",
       "      <td>3</td>\n",
       "      <td>/Users/sanjeevkumar/Desktop/TWR/DATA Samples/I...</td>\n",
       "      <td>4</td>\n",
       "    </tr>\n",
       "    <tr>\n",
       "      <td>4</td>\n",
       "      <td>/Users/sanjeevkumar/Desktop/TWR/DATA Samples/I...</td>\n",
       "      <td>4</td>\n",
       "    </tr>\n",
       "    <tr>\n",
       "      <td>5</td>\n",
       "      <td>/Users/sanjeevkumar/Desktop/TWR/DATA Samples/I...</td>\n",
       "      <td>4</td>\n",
       "    </tr>\n",
       "    <tr>\n",
       "      <td>6</td>\n",
       "      <td>/Users/sanjeevkumar/Desktop/TWR/DATA Samples/I...</td>\n",
       "      <td>4</td>\n",
       "    </tr>\n",
       "    <tr>\n",
       "      <td>7</td>\n",
       "      <td>/Users/sanjeevkumar/Desktop/TWR/DATA Samples/I...</td>\n",
       "      <td>4</td>\n",
       "    </tr>\n",
       "    <tr>\n",
       "      <td>8</td>\n",
       "      <td>/Users/sanjeevkumar/Desktop/TWR/DATA Samples/I...</td>\n",
       "      <td>4</td>\n",
       "    </tr>\n",
       "    <tr>\n",
       "      <td>9</td>\n",
       "      <td>/Users/sanjeevkumar/Desktop/TWR/DATA Samples/I...</td>\n",
       "      <td>4</td>\n",
       "    </tr>\n",
       "  </tbody>\n",
       "</table>\n",
       "</div>"
      ],
      "text/plain": [
       "                                                path  interference\n",
       "0  /Users/sanjeevkumar/Desktop/TWR/DATA Samples/I...             4\n",
       "1  /Users/sanjeevkumar/Desktop/TWR/DATA Samples/I...             4\n",
       "2  /Users/sanjeevkumar/Desktop/TWR/DATA Samples/I...             4\n",
       "3  /Users/sanjeevkumar/Desktop/TWR/DATA Samples/I...             4\n",
       "4  /Users/sanjeevkumar/Desktop/TWR/DATA Samples/I...             4\n",
       "5  /Users/sanjeevkumar/Desktop/TWR/DATA Samples/I...             4\n",
       "6  /Users/sanjeevkumar/Desktop/TWR/DATA Samples/I...             4\n",
       "7  /Users/sanjeevkumar/Desktop/TWR/DATA Samples/I...             4\n",
       "8  /Users/sanjeevkumar/Desktop/TWR/DATA Samples/I...             4\n",
       "9  /Users/sanjeevkumar/Desktop/TWR/DATA Samples/I...             4"
      ]
     },
     "execution_count": 46,
     "metadata": {},
     "output_type": "execute_result"
    }
   ],
   "source": [
    "df_i4 = pd.DataFrame(l_i4[1:],columns=['path'])\n",
    "df_i4['interference'] = 4\n",
    "df_i4.head(n=10)"
   ]
  },
  {
   "cell_type": "code",
   "execution_count": 47,
   "metadata": {},
   "outputs": [
    {
     "name": "stderr",
     "output_type": "stream",
     "text": [
      "/opt/anaconda3/lib/python3.7/site-packages/ipykernel_launcher.py:2: FutureWarning: Sorting because non-concatenation axis is not aligned. A future version\n",
      "of pandas will change to not sort by default.\n",
      "\n",
      "To accept the future behavior, pass 'sort=False'.\n",
      "\n",
      "To retain the current behavior and silence the warning, pass 'sort=True'.\n",
      "\n",
      "  \n"
     ]
    }
   ],
   "source": [
    "df_i_all = [df_i3,df_i4,df_i5]\n",
    "df_interference = pd.concat(df_i_all)"
   ]
  },
  {
   "cell_type": "code",
   "execution_count": 55,
   "metadata": {},
   "outputs": [
    {
     "data": {
      "text/html": [
       "<div>\n",
       "<style scoped>\n",
       "    .dataframe tbody tr th:only-of-type {\n",
       "        vertical-align: middle;\n",
       "    }\n",
       "\n",
       "    .dataframe tbody tr th {\n",
       "        vertical-align: top;\n",
       "    }\n",
       "\n",
       "    .dataframe thead th {\n",
       "        text-align: right;\n",
       "    }\n",
       "</style>\n",
       "<table border=\"1\" class=\"dataframe\">\n",
       "  <thead>\n",
       "    <tr style=\"text-align: right;\">\n",
       "      <th></th>\n",
       "      <th>interference</th>\n",
       "      <th>path</th>\n",
       "    </tr>\n",
       "  </thead>\n",
       "  <tbody>\n",
       "    <tr>\n",
       "      <td>0</td>\n",
       "      <td>3</td>\n",
       "      <td>/Users/sanjeevkumar/Desktop/TWR/DATA Samples/I...</td>\n",
       "    </tr>\n",
       "    <tr>\n",
       "      <td>1</td>\n",
       "      <td>3</td>\n",
       "      <td>/Users/sanjeevkumar/Desktop/TWR/DATA Samples/I...</td>\n",
       "    </tr>\n",
       "    <tr>\n",
       "      <td>2</td>\n",
       "      <td>3</td>\n",
       "      <td>/Users/sanjeevkumar/Desktop/TWR/DATA Samples/I...</td>\n",
       "    </tr>\n",
       "    <tr>\n",
       "      <td>3</td>\n",
       "      <td>3</td>\n",
       "      <td>/Users/sanjeevkumar/Desktop/TWR/DATA Samples/I...</td>\n",
       "    </tr>\n",
       "    <tr>\n",
       "      <td>4</td>\n",
       "      <td>3</td>\n",
       "      <td>/Users/sanjeevkumar/Desktop/TWR/DATA Samples/I...</td>\n",
       "    </tr>\n",
       "  </tbody>\n",
       "</table>\n",
       "</div>"
      ],
      "text/plain": [
       "   interference                                               path\n",
       "0             3  /Users/sanjeevkumar/Desktop/TWR/DATA Samples/I...\n",
       "1             3  /Users/sanjeevkumar/Desktop/TWR/DATA Samples/I...\n",
       "2             3  /Users/sanjeevkumar/Desktop/TWR/DATA Samples/I...\n",
       "3             3  /Users/sanjeevkumar/Desktop/TWR/DATA Samples/I...\n",
       "4             3  /Users/sanjeevkumar/Desktop/TWR/DATA Samples/I..."
      ]
     },
     "execution_count": 55,
     "metadata": {},
     "output_type": "execute_result"
    }
   ],
   "source": [
    "df_interference.head()\n",
    "df_interference=df_interference.reset_index(drop=True)\n",
    "df_interference.head()"
   ]
  },
  {
   "cell_type": "code",
   "execution_count": 57,
   "metadata": {},
   "outputs": [
    {
     "data": {
      "text/html": [
       "<div>\n",
       "<style scoped>\n",
       "    .dataframe tbody tr th:only-of-type {\n",
       "        vertical-align: middle;\n",
       "    }\n",
       "\n",
       "    .dataframe tbody tr th {\n",
       "        vertical-align: top;\n",
       "    }\n",
       "\n",
       "    .dataframe thead th {\n",
       "        text-align: right;\n",
       "    }\n",
       "</style>\n",
       "<table border=\"1\" class=\"dataframe\">\n",
       "  <thead>\n",
       "    <tr style=\"text-align: right;\">\n",
       "      <th></th>\n",
       "      <th>interference</th>\n",
       "    </tr>\n",
       "  </thead>\n",
       "  <tbody>\n",
       "    <tr>\n",
       "      <td>count</td>\n",
       "      <td>90.000000</td>\n",
       "    </tr>\n",
       "    <tr>\n",
       "      <td>mean</td>\n",
       "      <td>4.333333</td>\n",
       "    </tr>\n",
       "    <tr>\n",
       "      <td>std</td>\n",
       "      <td>0.874097</td>\n",
       "    </tr>\n",
       "    <tr>\n",
       "      <td>min</td>\n",
       "      <td>3.000000</td>\n",
       "    </tr>\n",
       "    <tr>\n",
       "      <td>25%</td>\n",
       "      <td>3.000000</td>\n",
       "    </tr>\n",
       "    <tr>\n",
       "      <td>50%</td>\n",
       "      <td>5.000000</td>\n",
       "    </tr>\n",
       "    <tr>\n",
       "      <td>75%</td>\n",
       "      <td>5.000000</td>\n",
       "    </tr>\n",
       "    <tr>\n",
       "      <td>max</td>\n",
       "      <td>5.000000</td>\n",
       "    </tr>\n",
       "  </tbody>\n",
       "</table>\n",
       "</div>"
      ],
      "text/plain": [
       "       interference\n",
       "count     90.000000\n",
       "mean       4.333333\n",
       "std        0.874097\n",
       "min        3.000000\n",
       "25%        3.000000\n",
       "50%        5.000000\n",
       "75%        5.000000\n",
       "max        5.000000"
      ]
     },
     "execution_count": 57,
     "metadata": {},
     "output_type": "execute_result"
    }
   ],
   "source": [
    "df_interference.describe()"
   ]
  },
  {
   "cell_type": "code",
   "execution_count": 58,
   "metadata": {},
   "outputs": [],
   "source": [
    "writer = pd.ExcelWriter('test.xlsx',engine='xlsxwriter')\n",
    "df_interference.to_excel(writer,sheet_name='Sheet1')\n",
    "writer.save()"
   ]
  },
  {
   "cell_type": "code",
   "execution_count": 49,
   "metadata": {},
   "outputs": [],
   "source": [
    "def cal_mfcc(path):\n",
    "    X,sample_rate = librosa.load(path,res_type = 'kaiser_fast')\n",
    "    mfcc = np.mean(librosa.feature.mfcc(y=X, sr=sample_rate, n_mfcc=40).T,axis=0)\n",
    "    feature = mfcc\n",
    "    return feature"
   ]
  },
  {
   "cell_type": "code",
   "execution_count": 50,
   "metadata": {},
   "outputs": [
    {
     "name": "stderr",
     "output_type": "stream",
     "text": [
      "/opt/anaconda3/lib/python3.7/site-packages/librosa/core/audio.py:146: UserWarning: PySoundFile failed. Trying audioread instead.\n",
      "  warnings.warn('PySoundFile failed. Trying audioread instead.')\n",
      "/opt/anaconda3/lib/python3.7/site-packages/librosa/core/audio.py:146: UserWarning: PySoundFile failed. Trying audioread instead.\n",
      "  warnings.warn('PySoundFile failed. Trying audioread instead.')\n",
      "/opt/anaconda3/lib/python3.7/site-packages/librosa/core/audio.py:146: UserWarning: PySoundFile failed. Trying audioread instead.\n",
      "  warnings.warn('PySoundFile failed. Trying audioread instead.')\n",
      "/opt/anaconda3/lib/python3.7/site-packages/librosa/core/audio.py:146: UserWarning: PySoundFile failed. Trying audioread instead.\n",
      "  warnings.warn('PySoundFile failed. Trying audioread instead.')\n",
      "/opt/anaconda3/lib/python3.7/site-packages/librosa/core/audio.py:146: UserWarning: PySoundFile failed. Trying audioread instead.\n",
      "  warnings.warn('PySoundFile failed. Trying audioread instead.')\n",
      "/opt/anaconda3/lib/python3.7/site-packages/librosa/core/audio.py:146: UserWarning: PySoundFile failed. Trying audioread instead.\n",
      "  warnings.warn('PySoundFile failed. Trying audioread instead.')\n",
      "/opt/anaconda3/lib/python3.7/site-packages/librosa/core/audio.py:146: UserWarning: PySoundFile failed. Trying audioread instead.\n",
      "  warnings.warn('PySoundFile failed. Trying audioread instead.')\n",
      "/opt/anaconda3/lib/python3.7/site-packages/librosa/core/audio.py:146: UserWarning: PySoundFile failed. Trying audioread instead.\n",
      "  warnings.warn('PySoundFile failed. Trying audioread instead.')\n",
      "/opt/anaconda3/lib/python3.7/site-packages/librosa/core/audio.py:146: UserWarning: PySoundFile failed. Trying audioread instead.\n",
      "  warnings.warn('PySoundFile failed. Trying audioread instead.')\n",
      "/opt/anaconda3/lib/python3.7/site-packages/librosa/core/audio.py:146: UserWarning: PySoundFile failed. Trying audioread instead.\n",
      "  warnings.warn('PySoundFile failed. Trying audioread instead.')\n",
      "/opt/anaconda3/lib/python3.7/site-packages/librosa/core/audio.py:146: UserWarning: PySoundFile failed. Trying audioread instead.\n",
      "  warnings.warn('PySoundFile failed. Trying audioread instead.')\n",
      "/opt/anaconda3/lib/python3.7/site-packages/librosa/core/audio.py:146: UserWarning: PySoundFile failed. Trying audioread instead.\n",
      "  warnings.warn('PySoundFile failed. Trying audioread instead.')\n",
      "/opt/anaconda3/lib/python3.7/site-packages/librosa/core/audio.py:146: UserWarning: PySoundFile failed. Trying audioread instead.\n",
      "  warnings.warn('PySoundFile failed. Trying audioread instead.')\n",
      "/opt/anaconda3/lib/python3.7/site-packages/librosa/core/audio.py:146: UserWarning: PySoundFile failed. Trying audioread instead.\n",
      "  warnings.warn('PySoundFile failed. Trying audioread instead.')\n",
      "/opt/anaconda3/lib/python3.7/site-packages/librosa/core/audio.py:146: UserWarning: PySoundFile failed. Trying audioread instead.\n",
      "  warnings.warn('PySoundFile failed. Trying audioread instead.')\n",
      "/opt/anaconda3/lib/python3.7/site-packages/librosa/core/audio.py:146: UserWarning: PySoundFile failed. Trying audioread instead.\n",
      "  warnings.warn('PySoundFile failed. Trying audioread instead.')\n",
      "/opt/anaconda3/lib/python3.7/site-packages/librosa/core/audio.py:146: UserWarning: PySoundFile failed. Trying audioread instead.\n",
      "  warnings.warn('PySoundFile failed. Trying audioread instead.')\n",
      "/opt/anaconda3/lib/python3.7/site-packages/librosa/core/audio.py:146: UserWarning: PySoundFile failed. Trying audioread instead.\n",
      "  warnings.warn('PySoundFile failed. Trying audioread instead.')\n",
      "/opt/anaconda3/lib/python3.7/site-packages/librosa/core/audio.py:146: UserWarning: PySoundFile failed. Trying audioread instead.\n",
      "  warnings.warn('PySoundFile failed. Trying audioread instead.')\n",
      "/opt/anaconda3/lib/python3.7/site-packages/librosa/core/audio.py:146: UserWarning: PySoundFile failed. Trying audioread instead.\n",
      "  warnings.warn('PySoundFile failed. Trying audioread instead.')\n",
      "/opt/anaconda3/lib/python3.7/site-packages/librosa/core/audio.py:146: UserWarning: PySoundFile failed. Trying audioread instead.\n",
      "  warnings.warn('PySoundFile failed. Trying audioread instead.')\n",
      "/opt/anaconda3/lib/python3.7/site-packages/librosa/core/audio.py:146: UserWarning: PySoundFile failed. Trying audioread instead.\n",
      "  warnings.warn('PySoundFile failed. Trying audioread instead.')\n",
      "/opt/anaconda3/lib/python3.7/site-packages/librosa/core/audio.py:146: UserWarning: PySoundFile failed. Trying audioread instead.\n",
      "  warnings.warn('PySoundFile failed. Trying audioread instead.')\n",
      "/opt/anaconda3/lib/python3.7/site-packages/librosa/core/audio.py:146: UserWarning: PySoundFile failed. Trying audioread instead.\n",
      "  warnings.warn('PySoundFile failed. Trying audioread instead.')\n",
      "/opt/anaconda3/lib/python3.7/site-packages/librosa/core/audio.py:146: UserWarning: PySoundFile failed. Trying audioread instead.\n",
      "  warnings.warn('PySoundFile failed. Trying audioread instead.')\n",
      "/opt/anaconda3/lib/python3.7/site-packages/librosa/core/audio.py:146: UserWarning: PySoundFile failed. Trying audioread instead.\n",
      "  warnings.warn('PySoundFile failed. Trying audioread instead.')\n",
      "/opt/anaconda3/lib/python3.7/site-packages/librosa/core/audio.py:146: UserWarning: PySoundFile failed. Trying audioread instead.\n",
      "  warnings.warn('PySoundFile failed. Trying audioread instead.')\n",
      "/opt/anaconda3/lib/python3.7/site-packages/librosa/core/audio.py:146: UserWarning: PySoundFile failed. Trying audioread instead.\n",
      "  warnings.warn('PySoundFile failed. Trying audioread instead.')\n",
      "/opt/anaconda3/lib/python3.7/site-packages/librosa/core/audio.py:146: UserWarning: PySoundFile failed. Trying audioread instead.\n",
      "  warnings.warn('PySoundFile failed. Trying audioread instead.')\n",
      "/opt/anaconda3/lib/python3.7/site-packages/librosa/core/audio.py:146: UserWarning: PySoundFile failed. Trying audioread instead.\n",
      "  warnings.warn('PySoundFile failed. Trying audioread instead.')\n",
      "/opt/anaconda3/lib/python3.7/site-packages/librosa/core/audio.py:146: UserWarning: PySoundFile failed. Trying audioread instead.\n",
      "  warnings.warn('PySoundFile failed. Trying audioread instead.')\n",
      "/opt/anaconda3/lib/python3.7/site-packages/librosa/core/audio.py:146: UserWarning: PySoundFile failed. Trying audioread instead.\n",
      "  warnings.warn('PySoundFile failed. Trying audioread instead.')\n",
      "/opt/anaconda3/lib/python3.7/site-packages/librosa/core/audio.py:146: UserWarning: PySoundFile failed. Trying audioread instead.\n",
      "  warnings.warn('PySoundFile failed. Trying audioread instead.')\n",
      "/opt/anaconda3/lib/python3.7/site-packages/librosa/core/audio.py:146: UserWarning: PySoundFile failed. Trying audioread instead.\n",
      "  warnings.warn('PySoundFile failed. Trying audioread instead.')\n",
      "/opt/anaconda3/lib/python3.7/site-packages/librosa/core/audio.py:146: UserWarning: PySoundFile failed. Trying audioread instead.\n",
      "  warnings.warn('PySoundFile failed. Trying audioread instead.')\n",
      "/opt/anaconda3/lib/python3.7/site-packages/librosa/core/audio.py:146: UserWarning: PySoundFile failed. Trying audioread instead.\n",
      "  warnings.warn('PySoundFile failed. Trying audioread instead.')\n",
      "/opt/anaconda3/lib/python3.7/site-packages/librosa/core/audio.py:146: UserWarning: PySoundFile failed. Trying audioread instead.\n",
      "  warnings.warn('PySoundFile failed. Trying audioread instead.')\n",
      "/opt/anaconda3/lib/python3.7/site-packages/librosa/core/audio.py:146: UserWarning: PySoundFile failed. Trying audioread instead.\n",
      "  warnings.warn('PySoundFile failed. Trying audioread instead.')\n",
      "/opt/anaconda3/lib/python3.7/site-packages/librosa/core/audio.py:146: UserWarning: PySoundFile failed. Trying audioread instead.\n",
      "  warnings.warn('PySoundFile failed. Trying audioread instead.')\n",
      "/opt/anaconda3/lib/python3.7/site-packages/librosa/core/audio.py:146: UserWarning: PySoundFile failed. Trying audioread instead.\n",
      "  warnings.warn('PySoundFile failed. Trying audioread instead.')\n",
      "/opt/anaconda3/lib/python3.7/site-packages/librosa/core/audio.py:146: UserWarning: PySoundFile failed. Trying audioread instead.\n",
      "  warnings.warn('PySoundFile failed. Trying audioread instead.')\n",
      "/opt/anaconda3/lib/python3.7/site-packages/librosa/core/audio.py:146: UserWarning: PySoundFile failed. Trying audioread instead.\n",
      "  warnings.warn('PySoundFile failed. Trying audioread instead.')\n",
      "/opt/anaconda3/lib/python3.7/site-packages/librosa/core/audio.py:146: UserWarning: PySoundFile failed. Trying audioread instead.\n",
      "  warnings.warn('PySoundFile failed. Trying audioread instead.')\n",
      "/opt/anaconda3/lib/python3.7/site-packages/librosa/core/audio.py:146: UserWarning: PySoundFile failed. Trying audioread instead.\n",
      "  warnings.warn('PySoundFile failed. Trying audioread instead.')\n",
      "/opt/anaconda3/lib/python3.7/site-packages/librosa/core/audio.py:146: UserWarning: PySoundFile failed. Trying audioread instead.\n",
      "  warnings.warn('PySoundFile failed. Trying audioread instead.')\n"
     ]
    },
    {
     "name": "stderr",
     "output_type": "stream",
     "text": [
      "/opt/anaconda3/lib/python3.7/site-packages/librosa/core/audio.py:146: UserWarning: PySoundFile failed. Trying audioread instead.\n",
      "  warnings.warn('PySoundFile failed. Trying audioread instead.')\n",
      "/opt/anaconda3/lib/python3.7/site-packages/librosa/core/audio.py:146: UserWarning: PySoundFile failed. Trying audioread instead.\n",
      "  warnings.warn('PySoundFile failed. Trying audioread instead.')\n",
      "/opt/anaconda3/lib/python3.7/site-packages/librosa/core/audio.py:146: UserWarning: PySoundFile failed. Trying audioread instead.\n",
      "  warnings.warn('PySoundFile failed. Trying audioread instead.')\n",
      "/opt/anaconda3/lib/python3.7/site-packages/librosa/core/audio.py:146: UserWarning: PySoundFile failed. Trying audioread instead.\n",
      "  warnings.warn('PySoundFile failed. Trying audioread instead.')\n",
      "/opt/anaconda3/lib/python3.7/site-packages/librosa/core/audio.py:146: UserWarning: PySoundFile failed. Trying audioread instead.\n",
      "  warnings.warn('PySoundFile failed. Trying audioread instead.')\n",
      "/opt/anaconda3/lib/python3.7/site-packages/librosa/core/audio.py:146: UserWarning: PySoundFile failed. Trying audioread instead.\n",
      "  warnings.warn('PySoundFile failed. Trying audioread instead.')\n",
      "/opt/anaconda3/lib/python3.7/site-packages/librosa/core/audio.py:146: UserWarning: PySoundFile failed. Trying audioread instead.\n",
      "  warnings.warn('PySoundFile failed. Trying audioread instead.')\n",
      "/opt/anaconda3/lib/python3.7/site-packages/librosa/core/audio.py:146: UserWarning: PySoundFile failed. Trying audioread instead.\n",
      "  warnings.warn('PySoundFile failed. Trying audioread instead.')\n",
      "/opt/anaconda3/lib/python3.7/site-packages/librosa/core/audio.py:146: UserWarning: PySoundFile failed. Trying audioread instead.\n",
      "  warnings.warn('PySoundFile failed. Trying audioread instead.')\n",
      "/opt/anaconda3/lib/python3.7/site-packages/librosa/core/audio.py:146: UserWarning: PySoundFile failed. Trying audioread instead.\n",
      "  warnings.warn('PySoundFile failed. Trying audioread instead.')\n",
      "/opt/anaconda3/lib/python3.7/site-packages/librosa/core/audio.py:146: UserWarning: PySoundFile failed. Trying audioread instead.\n",
      "  warnings.warn('PySoundFile failed. Trying audioread instead.')\n",
      "/opt/anaconda3/lib/python3.7/site-packages/librosa/core/audio.py:146: UserWarning: PySoundFile failed. Trying audioread instead.\n",
      "  warnings.warn('PySoundFile failed. Trying audioread instead.')\n",
      "/opt/anaconda3/lib/python3.7/site-packages/librosa/core/audio.py:146: UserWarning: PySoundFile failed. Trying audioread instead.\n",
      "  warnings.warn('PySoundFile failed. Trying audioread instead.')\n",
      "/opt/anaconda3/lib/python3.7/site-packages/librosa/core/audio.py:146: UserWarning: PySoundFile failed. Trying audioread instead.\n",
      "  warnings.warn('PySoundFile failed. Trying audioread instead.')\n",
      "/opt/anaconda3/lib/python3.7/site-packages/librosa/core/audio.py:146: UserWarning: PySoundFile failed. Trying audioread instead.\n",
      "  warnings.warn('PySoundFile failed. Trying audioread instead.')\n",
      "/opt/anaconda3/lib/python3.7/site-packages/librosa/core/audio.py:146: UserWarning: PySoundFile failed. Trying audioread instead.\n",
      "  warnings.warn('PySoundFile failed. Trying audioread instead.')\n",
      "/opt/anaconda3/lib/python3.7/site-packages/librosa/core/audio.py:146: UserWarning: PySoundFile failed. Trying audioread instead.\n",
      "  warnings.warn('PySoundFile failed. Trying audioread instead.')\n",
      "/opt/anaconda3/lib/python3.7/site-packages/librosa/core/audio.py:146: UserWarning: PySoundFile failed. Trying audioread instead.\n",
      "  warnings.warn('PySoundFile failed. Trying audioread instead.')\n",
      "/opt/anaconda3/lib/python3.7/site-packages/librosa/core/audio.py:146: UserWarning: PySoundFile failed. Trying audioread instead.\n",
      "  warnings.warn('PySoundFile failed. Trying audioread instead.')\n",
      "/opt/anaconda3/lib/python3.7/site-packages/librosa/core/audio.py:146: UserWarning: PySoundFile failed. Trying audioread instead.\n",
      "  warnings.warn('PySoundFile failed. Trying audioread instead.')\n",
      "/opt/anaconda3/lib/python3.7/site-packages/librosa/core/audio.py:146: UserWarning: PySoundFile failed. Trying audioread instead.\n",
      "  warnings.warn('PySoundFile failed. Trying audioread instead.')\n",
      "/opt/anaconda3/lib/python3.7/site-packages/librosa/core/audio.py:146: UserWarning: PySoundFile failed. Trying audioread instead.\n",
      "  warnings.warn('PySoundFile failed. Trying audioread instead.')\n",
      "/opt/anaconda3/lib/python3.7/site-packages/librosa/core/audio.py:146: UserWarning: PySoundFile failed. Trying audioread instead.\n",
      "  warnings.warn('PySoundFile failed. Trying audioread instead.')\n",
      "/opt/anaconda3/lib/python3.7/site-packages/librosa/core/audio.py:146: UserWarning: PySoundFile failed. Trying audioread instead.\n",
      "  warnings.warn('PySoundFile failed. Trying audioread instead.')\n",
      "/opt/anaconda3/lib/python3.7/site-packages/librosa/core/audio.py:146: UserWarning: PySoundFile failed. Trying audioread instead.\n",
      "  warnings.warn('PySoundFile failed. Trying audioread instead.')\n",
      "/opt/anaconda3/lib/python3.7/site-packages/librosa/core/audio.py:146: UserWarning: PySoundFile failed. Trying audioread instead.\n",
      "  warnings.warn('PySoundFile failed. Trying audioread instead.')\n",
      "/opt/anaconda3/lib/python3.7/site-packages/librosa/core/audio.py:146: UserWarning: PySoundFile failed. Trying audioread instead.\n",
      "  warnings.warn('PySoundFile failed. Trying audioread instead.')\n",
      "/opt/anaconda3/lib/python3.7/site-packages/librosa/core/audio.py:146: UserWarning: PySoundFile failed. Trying audioread instead.\n",
      "  warnings.warn('PySoundFile failed. Trying audioread instead.')\n",
      "/opt/anaconda3/lib/python3.7/site-packages/librosa/core/audio.py:146: UserWarning: PySoundFile failed. Trying audioread instead.\n",
      "  warnings.warn('PySoundFile failed. Trying audioread instead.')\n",
      "/opt/anaconda3/lib/python3.7/site-packages/librosa/core/audio.py:146: UserWarning: PySoundFile failed. Trying audioread instead.\n",
      "  warnings.warn('PySoundFile failed. Trying audioread instead.')\n",
      "/opt/anaconda3/lib/python3.7/site-packages/librosa/core/audio.py:146: UserWarning: PySoundFile failed. Trying audioread instead.\n",
      "  warnings.warn('PySoundFile failed. Trying audioread instead.')\n",
      "/opt/anaconda3/lib/python3.7/site-packages/librosa/core/audio.py:146: UserWarning: PySoundFile failed. Trying audioread instead.\n",
      "  warnings.warn('PySoundFile failed. Trying audioread instead.')\n",
      "/opt/anaconda3/lib/python3.7/site-packages/librosa/core/audio.py:146: UserWarning: PySoundFile failed. Trying audioread instead.\n",
      "  warnings.warn('PySoundFile failed. Trying audioread instead.')\n",
      "/opt/anaconda3/lib/python3.7/site-packages/librosa/core/audio.py:146: UserWarning: PySoundFile failed. Trying audioread instead.\n",
      "  warnings.warn('PySoundFile failed. Trying audioread instead.')\n",
      "/opt/anaconda3/lib/python3.7/site-packages/librosa/core/audio.py:146: UserWarning: PySoundFile failed. Trying audioread instead.\n",
      "  warnings.warn('PySoundFile failed. Trying audioread instead.')\n",
      "/opt/anaconda3/lib/python3.7/site-packages/librosa/core/audio.py:146: UserWarning: PySoundFile failed. Trying audioread instead.\n",
      "  warnings.warn('PySoundFile failed. Trying audioread instead.')\n",
      "/opt/anaconda3/lib/python3.7/site-packages/librosa/core/audio.py:146: UserWarning: PySoundFile failed. Trying audioread instead.\n",
      "  warnings.warn('PySoundFile failed. Trying audioread instead.')\n",
      "/opt/anaconda3/lib/python3.7/site-packages/librosa/core/audio.py:146: UserWarning: PySoundFile failed. Trying audioread instead.\n",
      "  warnings.warn('PySoundFile failed. Trying audioread instead.')\n",
      "/opt/anaconda3/lib/python3.7/site-packages/librosa/core/audio.py:146: UserWarning: PySoundFile failed. Trying audioread instead.\n",
      "  warnings.warn('PySoundFile failed. Trying audioread instead.')\n",
      "/opt/anaconda3/lib/python3.7/site-packages/librosa/core/audio.py:146: UserWarning: PySoundFile failed. Trying audioread instead.\n",
      "  warnings.warn('PySoundFile failed. Trying audioread instead.')\n",
      "/opt/anaconda3/lib/python3.7/site-packages/librosa/core/audio.py:146: UserWarning: PySoundFile failed. Trying audioread instead.\n",
      "  warnings.warn('PySoundFile failed. Trying audioread instead.')\n",
      "/opt/anaconda3/lib/python3.7/site-packages/librosa/core/audio.py:146: UserWarning: PySoundFile failed. Trying audioread instead.\n",
      "  warnings.warn('PySoundFile failed. Trying audioread instead.')\n",
      "/opt/anaconda3/lib/python3.7/site-packages/librosa/core/audio.py:146: UserWarning: PySoundFile failed. Trying audioread instead.\n",
      "  warnings.warn('PySoundFile failed. Trying audioread instead.')\n"
     ]
    },
    {
     "name": "stderr",
     "output_type": "stream",
     "text": [
      "/opt/anaconda3/lib/python3.7/site-packages/librosa/core/audio.py:146: UserWarning: PySoundFile failed. Trying audioread instead.\n",
      "  warnings.warn('PySoundFile failed. Trying audioread instead.')\n",
      "/opt/anaconda3/lib/python3.7/site-packages/librosa/core/audio.py:146: UserWarning: PySoundFile failed. Trying audioread instead.\n",
      "  warnings.warn('PySoundFile failed. Trying audioread instead.')\n"
     ]
    }
   ],
   "source": [
    "df_interference['mfcc'] = df_interference['path'].apply(cal_mfcc)"
   ]
  },
  {
   "cell_type": "code",
   "execution_count": 51,
   "metadata": {},
   "outputs": [
    {
     "data": {
      "text/html": [
       "<div>\n",
       "<style scoped>\n",
       "    .dataframe tbody tr th:only-of-type {\n",
       "        vertical-align: middle;\n",
       "    }\n",
       "\n",
       "    .dataframe tbody tr th {\n",
       "        vertical-align: top;\n",
       "    }\n",
       "\n",
       "    .dataframe thead th {\n",
       "        text-align: right;\n",
       "    }\n",
       "</style>\n",
       "<table border=\"1\" class=\"dataframe\">\n",
       "  <thead>\n",
       "    <tr style=\"text-align: right;\">\n",
       "      <th></th>\n",
       "      <th>interference</th>\n",
       "      <th>mfcc</th>\n",
       "      <th>path</th>\n",
       "    </tr>\n",
       "  </thead>\n",
       "  <tbody>\n",
       "    <tr>\n",
       "      <td>0</td>\n",
       "      <td>3</td>\n",
       "      <td>[-131.37686, 227.78185, -96.030304, 54.124985,...</td>\n",
       "      <td>/Users/sanjeevkumar/Desktop/TWR/DATA Samples/I...</td>\n",
       "    </tr>\n",
       "    <tr>\n",
       "      <td>1</td>\n",
       "      <td>3</td>\n",
       "      <td>[-152.18541, 212.1246, -75.82145, 52.74044, 18...</td>\n",
       "      <td>/Users/sanjeevkumar/Desktop/TWR/DATA Samples/I...</td>\n",
       "    </tr>\n",
       "    <tr>\n",
       "      <td>2</td>\n",
       "      <td>3</td>\n",
       "      <td>[-154.4152, 207.58583, -83.73171, 49.88308, 11...</td>\n",
       "      <td>/Users/sanjeevkumar/Desktop/TWR/DATA Samples/I...</td>\n",
       "    </tr>\n",
       "    <tr>\n",
       "      <td>3</td>\n",
       "      <td>3</td>\n",
       "      <td>[-165.0797, 206.83765, -102.65477, 52.450253, ...</td>\n",
       "      <td>/Users/sanjeevkumar/Desktop/TWR/DATA Samples/I...</td>\n",
       "    </tr>\n",
       "    <tr>\n",
       "      <td>4</td>\n",
       "      <td>3</td>\n",
       "      <td>[-146.89711, 219.33466, -90.32005, 52.043674, ...</td>\n",
       "      <td>/Users/sanjeevkumar/Desktop/TWR/DATA Samples/I...</td>\n",
       "    </tr>\n",
       "  </tbody>\n",
       "</table>\n",
       "</div>"
      ],
      "text/plain": [
       "   interference                                               mfcc  \\\n",
       "0             3  [-131.37686, 227.78185, -96.030304, 54.124985,...   \n",
       "1             3  [-152.18541, 212.1246, -75.82145, 52.74044, 18...   \n",
       "2             3  [-154.4152, 207.58583, -83.73171, 49.88308, 11...   \n",
       "3             3  [-165.0797, 206.83765, -102.65477, 52.450253, ...   \n",
       "4             3  [-146.89711, 219.33466, -90.32005, 52.043674, ...   \n",
       "\n",
       "                                                path  \n",
       "0  /Users/sanjeevkumar/Desktop/TWR/DATA Samples/I...  \n",
       "1  /Users/sanjeevkumar/Desktop/TWR/DATA Samples/I...  \n",
       "2  /Users/sanjeevkumar/Desktop/TWR/DATA Samples/I...  \n",
       "3  /Users/sanjeevkumar/Desktop/TWR/DATA Samples/I...  \n",
       "4  /Users/sanjeevkumar/Desktop/TWR/DATA Samples/I...  "
      ]
     },
     "execution_count": 51,
     "metadata": {},
     "output_type": "execute_result"
    }
   ],
   "source": [
    "df_interference.head()"
   ]
  },
  {
   "cell_type": "code",
   "execution_count": 52,
   "metadata": {},
   "outputs": [],
   "source": [
    "X = np.array(df_interference.mfcc.tolist())\n",
    "y = np.array(df_interference.interference.tolist())\n",
    "y = y.ravel()"
   ]
  },
  {
   "cell_type": "code",
   "execution_count": 53,
   "metadata": {},
   "outputs": [],
   "source": [
    "from sklearn.model_selection import train_test_split\n",
    "x_train,x_test,y_train,y_test = train_test_split(X,y,test_size=0.33,random_state=23)"
   ]
  },
  {
   "cell_type": "code",
   "execution_count": 54,
   "metadata": {},
   "outputs": [
    {
     "name": "stdout",
     "output_type": "stream",
     "text": [
      "1.0\n",
      "0.7\n"
     ]
    }
   ],
   "source": [
    "from sklearn.neural_network import MLPClassifier\n",
    "#60,40,10,\n",
    "clf = MLPClassifier(hidden_layer_sizes=(8,5,3,), activation='relu', solver='adam', alpha=0.0001, batch_size='auto', \n",
    "                   learning_rate='constant', max_iter=2000, verbose = False, random_state=5)\n",
    "\n",
    "clf.fit(x_train,y_train)\n",
    "print(clf.score(x_train,y_train))\n",
    "print(clf.score(x_test,y_test))"
   ]
  },
  {
   "cell_type": "code",
   "execution_count": 55,
   "metadata": {},
   "outputs": [
    {
     "name": "stdout",
     "output_type": "stream",
     "text": [
      "[4 5 5 5 5 3 5 4 4 5 5 5 4 5 5 5 3 4 5 5 5 5 5 5 5 5 5 5 5 5]\n",
      "[4 5 5 3 5 3 5 4 4 5 5 5 4 3 5 3 3 4 3 5 5 3 5 3 3 3 5 3 5 5]\n"
     ]
    }
   ],
   "source": [
    "print(clf.predict(x_test[0:]))\n",
    "print(y_test[0:])"
   ]
  },
  {
   "cell_type": "markdown",
   "metadata": {},
   "source": [
    "# Keras"
   ]
  },
  {
   "cell_type": "code",
   "execution_count": 56,
   "metadata": {},
   "outputs": [
    {
     "name": "stderr",
     "output_type": "stream",
     "text": [
      "Using TensorFlow backend.\n"
     ]
    }
   ],
   "source": [
    "from keras.utils import np_utils\n",
    "from keras.models import Sequential\n",
    "from keras.layers import Dense,Dropout,Activation,Flatten,Convolution2D,MaxPooling2D,BatchNormalization\n",
    "from keras.optimizers import adam"
   ]
  },
  {
   "cell_type": "code",
   "execution_count": 59,
   "metadata": {},
   "outputs": [],
   "source": [
    "from keras.utils import to_categorical\n",
    "X = np.array(df_interference.mfcc_new.tolist())\n",
    "y = np.array(df_interference.interference.tolist())\n",
    "y = y.ravel()\n",
    "Y = to_categorical(y)\n",
    "from sklearn.model_selection import train_test_split\n",
    "x_train,x_test,y_train,y_test = train_test_split(X,Y,test_size=0.33,random_state=23)"
   ]
  },
  {
   "cell_type": "code",
   "execution_count": 60,
   "metadata": {},
   "outputs": [],
   "source": [
    "model = Sequential()\n",
    "\n",
    "model.add(Dense(32,input_shape=(40,)))\n",
    "model.add(BatchNormalization())\n",
    "model.add(Activation('relu'))\n",
    "model.add(Dropout(0.5))\n",
    "\n",
    "model.add(Dense(64))\n",
    "model.add(BatchNormalization())\n",
    "\n",
    "model.add(Activation('relu'))\n",
    "model.add(Dropout(0.5))\n",
    "\n",
    "model.add(Dense(6))\n",
    "model.add(Activation('softmax'))\n",
    "\n",
    "model.compile(loss='categorical_crossentropy', metrics = ['accuracy'],optimizer='adam')"
   ]
  },
  {
   "cell_type": "code",
   "execution_count": 61,
   "metadata": {},
   "outputs": [
    {
     "name": "stdout",
     "output_type": "stream",
     "text": [
      "Model: \"sequential_1\"\n",
      "_________________________________________________________________\n",
      "Layer (type)                 Output Shape              Param #   \n",
      "=================================================================\n",
      "dense_1 (Dense)              (None, 32)                1312      \n",
      "_________________________________________________________________\n",
      "batch_normalization_1 (Batch (None, 32)                128       \n",
      "_________________________________________________________________\n",
      "activation_1 (Activation)    (None, 32)                0         \n",
      "_________________________________________________________________\n",
      "dropout_1 (Dropout)          (None, 32)                0         \n",
      "_________________________________________________________________\n",
      "dense_2 (Dense)              (None, 64)                2112      \n",
      "_________________________________________________________________\n",
      "batch_normalization_2 (Batch (None, 64)                256       \n",
      "_________________________________________________________________\n",
      "activation_2 (Activation)    (None, 64)                0         \n",
      "_________________________________________________________________\n",
      "dropout_2 (Dropout)          (None, 64)                0         \n",
      "_________________________________________________________________\n",
      "dense_3 (Dense)              (None, 6)                 390       \n",
      "_________________________________________________________________\n",
      "activation_3 (Activation)    (None, 6)                 0         \n",
      "=================================================================\n",
      "Total params: 4,198\n",
      "Trainable params: 4,006\n",
      "Non-trainable params: 192\n",
      "_________________________________________________________________\n",
      "Train on 60 samples, validate on 30 samples\n",
      "Epoch 1/200\n",
      "60/60 [==============================] - 1s 11ms/step - loss: 1.4881 - accuracy: 0.4500 - val_loss: 8.9953 - val_accuracy: 0.4667\n",
      "Epoch 2/200\n",
      "60/60 [==============================] - 0s 177us/step - loss: 1.4345 - accuracy: 0.4167 - val_loss: 6.9070 - val_accuracy: 0.4667\n",
      "Epoch 3/200\n",
      "60/60 [==============================] - 0s 216us/step - loss: 1.1764 - accuracy: 0.6667 - val_loss: 5.8746 - val_accuracy: 0.4667\n",
      "Epoch 4/200\n",
      "60/60 [==============================] - 0s 477us/step - loss: 1.4790 - accuracy: 0.4500 - val_loss: 5.1925 - val_accuracy: 0.4667\n",
      "Epoch 5/200\n",
      "60/60 [==============================] - 0s 234us/step - loss: 1.3211 - accuracy: 0.5000 - val_loss: 4.6925 - val_accuracy: 0.5000\n",
      "Epoch 6/200\n",
      "60/60 [==============================] - 0s 181us/step - loss: 1.2460 - accuracy: 0.6000 - val_loss: 4.3000 - val_accuracy: 0.5000\n",
      "Epoch 7/200\n",
      "60/60 [==============================] - 0s 161us/step - loss: 1.2157 - accuracy: 0.5333 - val_loss: 4.0080 - val_accuracy: 0.5000\n",
      "Epoch 8/200\n",
      "60/60 [==============================] - 0s 144us/step - loss: 1.2502 - accuracy: 0.5833 - val_loss: 3.7595 - val_accuracy: 0.5000\n",
      "Epoch 9/200\n",
      "60/60 [==============================] - 0s 128us/step - loss: 0.9560 - accuracy: 0.7333 - val_loss: 3.5420 - val_accuracy: 0.5000\n",
      "Epoch 10/200\n",
      "60/60 [==============================] - 0s 133us/step - loss: 1.0104 - accuracy: 0.6500 - val_loss: 3.3425 - val_accuracy: 0.5000\n",
      "Epoch 11/200\n",
      "60/60 [==============================] - 0s 118us/step - loss: 1.1437 - accuracy: 0.6167 - val_loss: 3.1586 - val_accuracy: 0.5000\n",
      "Epoch 12/200\n",
      "60/60 [==============================] - 0s 219us/step - loss: 0.9865 - accuracy: 0.6333 - val_loss: 2.9989 - val_accuracy: 0.5000\n",
      "Epoch 13/200\n",
      "60/60 [==============================] - 0s 379us/step - loss: 1.0345 - accuracy: 0.6500 - val_loss: 2.8556 - val_accuracy: 0.5333\n",
      "Epoch 14/200\n",
      "60/60 [==============================] - 0s 442us/step - loss: 1.2393 - accuracy: 0.6500 - val_loss: 2.7428 - val_accuracy: 0.5333\n",
      "Epoch 15/200\n",
      "60/60 [==============================] - 0s 204us/step - loss: 0.9780 - accuracy: 0.6333 - val_loss: 2.6348 - val_accuracy: 0.5333\n",
      "Epoch 16/200\n",
      "60/60 [==============================] - 0s 458us/step - loss: 0.8823 - accuracy: 0.7167 - val_loss: 2.5336 - val_accuracy: 0.5333\n",
      "Epoch 17/200\n",
      "60/60 [==============================] - 0s 296us/step - loss: 0.7896 - accuracy: 0.7167 - val_loss: 2.4405 - val_accuracy: 0.5333\n",
      "Epoch 18/200\n",
      "60/60 [==============================] - 0s 584us/step - loss: 0.9885 - accuracy: 0.6500 - val_loss: 2.3741 - val_accuracy: 0.5333\n",
      "Epoch 19/200\n",
      "60/60 [==============================] - 0s 206us/step - loss: 0.7995 - accuracy: 0.7667 - val_loss: 2.3071 - val_accuracy: 0.5333\n",
      "Epoch 20/200\n",
      "60/60 [==============================] - 0s 397us/step - loss: 0.8451 - accuracy: 0.7333 - val_loss: 2.2368 - val_accuracy: 0.5333\n",
      "Epoch 21/200\n",
      "60/60 [==============================] - 0s 247us/step - loss: 0.8870 - accuracy: 0.7000 - val_loss: 2.1755 - val_accuracy: 0.5333\n",
      "Epoch 22/200\n",
      "60/60 [==============================] - 0s 188us/step - loss: 0.9155 - accuracy: 0.6833 - val_loss: 2.1177 - val_accuracy: 0.5333\n",
      "Epoch 23/200\n",
      "60/60 [==============================] - 0s 182us/step - loss: 0.8025 - accuracy: 0.6833 - val_loss: 2.0485 - val_accuracy: 0.5333\n",
      "Epoch 24/200\n",
      "60/60 [==============================] - 0s 162us/step - loss: 0.8023 - accuracy: 0.7667 - val_loss: 1.9774 - val_accuracy: 0.5333\n",
      "Epoch 25/200\n",
      "60/60 [==============================] - 0s 145us/step - loss: 0.7484 - accuracy: 0.7667 - val_loss: 1.9119 - val_accuracy: 0.5333\n",
      "Epoch 26/200\n",
      "60/60 [==============================] - 0s 274us/step - loss: 0.8736 - accuracy: 0.7500 - val_loss: 1.8546 - val_accuracy: 0.5333\n",
      "Epoch 27/200\n",
      "60/60 [==============================] - 0s 157us/step - loss: 0.7927 - accuracy: 0.7333 - val_loss: 1.7994 - val_accuracy: 0.5333\n",
      "Epoch 28/200\n",
      "60/60 [==============================] - 0s 147us/step - loss: 0.7172 - accuracy: 0.7167 - val_loss: 1.7402 - val_accuracy: 0.5333\n",
      "Epoch 29/200\n",
      "60/60 [==============================] - 0s 471us/step - loss: 0.6627 - accuracy: 0.7667 - val_loss: 1.6866 - val_accuracy: 0.5333\n",
      "Epoch 30/200\n",
      "60/60 [==============================] - 0s 245us/step - loss: 0.5250 - accuracy: 0.8333 - val_loss: 1.6366 - val_accuracy: 0.5333\n",
      "Epoch 31/200\n",
      "60/60 [==============================] - 0s 295us/step - loss: 0.6333 - accuracy: 0.7500 - val_loss: 1.5763 - val_accuracy: 0.5333\n",
      "Epoch 32/200\n",
      "60/60 [==============================] - 0s 195us/step - loss: 0.6043 - accuracy: 0.8000 - val_loss: 1.5334 - val_accuracy: 0.5333\n",
      "Epoch 33/200\n",
      "60/60 [==============================] - 0s 241us/step - loss: 0.6580 - accuracy: 0.8000 - val_loss: 1.5015 - val_accuracy: 0.5667\n",
      "Epoch 34/200\n",
      "60/60 [==============================] - 0s 146us/step - loss: 0.6976 - accuracy: 0.7000 - val_loss: 1.4824 - val_accuracy: 0.5667\n",
      "Epoch 35/200\n",
      "60/60 [==============================] - 0s 164us/step - loss: 0.5766 - accuracy: 0.8333 - val_loss: 1.4715 - val_accuracy: 0.5667\n",
      "Epoch 36/200\n",
      "60/60 [==============================] - 0s 133us/step - loss: 0.6822 - accuracy: 0.7333 - val_loss: 1.4621 - val_accuracy: 0.5667\n",
      "Epoch 37/200\n",
      "60/60 [==============================] - 0s 213us/step - loss: 0.6291 - accuracy: 0.7833 - val_loss: 1.4516 - val_accuracy: 0.5667\n",
      "Epoch 38/200\n",
      "60/60 [==============================] - 0s 220us/step - loss: 0.5527 - accuracy: 0.7833 - val_loss: 1.4404 - val_accuracy: 0.5667\n",
      "Epoch 39/200\n",
      "60/60 [==============================] - 0s 177us/step - loss: 0.6666 - accuracy: 0.7000 - val_loss: 1.4250 - val_accuracy: 0.6000\n",
      "Epoch 40/200\n",
      "60/60 [==============================] - 0s 178us/step - loss: 0.5487 - accuracy: 0.7833 - val_loss: 1.4078 - val_accuracy: 0.6000\n",
      "Epoch 41/200\n",
      "60/60 [==============================] - 0s 154us/step - loss: 0.5775 - accuracy: 0.7333 - val_loss: 1.3853 - val_accuracy: 0.6000\n",
      "Epoch 42/200\n",
      "60/60 [==============================] - 0s 209us/step - loss: 0.6174 - accuracy: 0.7500 - val_loss: 1.3628 - val_accuracy: 0.6000\n",
      "Epoch 43/200\n",
      "60/60 [==============================] - 0s 165us/step - loss: 0.5199 - accuracy: 0.8500 - val_loss: 1.3409 - val_accuracy: 0.6333\n",
      "Epoch 44/200\n",
      "60/60 [==============================] - 0s 197us/step - loss: 0.6046 - accuracy: 0.7667 - val_loss: 1.3204 - val_accuracy: 0.6333\n",
      "Epoch 45/200\n",
      "60/60 [==============================] - 0s 158us/step - loss: 0.4781 - accuracy: 0.8167 - val_loss: 1.2952 - val_accuracy: 0.6333\n",
      "Epoch 46/200\n"
     ]
    },
    {
     "name": "stdout",
     "output_type": "stream",
     "text": [
      "60/60 [==============================] - 0s 161us/step - loss: 0.4593 - accuracy: 0.9000 - val_loss: 1.2737 - val_accuracy: 0.6333\n",
      "Epoch 47/200\n",
      "60/60 [==============================] - 0s 215us/step - loss: 0.4438 - accuracy: 0.8500 - val_loss: 1.2490 - val_accuracy: 0.6333\n",
      "Epoch 48/200\n",
      "60/60 [==============================] - 0s 565us/step - loss: 0.5182 - accuracy: 0.8000 - val_loss: 1.2200 - val_accuracy: 0.6333\n",
      "Epoch 49/200\n",
      "60/60 [==============================] - 0s 303us/step - loss: 0.4509 - accuracy: 0.8833 - val_loss: 1.1941 - val_accuracy: 0.6333\n",
      "Epoch 50/200\n",
      "60/60 [==============================] - 0s 283us/step - loss: 0.5504 - accuracy: 0.7833 - val_loss: 1.1735 - val_accuracy: 0.6333\n",
      "Epoch 51/200\n",
      "60/60 [==============================] - ETA: 0s - loss: 0.4986 - accuracy: 0.84 - 0s 564us/step - loss: 0.5620 - accuracy: 0.8167 - val_loss: 1.1548 - val_accuracy: 0.6333\n",
      "Epoch 52/200\n",
      "60/60 [==============================] - 0s 370us/step - loss: 0.4651 - accuracy: 0.8167 - val_loss: 1.1341 - val_accuracy: 0.6333\n",
      "Epoch 53/200\n",
      "60/60 [==============================] - 0s 230us/step - loss: 0.6079 - accuracy: 0.7500 - val_loss: 1.1146 - val_accuracy: 0.6333\n",
      "Epoch 54/200\n",
      "60/60 [==============================] - 0s 145us/step - loss: 0.5544 - accuracy: 0.7833 - val_loss: 1.0983 - val_accuracy: 0.6333\n",
      "Epoch 55/200\n",
      "60/60 [==============================] - 0s 143us/step - loss: 0.4778 - accuracy: 0.7833 - val_loss: 1.0816 - val_accuracy: 0.6333\n",
      "Epoch 56/200\n",
      "60/60 [==============================] - 0s 165us/step - loss: 0.5461 - accuracy: 0.7500 - val_loss: 1.0686 - val_accuracy: 0.6333\n",
      "Epoch 57/200\n",
      "60/60 [==============================] - 0s 188us/step - loss: 0.4941 - accuracy: 0.7667 - val_loss: 1.0597 - val_accuracy: 0.6333\n",
      "Epoch 58/200\n",
      "60/60 [==============================] - 0s 174us/step - loss: 0.4522 - accuracy: 0.8333 - val_loss: 1.0490 - val_accuracy: 0.6333\n",
      "Epoch 59/200\n",
      "60/60 [==============================] - 0s 192us/step - loss: 0.5428 - accuracy: 0.7833 - val_loss: 1.0400 - val_accuracy: 0.6333\n",
      "Epoch 60/200\n",
      "60/60 [==============================] - 0s 332us/step - loss: 0.5726 - accuracy: 0.7833 - val_loss: 1.0306 - val_accuracy: 0.6333\n",
      "Epoch 61/200\n",
      "60/60 [==============================] - 0s 234us/step - loss: 0.5227 - accuracy: 0.7000 - val_loss: 1.0210 - val_accuracy: 0.6333\n",
      "Epoch 62/200\n",
      "60/60 [==============================] - 0s 153us/step - loss: 0.4730 - accuracy: 0.7833 - val_loss: 1.0212 - val_accuracy: 0.6333\n",
      "Epoch 63/200\n",
      "60/60 [==============================] - 0s 170us/step - loss: 0.4950 - accuracy: 0.7667 - val_loss: 1.0186 - val_accuracy: 0.6333\n",
      "Epoch 64/200\n",
      "60/60 [==============================] - 0s 249us/step - loss: 0.4910 - accuracy: 0.7667 - val_loss: 1.0133 - val_accuracy: 0.6333\n",
      "Epoch 65/200\n",
      "60/60 [==============================] - 0s 141us/step - loss: 0.4415 - accuracy: 0.7667 - val_loss: 1.0054 - val_accuracy: 0.6333\n",
      "Epoch 66/200\n",
      "60/60 [==============================] - 0s 235us/step - loss: 0.5441 - accuracy: 0.7667 - val_loss: 1.0057 - val_accuracy: 0.6333\n",
      "Epoch 67/200\n",
      "60/60 [==============================] - 0s 185us/step - loss: 0.4585 - accuracy: 0.8000 - val_loss: 1.0058 - val_accuracy: 0.6333\n",
      "Epoch 68/200\n",
      "60/60 [==============================] - 0s 190us/step - loss: 0.4324 - accuracy: 0.8167 - val_loss: 1.0044 - val_accuracy: 0.6333\n",
      "Epoch 69/200\n",
      "60/60 [==============================] - 0s 285us/step - loss: 0.4414 - accuracy: 0.8000 - val_loss: 1.0003 - val_accuracy: 0.6333\n",
      "Epoch 70/200\n",
      "60/60 [==============================] - 0s 223us/step - loss: 0.5275 - accuracy: 0.7667 - val_loss: 0.9927 - val_accuracy: 0.6333\n",
      "Epoch 71/200\n",
      "60/60 [==============================] - 0s 269us/step - loss: 0.4464 - accuracy: 0.8000 - val_loss: 0.9851 - val_accuracy: 0.6333\n",
      "Epoch 72/200\n",
      "60/60 [==============================] - 0s 167us/step - loss: 0.4682 - accuracy: 0.8500 - val_loss: 0.9865 - val_accuracy: 0.6333\n",
      "Epoch 73/200\n",
      "60/60 [==============================] - 0s 144us/step - loss: 0.4904 - accuracy: 0.7500 - val_loss: 0.9884 - val_accuracy: 0.6333\n",
      "Epoch 74/200\n",
      "60/60 [==============================] - 0s 186us/step - loss: 0.4505 - accuracy: 0.8167 - val_loss: 0.9928 - val_accuracy: 0.6333\n",
      "Epoch 75/200\n",
      "60/60 [==============================] - 0s 208us/step - loss: 0.3619 - accuracy: 0.8333 - val_loss: 0.9965 - val_accuracy: 0.6333\n",
      "Epoch 76/200\n",
      "60/60 [==============================] - 0s 171us/step - loss: 0.4072 - accuracy: 0.8333 - val_loss: 1.0011 - val_accuracy: 0.6333\n",
      "Epoch 77/200\n",
      "60/60 [==============================] - 0s 161us/step - loss: 0.4488 - accuracy: 0.7667 - val_loss: 1.0031 - val_accuracy: 0.6333\n",
      "Epoch 78/200\n",
      "60/60 [==============================] - 0s 146us/step - loss: 0.3877 - accuracy: 0.8667 - val_loss: 1.0094 - val_accuracy: 0.6333\n",
      "Epoch 79/200\n",
      "60/60 [==============================] - 0s 174us/step - loss: 0.5206 - accuracy: 0.7833 - val_loss: 1.0183 - val_accuracy: 0.6333\n",
      "Epoch 80/200\n",
      "60/60 [==============================] - 0s 158us/step - loss: 0.3665 - accuracy: 0.8333 - val_loss: 1.0271 - val_accuracy: 0.6333\n",
      "Epoch 81/200\n",
      "60/60 [==============================] - 0s 221us/step - loss: 0.5025 - accuracy: 0.8000 - val_loss: 1.0369 - val_accuracy: 0.6333\n",
      "Epoch 82/200\n",
      "60/60 [==============================] - 0s 160us/step - loss: 0.3938 - accuracy: 0.8000 - val_loss: 1.0460 - val_accuracy: 0.6333\n",
      "Epoch 83/200\n",
      "60/60 [==============================] - 0s 221us/step - loss: 0.4055 - accuracy: 0.8000 - val_loss: 1.0516 - val_accuracy: 0.6333\n",
      "Epoch 84/200\n",
      "60/60 [==============================] - 0s 131us/step - loss: 0.5172 - accuracy: 0.8333 - val_loss: 1.0621 - val_accuracy: 0.6333\n",
      "Epoch 85/200\n",
      "60/60 [==============================] - 0s 211us/step - loss: 0.4122 - accuracy: 0.8333 - val_loss: 1.0697 - val_accuracy: 0.6333\n",
      "Epoch 86/200\n",
      "60/60 [==============================] - 0s 207us/step - loss: 0.4331 - accuracy: 0.8000 - val_loss: 1.0791 - val_accuracy: 0.6333\n",
      "Epoch 87/200\n",
      "60/60 [==============================] - 0s 190us/step - loss: 0.4712 - accuracy: 0.7667 - val_loss: 1.0857 - val_accuracy: 0.6333\n",
      "Epoch 88/200\n",
      "60/60 [==============================] - 0s 208us/step - loss: 0.4237 - accuracy: 0.7833 - val_loss: 1.0937 - val_accuracy: 0.6333\n",
      "Epoch 89/200\n",
      "60/60 [==============================] - 0s 142us/step - loss: 0.4685 - accuracy: 0.7667 - val_loss: 1.1082 - val_accuracy: 0.6333\n",
      "Epoch 90/200\n",
      "60/60 [==============================] - 0s 207us/step - loss: 0.4588 - accuracy: 0.8333 - val_loss: 1.1254 - val_accuracy: 0.6333\n",
      "Epoch 91/200\n",
      "60/60 [==============================] - 0s 192us/step - loss: 0.3526 - accuracy: 0.8667 - val_loss: 1.1457 - val_accuracy: 0.6333\n",
      "Epoch 92/200\n",
      "60/60 [==============================] - 0s 175us/step - loss: 0.3882 - accuracy: 0.8167 - val_loss: 1.1585 - val_accuracy: 0.6333\n",
      "Epoch 93/200\n",
      "60/60 [==============================] - 0s 129us/step - loss: 0.4169 - accuracy: 0.8333 - val_loss: 1.1707 - val_accuracy: 0.6333\n",
      "Epoch 94/200\n",
      "60/60 [==============================] - 0s 159us/step - loss: 0.4292 - accuracy: 0.8000 - val_loss: 1.1906 - val_accuracy: 0.6333\n",
      "Epoch 95/200\n",
      "60/60 [==============================] - 0s 200us/step - loss: 0.3765 - accuracy: 0.8500 - val_loss: 1.2161 - val_accuracy: 0.6333\n",
      "Epoch 96/200\n",
      "60/60 [==============================] - 0s 139us/step - loss: 0.3745 - accuracy: 0.8000 - val_loss: 1.2358 - val_accuracy: 0.6333\n",
      "Epoch 97/200\n",
      "60/60 [==============================] - 0s 186us/step - loss: 0.4436 - accuracy: 0.8167 - val_loss: 1.2537 - val_accuracy: 0.6333\n",
      "Epoch 98/200\n",
      "60/60 [==============================] - 0s 236us/step - loss: 0.4454 - accuracy: 0.7667 - val_loss: 1.2706 - val_accuracy: 0.6333\n",
      "Epoch 99/200\n",
      "60/60 [==============================] - 0s 209us/step - loss: 0.5330 - accuracy: 0.7333 - val_loss: 1.2937 - val_accuracy: 0.6333\n",
      "Epoch 100/200\n",
      "60/60 [==============================] - 0s 245us/step - loss: 0.4973 - accuracy: 0.8500 - val_loss: 1.3099 - val_accuracy: 0.6333\n",
      "Epoch 101/200\n",
      "60/60 [==============================] - 0s 224us/step - loss: 0.4254 - accuracy: 0.8167 - val_loss: 1.3385 - val_accuracy: 0.6333\n",
      "Epoch 102/200\n",
      "60/60 [==============================] - 0s 219us/step - loss: 0.4191 - accuracy: 0.7667 - val_loss: 1.3560 - val_accuracy: 0.6333\n"
     ]
    },
    {
     "name": "stdout",
     "output_type": "stream",
     "text": [
      "Epoch 103/200\n",
      "60/60 [==============================] - 0s 218us/step - loss: 0.4261 - accuracy: 0.7833 - val_loss: 1.3826 - val_accuracy: 0.6333\n",
      "Epoch 104/200\n",
      "60/60 [==============================] - 0s 96us/step - loss: 0.3752 - accuracy: 0.8500 - val_loss: 1.4062 - val_accuracy: 0.6333\n",
      "Epoch 105/200\n",
      "60/60 [==============================] - 0s 234us/step - loss: 0.4747 - accuracy: 0.7667 - val_loss: 1.4196 - val_accuracy: 0.6333\n",
      "Epoch 106/200\n",
      "60/60 [==============================] - 0s 155us/step - loss: 0.3710 - accuracy: 0.8333 - val_loss: 1.4255 - val_accuracy: 0.6333\n",
      "Epoch 107/200\n",
      "60/60 [==============================] - 0s 198us/step - loss: 0.3459 - accuracy: 0.8167 - val_loss: 1.4283 - val_accuracy: 0.6333\n",
      "Epoch 108/200\n",
      "60/60 [==============================] - 0s 237us/step - loss: 0.2937 - accuracy: 0.8833 - val_loss: 1.4463 - val_accuracy: 0.6333\n",
      "Epoch 109/200\n",
      "60/60 [==============================] - 0s 208us/step - loss: 0.3933 - accuracy: 0.7833 - val_loss: 1.4632 - val_accuracy: 0.6333\n",
      "Epoch 110/200\n",
      "60/60 [==============================] - 0s 153us/step - loss: 0.2999 - accuracy: 0.9167 - val_loss: 1.4769 - val_accuracy: 0.6333\n",
      "Epoch 111/200\n",
      "60/60 [==============================] - 0s 160us/step - loss: 0.3007 - accuracy: 0.9000 - val_loss: 1.4885 - val_accuracy: 0.6333\n",
      "Epoch 112/200\n",
      "60/60 [==============================] - 0s 209us/step - loss: 0.3860 - accuracy: 0.8000 - val_loss: 1.5030 - val_accuracy: 0.6333\n",
      "Epoch 113/200\n",
      "60/60 [==============================] - 0s 280us/step - loss: 0.4339 - accuracy: 0.7667 - val_loss: 1.5048 - val_accuracy: 0.6333\n",
      "Epoch 114/200\n",
      "60/60 [==============================] - 0s 268us/step - loss: 0.3276 - accuracy: 0.8333 - val_loss: 1.5025 - val_accuracy: 0.6333\n",
      "Epoch 115/200\n",
      "60/60 [==============================] - 0s 239us/step - loss: 0.5320 - accuracy: 0.7667 - val_loss: 1.5064 - val_accuracy: 0.6333\n",
      "Epoch 116/200\n",
      "60/60 [==============================] - 0s 210us/step - loss: 0.3348 - accuracy: 0.8833 - val_loss: 1.4932 - val_accuracy: 0.6333\n",
      "Epoch 117/200\n",
      "60/60 [==============================] - 0s 163us/step - loss: 0.3097 - accuracy: 0.8500 - val_loss: 1.4869 - val_accuracy: 0.6333\n",
      "Epoch 118/200\n",
      "60/60 [==============================] - 0s 120us/step - loss: 0.3998 - accuracy: 0.7833 - val_loss: 1.4774 - val_accuracy: 0.6333\n",
      "Epoch 119/200\n",
      "60/60 [==============================] - 0s 232us/step - loss: 0.3380 - accuracy: 0.9167 - val_loss: 1.4655 - val_accuracy: 0.6333\n",
      "Epoch 120/200\n",
      "60/60 [==============================] - 0s 232us/step - loss: 0.4654 - accuracy: 0.7833 - val_loss: 1.4539 - val_accuracy: 0.6333\n",
      "Epoch 121/200\n",
      "60/60 [==============================] - 0s 203us/step - loss: 0.4592 - accuracy: 0.8000 - val_loss: 1.4417 - val_accuracy: 0.6333\n",
      "Epoch 122/200\n",
      "60/60 [==============================] - 0s 163us/step - loss: 0.3146 - accuracy: 0.8500 - val_loss: 1.4126 - val_accuracy: 0.6333\n",
      "Epoch 123/200\n",
      "60/60 [==============================] - 0s 153us/step - loss: 0.3187 - accuracy: 0.8333 - val_loss: 1.3811 - val_accuracy: 0.6333\n",
      "Epoch 124/200\n",
      "60/60 [==============================] - 0s 159us/step - loss: 0.3617 - accuracy: 0.8667 - val_loss: 1.3575 - val_accuracy: 0.6333\n",
      "Epoch 125/200\n",
      "60/60 [==============================] - 0s 152us/step - loss: 0.3288 - accuracy: 0.8667 - val_loss: 1.3406 - val_accuracy: 0.6333\n",
      "Epoch 126/200\n",
      "60/60 [==============================] - 0s 191us/step - loss: 0.3758 - accuracy: 0.8167 - val_loss: 1.3271 - val_accuracy: 0.6333\n",
      "Epoch 127/200\n",
      "60/60 [==============================] - 0s 129us/step - loss: 0.3405 - accuracy: 0.8667 - val_loss: 1.3058 - val_accuracy: 0.6333\n",
      "Epoch 128/200\n",
      "60/60 [==============================] - 0s 118us/step - loss: 0.3876 - accuracy: 0.8167 - val_loss: 1.3025 - val_accuracy: 0.6333\n",
      "Epoch 129/200\n",
      "60/60 [==============================] - 0s 152us/step - loss: 0.2708 - accuracy: 0.9333 - val_loss: 1.2938 - val_accuracy: 0.6333\n",
      "Epoch 130/200\n",
      "60/60 [==============================] - 0s 161us/step - loss: 0.4851 - accuracy: 0.8667 - val_loss: 1.2820 - val_accuracy: 0.6333\n",
      "Epoch 131/200\n",
      "60/60 [==============================] - 0s 211us/step - loss: 0.3750 - accuracy: 0.7833 - val_loss: 1.2765 - val_accuracy: 0.6333\n",
      "Epoch 132/200\n",
      "60/60 [==============================] - 0s 219us/step - loss: 0.3464 - accuracy: 0.8500 - val_loss: 1.2851 - val_accuracy: 0.6333\n",
      "Epoch 133/200\n",
      "60/60 [==============================] - 0s 146us/step - loss: 0.3836 - accuracy: 0.8500 - val_loss: 1.3005 - val_accuracy: 0.6333\n",
      "Epoch 134/200\n",
      "60/60 [==============================] - 0s 158us/step - loss: 0.3751 - accuracy: 0.8167 - val_loss: 1.3244 - val_accuracy: 0.6333\n",
      "Epoch 135/200\n",
      "60/60 [==============================] - 0s 186us/step - loss: 0.2825 - accuracy: 0.8833 - val_loss: 1.3427 - val_accuracy: 0.6333\n",
      "Epoch 136/200\n",
      "60/60 [==============================] - 0s 252us/step - loss: 0.3401 - accuracy: 0.7833 - val_loss: 1.3487 - val_accuracy: 0.6333\n",
      "Epoch 137/200\n",
      "60/60 [==============================] - 0s 240us/step - loss: 0.3043 - accuracy: 0.8667 - val_loss: 1.3479 - val_accuracy: 0.6333\n",
      "Epoch 138/200\n",
      "60/60 [==============================] - 0s 167us/step - loss: 0.3470 - accuracy: 0.8333 - val_loss: 1.3434 - val_accuracy: 0.6333\n",
      "Epoch 139/200\n",
      "60/60 [==============================] - 0s 295us/step - loss: 0.4746 - accuracy: 0.8167 - val_loss: 1.3410 - val_accuracy: 0.6333\n",
      "Epoch 140/200\n",
      "60/60 [==============================] - 0s 220us/step - loss: 0.3015 - accuracy: 0.8333 - val_loss: 1.3380 - val_accuracy: 0.6333\n",
      "Epoch 141/200\n",
      "60/60 [==============================] - 0s 164us/step - loss: 0.3066 - accuracy: 0.9000 - val_loss: 1.3354 - val_accuracy: 0.6333\n",
      "Epoch 142/200\n",
      "60/60 [==============================] - 0s 194us/step - loss: 0.4273 - accuracy: 0.7667 - val_loss: 1.3380 - val_accuracy: 0.6333\n",
      "Epoch 143/200\n",
      "60/60 [==============================] - 0s 246us/step - loss: 0.2879 - accuracy: 0.8667 - val_loss: 1.3378 - val_accuracy: 0.6333\n",
      "Epoch 144/200\n",
      "60/60 [==============================] - 0s 145us/step - loss: 0.2449 - accuracy: 0.9000 - val_loss: 1.3332 - val_accuracy: 0.6333\n",
      "Epoch 145/200\n",
      "60/60 [==============================] - 0s 154us/step - loss: 0.3258 - accuracy: 0.8000 - val_loss: 1.3171 - val_accuracy: 0.6333\n",
      "Epoch 146/200\n",
      "60/60 [==============================] - 0s 129us/step - loss: 0.2813 - accuracy: 0.8500 - val_loss: 1.3102 - val_accuracy: 0.6333\n",
      "Epoch 147/200\n",
      "60/60 [==============================] - 0s 145us/step - loss: 0.2979 - accuracy: 0.9000 - val_loss: 1.3124 - val_accuracy: 0.6333\n",
      "Epoch 148/200\n",
      "60/60 [==============================] - 0s 231us/step - loss: 0.3282 - accuracy: 0.8333 - val_loss: 1.3048 - val_accuracy: 0.6333\n",
      "Epoch 149/200\n",
      "60/60 [==============================] - 0s 179us/step - loss: 0.2290 - accuracy: 0.9333 - val_loss: 1.2903 - val_accuracy: 0.6333\n",
      "Epoch 150/200\n",
      "60/60 [==============================] - 0s 132us/step - loss: 0.2601 - accuracy: 0.9000 - val_loss: 1.2805 - val_accuracy: 0.6333\n",
      "Epoch 151/200\n",
      "60/60 [==============================] - 0s 251us/step - loss: 0.2552 - accuracy: 0.8833 - val_loss: 1.2709 - val_accuracy: 0.6333\n",
      "Epoch 152/200\n",
      "60/60 [==============================] - 0s 157us/step - loss: 0.2588 - accuracy: 0.8833 - val_loss: 1.2589 - val_accuracy: 0.6333\n",
      "Epoch 153/200\n",
      "60/60 [==============================] - 0s 183us/step - loss: 0.3529 - accuracy: 0.8167 - val_loss: 1.2076 - val_accuracy: 0.6333\n",
      "Epoch 154/200\n",
      "60/60 [==============================] - 0s 192us/step - loss: 0.2505 - accuracy: 0.8667 - val_loss: 1.1717 - val_accuracy: 0.6333\n",
      "Epoch 155/200\n",
      "60/60 [==============================] - 0s 130us/step - loss: 0.2750 - accuracy: 0.8833 - val_loss: 1.1362 - val_accuracy: 0.6333\n",
      "Epoch 156/200\n",
      "60/60 [==============================] - 0s 147us/step - loss: 0.3263 - accuracy: 0.8667 - val_loss: 1.1039 - val_accuracy: 0.6333\n",
      "Epoch 157/200\n",
      "60/60 [==============================] - 0s 167us/step - loss: 0.2680 - accuracy: 0.8833 - val_loss: 1.0813 - val_accuracy: 0.6333\n",
      "Epoch 158/200\n",
      "60/60 [==============================] - 0s 187us/step - loss: 0.3509 - accuracy: 0.8667 - val_loss: 1.0655 - val_accuracy: 0.6333\n",
      "Epoch 159/200\n",
      "60/60 [==============================] - 0s 173us/step - loss: 0.2499 - accuracy: 0.9167 - val_loss: 1.0539 - val_accuracy: 0.6333\n",
      "Epoch 160/200\n",
      "60/60 [==============================] - 0s 293us/step - loss: 0.2310 - accuracy: 0.9333 - val_loss: 1.0407 - val_accuracy: 0.6333\n",
      "Epoch 161/200\n",
      "60/60 [==============================] - 0s 204us/step - loss: 0.2821 - accuracy: 0.9000 - val_loss: 1.0333 - val_accuracy: 0.6333\n",
      "Epoch 162/200\n",
      "60/60 [==============================] - 0s 109us/step - loss: 0.2443 - accuracy: 0.8833 - val_loss: 1.0292 - val_accuracy: 0.6333\n",
      "Epoch 163/200\n",
      "60/60 [==============================] - 0s 136us/step - loss: 0.3070 - accuracy: 0.8167 - val_loss: 1.0290 - val_accuracy: 0.6333\n",
      "Epoch 164/200\n",
      "60/60 [==============================] - 0s 166us/step - loss: 0.3250 - accuracy: 0.8667 - val_loss: 1.0274 - val_accuracy: 0.6333\n",
      "Epoch 165/200\n",
      "60/60 [==============================] - 0s 147us/step - loss: 0.2348 - accuracy: 0.8667 - val_loss: 1.0314 - val_accuracy: 0.6333\n",
      "Epoch 166/200\n",
      "60/60 [==============================] - 0s 191us/step - loss: 0.2528 - accuracy: 0.9000 - val_loss: 1.0351 - val_accuracy: 0.6333\n",
      "Epoch 167/200\n",
      "60/60 [==============================] - 0s 140us/step - loss: 0.3390 - accuracy: 0.8500 - val_loss: 1.0377 - val_accuracy: 0.6667\n",
      "Epoch 168/200\n",
      "60/60 [==============================] - 0s 164us/step - loss: 0.2601 - accuracy: 0.8667 - val_loss: 1.0387 - val_accuracy: 0.6667\n",
      "Epoch 169/200\n",
      "60/60 [==============================] - 0s 134us/step - loss: 0.2834 - accuracy: 0.8833 - val_loss: 1.0521 - val_accuracy: 0.6667\n",
      "Epoch 170/200\n",
      "60/60 [==============================] - 0s 225us/step - loss: 0.2928 - accuracy: 0.8667 - val_loss: 1.0650 - val_accuracy: 0.6667\n",
      "Epoch 171/200\n",
      "60/60 [==============================] - 0s 212us/step - loss: 0.2160 - accuracy: 0.9000 - val_loss: 1.0775 - val_accuracy: 0.6667\n",
      "Epoch 172/200\n",
      "60/60 [==============================] - 0s 478us/step - loss: 0.2378 - accuracy: 0.9000 - val_loss: 1.0810 - val_accuracy: 0.7000\n",
      "Epoch 173/200\n",
      "60/60 [==============================] - 0s 281us/step - loss: 0.3060 - accuracy: 0.8500 - val_loss: 1.0775 - val_accuracy: 0.7000\n",
      "Epoch 174/200\n",
      "60/60 [==============================] - 0s 164us/step - loss: 0.3187 - accuracy: 0.8833 - val_loss: 1.0723 - val_accuracy: 0.7000\n",
      "Epoch 175/200\n",
      "60/60 [==============================] - 0s 158us/step - loss: 0.3098 - accuracy: 0.8667 - val_loss: 1.0629 - val_accuracy: 0.7000\n",
      "Epoch 176/200\n",
      "60/60 [==============================] - 0s 274us/step - loss: 0.1578 - accuracy: 0.9500 - val_loss: 1.0540 - val_accuracy: 0.7000\n",
      "Epoch 177/200\n",
      "60/60 [==============================] - 0s 270us/step - loss: 0.2663 - accuracy: 0.8833 - val_loss: 1.0543 - val_accuracy: 0.7000\n",
      "Epoch 178/200\n",
      "60/60 [==============================] - 0s 157us/step - loss: 0.3506 - accuracy: 0.8333 - val_loss: 1.0695 - val_accuracy: 0.7000\n",
      "Epoch 179/200\n",
      "60/60 [==============================] - 0s 167us/step - loss: 0.2686 - accuracy: 0.9000 - val_loss: 1.0948 - val_accuracy: 0.6667\n",
      "Epoch 180/200\n",
      "60/60 [==============================] - 0s 219us/step - loss: 0.2977 - accuracy: 0.8667 - val_loss: 1.1230 - val_accuracy: 0.6667\n",
      "Epoch 181/200\n",
      "60/60 [==============================] - 0s 190us/step - loss: 0.2906 - accuracy: 0.9167 - val_loss: 1.1643 - val_accuracy: 0.6667\n",
      "Epoch 182/200\n",
      "60/60 [==============================] - 0s 148us/step - loss: 0.2743 - accuracy: 0.9000 - val_loss: 1.1932 - val_accuracy: 0.6667\n",
      "Epoch 183/200\n",
      "60/60 [==============================] - 0s 143us/step - loss: 0.2140 - accuracy: 0.9000 - val_loss: 1.2199 - val_accuracy: 0.6667\n",
      "Epoch 184/200\n",
      "60/60 [==============================] - 0s 289us/step - loss: 0.2859 - accuracy: 0.8333 - val_loss: 1.2464 - val_accuracy: 0.6667\n",
      "Epoch 185/200\n",
      "60/60 [==============================] - 0s 124us/step - loss: 0.2885 - accuracy: 0.8500 - val_loss: 1.2589 - val_accuracy: 0.6667\n",
      "Epoch 186/200\n",
      "60/60 [==============================] - 0s 179us/step - loss: 0.2254 - accuracy: 0.9167 - val_loss: 1.2725 - val_accuracy: 0.6667\n",
      "Epoch 187/200\n",
      "60/60 [==============================] - 0s 153us/step - loss: 0.2273 - accuracy: 0.9000 - val_loss: 1.3040 - val_accuracy: 0.6333\n",
      "Epoch 188/200\n",
      "60/60 [==============================] - 0s 146us/step - loss: 0.2493 - accuracy: 0.8833 - val_loss: 1.3239 - val_accuracy: 0.6333\n",
      "Epoch 189/200\n",
      "60/60 [==============================] - 0s 184us/step - loss: 0.1900 - accuracy: 0.9167 - val_loss: 1.3466 - val_accuracy: 0.6333\n",
      "Epoch 190/200\n",
      "60/60 [==============================] - 0s 220us/step - loss: 0.2620 - accuracy: 0.9000 - val_loss: 1.3798 - val_accuracy: 0.6333\n",
      "Epoch 191/200\n",
      "60/60 [==============================] - 0s 131us/step - loss: 0.5141 - accuracy: 0.8167 - val_loss: 1.3997 - val_accuracy: 0.6333\n",
      "Epoch 192/200\n",
      "60/60 [==============================] - 0s 166us/step - loss: 0.2409 - accuracy: 0.9167 - val_loss: 1.4141 - val_accuracy: 0.6333\n",
      "Epoch 193/200\n",
      "60/60 [==============================] - 0s 178us/step - loss: 0.2257 - accuracy: 0.9167 - val_loss: 1.4257 - val_accuracy: 0.6333\n",
      "Epoch 194/200\n",
      "60/60 [==============================] - 0s 175us/step - loss: 0.2851 - accuracy: 0.8833 - val_loss: 1.4438 - val_accuracy: 0.6333\n",
      "Epoch 195/200\n",
      "60/60 [==============================] - 0s 242us/step - loss: 0.1889 - accuracy: 0.9167 - val_loss: 1.4647 - val_accuracy: 0.6333\n",
      "Epoch 196/200\n",
      "60/60 [==============================] - 0s 144us/step - loss: 0.2028 - accuracy: 0.9500 - val_loss: 1.4731 - val_accuracy: 0.6333\n",
      "Epoch 197/200\n",
      "60/60 [==============================] - 0s 225us/step - loss: 0.2392 - accuracy: 0.9000 - val_loss: 1.4689 - val_accuracy: 0.6333\n",
      "Epoch 198/200\n",
      "60/60 [==============================] - 0s 151us/step - loss: 0.2555 - accuracy: 0.8833 - val_loss: 1.4666 - val_accuracy: 0.6333\n",
      "Epoch 199/200\n",
      "60/60 [==============================] - 0s 163us/step - loss: 0.1694 - accuracy: 0.9500 - val_loss: 1.4359 - val_accuracy: 0.6333\n",
      "Epoch 200/200\n",
      "60/60 [==============================] - 0s 432us/step - loss: 0.2329 - accuracy: 0.9167 - val_loss: 1.4179 - val_accuracy: 0.6333\n"
     ]
    }
   ],
   "source": [
    "model.summary()\n",
    "history=model.fit(x_train,y_train,batch_size=32,epochs=200,validation_data=(x_test,y_test),verbose=1)"
   ]
  },
  {
   "cell_type": "code",
   "execution_count": null,
   "metadata": {},
   "outputs": [],
   "source": [
    "y=y.reshape(-1,1)"
   ]
  },
  {
   "cell_type": "code",
   "execution_count": null,
   "metadata": {},
   "outputs": [],
   "source": [
    "y.shape"
   ]
  },
  {
   "cell_type": "code",
   "execution_count": 62,
   "metadata": {},
   "outputs": [
    {
     "name": "stdout",
     "output_type": "stream",
     "text": [
      "[0.4036832849184672, 0.7833333611488342]\n",
      "[1.4178613424301147, 0.6333333253860474]\n"
     ]
    }
   ],
   "source": [
    "score_train = model.evaluate(x_train,y_train,verbose=0)\n",
    "score_test = model.evaluate(x_test,y_test,verbose=0)\n",
    "print(score_train)\n",
    "print(score_test)"
   ]
  },
  {
   "cell_type": "code",
   "execution_count": 63,
   "metadata": {},
   "outputs": [
    {
     "data": {
      "text/plain": [
       "<matplotlib.legend.Legend at 0x1c3c4a8290>"
      ]
     },
     "execution_count": 63,
     "metadata": {},
     "output_type": "execute_result"
    },
    {
     "data": {
      "image/png": "[encoded data removed]",
      "text/plain": [
       "<Figure size 432x288 with 1 Axes>"
      ]
     },
     "metadata": {
      "needs_background": "light"
     },
     "output_type": "display_data"
    }
   ],
   "source": [
    "loss = history.history['loss']\n",
    "val_loss = history.history['val_loss']\n",
    "x = np.arange(1, 201)\n",
    "#plt.subplot(211)\n",
    "plt.plot(x, loss, 'r--', label = 'loss')\n",
    "plt.plot(x, val_loss, 'b--', label= 'validation_loss')\n",
    "#plt.title('Impact of Batch normalization')\n",
    "plt.xlabel('Epoch')\n",
    "plt.ylabel('loss')\n",
    "plt.legend()"
   ]
  },
  {
   "cell_type": "code",
   "execution_count": 64,
   "metadata": {},
   "outputs": [],
   "source": [
    "y_train = y_train.ravel()"
   ]
  },
  {
   "cell_type": "code",
   "execution_count": 65,
   "metadata": {},
   "outputs": [],
   "source": [
    "from sklearn.svm import LinearSVC\n",
    "clf = LinearSVC(penalty='l2', loss='squared_hinge', dual=True, tol=0.0001, C=0.0001, multi_class='ovr', \n",
    "          fit_intercept=True, intercept_scaling=1, class_weight=None, verbose=0, \n",
    "          random_state=32, max_iter=2500)\n",
    "#clf.fit(x_train,y_train)"
   ]
  },
  {
   "cell_type": "code",
   "execution_count": 66,
   "metadata": {},
   "outputs": [],
   "source": [
    "# clf.score(x_train,y_train)"
   ]
  },
  {
   "cell_type": "code",
   "execution_count": 67,
   "metadata": {},
   "outputs": [],
   "source": [
    "#clf.score(x_test,y_test)"
   ]
  },
  {
   "cell_type": "code",
   "execution_count": 68,
   "metadata": {},
   "outputs": [],
   "source": [
    "p=df_interference['mfcc'][0]"
   ]
  },
  {
   "cell_type": "code",
   "execution_count": 69,
   "metadata": {},
   "outputs": [
    {
     "ename": "ValueError",
     "evalue": "color kwarg must have one color per data set. 3 data sets and 1 colors were provided",
     "output_type": "error",
     "traceback": [
      "\u001b[0;31m---------------------------------------------------------------------------\u001b[0m",
      "\u001b[0;31mValueError\u001b[0m                                Traceback (most recent call last)",
      "\u001b[0;32m<ipython-input-69-2f7203f4f203>\u001b[0m in \u001b[0;36m<module>\u001b[0;34m\u001b[0m\n\u001b[1;32m      2\u001b[0m \u001b[0;34m\u001b[0m\u001b[0m\n\u001b[1;32m      3\u001b[0m \u001b[0;31m# An \"interface\" to matplotlib.axes.Axes.hist() method\u001b[0m\u001b[0;34m\u001b[0m\u001b[0;34m\u001b[0m\u001b[0;34m\u001b[0m\u001b[0m\n\u001b[0;32m----> 4\u001b[0;31m n, bins, patches = plt.hist(x=p, bins='auto', color='#CB505B',\n\u001b[0m\u001b[1;32m      5\u001b[0m                             )\n\u001b[1;32m      6\u001b[0m \u001b[0mx\u001b[0m \u001b[0;34m=\u001b[0m \u001b[0mnp\u001b[0m\u001b[0;34m.\u001b[0m\u001b[0marange\u001b[0m\u001b[0;34m(\u001b[0m\u001b[0;36m1\u001b[0m\u001b[0;34m,\u001b[0m \u001b[0;36m201\u001b[0m\u001b[0;34m)\u001b[0m\u001b[0;34m\u001b[0m\u001b[0;34m\u001b[0m\u001b[0m\n",
      "\u001b[0;32m/opt/anaconda3/lib/python3.7/site-packages/matplotlib/pyplot.py\u001b[0m in \u001b[0;36mhist\u001b[0;34m(x, bins, range, density, weights, cumulative, bottom, histtype, align, orientation, rwidth, log, color, label, stacked, normed, data, **kwargs)\u001b[0m\n\u001b[1;32m   2640\u001b[0m         \u001b[0malign\u001b[0m\u001b[0;34m=\u001b[0m\u001b[0malign\u001b[0m\u001b[0;34m,\u001b[0m \u001b[0morientation\u001b[0m\u001b[0;34m=\u001b[0m\u001b[0morientation\u001b[0m\u001b[0;34m,\u001b[0m \u001b[0mrwidth\u001b[0m\u001b[0;34m=\u001b[0m\u001b[0mrwidth\u001b[0m\u001b[0;34m,\u001b[0m \u001b[0mlog\u001b[0m\u001b[0;34m=\u001b[0m\u001b[0mlog\u001b[0m\u001b[0;34m,\u001b[0m\u001b[0;34m\u001b[0m\u001b[0;34m\u001b[0m\u001b[0m\n\u001b[1;32m   2641\u001b[0m         \u001b[0mcolor\u001b[0m\u001b[0;34m=\u001b[0m\u001b[0mcolor\u001b[0m\u001b[0;34m,\u001b[0m \u001b[0mlabel\u001b[0m\u001b[0;34m=\u001b[0m\u001b[0mlabel\u001b[0m\u001b[0;34m,\u001b[0m \u001b[0mstacked\u001b[0m\u001b[0;34m=\u001b[0m\u001b[0mstacked\u001b[0m\u001b[0;34m,\u001b[0m \u001b[0mnormed\u001b[0m\u001b[0;34m=\u001b[0m\u001b[0mnormed\u001b[0m\u001b[0;34m,\u001b[0m\u001b[0;34m\u001b[0m\u001b[0;34m\u001b[0m\u001b[0m\n\u001b[0;32m-> 2642\u001b[0;31m         **({\"data\": data} if data is not None else {}), **kwargs)\n\u001b[0m\u001b[1;32m   2643\u001b[0m \u001b[0;34m\u001b[0m\u001b[0m\n\u001b[1;32m   2644\u001b[0m \u001b[0;34m\u001b[0m\u001b[0m\n",
      "\u001b[0;32m/opt/anaconda3/lib/python3.7/site-packages/matplotlib/__init__.py\u001b[0m in \u001b[0;36minner\u001b[0;34m(ax, data, *args, **kwargs)\u001b[0m\n\u001b[1;32m   1599\u001b[0m     \u001b[0;32mdef\u001b[0m \u001b[0minner\u001b[0m\u001b[0;34m(\u001b[0m\u001b[0max\u001b[0m\u001b[0;34m,\u001b[0m \u001b[0;34m*\u001b[0m\u001b[0margs\u001b[0m\u001b[0;34m,\u001b[0m \u001b[0mdata\u001b[0m\u001b[0;34m=\u001b[0m\u001b[0;32mNone\u001b[0m\u001b[0;34m,\u001b[0m \u001b[0;34m**\u001b[0m\u001b[0mkwargs\u001b[0m\u001b[0;34m)\u001b[0m\u001b[0;34m:\u001b[0m\u001b[0;34m\u001b[0m\u001b[0;34m\u001b[0m\u001b[0m\n\u001b[1;32m   1600\u001b[0m         \u001b[0;32mif\u001b[0m \u001b[0mdata\u001b[0m \u001b[0;32mis\u001b[0m \u001b[0;32mNone\u001b[0m\u001b[0;34m:\u001b[0m\u001b[0;34m\u001b[0m\u001b[0;34m\u001b[0m\u001b[0m\n\u001b[0;32m-> 1601\u001b[0;31m             \u001b[0;32mreturn\u001b[0m \u001b[0mfunc\u001b[0m\u001b[0;34m(\u001b[0m\u001b[0max\u001b[0m\u001b[0;34m,\u001b[0m \u001b[0;34m*\u001b[0m\u001b[0mmap\u001b[0m\u001b[0;34m(\u001b[0m\u001b[0msanitize_sequence\u001b[0m\u001b[0;34m,\u001b[0m \u001b[0margs\u001b[0m\u001b[0;34m)\u001b[0m\u001b[0;34m,\u001b[0m \u001b[0;34m**\u001b[0m\u001b[0mkwargs\u001b[0m\u001b[0;34m)\u001b[0m\u001b[0;34m\u001b[0m\u001b[0;34m\u001b[0m\u001b[0m\n\u001b[0m\u001b[1;32m   1602\u001b[0m \u001b[0;34m\u001b[0m\u001b[0m\n\u001b[1;32m   1603\u001b[0m         \u001b[0mbound\u001b[0m \u001b[0;34m=\u001b[0m \u001b[0mnew_sig\u001b[0m\u001b[0;34m.\u001b[0m\u001b[0mbind\u001b[0m\u001b[0;34m(\u001b[0m\u001b[0max\u001b[0m\u001b[0;34m,\u001b[0m \u001b[0;34m*\u001b[0m\u001b[0margs\u001b[0m\u001b[0;34m,\u001b[0m \u001b[0;34m**\u001b[0m\u001b[0mkwargs\u001b[0m\u001b[0;34m)\u001b[0m\u001b[0;34m\u001b[0m\u001b[0;34m\u001b[0m\u001b[0m\n",
      "\u001b[0;32m/opt/anaconda3/lib/python3.7/site-packages/matplotlib/axes/_axes.py\u001b[0m in \u001b[0;36mhist\u001b[0;34m(self, x, bins, range, density, weights, cumulative, bottom, histtype, align, orientation, rwidth, log, color, label, stacked, normed, **kwargs)\u001b[0m\n\u001b[1;32m   6719\u001b[0m                     \u001b[0;34m\"color kwarg must have one color per data set. %d data \"\u001b[0m\u001b[0;34m\u001b[0m\u001b[0;34m\u001b[0m\u001b[0m\n\u001b[1;32m   6720\u001b[0m                     \"sets and %d colors were provided\" % (nx, len(color)))\n\u001b[0;32m-> 6721\u001b[0;31m                 \u001b[0;32mraise\u001b[0m \u001b[0mValueError\u001b[0m\u001b[0;34m(\u001b[0m\u001b[0merror_message\u001b[0m\u001b[0;34m)\u001b[0m\u001b[0;34m\u001b[0m\u001b[0;34m\u001b[0m\u001b[0m\n\u001b[0m\u001b[1;32m   6722\u001b[0m \u001b[0;34m\u001b[0m\u001b[0m\n\u001b[1;32m   6723\u001b[0m         \u001b[0mhist_kwargs\u001b[0m \u001b[0;34m=\u001b[0m \u001b[0mdict\u001b[0m\u001b[0;34m(\u001b[0m\u001b[0;34m)\u001b[0m\u001b[0;34m\u001b[0m\u001b[0;34m\u001b[0m\u001b[0m\n",
      "\u001b[0;31mValueError\u001b[0m: color kwarg must have one color per data set. 3 data sets and 1 colors were provided"
     ]
    },
    {
     "data": {
      "image/png": "[encoded data removed]",
      "text/plain": [
       "<Figure size 432x288 with 1 Axes>"
      ]
     },
     "metadata": {
      "needs_background": "light"
     },
     "output_type": "display_data"
    }
   ],
   "source": [
    "import matplotlib.pyplot as plt\n",
    "\n",
    "# An \"interface\" to matplotlib.axes.Axes.hist() method\n",
    "n, bins, patches = plt.hist(x=p, bins='auto', color='#CB505B',\n",
    "                            )\n",
    "x = np.arange(1, 201)\n",
    "plt.grid(axis='y', alpha=0.75)\n",
    "plt.xlabel('Value')\n",
    "plt.ylabel('Frequency')\n",
    "plt.title('My Very Own Histogram')\n",
    "#plt.text(23, 45, r'$\\mu=15, b=3$')\n",
    "# maxfreq = n.max()\n",
    "# # Set a clean upper y-axis limit.\n",
    "# plt.ylim(ymax=np.ceil(maxfreq / 10) * 10 if maxfreq % 10 else maxfreq + 10)"
   ]
  },
  {
   "cell_type": "code",
   "execution_count": null,
   "metadata": {},
   "outputs": [],
   "source": [
    "plt.hist(p)\n",
    "plt.show()"
   ]
  },
  {
   "cell_type": "markdown",
   "metadata": {},
   "source": [
    "# Testing Average"
   ]
  },
  {
   "cell_type": "code",
   "execution_count": 70,
   "metadata": {},
   "outputs": [
    {
     "name": "stderr",
     "output_type": "stream",
     "text": [
      "/opt/anaconda3/lib/python3.7/site-packages/sklearn/neural_network/multilayer_perceptron.py:566: ConvergenceWarning: Stochastic Optimizer: Maximum iterations (2500) reached and the optimization hasn't converged yet.\n",
      "  % self.max_iter, ConvergenceWarning)\n",
      "/opt/anaconda3/lib/python3.7/site-packages/sklearn/neural_network/multilayer_perceptron.py:566: ConvergenceWarning: Stochastic Optimizer: Maximum iterations (2500) reached and the optimization hasn't converged yet.\n",
      "  % self.max_iter, ConvergenceWarning)\n",
      "/opt/anaconda3/lib/python3.7/site-packages/sklearn/neural_network/multilayer_perceptron.py:566: ConvergenceWarning: Stochastic Optimizer: Maximum iterations (2500) reached and the optimization hasn't converged yet.\n",
      "  % self.max_iter, ConvergenceWarning)\n",
      "/opt/anaconda3/lib/python3.7/site-packages/sklearn/neural_network/multilayer_perceptron.py:566: ConvergenceWarning: Stochastic Optimizer: Maximum iterations (2500) reached and the optimization hasn't converged yet.\n",
      "  % self.max_iter, ConvergenceWarning)\n"
     ]
    }
   ],
   "source": [
    "from sklearn.model_selection import train_test_split\n",
    "from sklearn.neural_network import MLPClassifier\n",
    "X = np.array(df_interference.mfcc_new.tolist())\n",
    "y = np.array(df_interference.interference.tolist())\n",
    "y = y.ravel()\n",
    "train_score = []\n",
    "test_score = []\n",
    "y = y.ravel()\n",
    "for i in range(50):\n",
    "    x_train,x_test,y_train,y_test = train_test_split(X,y,test_size=0.33,random_state=23)\n",
    "    clf = MLPClassifier(hidden_layer_sizes=(8,5,3,), activation='relu', solver='adam', alpha=0.001, batch_size='auto', \n",
    "                   learning_rate='constant', max_iter=2500, verbose = False, random_state=i)\n",
    "\n",
    "    clf.fit(x_train,y_train)\n",
    "    train_score.append(clf.score(x_train,y_train))\n",
    "    test_score.append(clf.score(x_test,y_test))"
   ]
  },
  {
   "cell_type": "code",
   "execution_count": 71,
   "metadata": {},
   "outputs": [],
   "source": [
    "t1=train_score"
   ]
  },
  {
   "cell_type": "code",
   "execution_count": 72,
   "metadata": {},
   "outputs": [],
   "source": [
    "t2=test_score"
   ]
  },
  {
   "cell_type": "code",
   "execution_count": 73,
   "metadata": {},
   "outputs": [
    {
     "data": {
      "text/plain": [
       "0.8356666666666664"
      ]
     },
     "execution_count": 73,
     "metadata": {},
     "output_type": "execute_result"
    }
   ],
   "source": [
    "t1 = train_score\n",
    "sum(t1)/len(t1)"
   ]
  },
  {
   "cell_type": "code",
   "execution_count": 74,
   "metadata": {},
   "outputs": [],
   "source": [
    "t2 = test_score"
   ]
  },
  {
   "cell_type": "code",
   "execution_count": 75,
   "metadata": {},
   "outputs": [
    {
     "data": {
      "text/plain": [
       "0.6213333333333331"
      ]
     },
     "execution_count": 75,
     "metadata": {},
     "output_type": "execute_result"
    }
   ],
   "source": [
    "sum(t2)/len(t2)"
   ]
  },
  {
   "cell_type": "code",
   "execution_count": 76,
   "metadata": {},
   "outputs": [
    {
     "data": {
      "image/png": "[encoded data removed]",
      "text/plain": [
       "<Figure size 432x288 with 1 Axes>"
      ]
     },
     "metadata": {
      "needs_background": "light"
     },
     "output_type": "display_data"
    }
   ],
   "source": [
    "import matplotlib.pyplot as plt\n",
    "#x_axis = np.arange(0,1,0.0001)\n",
    "plt.plot(train_score,'r--')\n",
    "plt.plot(test_score,'g--')\n",
    "plt.show()"
   ]
  },
  {
   "cell_type": "code",
   "execution_count": 77,
   "metadata": {},
   "outputs": [
    {
     "data": {
      "image/png": "[encoded data removed]",
      "text/plain": [
       "<Figure size 432x288 with 1 Axes>"
      ]
     },
     "metadata": {
      "needs_background": "light"
     },
     "output_type": "display_data"
    },
    {
     "data": {
      "image/png": "[encoded data removed]",
      "text/plain": [
       "<Figure size 432x288 with 1 Axes>"
      ]
     },
     "metadata": {
      "needs_background": "light"
     },
     "output_type": "display_data"
    },
    {
     "data": {
      "image/png": "[encoded data removed]",
      "text/plain": [
       "<Figure size 432x288 with 1 Axes>"
      ]
     },
     "metadata": {
      "needs_background": "light"
     },
     "output_type": "display_data"
    },
    {
     "name": "stdout",
     "output_type": "stream",
     "text": [
      "[-154.30599975585938, 211.83360290527344, -94.42669677734375, 52.44169616699219, 18.215538024902344, -12.914953231811523, 2.4812896251678467, -0.3009074032306671, 11.119181632995605, -17.985082626342773, 9.266644477844238, 5.650914669036865, -15.011765480041504, 11.385689735412598, -2.974463939666748, -2.315664052963257, 0.9426542520523071, -3.8375823497772217, 1.9940097332000732, -7.498089790344238, 1.0339514017105103, -2.4632959365844727, -5.243059158325195, 3.05114483833313, -6.408387660980225, -0.09232038259506226, -0.2538760006427765, -3.7224466800689697, 0.8802727460861206, -2.957141876220703, 0.6633010506629944, -1.3356643915176392, -0.6237019300460815, 0.8431212306022644, -3.2735249996185303, 1.8552817106246948, -1.9424433708190918, -2.3719289302825928, 0.900248646736145, -3.1506545543670654]\n",
      "[-118.8438720703125, 238.1800994873047, -121.46134948730469, 60.54167175292969, 2.077258348464966, -23.559228897094727, 15.94116497039795, -11.055756568908691, 9.759102821350098, -10.133841514587402, 3.642496347427368, 6.698146820068359, -13.429329872131348, 10.24189281463623, -4.658285617828369, -3.020944118499756, 4.0796685218811035, -3.813063144683838, 6.482771396636963, -3.547891139984131, 1.0468918085098267, 1.1944196224212646, -5.218039035797119, 4.338674068450928, -4.411526679992676, -0.9004167318344116, 1.72987961769104, -2.954834222793579, 1.6460291147232056, -3.2511439323425293, 0.25931262969970703, -0.7060124278068542, -3.035412073135376, 1.3142226934432983, -3.7156982421875, -0.2654268145561218, -0.6778178215026855, -1.811227798461914, 3.2110464572906494, 0.09859506040811539]\n",
      "[array([-1.46738388e+02,  2.15654999e+02, -9.40301590e+01,  5.53709908e+01,\n",
      "        1.29393616e+01, -1.00580015e+01,  1.16331997e+01, -4.55173683e+00,\n",
      "        1.06610422e+01, -1.19135532e+01,  6.42366886e+00,  8.15088844e+00,\n",
      "       -7.55037212e+00,  1.18341084e+01, -3.05867243e+00, -2.85280108e-01,\n",
      "        3.05973482e+00, -1.27054334e+00,  6.30854940e+00, -3.67900872e+00,\n",
      "        4.12859106e+00,  1.11788595e+00, -3.44885039e+00,  5.24600935e+00,\n",
      "       -3.61665916e+00,  2.13238049e+00,  3.74723291e+00,  2.17038679e+00,\n",
      "        6.95380878e+00,  1.52167118e+00,  4.44779921e+00,  1.94775009e+00,\n",
      "        1.94206572e+00,  5.32612944e+00,  5.56484833e-02,  2.84231043e+00,\n",
      "        4.24959242e-01, -6.08489402e-02,  2.63162112e+00, -7.36946821e-01],\n",
      "      dtype=float32), array([-9.3586464e+00,  1.7517760e+02, -6.9041298e+01,  3.5302746e+01,\n",
      "        9.7002077e+00, -8.3130627e+00,  3.2241199e+00,  7.5892401e-01,\n",
      "        3.3979268e+00, -1.4288596e+01, -3.9280620e+00,  3.9889786e-01,\n",
      "       -1.3409381e+01,  3.2827404e+00, -1.4764040e+00, -5.2537260e+00,\n",
      "        1.7182173e-01, -4.1328321e+00, -9.5662433e-01, -2.7955027e+00,\n",
      "        7.2802466e-01,  2.0536261e+00, -2.5385575e+00,  3.0108495e+00,\n",
      "        3.8657135e-01, -3.6181772e+00,  1.9688454e+00,  3.8928479e-02,\n",
      "        5.9510607e-01, -3.1864381e-01, -1.5857905e+00, -1.3452356e+00,\n",
      "       -3.8818262e+00, -1.4491938e+00, -5.2446544e-01, -1.1207755e+00,\n",
      "        1.3377483e+00, -7.9701000e-01, -9.4567823e-01, -1.0666003e+00],\n",
      "      dtype=float32), array([-2.2215489e+02,  1.8571599e+02, -8.5348732e+01,  4.8832352e+01,\n",
      "        1.3539582e+00, -4.2971101e+00, -1.9650681e+00, -1.0581528e+01,\n",
      "        1.1336403e+01, -2.4043146e+01,  5.0848722e+00,  1.6072110e+00,\n",
      "       -1.6177408e+01,  7.6847153e+00, -8.6758175e+00, -1.8636640e+00,\n",
      "       -2.2289708e+00, -5.5635524e+00, -1.8641319e-02, -9.5494938e+00,\n",
      "        1.1853571e+00, -5.4311004e+00, -4.3169866e+00,  2.3880200e+00,\n",
      "       -7.2001224e+00,  5.6977361e-01, -2.4408116e+00, -2.1743889e+00,\n",
      "        9.7655463e-01, -2.4566784e+00,  1.4311746e+00, -3.1055195e+00,\n",
      "       -7.9393971e-01, -1.0858768e+00, -3.5756643e+00,  7.3084557e-01,\n",
      "       -2.1863163e+00,  4.3941283e-01,  1.9740765e-01, -1.0609419e+00],\n",
      "      dtype=float32)]\n"
     ]
    }
   ],
   "source": [
    "\n",
    "plt.plot(np.array(df_interference['mfcc_new'][50]).tolist())\n",
    "plt.title('For I = 5')\n",
    "plt.show()\n",
    "\n",
    "plt.plot(np.array(df_interference['mfcc_new'][30]).tolist())\n",
    "plt.title('For I = 4')\n",
    "plt.show()\n",
    "\n",
    "plt.plot(np.array(df_interference['mfcc_new'][10]).tolist())\n",
    "plt.title('For I = 3')\n",
    "plt.show()\n",
    "print(np.array(df_interference['mfcc_new'][50]).tolist())\n",
    "print(np.array(df_interference['mfcc_new'][30]).tolist())\n",
    "print(np.array(df_interference['mfcc_new'][10]).tolist())"
   ]
  },
  {
   "cell_type": "code",
   "execution_count": 78,
   "metadata": {},
   "outputs": [
    {
     "data": {
      "text/plain": [
       "23    [-146.02818, 207.76396, -73.74846, 39.557774, ...\n",
       "23    [-135.65305, 219.17386, -102.62439, 46.574932,...\n",
       "Name: mfcc, dtype: object"
      ]
     },
     "execution_count": 78,
     "metadata": {},
     "output_type": "execute_result"
    }
   ],
   "source": [
    "df_interference['mfcc'][23]"
   ]
  },
  {
   "cell_type": "code",
   "execution_count": 79,
   "metadata": {},
   "outputs": [
    {
     "data": {
      "text/plain": [
       "(3,)"
      ]
     },
     "execution_count": 79,
     "metadata": {},
     "output_type": "execute_result"
    }
   ],
   "source": [
    "df_interference.loc[[0],'mfcc'].shape"
   ]
  },
  {
   "cell_type": "code",
   "execution_count": 80,
   "metadata": {},
   "outputs": [
    {
     "name": "stdout",
     "output_type": "stream",
     "text": [
      "/Users/sanjeevkumar/Desktop/TWR/DATA Samples/I/I = 4/A19DL_09610_1617_04_10_2019.MP3\n",
      "/Users/sanjeevkumar/Desktop/TWR/DATA Samples/I/I = 4/A19DL_09610_1602_04_10_2019.MP3\n",
      "/Users/sanjeevkumar/Desktop/TWR/DATA Samples/I/I = 4/A19DL_09610_1612_07_10_2019.MP3\n",
      "/Users/sanjeevkumar/Desktop/TWR/DATA Samples/I/I = 4/A19DL_09610_1607_07_10_2019.MP3\n",
      "/Users/sanjeevkumar/Desktop/TWR/DATA Samples/I/I = 4/A19DL_09610_1607_04_10_2019.MP3\n",
      "/Users/sanjeevkumar/Desktop/TWR/DATA Samples/I/I = 4/A19DL_09610_1612_04_10_2019.MP3\n",
      "/Users/sanjeevkumar/Desktop/TWR/DATA Samples/I/I = 4/A19DL_09610_1602_07_10_2019.MP3\n",
      "/Users/sanjeevkumar/Desktop/TWR/DATA Samples/I/I = 4/A19DL_09610_1617_07_10_2019.MP3\n",
      "/Users/sanjeevkumar/Desktop/TWR/DATA Samples/I/I = 4/A19DL_09610_1627_04_10_2019.MP3\n",
      "/Users/sanjeevkumar/Desktop/TWR/DATA Samples/I/I = 4/A19DL_09610_1622_07_10_2019.MP3\n",
      "/Users/sanjeevkumar/Desktop/TWR/DATA Samples/I/I = 4/A19DL_09610_1622_04_10_2019.MP3\n",
      "/Users/sanjeevkumar/Desktop/TWR/DATA Samples/I/I = 4/A19DL_09610_1627_07_10_2019.MP3\n"
     ]
    }
   ],
   "source": [
    "for i in range(len(df_i4)):\n",
    "    print(df_i4['path'][i])"
   ]
  },
  {
   "cell_type": "code",
   "execution_count": 81,
   "metadata": {},
   "outputs": [
    {
     "data": {
      "text/plain": [
       "'/Users/sanjeevkumar/Desktop/TWR/DATA Samples/I/I = 4/A19DL_09610_1617_04_10_2019.MP3'"
      ]
     },
     "execution_count": 81,
     "metadata": {},
     "output_type": "execute_result"
    }
   ],
   "source": [
    "df_i4['path'][0]"
   ]
  },
  {
   "cell_type": "code",
   "execution_count": 82,
   "metadata": {},
   "outputs": [
    {
     "name": "stderr",
     "output_type": "stream",
     "text": [
      "/opt/anaconda3/lib/python3.7/site-packages/librosa/core/audio.py:146: UserWarning: PySoundFile failed. Trying audioread instead.\n",
      "  warnings.warn('PySoundFile failed. Trying audioread instead.')\n",
      "/opt/anaconda3/lib/python3.7/site-packages/librosa/core/audio.py:146: UserWarning: PySoundFile failed. Trying audioread instead.\n",
      "  warnings.warn('PySoundFile failed. Trying audioread instead.')\n",
      "/opt/anaconda3/lib/python3.7/site-packages/librosa/core/audio.py:146: UserWarning: PySoundFile failed. Trying audioread instead.\n",
      "  warnings.warn('PySoundFile failed. Trying audioread instead.')\n",
      "/opt/anaconda3/lib/python3.7/site-packages/librosa/core/audio.py:146: UserWarning: PySoundFile failed. Trying audioread instead.\n",
      "  warnings.warn('PySoundFile failed. Trying audioread instead.')\n",
      "/opt/anaconda3/lib/python3.7/site-packages/librosa/core/audio.py:146: UserWarning: PySoundFile failed. Trying audioread instead.\n",
      "  warnings.warn('PySoundFile failed. Trying audioread instead.')\n",
      "/opt/anaconda3/lib/python3.7/site-packages/librosa/core/audio.py:146: UserWarning: PySoundFile failed. Trying audioread instead.\n",
      "  warnings.warn('PySoundFile failed. Trying audioread instead.')\n",
      "/opt/anaconda3/lib/python3.7/site-packages/librosa/core/audio.py:146: UserWarning: PySoundFile failed. Trying audioread instead.\n",
      "  warnings.warn('PySoundFile failed. Trying audioread instead.')\n",
      "/opt/anaconda3/lib/python3.7/site-packages/librosa/core/audio.py:146: UserWarning: PySoundFile failed. Trying audioread instead.\n",
      "  warnings.warn('PySoundFile failed. Trying audioread instead.')\n",
      "/opt/anaconda3/lib/python3.7/site-packages/librosa/core/audio.py:146: UserWarning: PySoundFile failed. Trying audioread instead.\n",
      "  warnings.warn('PySoundFile failed. Trying audioread instead.')\n",
      "/opt/anaconda3/lib/python3.7/site-packages/librosa/core/audio.py:146: UserWarning: PySoundFile failed. Trying audioread instead.\n",
      "  warnings.warn('PySoundFile failed. Trying audioread instead.')\n",
      "/opt/anaconda3/lib/python3.7/site-packages/librosa/core/audio.py:146: UserWarning: PySoundFile failed. Trying audioread instead.\n",
      "  warnings.warn('PySoundFile failed. Trying audioread instead.')\n",
      "/opt/anaconda3/lib/python3.7/site-packages/librosa/core/audio.py:146: UserWarning: PySoundFile failed. Trying audioread instead.\n",
      "  warnings.warn('PySoundFile failed. Trying audioread instead.')\n",
      "/opt/anaconda3/lib/python3.7/site-packages/librosa/core/audio.py:146: UserWarning: PySoundFile failed. Trying audioread instead.\n",
      "  warnings.warn('PySoundFile failed. Trying audioread instead.')\n",
      "/opt/anaconda3/lib/python3.7/site-packages/librosa/core/audio.py:146: UserWarning: PySoundFile failed. Trying audioread instead.\n",
      "  warnings.warn('PySoundFile failed. Trying audioread instead.')\n",
      "/opt/anaconda3/lib/python3.7/site-packages/librosa/core/audio.py:146: UserWarning: PySoundFile failed. Trying audioread instead.\n",
      "  warnings.warn('PySoundFile failed. Trying audioread instead.')\n",
      "/opt/anaconda3/lib/python3.7/site-packages/librosa/core/audio.py:146: UserWarning: PySoundFile failed. Trying audioread instead.\n",
      "  warnings.warn('PySoundFile failed. Trying audioread instead.')\n",
      "/opt/anaconda3/lib/python3.7/site-packages/librosa/core/audio.py:146: UserWarning: PySoundFile failed. Trying audioread instead.\n",
      "  warnings.warn('PySoundFile failed. Trying audioread instead.')\n",
      "/opt/anaconda3/lib/python3.7/site-packages/librosa/core/audio.py:146: UserWarning: PySoundFile failed. Trying audioread instead.\n",
      "  warnings.warn('PySoundFile failed. Trying audioread instead.')\n",
      "/opt/anaconda3/lib/python3.7/site-packages/librosa/core/audio.py:146: UserWarning: PySoundFile failed. Trying audioread instead.\n",
      "  warnings.warn('PySoundFile failed. Trying audioread instead.')\n",
      "/opt/anaconda3/lib/python3.7/site-packages/librosa/core/audio.py:146: UserWarning: PySoundFile failed. Trying audioread instead.\n",
      "  warnings.warn('PySoundFile failed. Trying audioread instead.')\n",
      "/opt/anaconda3/lib/python3.7/site-packages/librosa/core/audio.py:146: UserWarning: PySoundFile failed. Trying audioread instead.\n",
      "  warnings.warn('PySoundFile failed. Trying audioread instead.')\n",
      "/opt/anaconda3/lib/python3.7/site-packages/librosa/core/audio.py:146: UserWarning: PySoundFile failed. Trying audioread instead.\n",
      "  warnings.warn('PySoundFile failed. Trying audioread instead.')\n",
      "/opt/anaconda3/lib/python3.7/site-packages/librosa/core/audio.py:146: UserWarning: PySoundFile failed. Trying audioread instead.\n",
      "  warnings.warn('PySoundFile failed. Trying audioread instead.')\n",
      "/opt/anaconda3/lib/python3.7/site-packages/librosa/core/audio.py:146: UserWarning: PySoundFile failed. Trying audioread instead.\n",
      "  warnings.warn('PySoundFile failed. Trying audioread instead.')\n",
      "/opt/anaconda3/lib/python3.7/site-packages/librosa/core/audio.py:146: UserWarning: PySoundFile failed. Trying audioread instead.\n",
      "  warnings.warn('PySoundFile failed. Trying audioread instead.')\n",
      "/opt/anaconda3/lib/python3.7/site-packages/librosa/core/audio.py:146: UserWarning: PySoundFile failed. Trying audioread instead.\n",
      "  warnings.warn('PySoundFile failed. Trying audioread instead.')\n",
      "/opt/anaconda3/lib/python3.7/site-packages/librosa/core/audio.py:146: UserWarning: PySoundFile failed. Trying audioread instead.\n",
      "  warnings.warn('PySoundFile failed. Trying audioread instead.')\n",
      "/opt/anaconda3/lib/python3.7/site-packages/librosa/core/audio.py:146: UserWarning: PySoundFile failed. Trying audioread instead.\n",
      "  warnings.warn('PySoundFile failed. Trying audioread instead.')\n",
      "/opt/anaconda3/lib/python3.7/site-packages/librosa/core/audio.py:146: UserWarning: PySoundFile failed. Trying audioread instead.\n",
      "  warnings.warn('PySoundFile failed. Trying audioread instead.')\n",
      "/opt/anaconda3/lib/python3.7/site-packages/librosa/core/audio.py:146: UserWarning: PySoundFile failed. Trying audioread instead.\n",
      "  warnings.warn('PySoundFile failed. Trying audioread instead.')\n",
      "/opt/anaconda3/lib/python3.7/site-packages/librosa/core/audio.py:146: UserWarning: PySoundFile failed. Trying audioread instead.\n",
      "  warnings.warn('PySoundFile failed. Trying audioread instead.')\n",
      "/opt/anaconda3/lib/python3.7/site-packages/librosa/core/audio.py:146: UserWarning: PySoundFile failed. Trying audioread instead.\n",
      "  warnings.warn('PySoundFile failed. Trying audioread instead.')\n",
      "/opt/anaconda3/lib/python3.7/site-packages/librosa/core/audio.py:146: UserWarning: PySoundFile failed. Trying audioread instead.\n",
      "  warnings.warn('PySoundFile failed. Trying audioread instead.')\n",
      "/opt/anaconda3/lib/python3.7/site-packages/librosa/core/audio.py:146: UserWarning: PySoundFile failed. Trying audioread instead.\n",
      "  warnings.warn('PySoundFile failed. Trying audioread instead.')\n",
      "/opt/anaconda3/lib/python3.7/site-packages/librosa/core/audio.py:146: UserWarning: PySoundFile failed. Trying audioread instead.\n",
      "  warnings.warn('PySoundFile failed. Trying audioread instead.')\n",
      "/opt/anaconda3/lib/python3.7/site-packages/librosa/core/audio.py:146: UserWarning: PySoundFile failed. Trying audioread instead.\n",
      "  warnings.warn('PySoundFile failed. Trying audioread instead.')\n",
      "/opt/anaconda3/lib/python3.7/site-packages/librosa/core/audio.py:146: UserWarning: PySoundFile failed. Trying audioread instead.\n",
      "  warnings.warn('PySoundFile failed. Trying audioread instead.')\n",
      "/opt/anaconda3/lib/python3.7/site-packages/librosa/core/audio.py:146: UserWarning: PySoundFile failed. Trying audioread instead.\n",
      "  warnings.warn('PySoundFile failed. Trying audioread instead.')\n",
      "/opt/anaconda3/lib/python3.7/site-packages/librosa/core/audio.py:146: UserWarning: PySoundFile failed. Trying audioread instead.\n",
      "  warnings.warn('PySoundFile failed. Trying audioread instead.')\n",
      "/opt/anaconda3/lib/python3.7/site-packages/librosa/core/audio.py:146: UserWarning: PySoundFile failed. Trying audioread instead.\n",
      "  warnings.warn('PySoundFile failed. Trying audioread instead.')\n",
      "/opt/anaconda3/lib/python3.7/site-packages/librosa/core/audio.py:146: UserWarning: PySoundFile failed. Trying audioread instead.\n",
      "  warnings.warn('PySoundFile failed. Trying audioread instead.')\n",
      "/opt/anaconda3/lib/python3.7/site-packages/librosa/core/audio.py:146: UserWarning: PySoundFile failed. Trying audioread instead.\n",
      "  warnings.warn('PySoundFile failed. Trying audioread instead.')\n",
      "/opt/anaconda3/lib/python3.7/site-packages/librosa/core/audio.py:146: UserWarning: PySoundFile failed. Trying audioread instead.\n",
      "  warnings.warn('PySoundFile failed. Trying audioread instead.')\n",
      "/opt/anaconda3/lib/python3.7/site-packages/librosa/core/audio.py:146: UserWarning: PySoundFile failed. Trying audioread instead.\n",
      "  warnings.warn('PySoundFile failed. Trying audioread instead.')\n",
      "/opt/anaconda3/lib/python3.7/site-packages/librosa/core/audio.py:146: UserWarning: PySoundFile failed. Trying audioread instead.\n",
      "  warnings.warn('PySoundFile failed. Trying audioread instead.')\n"
     ]
    },
    {
     "name": "stderr",
     "output_type": "stream",
     "text": [
      "/opt/anaconda3/lib/python3.7/site-packages/librosa/core/audio.py:146: UserWarning: PySoundFile failed. Trying audioread instead.\n",
      "  warnings.warn('PySoundFile failed. Trying audioread instead.')\n",
      "/opt/anaconda3/lib/python3.7/site-packages/librosa/core/audio.py:146: UserWarning: PySoundFile failed. Trying audioread instead.\n",
      "  warnings.warn('PySoundFile failed. Trying audioread instead.')\n",
      "/opt/anaconda3/lib/python3.7/site-packages/librosa/core/audio.py:146: UserWarning: PySoundFile failed. Trying audioread instead.\n",
      "  warnings.warn('PySoundFile failed. Trying audioread instead.')\n",
      "/opt/anaconda3/lib/python3.7/site-packages/librosa/core/audio.py:146: UserWarning: PySoundFile failed. Trying audioread instead.\n",
      "  warnings.warn('PySoundFile failed. Trying audioread instead.')\n",
      "/opt/anaconda3/lib/python3.7/site-packages/librosa/core/audio.py:146: UserWarning: PySoundFile failed. Trying audioread instead.\n",
      "  warnings.warn('PySoundFile failed. Trying audioread instead.')\n",
      "/opt/anaconda3/lib/python3.7/site-packages/librosa/core/audio.py:146: UserWarning: PySoundFile failed. Trying audioread instead.\n",
      "  warnings.warn('PySoundFile failed. Trying audioread instead.')\n",
      "/opt/anaconda3/lib/python3.7/site-packages/librosa/core/audio.py:146: UserWarning: PySoundFile failed. Trying audioread instead.\n",
      "  warnings.warn('PySoundFile failed. Trying audioread instead.')\n",
      "/opt/anaconda3/lib/python3.7/site-packages/librosa/core/audio.py:146: UserWarning: PySoundFile failed. Trying audioread instead.\n",
      "  warnings.warn('PySoundFile failed. Trying audioread instead.')\n",
      "/opt/anaconda3/lib/python3.7/site-packages/librosa/core/audio.py:146: UserWarning: PySoundFile failed. Trying audioread instead.\n",
      "  warnings.warn('PySoundFile failed. Trying audioread instead.')\n",
      "/opt/anaconda3/lib/python3.7/site-packages/librosa/core/audio.py:146: UserWarning: PySoundFile failed. Trying audioread instead.\n",
      "  warnings.warn('PySoundFile failed. Trying audioread instead.')\n",
      "/opt/anaconda3/lib/python3.7/site-packages/librosa/core/audio.py:146: UserWarning: PySoundFile failed. Trying audioread instead.\n",
      "  warnings.warn('PySoundFile failed. Trying audioread instead.')\n",
      "/opt/anaconda3/lib/python3.7/site-packages/librosa/core/audio.py:146: UserWarning: PySoundFile failed. Trying audioread instead.\n",
      "  warnings.warn('PySoundFile failed. Trying audioread instead.')\n",
      "/opt/anaconda3/lib/python3.7/site-packages/librosa/core/audio.py:146: UserWarning: PySoundFile failed. Trying audioread instead.\n",
      "  warnings.warn('PySoundFile failed. Trying audioread instead.')\n",
      "/opt/anaconda3/lib/python3.7/site-packages/librosa/core/audio.py:146: UserWarning: PySoundFile failed. Trying audioread instead.\n",
      "  warnings.warn('PySoundFile failed. Trying audioread instead.')\n",
      "/opt/anaconda3/lib/python3.7/site-packages/librosa/core/audio.py:146: UserWarning: PySoundFile failed. Trying audioread instead.\n",
      "  warnings.warn('PySoundFile failed. Trying audioread instead.')\n",
      "/opt/anaconda3/lib/python3.7/site-packages/librosa/core/audio.py:146: UserWarning: PySoundFile failed. Trying audioread instead.\n",
      "  warnings.warn('PySoundFile failed. Trying audioread instead.')\n",
      "/opt/anaconda3/lib/python3.7/site-packages/librosa/core/audio.py:146: UserWarning: PySoundFile failed. Trying audioread instead.\n",
      "  warnings.warn('PySoundFile failed. Trying audioread instead.')\n",
      "/opt/anaconda3/lib/python3.7/site-packages/librosa/core/audio.py:146: UserWarning: PySoundFile failed. Trying audioread instead.\n",
      "  warnings.warn('PySoundFile failed. Trying audioread instead.')\n",
      "/opt/anaconda3/lib/python3.7/site-packages/librosa/core/audio.py:146: UserWarning: PySoundFile failed. Trying audioread instead.\n",
      "  warnings.warn('PySoundFile failed. Trying audioread instead.')\n",
      "/opt/anaconda3/lib/python3.7/site-packages/librosa/core/audio.py:146: UserWarning: PySoundFile failed. Trying audioread instead.\n",
      "  warnings.warn('PySoundFile failed. Trying audioread instead.')\n",
      "/opt/anaconda3/lib/python3.7/site-packages/librosa/core/audio.py:146: UserWarning: PySoundFile failed. Trying audioread instead.\n",
      "  warnings.warn('PySoundFile failed. Trying audioread instead.')\n",
      "/opt/anaconda3/lib/python3.7/site-packages/librosa/core/audio.py:146: UserWarning: PySoundFile failed. Trying audioread instead.\n",
      "  warnings.warn('PySoundFile failed. Trying audioread instead.')\n",
      "/opt/anaconda3/lib/python3.7/site-packages/librosa/core/audio.py:146: UserWarning: PySoundFile failed. Trying audioread instead.\n",
      "  warnings.warn('PySoundFile failed. Trying audioread instead.')\n",
      "/opt/anaconda3/lib/python3.7/site-packages/librosa/core/audio.py:146: UserWarning: PySoundFile failed. Trying audioread instead.\n",
      "  warnings.warn('PySoundFile failed. Trying audioread instead.')\n",
      "/opt/anaconda3/lib/python3.7/site-packages/librosa/core/audio.py:146: UserWarning: PySoundFile failed. Trying audioread instead.\n",
      "  warnings.warn('PySoundFile failed. Trying audioread instead.')\n",
      "/opt/anaconda3/lib/python3.7/site-packages/librosa/core/audio.py:146: UserWarning: PySoundFile failed. Trying audioread instead.\n",
      "  warnings.warn('PySoundFile failed. Trying audioread instead.')\n",
      "/opt/anaconda3/lib/python3.7/site-packages/librosa/core/audio.py:146: UserWarning: PySoundFile failed. Trying audioread instead.\n",
      "  warnings.warn('PySoundFile failed. Trying audioread instead.')\n",
      "/opt/anaconda3/lib/python3.7/site-packages/librosa/core/audio.py:146: UserWarning: PySoundFile failed. Trying audioread instead.\n",
      "  warnings.warn('PySoundFile failed. Trying audioread instead.')\n",
      "/opt/anaconda3/lib/python3.7/site-packages/librosa/core/audio.py:146: UserWarning: PySoundFile failed. Trying audioread instead.\n",
      "  warnings.warn('PySoundFile failed. Trying audioread instead.')\n",
      "/opt/anaconda3/lib/python3.7/site-packages/librosa/core/audio.py:146: UserWarning: PySoundFile failed. Trying audioread instead.\n",
      "  warnings.warn('PySoundFile failed. Trying audioread instead.')\n",
      "/opt/anaconda3/lib/python3.7/site-packages/librosa/core/audio.py:146: UserWarning: PySoundFile failed. Trying audioread instead.\n",
      "  warnings.warn('PySoundFile failed. Trying audioread instead.')\n",
      "/opt/anaconda3/lib/python3.7/site-packages/librosa/core/audio.py:146: UserWarning: PySoundFile failed. Trying audioread instead.\n",
      "  warnings.warn('PySoundFile failed. Trying audioread instead.')\n",
      "/opt/anaconda3/lib/python3.7/site-packages/librosa/core/audio.py:146: UserWarning: PySoundFile failed. Trying audioread instead.\n",
      "  warnings.warn('PySoundFile failed. Trying audioread instead.')\n",
      "/opt/anaconda3/lib/python3.7/site-packages/librosa/core/audio.py:146: UserWarning: PySoundFile failed. Trying audioread instead.\n",
      "  warnings.warn('PySoundFile failed. Trying audioread instead.')\n",
      "/opt/anaconda3/lib/python3.7/site-packages/librosa/core/audio.py:146: UserWarning: PySoundFile failed. Trying audioread instead.\n",
      "  warnings.warn('PySoundFile failed. Trying audioread instead.')\n",
      "/opt/anaconda3/lib/python3.7/site-packages/librosa/core/audio.py:146: UserWarning: PySoundFile failed. Trying audioread instead.\n",
      "  warnings.warn('PySoundFile failed. Trying audioread instead.')\n",
      "/opt/anaconda3/lib/python3.7/site-packages/librosa/core/audio.py:146: UserWarning: PySoundFile failed. Trying audioread instead.\n",
      "  warnings.warn('PySoundFile failed. Trying audioread instead.')\n",
      "/opt/anaconda3/lib/python3.7/site-packages/librosa/core/audio.py:146: UserWarning: PySoundFile failed. Trying audioread instead.\n",
      "  warnings.warn('PySoundFile failed. Trying audioread instead.')\n",
      "/opt/anaconda3/lib/python3.7/site-packages/librosa/core/audio.py:146: UserWarning: PySoundFile failed. Trying audioread instead.\n",
      "  warnings.warn('PySoundFile failed. Trying audioread instead.')\n",
      "/opt/anaconda3/lib/python3.7/site-packages/librosa/core/audio.py:146: UserWarning: PySoundFile failed. Trying audioread instead.\n",
      "  warnings.warn('PySoundFile failed. Trying audioread instead.')\n",
      "/opt/anaconda3/lib/python3.7/site-packages/librosa/core/audio.py:146: UserWarning: PySoundFile failed. Trying audioread instead.\n",
      "  warnings.warn('PySoundFile failed. Trying audioread instead.')\n",
      "/opt/anaconda3/lib/python3.7/site-packages/librosa/core/audio.py:146: UserWarning: PySoundFile failed. Trying audioread instead.\n",
      "  warnings.warn('PySoundFile failed. Trying audioread instead.')\n",
      "/opt/anaconda3/lib/python3.7/site-packages/librosa/core/audio.py:146: UserWarning: PySoundFile failed. Trying audioread instead.\n",
      "  warnings.warn('PySoundFile failed. Trying audioread instead.')\n",
      "/opt/anaconda3/lib/python3.7/site-packages/librosa/core/audio.py:146: UserWarning: PySoundFile failed. Trying audioread instead.\n",
      "  warnings.warn('PySoundFile failed. Trying audioread instead.')\n",
      "/opt/anaconda3/lib/python3.7/site-packages/librosa/core/audio.py:146: UserWarning: PySoundFile failed. Trying audioread instead.\n",
      "  warnings.warn('PySoundFile failed. Trying audioread instead.')\n"
     ]
    }
   ],
   "source": [
    "df_interference['mfcc_new'] = df_interference['path'].apply(cal_mfcc)"
   ]
  },
  {
   "cell_type": "code",
   "execution_count": 83,
   "metadata": {},
   "outputs": [],
   "source": [
    "df_interference=df_interference.reset_index(drop=True)"
   ]
  },
  {
   "cell_type": "code",
   "execution_count": 84,
   "metadata": {},
   "outputs": [
    {
     "data": {
      "text/plain": [
       "array([-1.3137686e+02,  2.2778185e+02, -9.6030304e+01,  5.4124985e+01,\n",
       "        1.0934504e+01, -1.2068207e+01,  1.2629607e+01, -2.6334548e+00,\n",
       "        1.1799301e+01, -1.1944506e+01,  7.3101377e+00,  8.1455040e+00,\n",
       "       -9.3879814e+00,  1.1549614e+01, -3.2815766e+00, -6.3237989e-01,\n",
       "        2.7636158e+00, -3.3619623e+00,  4.0632238e+00, -5.8245611e+00,\n",
       "        2.7516630e+00,  8.1392187e-01, -4.1250587e+00,  5.3951163e+00,\n",
       "       -3.3433812e+00,  1.1102777e+00,  1.0568085e+00, -2.0514677e+00,\n",
       "        2.4982512e+00, -2.9654329e+00,  1.4245323e+00,  2.2727829e-01,\n",
       "       -1.9089180e-01,  3.3049054e+00, -1.3552327e+00,  3.1151803e+00,\n",
       "        1.1366633e+00, -2.5054112e-01,  2.5267372e+00, -1.1529695e+00],\n",
       "      dtype=float32)"
      ]
     },
     "execution_count": 84,
     "metadata": {},
     "output_type": "execute_result"
    }
   ],
   "source": [
    "df_interference['mfcc'][0]"
   ]
  },
  {
   "cell_type": "code",
   "execution_count": 85,
   "metadata": {},
   "outputs": [
    {
     "data": {
      "text/plain": [
       "0"
      ]
     },
     "execution_count": 85,
     "metadata": {},
     "output_type": "execute_result"
    }
   ],
   "source": [
    "count = 0\n",
    "pd.DataFrame(df_interference.index).duplicated().sum()\n"
   ]
  },
  {
   "cell_type": "code",
   "execution_count": 86,
   "metadata": {},
   "outputs": [
    {
     "data": {
      "text/html": [
       "<div>\n",
       "<style scoped>\n",
       "    .dataframe tbody tr th:only-of-type {\n",
       "        vertical-align: middle;\n",
       "    }\n",
       "\n",
       "    .dataframe tbody tr th {\n",
       "        vertical-align: top;\n",
       "    }\n",
       "\n",
       "    .dataframe thead th {\n",
       "        text-align: right;\n",
       "    }\n",
       "</style>\n",
       "<table border=\"1\" class=\"dataframe\">\n",
       "  <thead>\n",
       "    <tr style=\"text-align: right;\">\n",
       "      <th></th>\n",
       "      <th>interference</th>\n",
       "      <th>mfcc</th>\n",
       "      <th>path</th>\n",
       "      <th>mfcc_new</th>\n",
       "    </tr>\n",
       "  </thead>\n",
       "  <tbody>\n",
       "  </tbody>\n",
       "</table>\n",
       "</div>"
      ],
      "text/plain": [
       "Empty DataFrame\n",
       "Columns: [interference, mfcc, path, mfcc_new]\n",
       "Index: []"
      ]
     },
     "execution_count": 86,
     "metadata": {},
     "output_type": "execute_result"
    }
   ],
   "source": [
    "df_interference[df_interference.index.duplicated()]"
   ]
  },
  {
   "cell_type": "code",
   "execution_count": 87,
   "metadata": {},
   "outputs": [
    {
     "data": {
      "text/html": [
       "<div>\n",
       "<style scoped>\n",
       "    .dataframe tbody tr th:only-of-type {\n",
       "        vertical-align: middle;\n",
       "    }\n",
       "\n",
       "    .dataframe tbody tr th {\n",
       "        vertical-align: top;\n",
       "    }\n",
       "\n",
       "    .dataframe thead th {\n",
       "        text-align: right;\n",
       "    }\n",
       "</style>\n",
       "<table border=\"1\" class=\"dataframe\">\n",
       "  <thead>\n",
       "    <tr style=\"text-align: right;\">\n",
       "      <th></th>\n",
       "      <th>interference</th>\n",
       "      <th>mfcc</th>\n",
       "      <th>path</th>\n",
       "      <th>mfcc_new</th>\n",
       "    </tr>\n",
       "  </thead>\n",
       "  <tbody>\n",
       "    <tr>\n",
       "      <td>0</td>\n",
       "      <td>3</td>\n",
       "      <td>[-131.37686, 227.78185, -96.030304, 54.124985,...</td>\n",
       "      <td>/Users/sanjeevkumar/Desktop/TWR/DATA Samples/I...</td>\n",
       "      <td>[-131.37686, 227.78185, -96.030304, 54.124985,...</td>\n",
       "    </tr>\n",
       "    <tr>\n",
       "      <td>1</td>\n",
       "      <td>3</td>\n",
       "      <td>[-152.18541, 212.1246, -75.82145, 52.74044, 18...</td>\n",
       "      <td>/Users/sanjeevkumar/Desktop/TWR/DATA Samples/I...</td>\n",
       "      <td>[-152.18541, 212.1246, -75.82145, 52.74044, 18...</td>\n",
       "    </tr>\n",
       "    <tr>\n",
       "      <td>2</td>\n",
       "      <td>3</td>\n",
       "      <td>[-154.4152, 207.58583, -83.73171, 49.88308, 11...</td>\n",
       "      <td>/Users/sanjeevkumar/Desktop/TWR/DATA Samples/I...</td>\n",
       "      <td>[-154.4152, 207.58583, -83.73171, 49.88308, 11...</td>\n",
       "    </tr>\n",
       "    <tr>\n",
       "      <td>3</td>\n",
       "      <td>3</td>\n",
       "      <td>[-165.0797, 206.83765, -102.65477, 52.450253, ...</td>\n",
       "      <td>/Users/sanjeevkumar/Desktop/TWR/DATA Samples/I...</td>\n",
       "      <td>[-165.0797, 206.83765, -102.65477, 52.450253, ...</td>\n",
       "    </tr>\n",
       "    <tr>\n",
       "      <td>4</td>\n",
       "      <td>3</td>\n",
       "      <td>[-146.89711, 219.33466, -90.32005, 52.043674, ...</td>\n",
       "      <td>/Users/sanjeevkumar/Desktop/TWR/DATA Samples/I...</td>\n",
       "      <td>[-146.89711, 219.33466, -90.32005, 52.043674, ...</td>\n",
       "    </tr>\n",
       "  </tbody>\n",
       "</table>\n",
       "</div>"
      ],
      "text/plain": [
       "   interference                                               mfcc  \\\n",
       "0             3  [-131.37686, 227.78185, -96.030304, 54.124985,...   \n",
       "1             3  [-152.18541, 212.1246, -75.82145, 52.74044, 18...   \n",
       "2             3  [-154.4152, 207.58583, -83.73171, 49.88308, 11...   \n",
       "3             3  [-165.0797, 206.83765, -102.65477, 52.450253, ...   \n",
       "4             3  [-146.89711, 219.33466, -90.32005, 52.043674, ...   \n",
       "\n",
       "                                                path  \\\n",
       "0  /Users/sanjeevkumar/Desktop/TWR/DATA Samples/I...   \n",
       "1  /Users/sanjeevkumar/Desktop/TWR/DATA Samples/I...   \n",
       "2  /Users/sanjeevkumar/Desktop/TWR/DATA Samples/I...   \n",
       "3  /Users/sanjeevkumar/Desktop/TWR/DATA Samples/I...   \n",
       "4  /Users/sanjeevkumar/Desktop/TWR/DATA Samples/I...   \n",
       "\n",
       "                                            mfcc_new  \n",
       "0  [-131.37686, 227.78185, -96.030304, 54.124985,...  \n",
       "1  [-152.18541, 212.1246, -75.82145, 52.74044, 18...  \n",
       "2  [-154.4152, 207.58583, -83.73171, 49.88308, 11...  \n",
       "3  [-165.0797, 206.83765, -102.65477, 52.450253, ...  \n",
       "4  [-146.89711, 219.33466, -90.32005, 52.043674, ...  "
      ]
     },
     "execution_count": 87,
     "metadata": {},
     "output_type": "execute_result"
    }
   ],
   "source": [
    "df_interference.head()"
   ]
  },
  {
   "cell_type": "code",
   "execution_count": 88,
   "metadata": {},
   "outputs": [
    {
     "data": {
      "text/plain": [
       "array([-3.00825958e+01,  1.83756592e+02, -6.49217072e+01,  3.33051071e+01,\n",
       "        7.59140968e+00, -1.00128431e+01,  4.84754992e+00, -1.30150235e+00,\n",
       "        1.67944670e-01, -1.13277025e+01, -1.66315091e+00, -1.50252354e+00,\n",
       "       -1.39218092e+01,  3.39292765e+00, -1.24006462e+00, -5.53579235e+00,\n",
       "       -6.87919796e-01, -3.73161650e+00, -6.53937101e-01, -4.05892897e+00,\n",
       "       -1.56867170e+00,  1.11205006e+00, -3.84643269e+00, -5.63522279e-02,\n",
       "       -1.64613926e+00, -2.58937025e+00,  2.10101914e+00, -4.58255738e-01,\n",
       "        2.23558992e-01, -1.09985793e+00, -2.09192371e+00, -3.80809903e-01,\n",
       "       -1.30780137e+00,  5.41380227e-01, -9.72027257e-02, -8.58866930e-01,\n",
       "        1.61993563e+00,  8.99577737e-01,  1.91924071e+00,  5.85971653e-01],\n",
       "      dtype=float32)"
      ]
     },
     "execution_count": 88,
     "metadata": {},
     "output_type": "execute_result"
    }
   ],
   "source": [
    "df_interference['mfcc_new'][24]"
   ]
  },
  {
   "cell_type": "code",
   "execution_count": 89,
   "metadata": {},
   "outputs": [
    {
     "name": "stdout",
     "output_type": "stream",
     "text": [
      "1.0\n",
      "0.6333333333333333\n",
      "[[-2.06922470e-01 -4.20665955e-01  2.18742882e-02  1.94329566e-01\n",
      "  -1.09789920e-01 -2.00212035e-02 -3.02923247e-01  2.37948515e-59\n",
      "   2.14094556e-01  7.88413033e-28]\n",
      " [ 1.72944506e-01 -1.85794332e-01  2.22186800e-01  2.02401725e-01\n",
      "  -1.60489987e-01  6.70581387e-02 -3.65380344e-01 -4.56015900e-24\n",
      "  -4.13474037e-02 -3.20162405e-29]\n",
      " [ 8.23084548e-02  1.45270056e-01 -5.52857158e-02 -7.71727691e-02\n",
      "  -3.57714538e-01 -1.81887252e-01  1.80448199e-01  1.74594510e-55\n",
      "  -3.73307937e-01  1.29677422e-59]\n",
      " [-3.01299276e-02  3.15999716e-01  9.97441974e-02  2.82709407e-02\n",
      "   1.15776494e-01  2.54760162e-01  3.03283150e-01 -2.15451072e-50\n",
      "  -1.33762216e-01  1.16843145e-34]\n",
      " [-5.23100599e-01  2.60052098e-02 -3.45710578e-01 -1.60513072e-01\n",
      "  -3.03797736e-01  4.24520873e-02  1.68646512e-01  4.43759877e-21\n",
      "   5.53470417e-01 -2.47308043e-58]\n",
      " [-2.22184863e-01 -1.32024260e-01 -1.64015510e-01  6.48109462e-03\n",
      "  -8.57162592e-04  3.32889594e-02 -3.01365297e-01 -5.08830490e-39\n",
      "  -1.94348748e-01  1.25531144e-46]\n",
      " [-8.90714290e-02  4.06224691e-01 -1.24895781e-01 -1.19653081e-01\n",
      "   2.57970083e-01  3.77390606e-01  7.39375514e-02 -2.70203094e-33\n",
      "  -1.46252506e-01  5.50391176e-17]\n",
      " [-3.14734103e-01  8.52153173e-02  3.61208468e-01 -6.25418945e-02\n",
      "   3.17934642e-03  7.51411664e-02  9.07160437e-03 -2.73941288e-19\n",
      "  -7.63817511e-01  2.43093369e-39]\n",
      " [-7.62883889e-03  1.64201517e-01  1.16179393e-01 -1.00946656e-01\n",
      "  -1.43699970e-02 -2.79654190e-01  1.69353995e-01 -5.19693468e-30\n",
      "  -2.34101199e-02 -4.79827051e-25]\n",
      " [-3.40577919e-02  6.83336510e-02 -1.67192164e-01  2.39716037e-01\n",
      "  -1.90060731e-01  9.29327033e-02 -9.13763111e-02  2.58742902e-57\n",
      "  -1.14808451e-01  4.98081995e-57]\n",
      " [ 3.87950627e-02 -1.29434022e-01  1.89798967e-01 -1.95204237e-01\n",
      "   4.89875330e-02 -4.45426981e-01 -1.70668707e-01 -3.25273215e-20\n",
      "   6.09831147e-02 -2.62138222e-45]\n",
      " [ 4.03268292e-01  1.83273997e-01 -2.04647435e-01  2.96771608e-02\n",
      "   1.52612928e-01  1.42355160e-01 -8.47757840e-03  1.63806889e-20\n",
      "  -4.28992771e-03 -7.02003569e-45]\n",
      " [-8.09882762e-02  2.19872207e-01  2.03347127e-01  3.79193252e-02\n",
      "  -7.15797812e-02  1.86938067e-01 -2.20729980e-03 -4.04935500e-58\n",
      "  -6.42254626e-02  1.05388300e-18]\n",
      " [ 3.08012715e-01 -1.88535206e-01 -1.42055918e-02 -1.34692931e-01\n",
      "   3.78695657e-01 -2.24849773e-01  2.65736933e-01 -8.82804841e-40\n",
      "  -1.19606135e-01  7.86090508e-17]\n",
      " [-2.19456833e-01  2.62268816e-01  8.75024707e-02 -1.37004455e-01\n",
      "  -1.92336134e-02  3.23285328e-01  3.85315336e-02  2.99798812e-26\n",
      "  -4.01307945e-01  6.39761481e-19]\n",
      " [ 1.53070961e-01  2.50738752e-01 -3.53113692e-02 -2.87977627e-01\n",
      "  -8.72855287e-02  2.82731001e-01  1.36512051e-01 -1.17676569e-17\n",
      "  -7.13678678e-01  1.84415628e-46]\n",
      " [-4.13037364e-01  2.30984024e-01  2.63739225e-01 -1.83443873e-01\n",
      "  -2.33749801e-01  3.46835159e-01  1.96997181e-01  1.41113704e-58\n",
      "  -3.74079348e-01  4.18245014e-20]\n",
      " [-3.55442098e-01 -3.67624144e-01  1.29254531e-01 -5.86482017e-02\n",
      "   1.81142872e-02  5.58629376e-01 -6.18552801e-02  1.61220824e-40\n",
      "  -6.61114448e-01 -3.52071620e-30]\n",
      " [ 4.55173112e-02  3.12813888e-01  8.85763632e-02  2.21036252e-01\n",
      "   3.65943645e-01 -6.35262529e-01 -2.57803444e-01  9.58963560e-17\n",
      "  -7.53458258e-02  5.31470300e-36]\n",
      " [-1.69715503e-01 -2.41550048e-01  1.62510640e-01 -1.26340593e-01\n",
      "   1.48196254e-01  1.95296732e-01 -9.02750660e-02 -1.49908139e-46\n",
      "  -4.78956173e-01  8.86923497e-57]\n",
      " [-2.25595222e-01  1.27922009e-01  6.51787146e-02  6.13780139e-03\n",
      "   2.13483098e-01 -5.73795911e-02  2.47393789e-01 -6.37507571e-59\n",
      "  -3.55454814e-01  9.02112469e-52]\n",
      " [-1.99757172e-01 -2.85481186e-01  2.25525396e-01 -1.47116004e-01\n",
      "   2.69837867e-01  2.15497492e-01  6.63675003e-02 -2.23579306e-28\n",
      "  -7.32355620e-01 -4.95160742e-54]\n",
      " [ 3.11455585e-01 -3.07354199e-01 -1.36581112e-01  4.51482892e-02\n",
      "  -5.18993363e-02 -2.60980782e-01 -5.28857571e-02 -5.21314625e-50\n",
      "   1.23168982e-02 -3.99560092e-18]\n",
      " [-6.45405978e-03 -4.40823282e-03 -9.31506596e-02 -3.57321062e-01\n",
      "  -5.81772135e-02  2.26528705e-01  2.34825784e-01  4.28552992e-18\n",
      "   2.55419832e-01  2.69971484e-57]\n",
      " [ 1.83708028e-01 -2.18807385e-01  1.08870250e-01  1.28581040e-01\n",
      "  -1.14169195e-01 -4.75167271e-02 -8.30154523e-02  1.33305296e-52\n",
      "   1.27123094e-01 -3.11371925e-51]\n",
      " [-3.83295788e-01 -1.06611674e-01  1.53754748e-01  9.43017327e-02\n",
      "  -2.35310138e-01  3.23120425e-01 -2.77590996e-02  2.73665355e-37\n",
      "   2.89085121e-01  1.53369493e-48]\n",
      " [-7.28558320e-02 -2.20028565e-01 -3.09212919e-01  1.06170213e-02\n",
      "   2.26543650e-01 -5.19740934e-03 -7.29605573e-02  1.18520669e-58\n",
      "   1.15723334e-01 -2.82870937e-22]\n",
      " [ 1.68564599e-01 -7.99644369e-02  5.92450390e-02 -4.57182966e-02\n",
      "  -1.71028416e-01  2.36697153e-01  3.77396134e-01 -3.68267918e-32\n",
      "  -7.42007970e-02 -6.76772597e-50]\n",
      " [ 4.35983432e-01  2.40471551e-01 -1.94682556e-01 -2.60927059e-01\n",
      "  -1.70097961e-01 -3.82031239e-01  1.78161309e-02 -3.50396964e-25\n",
      "  -1.86770917e-01 -1.37980368e-20]\n",
      " [ 2.03169756e-01  1.93691081e-02 -2.12742509e-01 -2.72016330e-01\n",
      "  -3.56334276e-01 -1.15525818e-02 -1.16572291e-01 -2.33603464e-39\n",
      "  -1.32952182e-01  7.59096959e-26]\n",
      " [ 1.76398533e-01 -2.25633991e-01 -3.59717392e-01  3.84206757e-02\n",
      "   3.57064040e-01 -2.61011729e-01 -9.49510087e-02  2.00958044e-46\n",
      "  -3.56928159e-01  7.41087051e-44]\n",
      " [-1.08831452e-01  2.33699826e-01 -3.04957980e-01 -8.30019093e-02\n",
      "   1.07263011e-01  3.26279884e-01  2.18402737e-01  1.51373334e-52\n",
      "   1.00186612e+00 -2.88328023e-45]\n",
      " [-9.05837239e-01 -4.93941908e-01 -1.82499286e-02  7.69176578e-01\n",
      "   2.66302006e-02  9.82183837e-01  1.22939912e-01  4.01900952e-32\n",
      "   5.57864910e-01 -3.84244108e-55]\n",
      " [-3.88622656e-02  1.80321462e-01 -2.02281253e-01 -2.04882517e-01\n",
      "  -6.02356454e-02 -3.92843564e-02 -2.82244880e-01  2.12130861e-53\n",
      "   4.86009228e-01  8.41414347e-51]\n",
      " [ 4.60109655e-01 -2.00297222e-01  6.01458680e-02  3.97500887e-01\n",
      "   1.64434766e-01 -1.84549536e-01  2.11808482e-01  1.16634425e-59\n",
      "   7.15194442e-01 -3.79904580e-37]\n",
      " [ 2.92044779e-02  3.62436044e-02 -6.03497402e-02 -5.20208045e-02\n",
      "  -6.88120010e-02 -1.12696807e-01 -2.78447952e-01  2.18843710e-16\n",
      "   2.94833744e-01 -4.12793477e-45]\n",
      " [ 3.58883391e-01  2.08210136e-01  1.40901102e-01  3.91818017e-01\n",
      "  -1.21212881e-01  1.40508197e-01  1.18081981e-01 -5.90809653e-46\n",
      "  -1.31297095e-01 -8.15288354e-23]\n",
      " [ 2.30366353e-01 -6.25126116e-02 -2.49793061e-01 -1.12833403e-01\n",
      "  -8.80948075e-02 -1.59646733e-01 -1.52595477e-01 -3.87218329e-46\n",
      "  -5.99318623e-01 -1.07286539e-27]\n",
      " [-6.48042740e-02 -3.89276215e-02 -1.52928089e-01  9.28753447e-02\n",
      "  -2.07550852e-01  4.32124203e-01 -2.25327704e-01  4.34884207e-58\n",
      "   1.59685121e-01  9.16756570e-27]\n",
      " [ 7.97066649e-02  2.19580360e-01  3.89605101e-01 -3.06032528e-02\n",
      "   1.85589633e-02  3.42977695e-01  1.21047450e-01 -3.66108883e-25\n",
      "   2.81533136e-01 -1.21424715e-16]]\n"
     ]
    },
    {
     "name": "stderr",
     "output_type": "stream",
     "text": [
      "/opt/anaconda3/lib/python3.7/site-packages/sklearn/neural_network/multilayer_perceptron.py:566: ConvergenceWarning: Stochastic Optimizer: Maximum iterations (2500) reached and the optimization hasn't converged yet.\n",
      "  % self.max_iter, ConvergenceWarning)\n"
     ]
    }
   ],
   "source": [
    "from sklearn.model_selection import train_test_split\n",
    "from sklearn.neural_network import MLPClassifier\n",
    "X = np.array(df_interference.mfcc_new.tolist())\n",
    "y = np.array(df_interference.interference.tolist())\n",
    "y = y.ravel()\n",
    "train_score = []\n",
    "test_score = []\n",
    "y = y.ravel()\n",
    "\n",
    "x_train,x_test,y_train,y_test = train_test_split(X,y,test_size=0.33,random_state=23)\n",
    "clf = MLPClassifier(hidden_layer_sizes=(10,5,3,), activation='relu', solver='adam', alpha=0.0001, batch_size='auto', \n",
    "                   learning_rate='constant', max_iter=2500, verbose = False, random_state=i)\n",
    "\n",
    "clf.fit(x_train,y_train)\n",
    "print(clf.score(x_train,y_train))\n",
    "print(clf.score(x_test,y_test))\n",
    "print(clf.coefs_[0])"
   ]
  },
  {
   "cell_type": "code",
   "execution_count": 90,
   "metadata": {},
   "outputs": [
    {
     "name": "stdout",
     "output_type": "stream",
     "text": [
      "[4 5 5 5 5 3 5 4 4 5 5 5 4 5 5 5 5 4 5 5 5 5 3 5 5 5 5 5 5 5]\n",
      "[4 5 5 3 5 3 5 4 4 5 5 5 4 3 5 3 3 4 3 5 5 3 5 3 3 3 5 3 5 5]\n"
     ]
    }
   ],
   "source": [
    "print(clf.predict(x_test[0:]))\n",
    "print(y_test[0:])"
   ]
  },
  {
   "cell_type": "code",
   "execution_count": 91,
   "metadata": {},
   "outputs": [],
   "source": [
    "def cal_zcr(path):\n",
    "    X,sample_rate = librosa.load(path,res_type='kaiser_fast')\n",
    "    zcr = (librosa.feature.zero_crossing_rate(X,frame_length=2048,hop_length=512,center=True))\n",
    "    return zcr"
   ]
  },
  {
   "cell_type": "code",
   "execution_count": 92,
   "metadata": {},
   "outputs": [
    {
     "name": "stderr",
     "output_type": "stream",
     "text": [
      "/opt/anaconda3/lib/python3.7/site-packages/librosa/core/audio.py:146: UserWarning: PySoundFile failed. Trying audioread instead.\n",
      "  warnings.warn('PySoundFile failed. Trying audioread instead.')\n",
      "/opt/anaconda3/lib/python3.7/site-packages/librosa/core/audio.py:146: UserWarning: PySoundFile failed. Trying audioread instead.\n",
      "  warnings.warn('PySoundFile failed. Trying audioread instead.')\n",
      "/opt/anaconda3/lib/python3.7/site-packages/librosa/core/audio.py:146: UserWarning: PySoundFile failed. Trying audioread instead.\n",
      "  warnings.warn('PySoundFile failed. Trying audioread instead.')\n",
      "/opt/anaconda3/lib/python3.7/site-packages/librosa/core/audio.py:146: UserWarning: PySoundFile failed. Trying audioread instead.\n",
      "  warnings.warn('PySoundFile failed. Trying audioread instead.')\n",
      "/opt/anaconda3/lib/python3.7/site-packages/librosa/core/audio.py:146: UserWarning: PySoundFile failed. Trying audioread instead.\n",
      "  warnings.warn('PySoundFile failed. Trying audioread instead.')\n",
      "/opt/anaconda3/lib/python3.7/site-packages/librosa/core/audio.py:146: UserWarning: PySoundFile failed. Trying audioread instead.\n",
      "  warnings.warn('PySoundFile failed. Trying audioread instead.')\n",
      "/opt/anaconda3/lib/python3.7/site-packages/librosa/core/audio.py:146: UserWarning: PySoundFile failed. Trying audioread instead.\n",
      "  warnings.warn('PySoundFile failed. Trying audioread instead.')\n",
      "/opt/anaconda3/lib/python3.7/site-packages/librosa/core/audio.py:146: UserWarning: PySoundFile failed. Trying audioread instead.\n",
      "  warnings.warn('PySoundFile failed. Trying audioread instead.')\n",
      "/opt/anaconda3/lib/python3.7/site-packages/librosa/core/audio.py:146: UserWarning: PySoundFile failed. Trying audioread instead.\n",
      "  warnings.warn('PySoundFile failed. Trying audioread instead.')\n",
      "/opt/anaconda3/lib/python3.7/site-packages/librosa/core/audio.py:146: UserWarning: PySoundFile failed. Trying audioread instead.\n",
      "  warnings.warn('PySoundFile failed. Trying audioread instead.')\n",
      "/opt/anaconda3/lib/python3.7/site-packages/librosa/core/audio.py:146: UserWarning: PySoundFile failed. Trying audioread instead.\n",
      "  warnings.warn('PySoundFile failed. Trying audioread instead.')\n",
      "/opt/anaconda3/lib/python3.7/site-packages/librosa/core/audio.py:146: UserWarning: PySoundFile failed. Trying audioread instead.\n",
      "  warnings.warn('PySoundFile failed. Trying audioread instead.')\n",
      "/opt/anaconda3/lib/python3.7/site-packages/librosa/core/audio.py:146: UserWarning: PySoundFile failed. Trying audioread instead.\n",
      "  warnings.warn('PySoundFile failed. Trying audioread instead.')\n",
      "/opt/anaconda3/lib/python3.7/site-packages/librosa/core/audio.py:146: UserWarning: PySoundFile failed. Trying audioread instead.\n",
      "  warnings.warn('PySoundFile failed. Trying audioread instead.')\n",
      "/opt/anaconda3/lib/python3.7/site-packages/librosa/core/audio.py:146: UserWarning: PySoundFile failed. Trying audioread instead.\n",
      "  warnings.warn('PySoundFile failed. Trying audioread instead.')\n",
      "/opt/anaconda3/lib/python3.7/site-packages/librosa/core/audio.py:146: UserWarning: PySoundFile failed. Trying audioread instead.\n",
      "  warnings.warn('PySoundFile failed. Trying audioread instead.')\n",
      "/opt/anaconda3/lib/python3.7/site-packages/librosa/core/audio.py:146: UserWarning: PySoundFile failed. Trying audioread instead.\n",
      "  warnings.warn('PySoundFile failed. Trying audioread instead.')\n",
      "/opt/anaconda3/lib/python3.7/site-packages/librosa/core/audio.py:146: UserWarning: PySoundFile failed. Trying audioread instead.\n",
      "  warnings.warn('PySoundFile failed. Trying audioread instead.')\n",
      "/opt/anaconda3/lib/python3.7/site-packages/librosa/core/audio.py:146: UserWarning: PySoundFile failed. Trying audioread instead.\n",
      "  warnings.warn('PySoundFile failed. Trying audioread instead.')\n",
      "/opt/anaconda3/lib/python3.7/site-packages/librosa/core/audio.py:146: UserWarning: PySoundFile failed. Trying audioread instead.\n",
      "  warnings.warn('PySoundFile failed. Trying audioread instead.')\n",
      "/opt/anaconda3/lib/python3.7/site-packages/librosa/core/audio.py:146: UserWarning: PySoundFile failed. Trying audioread instead.\n",
      "  warnings.warn('PySoundFile failed. Trying audioread instead.')\n",
      "/opt/anaconda3/lib/python3.7/site-packages/librosa/core/audio.py:146: UserWarning: PySoundFile failed. Trying audioread instead.\n",
      "  warnings.warn('PySoundFile failed. Trying audioread instead.')\n",
      "/opt/anaconda3/lib/python3.7/site-packages/librosa/core/audio.py:146: UserWarning: PySoundFile failed. Trying audioread instead.\n",
      "  warnings.warn('PySoundFile failed. Trying audioread instead.')\n",
      "/opt/anaconda3/lib/python3.7/site-packages/librosa/core/audio.py:146: UserWarning: PySoundFile failed. Trying audioread instead.\n",
      "  warnings.warn('PySoundFile failed. Trying audioread instead.')\n",
      "/opt/anaconda3/lib/python3.7/site-packages/librosa/core/audio.py:146: UserWarning: PySoundFile failed. Trying audioread instead.\n",
      "  warnings.warn('PySoundFile failed. Trying audioread instead.')\n",
      "/opt/anaconda3/lib/python3.7/site-packages/librosa/core/audio.py:146: UserWarning: PySoundFile failed. Trying audioread instead.\n",
      "  warnings.warn('PySoundFile failed. Trying audioread instead.')\n",
      "/opt/anaconda3/lib/python3.7/site-packages/librosa/core/audio.py:146: UserWarning: PySoundFile failed. Trying audioread instead.\n",
      "  warnings.warn('PySoundFile failed. Trying audioread instead.')\n",
      "/opt/anaconda3/lib/python3.7/site-packages/librosa/core/audio.py:146: UserWarning: PySoundFile failed. Trying audioread instead.\n",
      "  warnings.warn('PySoundFile failed. Trying audioread instead.')\n",
      "/opt/anaconda3/lib/python3.7/site-packages/librosa/core/audio.py:146: UserWarning: PySoundFile failed. Trying audioread instead.\n",
      "  warnings.warn('PySoundFile failed. Trying audioread instead.')\n",
      "/opt/anaconda3/lib/python3.7/site-packages/librosa/core/audio.py:146: UserWarning: PySoundFile failed. Trying audioread instead.\n",
      "  warnings.warn('PySoundFile failed. Trying audioread instead.')\n",
      "/opt/anaconda3/lib/python3.7/site-packages/librosa/core/audio.py:146: UserWarning: PySoundFile failed. Trying audioread instead.\n",
      "  warnings.warn('PySoundFile failed. Trying audioread instead.')\n",
      "/opt/anaconda3/lib/python3.7/site-packages/librosa/core/audio.py:146: UserWarning: PySoundFile failed. Trying audioread instead.\n",
      "  warnings.warn('PySoundFile failed. Trying audioread instead.')\n",
      "/opt/anaconda3/lib/python3.7/site-packages/librosa/core/audio.py:146: UserWarning: PySoundFile failed. Trying audioread instead.\n",
      "  warnings.warn('PySoundFile failed. Trying audioread instead.')\n",
      "/opt/anaconda3/lib/python3.7/site-packages/librosa/core/audio.py:146: UserWarning: PySoundFile failed. Trying audioread instead.\n",
      "  warnings.warn('PySoundFile failed. Trying audioread instead.')\n",
      "/opt/anaconda3/lib/python3.7/site-packages/librosa/core/audio.py:146: UserWarning: PySoundFile failed. Trying audioread instead.\n",
      "  warnings.warn('PySoundFile failed. Trying audioread instead.')\n",
      "/opt/anaconda3/lib/python3.7/site-packages/librosa/core/audio.py:146: UserWarning: PySoundFile failed. Trying audioread instead.\n",
      "  warnings.warn('PySoundFile failed. Trying audioread instead.')\n",
      "/opt/anaconda3/lib/python3.7/site-packages/librosa/core/audio.py:146: UserWarning: PySoundFile failed. Trying audioread instead.\n",
      "  warnings.warn('PySoundFile failed. Trying audioread instead.')\n",
      "/opt/anaconda3/lib/python3.7/site-packages/librosa/core/audio.py:146: UserWarning: PySoundFile failed. Trying audioread instead.\n",
      "  warnings.warn('PySoundFile failed. Trying audioread instead.')\n",
      "/opt/anaconda3/lib/python3.7/site-packages/librosa/core/audio.py:146: UserWarning: PySoundFile failed. Trying audioread instead.\n",
      "  warnings.warn('PySoundFile failed. Trying audioread instead.')\n",
      "/opt/anaconda3/lib/python3.7/site-packages/librosa/core/audio.py:146: UserWarning: PySoundFile failed. Trying audioread instead.\n",
      "  warnings.warn('PySoundFile failed. Trying audioread instead.')\n",
      "/opt/anaconda3/lib/python3.7/site-packages/librosa/core/audio.py:146: UserWarning: PySoundFile failed. Trying audioread instead.\n",
      "  warnings.warn('PySoundFile failed. Trying audioread instead.')\n",
      "/opt/anaconda3/lib/python3.7/site-packages/librosa/core/audio.py:146: UserWarning: PySoundFile failed. Trying audioread instead.\n",
      "  warnings.warn('PySoundFile failed. Trying audioread instead.')\n",
      "/opt/anaconda3/lib/python3.7/site-packages/librosa/core/audio.py:146: UserWarning: PySoundFile failed. Trying audioread instead.\n",
      "  warnings.warn('PySoundFile failed. Trying audioread instead.')\n",
      "/opt/anaconda3/lib/python3.7/site-packages/librosa/core/audio.py:146: UserWarning: PySoundFile failed. Trying audioread instead.\n",
      "  warnings.warn('PySoundFile failed. Trying audioread instead.')\n",
      "/opt/anaconda3/lib/python3.7/site-packages/librosa/core/audio.py:146: UserWarning: PySoundFile failed. Trying audioread instead.\n",
      "  warnings.warn('PySoundFile failed. Trying audioread instead.')\n",
      "/opt/anaconda3/lib/python3.7/site-packages/librosa/core/audio.py:146: UserWarning: PySoundFile failed. Trying audioread instead.\n",
      "  warnings.warn('PySoundFile failed. Trying audioread instead.')\n"
     ]
    },
    {
     "name": "stderr",
     "output_type": "stream",
     "text": [
      "/opt/anaconda3/lib/python3.7/site-packages/librosa/core/audio.py:146: UserWarning: PySoundFile failed. Trying audioread instead.\n",
      "  warnings.warn('PySoundFile failed. Trying audioread instead.')\n",
      "/opt/anaconda3/lib/python3.7/site-packages/librosa/core/audio.py:146: UserWarning: PySoundFile failed. Trying audioread instead.\n",
      "  warnings.warn('PySoundFile failed. Trying audioread instead.')\n",
      "/opt/anaconda3/lib/python3.7/site-packages/librosa/core/audio.py:146: UserWarning: PySoundFile failed. Trying audioread instead.\n",
      "  warnings.warn('PySoundFile failed. Trying audioread instead.')\n",
      "/opt/anaconda3/lib/python3.7/site-packages/librosa/core/audio.py:146: UserWarning: PySoundFile failed. Trying audioread instead.\n",
      "  warnings.warn('PySoundFile failed. Trying audioread instead.')\n",
      "/opt/anaconda3/lib/python3.7/site-packages/librosa/core/audio.py:146: UserWarning: PySoundFile failed. Trying audioread instead.\n",
      "  warnings.warn('PySoundFile failed. Trying audioread instead.')\n",
      "/opt/anaconda3/lib/python3.7/site-packages/librosa/core/audio.py:146: UserWarning: PySoundFile failed. Trying audioread instead.\n",
      "  warnings.warn('PySoundFile failed. Trying audioread instead.')\n",
      "/opt/anaconda3/lib/python3.7/site-packages/librosa/core/audio.py:146: UserWarning: PySoundFile failed. Trying audioread instead.\n",
      "  warnings.warn('PySoundFile failed. Trying audioread instead.')\n",
      "/opt/anaconda3/lib/python3.7/site-packages/librosa/core/audio.py:146: UserWarning: PySoundFile failed. Trying audioread instead.\n",
      "  warnings.warn('PySoundFile failed. Trying audioread instead.')\n",
      "/opt/anaconda3/lib/python3.7/site-packages/librosa/core/audio.py:146: UserWarning: PySoundFile failed. Trying audioread instead.\n",
      "  warnings.warn('PySoundFile failed. Trying audioread instead.')\n",
      "/opt/anaconda3/lib/python3.7/site-packages/librosa/core/audio.py:146: UserWarning: PySoundFile failed. Trying audioread instead.\n",
      "  warnings.warn('PySoundFile failed. Trying audioread instead.')\n",
      "/opt/anaconda3/lib/python3.7/site-packages/librosa/core/audio.py:146: UserWarning: PySoundFile failed. Trying audioread instead.\n",
      "  warnings.warn('PySoundFile failed. Trying audioread instead.')\n",
      "/opt/anaconda3/lib/python3.7/site-packages/librosa/core/audio.py:146: UserWarning: PySoundFile failed. Trying audioread instead.\n",
      "  warnings.warn('PySoundFile failed. Trying audioread instead.')\n",
      "/opt/anaconda3/lib/python3.7/site-packages/librosa/core/audio.py:146: UserWarning: PySoundFile failed. Trying audioread instead.\n",
      "  warnings.warn('PySoundFile failed. Trying audioread instead.')\n",
      "/opt/anaconda3/lib/python3.7/site-packages/librosa/core/audio.py:146: UserWarning: PySoundFile failed. Trying audioread instead.\n",
      "  warnings.warn('PySoundFile failed. Trying audioread instead.')\n",
      "/opt/anaconda3/lib/python3.7/site-packages/librosa/core/audio.py:146: UserWarning: PySoundFile failed. Trying audioread instead.\n",
      "  warnings.warn('PySoundFile failed. Trying audioread instead.')\n",
      "/opt/anaconda3/lib/python3.7/site-packages/librosa/core/audio.py:146: UserWarning: PySoundFile failed. Trying audioread instead.\n",
      "  warnings.warn('PySoundFile failed. Trying audioread instead.')\n",
      "/opt/anaconda3/lib/python3.7/site-packages/librosa/core/audio.py:146: UserWarning: PySoundFile failed. Trying audioread instead.\n",
      "  warnings.warn('PySoundFile failed. Trying audioread instead.')\n",
      "/opt/anaconda3/lib/python3.7/site-packages/librosa/core/audio.py:146: UserWarning: PySoundFile failed. Trying audioread instead.\n",
      "  warnings.warn('PySoundFile failed. Trying audioread instead.')\n",
      "/opt/anaconda3/lib/python3.7/site-packages/librosa/core/audio.py:146: UserWarning: PySoundFile failed. Trying audioread instead.\n",
      "  warnings.warn('PySoundFile failed. Trying audioread instead.')\n",
      "/opt/anaconda3/lib/python3.7/site-packages/librosa/core/audio.py:146: UserWarning: PySoundFile failed. Trying audioread instead.\n",
      "  warnings.warn('PySoundFile failed. Trying audioread instead.')\n",
      "/opt/anaconda3/lib/python3.7/site-packages/librosa/core/audio.py:146: UserWarning: PySoundFile failed. Trying audioread instead.\n",
      "  warnings.warn('PySoundFile failed. Trying audioread instead.')\n",
      "/opt/anaconda3/lib/python3.7/site-packages/librosa/core/audio.py:146: UserWarning: PySoundFile failed. Trying audioread instead.\n",
      "  warnings.warn('PySoundFile failed. Trying audioread instead.')\n",
      "/opt/anaconda3/lib/python3.7/site-packages/librosa/core/audio.py:146: UserWarning: PySoundFile failed. Trying audioread instead.\n",
      "  warnings.warn('PySoundFile failed. Trying audioread instead.')\n",
      "/opt/anaconda3/lib/python3.7/site-packages/librosa/core/audio.py:146: UserWarning: PySoundFile failed. Trying audioread instead.\n",
      "  warnings.warn('PySoundFile failed. Trying audioread instead.')\n",
      "/opt/anaconda3/lib/python3.7/site-packages/librosa/core/audio.py:146: UserWarning: PySoundFile failed. Trying audioread instead.\n",
      "  warnings.warn('PySoundFile failed. Trying audioread instead.')\n",
      "/opt/anaconda3/lib/python3.7/site-packages/librosa/core/audio.py:146: UserWarning: PySoundFile failed. Trying audioread instead.\n",
      "  warnings.warn('PySoundFile failed. Trying audioread instead.')\n",
      "/opt/anaconda3/lib/python3.7/site-packages/librosa/core/audio.py:146: UserWarning: PySoundFile failed. Trying audioread instead.\n",
      "  warnings.warn('PySoundFile failed. Trying audioread instead.')\n",
      "/opt/anaconda3/lib/python3.7/site-packages/librosa/core/audio.py:146: UserWarning: PySoundFile failed. Trying audioread instead.\n",
      "  warnings.warn('PySoundFile failed. Trying audioread instead.')\n",
      "/opt/anaconda3/lib/python3.7/site-packages/librosa/core/audio.py:146: UserWarning: PySoundFile failed. Trying audioread instead.\n",
      "  warnings.warn('PySoundFile failed. Trying audioread instead.')\n",
      "/opt/anaconda3/lib/python3.7/site-packages/librosa/core/audio.py:146: UserWarning: PySoundFile failed. Trying audioread instead.\n",
      "  warnings.warn('PySoundFile failed. Trying audioread instead.')\n",
      "/opt/anaconda3/lib/python3.7/site-packages/librosa/core/audio.py:146: UserWarning: PySoundFile failed. Trying audioread instead.\n",
      "  warnings.warn('PySoundFile failed. Trying audioread instead.')\n",
      "/opt/anaconda3/lib/python3.7/site-packages/librosa/core/audio.py:146: UserWarning: PySoundFile failed. Trying audioread instead.\n",
      "  warnings.warn('PySoundFile failed. Trying audioread instead.')\n",
      "/opt/anaconda3/lib/python3.7/site-packages/librosa/core/audio.py:146: UserWarning: PySoundFile failed. Trying audioread instead.\n",
      "  warnings.warn('PySoundFile failed. Trying audioread instead.')\n",
      "/opt/anaconda3/lib/python3.7/site-packages/librosa/core/audio.py:146: UserWarning: PySoundFile failed. Trying audioread instead.\n",
      "  warnings.warn('PySoundFile failed. Trying audioread instead.')\n",
      "/opt/anaconda3/lib/python3.7/site-packages/librosa/core/audio.py:146: UserWarning: PySoundFile failed. Trying audioread instead.\n",
      "  warnings.warn('PySoundFile failed. Trying audioread instead.')\n",
      "/opt/anaconda3/lib/python3.7/site-packages/librosa/core/audio.py:146: UserWarning: PySoundFile failed. Trying audioread instead.\n",
      "  warnings.warn('PySoundFile failed. Trying audioread instead.')\n",
      "/opt/anaconda3/lib/python3.7/site-packages/librosa/core/audio.py:146: UserWarning: PySoundFile failed. Trying audioread instead.\n",
      "  warnings.warn('PySoundFile failed. Trying audioread instead.')\n",
      "/opt/anaconda3/lib/python3.7/site-packages/librosa/core/audio.py:146: UserWarning: PySoundFile failed. Trying audioread instead.\n",
      "  warnings.warn('PySoundFile failed. Trying audioread instead.')\n",
      "/opt/anaconda3/lib/python3.7/site-packages/librosa/core/audio.py:146: UserWarning: PySoundFile failed. Trying audioread instead.\n",
      "  warnings.warn('PySoundFile failed. Trying audioread instead.')\n",
      "/opt/anaconda3/lib/python3.7/site-packages/librosa/core/audio.py:146: UserWarning: PySoundFile failed. Trying audioread instead.\n",
      "  warnings.warn('PySoundFile failed. Trying audioread instead.')\n",
      "/opt/anaconda3/lib/python3.7/site-packages/librosa/core/audio.py:146: UserWarning: PySoundFile failed. Trying audioread instead.\n",
      "  warnings.warn('PySoundFile failed. Trying audioread instead.')\n",
      "/opt/anaconda3/lib/python3.7/site-packages/librosa/core/audio.py:146: UserWarning: PySoundFile failed. Trying audioread instead.\n",
      "  warnings.warn('PySoundFile failed. Trying audioread instead.')\n",
      "/opt/anaconda3/lib/python3.7/site-packages/librosa/core/audio.py:146: UserWarning: PySoundFile failed. Trying audioread instead.\n",
      "  warnings.warn('PySoundFile failed. Trying audioread instead.')\n",
      "/opt/anaconda3/lib/python3.7/site-packages/librosa/core/audio.py:146: UserWarning: PySoundFile failed. Trying audioread instead.\n",
      "  warnings.warn('PySoundFile failed. Trying audioread instead.')\n"
     ]
    }
   ],
   "source": [
    "df_interference['zcr'] = df_interference['path'].apply(cal_zcr)"
   ]
  },
  {
   "cell_type": "code",
   "execution_count": 93,
   "metadata": {},
   "outputs": [
    {
     "data": {
      "text/html": [
       "<div>\n",
       "<style scoped>\n",
       "    .dataframe tbody tr th:only-of-type {\n",
       "        vertical-align: middle;\n",
       "    }\n",
       "\n",
       "    .dataframe tbody tr th {\n",
       "        vertical-align: top;\n",
       "    }\n",
       "\n",
       "    .dataframe thead th {\n",
       "        text-align: right;\n",
       "    }\n",
       "</style>\n",
       "<table border=\"1\" class=\"dataframe\">\n",
       "  <thead>\n",
       "    <tr style=\"text-align: right;\">\n",
       "      <th></th>\n",
       "      <th>interference</th>\n",
       "      <th>mfcc</th>\n",
       "      <th>path</th>\n",
       "      <th>mfcc_new</th>\n",
       "      <th>zcr</th>\n",
       "    </tr>\n",
       "  </thead>\n",
       "  <tbody>\n",
       "    <tr>\n",
       "      <td>0</td>\n",
       "      <td>3</td>\n",
       "      <td>[-131.37686, 227.78185, -96.030304, 54.124985,...</td>\n",
       "      <td>/Users/sanjeevkumar/Desktop/TWR/DATA Samples/I...</td>\n",
       "      <td>[-131.37686, 227.78185, -96.030304, 54.124985,...</td>\n",
       "      <td>[[0.068359375, 0.08740234375, 0.11474609375, 0...</td>\n",
       "    </tr>\n",
       "    <tr>\n",
       "      <td>1</td>\n",
       "      <td>3</td>\n",
       "      <td>[-152.18541, 212.1246, -75.82145, 52.74044, 18...</td>\n",
       "      <td>/Users/sanjeevkumar/Desktop/TWR/DATA Samples/I...</td>\n",
       "      <td>[-152.18541, 212.1246, -75.82145, 52.74044, 18...</td>\n",
       "      <td>[[0.048828125, 0.05810546875, 0.06640625, 0.04...</td>\n",
       "    </tr>\n",
       "    <tr>\n",
       "      <td>2</td>\n",
       "      <td>3</td>\n",
       "      <td>[-154.4152, 207.58583, -83.73171, 49.88308, 11...</td>\n",
       "      <td>/Users/sanjeevkumar/Desktop/TWR/DATA Samples/I...</td>\n",
       "      <td>[-154.4152, 207.58583, -83.73171, 49.88308, 11...</td>\n",
       "      <td>[[0.0517578125, 0.06689453125, 0.07861328125, ...</td>\n",
       "    </tr>\n",
       "    <tr>\n",
       "      <td>3</td>\n",
       "      <td>3</td>\n",
       "      <td>[-165.0797, 206.83765, -102.65477, 52.450253, ...</td>\n",
       "      <td>/Users/sanjeevkumar/Desktop/TWR/DATA Samples/I...</td>\n",
       "      <td>[-165.0797, 206.83765, -102.65477, 52.450253, ...</td>\n",
       "      <td>[[0.09765625, 0.13671875, 0.1806640625, 0.1655...</td>\n",
       "    </tr>\n",
       "    <tr>\n",
       "      <td>4</td>\n",
       "      <td>3</td>\n",
       "      <td>[-146.89711, 219.33466, -90.32005, 52.043674, ...</td>\n",
       "      <td>/Users/sanjeevkumar/Desktop/TWR/DATA Samples/I...</td>\n",
       "      <td>[-146.89711, 219.33466, -90.32005, 52.043674, ...</td>\n",
       "      <td>[[0.0595703125, 0.080078125, 0.10400390625, 0....</td>\n",
       "    </tr>\n",
       "  </tbody>\n",
       "</table>\n",
       "</div>"
      ],
      "text/plain": [
       "   interference                                               mfcc  \\\n",
       "0             3  [-131.37686, 227.78185, -96.030304, 54.124985,...   \n",
       "1             3  [-152.18541, 212.1246, -75.82145, 52.74044, 18...   \n",
       "2             3  [-154.4152, 207.58583, -83.73171, 49.88308, 11...   \n",
       "3             3  [-165.0797, 206.83765, -102.65477, 52.450253, ...   \n",
       "4             3  [-146.89711, 219.33466, -90.32005, 52.043674, ...   \n",
       "\n",
       "                                                path  \\\n",
       "0  /Users/sanjeevkumar/Desktop/TWR/DATA Samples/I...   \n",
       "1  /Users/sanjeevkumar/Desktop/TWR/DATA Samples/I...   \n",
       "2  /Users/sanjeevkumar/Desktop/TWR/DATA Samples/I...   \n",
       "3  /Users/sanjeevkumar/Desktop/TWR/DATA Samples/I...   \n",
       "4  /Users/sanjeevkumar/Desktop/TWR/DATA Samples/I...   \n",
       "\n",
       "                                            mfcc_new  \\\n",
       "0  [-131.37686, 227.78185, -96.030304, 54.124985,...   \n",
       "1  [-152.18541, 212.1246, -75.82145, 52.74044, 18...   \n",
       "2  [-154.4152, 207.58583, -83.73171, 49.88308, 11...   \n",
       "3  [-165.0797, 206.83765, -102.65477, 52.450253, ...   \n",
       "4  [-146.89711, 219.33466, -90.32005, 52.043674, ...   \n",
       "\n",
       "                                                 zcr  \n",
       "0  [[0.068359375, 0.08740234375, 0.11474609375, 0...  \n",
       "1  [[0.048828125, 0.05810546875, 0.06640625, 0.04...  \n",
       "2  [[0.0517578125, 0.06689453125, 0.07861328125, ...  \n",
       "3  [[0.09765625, 0.13671875, 0.1806640625, 0.1655...  \n",
       "4  [[0.0595703125, 0.080078125, 0.10400390625, 0....  "
      ]
     },
     "execution_count": 93,
     "metadata": {},
     "output_type": "execute_result"
    }
   ],
   "source": [
    "df_interference.head()"
   ]
  },
  {
   "cell_type": "code",
   "execution_count": null,
   "metadata": {},
   "outputs": [],
   "source": []
  },
  {
   "cell_type": "code",
   "execution_count": null,
   "metadata": {},
   "outputs": [],
   "source": []
  },
  {
   "cell_type": "code",
   "execution_count": null,
   "metadata": {},
   "outputs": [],
   "source": []
  },
  {
   "cell_type": "code",
   "execution_count": null,
   "metadata": {},
   "outputs": [],
   "source": []
  },
  {
   "cell_type": "code",
   "execution_count": null,
   "metadata": {},
   "outputs": [],
   "source": []
  },
  {
   "cell_type": "markdown",
   "metadata": {},
   "source": [
    "# ZCR (Zero Crossing Rate) Plot"
   ]
  },
  {
   "cell_type": "code",
   "execution_count": 94,
   "metadata": {},
   "outputs": [],
   "source": [
    "p1 = np.array(df_interference['zcr'][0][0].tolist())\n",
    "p1 = p1[:100]\n",
    "p2 = np.array(df_interference['zcr'][30][0].tolist())\n",
    "p2 = p2[:100]\n",
    "p3 = np.array(df_interference['zcr'][50][0].tolist())\n",
    "p3= p3[:100]"
   ]
  },
  {
   "cell_type": "code",
   "execution_count": 95,
   "metadata": {},
   "outputs": [
    {
     "data": {
      "image/png": "[encoded data removed]",
      "text/plain": [
       "<Figure size 432x288 with 1 Axes>"
      ]
     },
     "metadata": {
      "needs_background": "light"
     },
     "output_type": "display_data"
    },
    {
     "data": {
      "image/png": "[encoded data removed]",
      "text/plain": [
       "<Figure size 432x288 with 1 Axes>"
      ]
     },
     "metadata": {
      "needs_background": "light"
     },
     "output_type": "display_data"
    },
    {
     "data": {
      "image/png": "[encoded data removed]",
      "text/plain": [
       "<Figure size 432x288 with 1 Axes>"
      ]
     },
     "metadata": {
      "needs_background": "light"
     },
     "output_type": "display_data"
    }
   ],
   "source": [
    "plt.plot(p1)\n",
    "plt.title('I-3')\n",
    "plt.show()\n",
    "plt.plot(p2)\n",
    "plt.title('I-4')\n",
    "plt.show()\n",
    "plt.plot(p3)\n",
    "plt.title('I-5')\n",
    "plt.show()"
   ]
  },
  {
   "cell_type": "code",
   "execution_count": 96,
   "metadata": {},
   "outputs": [
    {
     "data": {
      "image/png": "[encoded data removed]",
      "text/plain": [
       "<Figure size 432x288 with 1 Axes>"
      ]
     },
     "metadata": {
      "needs_background": "light"
     },
     "output_type": "display_data"
    },
    {
     "data": {
      "image/png": "[encoded data removed]",
      "text/plain": [
       "<Figure size 432x288 with 1 Axes>"
      ]
     },
     "metadata": {
      "needs_background": "light"
     },
     "output_type": "display_data"
    },
    {
     "data": {
      "image/png": "[encoded data removed]",
      "text/plain": [
       "<Figure size 432x288 with 1 Axes>"
      ]
     },
     "metadata": {
      "needs_background": "light"
     },
     "output_type": "display_data"
    }
   ],
   "source": [
    "plt.scatter(p1,p2)\n",
    "plt.title('I-3 vs I-4')\n",
    "plt.show()\n",
    "plt.scatter(p2,p3)\n",
    "plt.title('I-4 vs I-5')\n",
    "plt.show()\n",
    "plt.scatter(p1,p3)\n",
    "plt.title('I-3 vs I-5')\n",
    "plt.show()"
   ]
  },
  {
   "cell_type": "markdown",
   "metadata": {},
   "source": [
    "# Spectral Centroid"
   ]
  },
  {
   "cell_type": "code",
   "execution_count": 97,
   "metadata": {},
   "outputs": [],
   "source": [
    "def cal_sc(path):\n",
    "        X,sample_rate = librosa.load(path,res_type='kaiser_fast')\n",
    "        sc = (librosa.feature.spectral_centroid(X,sr=sample_rate,n_fft=2048,\n",
    "                                                       hop_length=512,freq=None,win_length=None,window='hann',\n",
    "                                                       center=True,pad_mode='reflect'))\n",
    "        return sc"
   ]
  },
  {
   "cell_type": "code",
   "execution_count": 98,
   "metadata": {},
   "outputs": [
    {
     "name": "stderr",
     "output_type": "stream",
     "text": [
      "/opt/anaconda3/lib/python3.7/site-packages/librosa/core/audio.py:146: UserWarning: PySoundFile failed. Trying audioread instead.\n",
      "  warnings.warn('PySoundFile failed. Trying audioread instead.')\n",
      "/opt/anaconda3/lib/python3.7/site-packages/librosa/core/audio.py:146: UserWarning: PySoundFile failed. Trying audioread instead.\n",
      "  warnings.warn('PySoundFile failed. Trying audioread instead.')\n",
      "/opt/anaconda3/lib/python3.7/site-packages/librosa/core/audio.py:146: UserWarning: PySoundFile failed. Trying audioread instead.\n",
      "  warnings.warn('PySoundFile failed. Trying audioread instead.')\n",
      "/opt/anaconda3/lib/python3.7/site-packages/librosa/core/audio.py:146: UserWarning: PySoundFile failed. Trying audioread instead.\n",
      "  warnings.warn('PySoundFile failed. Trying audioread instead.')\n",
      "/opt/anaconda3/lib/python3.7/site-packages/librosa/core/audio.py:146: UserWarning: PySoundFile failed. Trying audioread instead.\n",
      "  warnings.warn('PySoundFile failed. Trying audioread instead.')\n",
      "/opt/anaconda3/lib/python3.7/site-packages/librosa/core/audio.py:146: UserWarning: PySoundFile failed. Trying audioread instead.\n",
      "  warnings.warn('PySoundFile failed. Trying audioread instead.')\n",
      "/opt/anaconda3/lib/python3.7/site-packages/librosa/core/audio.py:146: UserWarning: PySoundFile failed. Trying audioread instead.\n",
      "  warnings.warn('PySoundFile failed. Trying audioread instead.')\n",
      "/opt/anaconda3/lib/python3.7/site-packages/librosa/core/audio.py:146: UserWarning: PySoundFile failed. Trying audioread instead.\n",
      "  warnings.warn('PySoundFile failed. Trying audioread instead.')\n",
      "/opt/anaconda3/lib/python3.7/site-packages/librosa/core/audio.py:146: UserWarning: PySoundFile failed. Trying audioread instead.\n",
      "  warnings.warn('PySoundFile failed. Trying audioread instead.')\n",
      "/opt/anaconda3/lib/python3.7/site-packages/librosa/core/audio.py:146: UserWarning: PySoundFile failed. Trying audioread instead.\n",
      "  warnings.warn('PySoundFile failed. Trying audioread instead.')\n",
      "/opt/anaconda3/lib/python3.7/site-packages/librosa/core/audio.py:146: UserWarning: PySoundFile failed. Trying audioread instead.\n",
      "  warnings.warn('PySoundFile failed. Trying audioread instead.')\n",
      "/opt/anaconda3/lib/python3.7/site-packages/librosa/core/audio.py:146: UserWarning: PySoundFile failed. Trying audioread instead.\n",
      "  warnings.warn('PySoundFile failed. Trying audioread instead.')\n",
      "/opt/anaconda3/lib/python3.7/site-packages/librosa/core/audio.py:146: UserWarning: PySoundFile failed. Trying audioread instead.\n",
      "  warnings.warn('PySoundFile failed. Trying audioread instead.')\n",
      "/opt/anaconda3/lib/python3.7/site-packages/librosa/core/audio.py:146: UserWarning: PySoundFile failed. Trying audioread instead.\n",
      "  warnings.warn('PySoundFile failed. Trying audioread instead.')\n",
      "/opt/anaconda3/lib/python3.7/site-packages/librosa/core/audio.py:146: UserWarning: PySoundFile failed. Trying audioread instead.\n",
      "  warnings.warn('PySoundFile failed. Trying audioread instead.')\n",
      "/opt/anaconda3/lib/python3.7/site-packages/librosa/core/audio.py:146: UserWarning: PySoundFile failed. Trying audioread instead.\n",
      "  warnings.warn('PySoundFile failed. Trying audioread instead.')\n",
      "/opt/anaconda3/lib/python3.7/site-packages/librosa/core/audio.py:146: UserWarning: PySoundFile failed. Trying audioread instead.\n",
      "  warnings.warn('PySoundFile failed. Trying audioread instead.')\n",
      "/opt/anaconda3/lib/python3.7/site-packages/librosa/core/audio.py:146: UserWarning: PySoundFile failed. Trying audioread instead.\n",
      "  warnings.warn('PySoundFile failed. Trying audioread instead.')\n",
      "/opt/anaconda3/lib/python3.7/site-packages/librosa/core/audio.py:146: UserWarning: PySoundFile failed. Trying audioread instead.\n",
      "  warnings.warn('PySoundFile failed. Trying audioread instead.')\n",
      "/opt/anaconda3/lib/python3.7/site-packages/librosa/core/audio.py:146: UserWarning: PySoundFile failed. Trying audioread instead.\n",
      "  warnings.warn('PySoundFile failed. Trying audioread instead.')\n",
      "/opt/anaconda3/lib/python3.7/site-packages/librosa/core/audio.py:146: UserWarning: PySoundFile failed. Trying audioread instead.\n",
      "  warnings.warn('PySoundFile failed. Trying audioread instead.')\n",
      "/opt/anaconda3/lib/python3.7/site-packages/librosa/core/audio.py:146: UserWarning: PySoundFile failed. Trying audioread instead.\n",
      "  warnings.warn('PySoundFile failed. Trying audioread instead.')\n",
      "/opt/anaconda3/lib/python3.7/site-packages/librosa/core/audio.py:146: UserWarning: PySoundFile failed. Trying audioread instead.\n",
      "  warnings.warn('PySoundFile failed. Trying audioread instead.')\n",
      "/opt/anaconda3/lib/python3.7/site-packages/librosa/core/audio.py:146: UserWarning: PySoundFile failed. Trying audioread instead.\n",
      "  warnings.warn('PySoundFile failed. Trying audioread instead.')\n",
      "/opt/anaconda3/lib/python3.7/site-packages/librosa/core/audio.py:146: UserWarning: PySoundFile failed. Trying audioread instead.\n",
      "  warnings.warn('PySoundFile failed. Trying audioread instead.')\n",
      "/opt/anaconda3/lib/python3.7/site-packages/librosa/core/audio.py:146: UserWarning: PySoundFile failed. Trying audioread instead.\n",
      "  warnings.warn('PySoundFile failed. Trying audioread instead.')\n",
      "/opt/anaconda3/lib/python3.7/site-packages/librosa/core/audio.py:146: UserWarning: PySoundFile failed. Trying audioread instead.\n",
      "  warnings.warn('PySoundFile failed. Trying audioread instead.')\n",
      "/opt/anaconda3/lib/python3.7/site-packages/librosa/core/audio.py:146: UserWarning: PySoundFile failed. Trying audioread instead.\n",
      "  warnings.warn('PySoundFile failed. Trying audioread instead.')\n",
      "/opt/anaconda3/lib/python3.7/site-packages/librosa/core/audio.py:146: UserWarning: PySoundFile failed. Trying audioread instead.\n",
      "  warnings.warn('PySoundFile failed. Trying audioread instead.')\n",
      "/opt/anaconda3/lib/python3.7/site-packages/librosa/core/audio.py:146: UserWarning: PySoundFile failed. Trying audioread instead.\n",
      "  warnings.warn('PySoundFile failed. Trying audioread instead.')\n",
      "/opt/anaconda3/lib/python3.7/site-packages/librosa/core/audio.py:146: UserWarning: PySoundFile failed. Trying audioread instead.\n",
      "  warnings.warn('PySoundFile failed. Trying audioread instead.')\n",
      "/opt/anaconda3/lib/python3.7/site-packages/librosa/core/audio.py:146: UserWarning: PySoundFile failed. Trying audioread instead.\n",
      "  warnings.warn('PySoundFile failed. Trying audioread instead.')\n",
      "/opt/anaconda3/lib/python3.7/site-packages/librosa/core/audio.py:146: UserWarning: PySoundFile failed. Trying audioread instead.\n",
      "  warnings.warn('PySoundFile failed. Trying audioread instead.')\n",
      "/opt/anaconda3/lib/python3.7/site-packages/librosa/core/audio.py:146: UserWarning: PySoundFile failed. Trying audioread instead.\n",
      "  warnings.warn('PySoundFile failed. Trying audioread instead.')\n",
      "/opt/anaconda3/lib/python3.7/site-packages/librosa/core/audio.py:146: UserWarning: PySoundFile failed. Trying audioread instead.\n",
      "  warnings.warn('PySoundFile failed. Trying audioread instead.')\n",
      "/opt/anaconda3/lib/python3.7/site-packages/librosa/core/audio.py:146: UserWarning: PySoundFile failed. Trying audioread instead.\n",
      "  warnings.warn('PySoundFile failed. Trying audioread instead.')\n",
      "/opt/anaconda3/lib/python3.7/site-packages/librosa/core/audio.py:146: UserWarning: PySoundFile failed. Trying audioread instead.\n",
      "  warnings.warn('PySoundFile failed. Trying audioread instead.')\n",
      "/opt/anaconda3/lib/python3.7/site-packages/librosa/core/audio.py:146: UserWarning: PySoundFile failed. Trying audioread instead.\n",
      "  warnings.warn('PySoundFile failed. Trying audioread instead.')\n",
      "/opt/anaconda3/lib/python3.7/site-packages/librosa/core/audio.py:146: UserWarning: PySoundFile failed. Trying audioread instead.\n",
      "  warnings.warn('PySoundFile failed. Trying audioread instead.')\n",
      "/opt/anaconda3/lib/python3.7/site-packages/librosa/core/audio.py:146: UserWarning: PySoundFile failed. Trying audioread instead.\n",
      "  warnings.warn('PySoundFile failed. Trying audioread instead.')\n",
      "/opt/anaconda3/lib/python3.7/site-packages/librosa/core/audio.py:146: UserWarning: PySoundFile failed. Trying audioread instead.\n",
      "  warnings.warn('PySoundFile failed. Trying audioread instead.')\n",
      "/opt/anaconda3/lib/python3.7/site-packages/librosa/core/audio.py:146: UserWarning: PySoundFile failed. Trying audioread instead.\n",
      "  warnings.warn('PySoundFile failed. Trying audioread instead.')\n",
      "/opt/anaconda3/lib/python3.7/site-packages/librosa/core/audio.py:146: UserWarning: PySoundFile failed. Trying audioread instead.\n",
      "  warnings.warn('PySoundFile failed. Trying audioread instead.')\n",
      "/opt/anaconda3/lib/python3.7/site-packages/librosa/core/audio.py:146: UserWarning: PySoundFile failed. Trying audioread instead.\n",
      "  warnings.warn('PySoundFile failed. Trying audioread instead.')\n",
      "/opt/anaconda3/lib/python3.7/site-packages/librosa/core/audio.py:146: UserWarning: PySoundFile failed. Trying audioread instead.\n",
      "  warnings.warn('PySoundFile failed. Trying audioread instead.')\n",
      "/opt/anaconda3/lib/python3.7/site-packages/librosa/core/audio.py:146: UserWarning: PySoundFile failed. Trying audioread instead.\n",
      "  warnings.warn('PySoundFile failed. Trying audioread instead.')\n"
     ]
    },
    {
     "name": "stderr",
     "output_type": "stream",
     "text": [
      "/opt/anaconda3/lib/python3.7/site-packages/librosa/core/audio.py:146: UserWarning: PySoundFile failed. Trying audioread instead.\n",
      "  warnings.warn('PySoundFile failed. Trying audioread instead.')\n",
      "/opt/anaconda3/lib/python3.7/site-packages/librosa/core/audio.py:146: UserWarning: PySoundFile failed. Trying audioread instead.\n",
      "  warnings.warn('PySoundFile failed. Trying audioread instead.')\n",
      "/opt/anaconda3/lib/python3.7/site-packages/librosa/core/audio.py:146: UserWarning: PySoundFile failed. Trying audioread instead.\n",
      "  warnings.warn('PySoundFile failed. Trying audioread instead.')\n",
      "/opt/anaconda3/lib/python3.7/site-packages/librosa/core/audio.py:146: UserWarning: PySoundFile failed. Trying audioread instead.\n",
      "  warnings.warn('PySoundFile failed. Trying audioread instead.')\n",
      "/opt/anaconda3/lib/python3.7/site-packages/librosa/core/audio.py:146: UserWarning: PySoundFile failed. Trying audioread instead.\n",
      "  warnings.warn('PySoundFile failed. Trying audioread instead.')\n",
      "/opt/anaconda3/lib/python3.7/site-packages/librosa/core/audio.py:146: UserWarning: PySoundFile failed. Trying audioread instead.\n",
      "  warnings.warn('PySoundFile failed. Trying audioread instead.')\n",
      "/opt/anaconda3/lib/python3.7/site-packages/librosa/core/audio.py:146: UserWarning: PySoundFile failed. Trying audioread instead.\n",
      "  warnings.warn('PySoundFile failed. Trying audioread instead.')\n",
      "/opt/anaconda3/lib/python3.7/site-packages/librosa/core/audio.py:146: UserWarning: PySoundFile failed. Trying audioread instead.\n",
      "  warnings.warn('PySoundFile failed. Trying audioread instead.')\n",
      "/opt/anaconda3/lib/python3.7/site-packages/librosa/core/audio.py:146: UserWarning: PySoundFile failed. Trying audioread instead.\n",
      "  warnings.warn('PySoundFile failed. Trying audioread instead.')\n",
      "/opt/anaconda3/lib/python3.7/site-packages/librosa/core/audio.py:146: UserWarning: PySoundFile failed. Trying audioread instead.\n",
      "  warnings.warn('PySoundFile failed. Trying audioread instead.')\n",
      "/opt/anaconda3/lib/python3.7/site-packages/librosa/core/audio.py:146: UserWarning: PySoundFile failed. Trying audioread instead.\n",
      "  warnings.warn('PySoundFile failed. Trying audioread instead.')\n",
      "/opt/anaconda3/lib/python3.7/site-packages/librosa/core/audio.py:146: UserWarning: PySoundFile failed. Trying audioread instead.\n",
      "  warnings.warn('PySoundFile failed. Trying audioread instead.')\n",
      "/opt/anaconda3/lib/python3.7/site-packages/librosa/core/audio.py:146: UserWarning: PySoundFile failed. Trying audioread instead.\n",
      "  warnings.warn('PySoundFile failed. Trying audioread instead.')\n",
      "/opt/anaconda3/lib/python3.7/site-packages/librosa/core/audio.py:146: UserWarning: PySoundFile failed. Trying audioread instead.\n",
      "  warnings.warn('PySoundFile failed. Trying audioread instead.')\n",
      "/opt/anaconda3/lib/python3.7/site-packages/librosa/core/audio.py:146: UserWarning: PySoundFile failed. Trying audioread instead.\n",
      "  warnings.warn('PySoundFile failed. Trying audioread instead.')\n",
      "/opt/anaconda3/lib/python3.7/site-packages/librosa/core/audio.py:146: UserWarning: PySoundFile failed. Trying audioread instead.\n",
      "  warnings.warn('PySoundFile failed. Trying audioread instead.')\n",
      "/opt/anaconda3/lib/python3.7/site-packages/librosa/core/audio.py:146: UserWarning: PySoundFile failed. Trying audioread instead.\n",
      "  warnings.warn('PySoundFile failed. Trying audioread instead.')\n",
      "/opt/anaconda3/lib/python3.7/site-packages/librosa/core/audio.py:146: UserWarning: PySoundFile failed. Trying audioread instead.\n",
      "  warnings.warn('PySoundFile failed. Trying audioread instead.')\n",
      "/opt/anaconda3/lib/python3.7/site-packages/librosa/core/audio.py:146: UserWarning: PySoundFile failed. Trying audioread instead.\n",
      "  warnings.warn('PySoundFile failed. Trying audioread instead.')\n",
      "/opt/anaconda3/lib/python3.7/site-packages/librosa/core/audio.py:146: UserWarning: PySoundFile failed. Trying audioread instead.\n",
      "  warnings.warn('PySoundFile failed. Trying audioread instead.')\n",
      "/opt/anaconda3/lib/python3.7/site-packages/librosa/core/audio.py:146: UserWarning: PySoundFile failed. Trying audioread instead.\n",
      "  warnings.warn('PySoundFile failed. Trying audioread instead.')\n",
      "/opt/anaconda3/lib/python3.7/site-packages/librosa/core/audio.py:146: UserWarning: PySoundFile failed. Trying audioread instead.\n",
      "  warnings.warn('PySoundFile failed. Trying audioread instead.')\n",
      "/opt/anaconda3/lib/python3.7/site-packages/librosa/core/audio.py:146: UserWarning: PySoundFile failed. Trying audioread instead.\n",
      "  warnings.warn('PySoundFile failed. Trying audioread instead.')\n",
      "/opt/anaconda3/lib/python3.7/site-packages/librosa/core/audio.py:146: UserWarning: PySoundFile failed. Trying audioread instead.\n",
      "  warnings.warn('PySoundFile failed. Trying audioread instead.')\n",
      "/opt/anaconda3/lib/python3.7/site-packages/librosa/core/audio.py:146: UserWarning: PySoundFile failed. Trying audioread instead.\n",
      "  warnings.warn('PySoundFile failed. Trying audioread instead.')\n",
      "/opt/anaconda3/lib/python3.7/site-packages/librosa/core/audio.py:146: UserWarning: PySoundFile failed. Trying audioread instead.\n",
      "  warnings.warn('PySoundFile failed. Trying audioread instead.')\n",
      "/opt/anaconda3/lib/python3.7/site-packages/librosa/core/audio.py:146: UserWarning: PySoundFile failed. Trying audioread instead.\n",
      "  warnings.warn('PySoundFile failed. Trying audioread instead.')\n",
      "/opt/anaconda3/lib/python3.7/site-packages/librosa/core/audio.py:146: UserWarning: PySoundFile failed. Trying audioread instead.\n",
      "  warnings.warn('PySoundFile failed. Trying audioread instead.')\n",
      "/opt/anaconda3/lib/python3.7/site-packages/librosa/core/audio.py:146: UserWarning: PySoundFile failed. Trying audioread instead.\n",
      "  warnings.warn('PySoundFile failed. Trying audioread instead.')\n",
      "/opt/anaconda3/lib/python3.7/site-packages/librosa/core/audio.py:146: UserWarning: PySoundFile failed. Trying audioread instead.\n",
      "  warnings.warn('PySoundFile failed. Trying audioread instead.')\n",
      "/opt/anaconda3/lib/python3.7/site-packages/librosa/core/audio.py:146: UserWarning: PySoundFile failed. Trying audioread instead.\n",
      "  warnings.warn('PySoundFile failed. Trying audioread instead.')\n",
      "/opt/anaconda3/lib/python3.7/site-packages/librosa/core/audio.py:146: UserWarning: PySoundFile failed. Trying audioread instead.\n",
      "  warnings.warn('PySoundFile failed. Trying audioread instead.')\n",
      "/opt/anaconda3/lib/python3.7/site-packages/librosa/core/audio.py:146: UserWarning: PySoundFile failed. Trying audioread instead.\n",
      "  warnings.warn('PySoundFile failed. Trying audioread instead.')\n",
      "/opt/anaconda3/lib/python3.7/site-packages/librosa/core/audio.py:146: UserWarning: PySoundFile failed. Trying audioread instead.\n",
      "  warnings.warn('PySoundFile failed. Trying audioread instead.')\n",
      "/opt/anaconda3/lib/python3.7/site-packages/librosa/core/audio.py:146: UserWarning: PySoundFile failed. Trying audioread instead.\n",
      "  warnings.warn('PySoundFile failed. Trying audioread instead.')\n",
      "/opt/anaconda3/lib/python3.7/site-packages/librosa/core/audio.py:146: UserWarning: PySoundFile failed. Trying audioread instead.\n",
      "  warnings.warn('PySoundFile failed. Trying audioread instead.')\n",
      "/opt/anaconda3/lib/python3.7/site-packages/librosa/core/audio.py:146: UserWarning: PySoundFile failed. Trying audioread instead.\n",
      "  warnings.warn('PySoundFile failed. Trying audioread instead.')\n",
      "/opt/anaconda3/lib/python3.7/site-packages/librosa/core/audio.py:146: UserWarning: PySoundFile failed. Trying audioread instead.\n",
      "  warnings.warn('PySoundFile failed. Trying audioread instead.')\n",
      "/opt/anaconda3/lib/python3.7/site-packages/librosa/core/audio.py:146: UserWarning: PySoundFile failed. Trying audioread instead.\n",
      "  warnings.warn('PySoundFile failed. Trying audioread instead.')\n",
      "/opt/anaconda3/lib/python3.7/site-packages/librosa/core/audio.py:146: UserWarning: PySoundFile failed. Trying audioread instead.\n",
      "  warnings.warn('PySoundFile failed. Trying audioread instead.')\n",
      "/opt/anaconda3/lib/python3.7/site-packages/librosa/core/audio.py:146: UserWarning: PySoundFile failed. Trying audioread instead.\n",
      "  warnings.warn('PySoundFile failed. Trying audioread instead.')\n",
      "/opt/anaconda3/lib/python3.7/site-packages/librosa/core/audio.py:146: UserWarning: PySoundFile failed. Trying audioread instead.\n",
      "  warnings.warn('PySoundFile failed. Trying audioread instead.')\n",
      "/opt/anaconda3/lib/python3.7/site-packages/librosa/core/audio.py:146: UserWarning: PySoundFile failed. Trying audioread instead.\n",
      "  warnings.warn('PySoundFile failed. Trying audioread instead.')\n",
      "/opt/anaconda3/lib/python3.7/site-packages/librosa/core/audio.py:146: UserWarning: PySoundFile failed. Trying audioread instead.\n",
      "  warnings.warn('PySoundFile failed. Trying audioread instead.')\n"
     ]
    }
   ],
   "source": [
    "df_interference['sc'] = df_interference['path'].apply(cal_sc)"
   ]
  },
  {
   "cell_type": "code",
   "execution_count": 99,
   "metadata": {},
   "outputs": [],
   "source": [
    "p1_sc = np.array(df_interference['zcr'][0][0].tolist())\n",
    "p1_sc = p1[:200]\n",
    "p2_sc = np.array(df_interference['zcr'][30][0].tolist())\n",
    "p2_sc = p2[:200]\n",
    "p3_sc = np.array(df_interference['zcr'][50][0].tolist())\n",
    "p3_sc= p3[:200]"
   ]
  },
  {
   "cell_type": "code",
   "execution_count": 100,
   "metadata": {},
   "outputs": [
    {
     "data": {
      "image/png": "[encoded data removed]",
      "text/plain": [
       "<Figure size 432x288 with 1 Axes>"
      ]
     },
     "metadata": {
      "needs_background": "light"
     },
     "output_type": "display_data"
    },
    {
     "data": {
      "image/png": "[encoded data removed]",
      "text/plain": [
       "<Figure size 432x288 with 1 Axes>"
      ]
     },
     "metadata": {
      "needs_background": "light"
     },
     "output_type": "display_data"
    },
    {
     "data": {
      "image/png": "[encoded data removed]",
      "text/plain": [
       "<Figure size 432x288 with 1 Axes>"
      ]
     },
     "metadata": {
      "needs_background": "light"
     },
     "output_type": "display_data"
    }
   ],
   "source": [
    "plt.plot(p1_sc)\n",
    "plt.title('I-3')\n",
    "plt.show()\n",
    "plt.plot(p2_sc)\n",
    "plt.title('I-4')\n",
    "plt.show()\n",
    "plt.plot(p3_sc)\n",
    "plt.title('I-5')\n",
    "plt.show()"
   ]
  },
  {
   "cell_type": "code",
   "execution_count": 101,
   "metadata": {},
   "outputs": [
    {
     "data": {
      "image/png": "[encoded data removed]",
      "text/plain": [
       "<Figure size 432x288 with 1 Axes>"
      ]
     },
     "metadata": {
      "needs_background": "light"
     },
     "output_type": "display_data"
    },
    {
     "data": {
      "image/png": "[encoded data removed]",
      "text/plain": [
       "<Figure size 432x288 with 1 Axes>"
      ]
     },
     "metadata": {
      "needs_background": "light"
     },
     "output_type": "display_data"
    },
    {
     "data": {
      "image/png": "[encoded data removed]",
      "text/plain": [
       "<Figure size 432x288 with 1 Axes>"
      ]
     },
     "metadata": {
      "needs_background": "light"
     },
     "output_type": "display_data"
    }
   ],
   "source": [
    "plt.scatter(p1_sc,p2_sc)\n",
    "plt.title('I-3 vs I-4')\n",
    "plt.show()\n",
    "plt.scatter(p2_sc,p3_sc)\n",
    "plt.title('I-4 vs I-5')\n",
    "plt.show()\n",
    "plt.scatter(p1_sc,p3_sc)\n",
    "plt.title('I-3 vs I-5')\n",
    "plt.show()"
   ]
  },
  {
   "cell_type": "code",
   "execution_count": 102,
   "metadata": {},
   "outputs": [
    {
     "data": {
      "text/plain": [
       "array([0.06640625, 0.08496094, 0.09570312, 0.07275391, 0.05957031,\n",
       "       0.06494141, 0.07421875, 0.08789062, 0.09228516, 0.09521484,\n",
       "       0.11425781, 0.12451172, 0.12792969, 0.12695312, 0.11523438,\n",
       "       0.10498047, 0.09423828, 0.08154297, 0.07958984, 0.09277344,\n",
       "       0.109375  , 0.12011719, 0.109375  , 0.08154297, 0.06054688,\n",
       "       0.04541016, 0.04003906, 0.03515625, 0.03613281, 0.04931641,\n",
       "       0.07080078, 0.08837891, 0.09570312, 0.08935547, 0.06738281,\n",
       "       0.06298828, 0.07421875, 0.09423828, 0.11523438, 0.12646484,\n",
       "       0.12744141, 0.12255859, 0.12597656, 0.11230469, 0.08935547,\n",
       "       0.07080078, 0.05175781, 0.04833984, 0.06103516, 0.06542969,\n",
       "       0.0625    , 0.05810547, 0.05175781, 0.06445312, 0.08691406,\n",
       "       0.11572266, 0.13574219, 0.11132812, 0.08691406, 0.05810547,\n",
       "       0.03759766, 0.04248047, 0.05957031, 0.06640625, 0.06298828,\n",
       "       0.06738281, 0.05761719, 0.05712891, 0.08837891, 0.11523438,\n",
       "       0.13818359, 0.14941406, 0.15332031, 0.15478516, 0.15234375,\n",
       "       0.17333984, 0.17431641, 0.17236328, 0.16894531, 0.15625   ,\n",
       "       0.14941406, 0.14306641, 0.15722656, 0.15869141, 0.15332031,\n",
       "       0.16503906, 0.15917969, 0.16357422, 0.16894531, 0.16210938,\n",
       "       0.15625   , 0.14599609, 0.13867188, 0.13330078, 0.125     ,\n",
       "       0.12988281, 0.13867188, 0.14550781, 0.16259766, 0.16503906])"
      ]
     },
     "execution_count": 102,
     "metadata": {},
     "output_type": "execute_result"
    }
   ],
   "source": [
    "p2"
   ]
  },
  {
   "cell_type": "code",
   "execution_count": null,
   "metadata": {},
   "outputs": [],
   "source": []
  }
 ],
 "metadata": {
  "kernelspec": {
   "display_name": "Python 3",
   "language": "python",
   "name": "python3"
  },
  "language_info": {
   "codemirror_mode": {
    "name": "ipython",
    "version": 3
   },
   "file_extension": ".py",
   "mimetype": "text/x-python",
   "name": "python",
   "nbconvert_exporter": "python",
   "pygments_lexer": "ipython3",
   "version": "3.7.4"
  }
 },
 "nbformat": 4,
 "nbformat_minor": 2
}
