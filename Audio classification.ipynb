{
 "cells": [
  {
   "cell_type": "code",
   "execution_count": 248,
   "metadata": {},
   "outputs": [],
   "source": [
    "import librosa\n",
    "import matplotlib.pyplot as plt\n",
    "import librosa.display\n",
    "import pandas as pd\n",
    "import numpy as np\n",
    "from sklearn import metrics"
   ]
  },
  {
   "cell_type": "code",
   "execution_count": 249,
   "metadata": {},
   "outputs": [
    {
     "name": "stdout",
     "output_type": "stream",
     "text": [
      "(5435, 2)\n",
      "   ID         Class\n",
      "0   0         siren\n",
      "1   1  street_music\n",
      "2   2      drilling\n",
      "3   3         siren\n",
      "4   4      dog_bark\n"
     ]
    }
   ],
   "source": [
    "data_label = pd.read_csv('train/train.csv')\n",
    "print(data_label.shape)\n",
    "print(data_label.head())"
   ]
  },
  {
   "cell_type": "code",
   "execution_count": 250,
   "metadata": {},
   "outputs": [],
   "source": [
    "path_list_all = []\n",
    "path_class_list = []\n",
    "for ID in data_label:\n",
    "    path = 'train/Train/'+data_label.ID.astype(str)+'.wav'\n",
    "    path_class = data_label.Class\n",
    "    path_list_all.append(path)\n",
    "    path_class_list.append(path_class)"
   ]
  },
  {
   "cell_type": "code",
   "execution_count": 251,
   "metadata": {},
   "outputs": [],
   "source": [
    "path_list_all_1 = []\n",
    "path_class_list_2 = []\n",
    "for i in range(5435):\n",
    "    path_list_all_1.append(path_list_all[0][i])\n",
    "    path_class_list_2.append(path_class_list[0][i])"
   ]
  },
  {
   "cell_type": "code",
   "execution_count": 252,
   "metadata": {},
   "outputs": [],
   "source": [
    "path_df = pd.DataFrame(list(zip(path_list_all_1,path_class_list_2)),columns=['path','label'])"
   ]
  },
  {
   "cell_type": "code",
   "execution_count": 253,
   "metadata": {},
   "outputs": [
    {
     "data": {
      "text/html": [
       "<div>\n",
       "<style scoped>\n",
       "    .dataframe tbody tr th:only-of-type {\n",
       "        vertical-align: middle;\n",
       "    }\n",
       "\n",
       "    .dataframe tbody tr th {\n",
       "        vertical-align: top;\n",
       "    }\n",
       "\n",
       "    .dataframe thead th {\n",
       "        text-align: right;\n",
       "    }\n",
       "</style>\n",
       "<table border=\"1\" class=\"dataframe\">\n",
       "  <thead>\n",
       "    <tr style=\"text-align: right;\">\n",
       "      <th></th>\n",
       "      <th>path</th>\n",
       "      <th>label</th>\n",
       "    </tr>\n",
       "  </thead>\n",
       "  <tbody>\n",
       "    <tr>\n",
       "      <td>0</td>\n",
       "      <td>train/Train/0.wav</td>\n",
       "      <td>siren</td>\n",
       "    </tr>\n",
       "    <tr>\n",
       "      <td>1</td>\n",
       "      <td>train/Train/1.wav</td>\n",
       "      <td>street_music</td>\n",
       "    </tr>\n",
       "    <tr>\n",
       "      <td>2</td>\n",
       "      <td>train/Train/2.wav</td>\n",
       "      <td>drilling</td>\n",
       "    </tr>\n",
       "    <tr>\n",
       "      <td>3</td>\n",
       "      <td>train/Train/3.wav</td>\n",
       "      <td>siren</td>\n",
       "    </tr>\n",
       "    <tr>\n",
       "      <td>4</td>\n",
       "      <td>train/Train/4.wav</td>\n",
       "      <td>dog_bark</td>\n",
       "    </tr>\n",
       "  </tbody>\n",
       "</table>\n",
       "</div>"
      ],
      "text/plain": [
       "                path         label\n",
       "0  train/Train/0.wav         siren\n",
       "1  train/Train/1.wav  street_music\n",
       "2  train/Train/2.wav      drilling\n",
       "3  train/Train/3.wav         siren\n",
       "4  train/Train/4.wav      dog_bark"
      ]
     },
     "execution_count": 253,
     "metadata": {},
     "output_type": "execute_result"
    }
   ],
   "source": [
    "path_df.head()"
   ]
  },
  {
   "cell_type": "code",
   "execution_count": null,
   "metadata": {},
   "outputs": [],
   "source": []
  },
  {
   "cell_type": "code",
   "execution_count": null,
   "metadata": {},
   "outputs": [],
   "source": []
  },
  {
   "cell_type": "code",
   "execution_count": 254,
   "metadata": {},
   "outputs": [],
   "source": [
    "#data_label.Class.value_counts()"
   ]
  },
  {
   "cell_type": "code",
   "execution_count": 255,
   "metadata": {},
   "outputs": [],
   "source": [
    "# import random\n",
    "# i=random.choice(data_label.index)\n",
    "# audio_name_id = data_label.ID[i]\n",
    "# audio_name = data_label.Class[i]\n",
    "# print(audio_name)\n",
    "# path = 'train/Train/'+audio_name_id.astype(str)+'.wav'\n",
    "# x, sr = librosa.load(path)\n",
    "# plt.figure(figsize=(12, 4))\n",
    "# librosa.display.waveplot(x, sr=sr)\n",
    "# print(path)"
   ]
  },
  {
   "cell_type": "code",
   "execution_count": 256,
   "metadata": {},
   "outputs": [],
   "source": [
    "def cal_mfcc(path):\n",
    "    X,sample_rate = librosa.load(path,res_type = 'kaiser_fast')\n",
    "    mfcc = np.mean(librosa.feature.mfcc(y=X, sr=sample_rate, n_mfcc=40).T,axis=0)\n",
    "    feature = mfcc\n",
    "    return feature"
   ]
  },
  {
   "cell_type": "code",
   "execution_count": 257,
   "metadata": {},
   "outputs": [],
   "source": [
    "def cal_zcr(path):\n",
    "    X,sample_rate = librosa.load(path,res_type='kaiser_fast')\n",
    "    zcr = np.mean(librosa.feature.zero_crossing_rate(X,frame_length=2048,hop_length=512,center=True))\n",
    "    return zcr"
   ]
  },
  {
   "cell_type": "code",
   "execution_count": 258,
   "metadata": {},
   "outputs": [],
   "source": [
    "def cal_sc(path):\n",
    "        X,sample_rate = librosa.load(path,res_type='kaiser_fast')\n",
    "        sc = (librosa.feature.spectral_centroid(X,sr=sample_rate,n_fft=2048,\n",
    "                                                       hop_length=512,freq=None,win_length=None,window='hann',\n",
    "                                                       center=True,pad_mode='reflect'))\n",
    "        return sc"
   ]
  },
  {
   "cell_type": "code",
   "execution_count": 259,
   "metadata": {},
   "outputs": [],
   "source": [
    "def cal_rms(path):\n",
    "    X,sample_rate = librosa.load(path,res_type='kaiser_fast')\n",
    "    rms = np.mean(librosa.feature.rms(y=X,frame_length=2048,hop_length=512,center=True,pad_mode='reflect'))\n",
    "    return rms"
   ]
  },
  {
   "cell_type": "code",
   "execution_count": 260,
   "metadata": {},
   "outputs": [],
   "source": [
    "def cal_melspectrogram(path):\n",
    "    X,sample_rate = librosa.load(path,res_type='kaiser_fast')\n",
    "    _melspectrogram = np.mean(librosa.feature.melspectrogram(y=X,sr=sample_rate,n_fft=2048,hop_length=512,\n",
    "                                                             win_length=None,window='hann',center=True, \n",
    "                                                             pad_mode='reflect',power=2.0))\n",
    "    return _melspectrogram"
   ]
  },
  {
   "cell_type": "code",
   "execution_count": 261,
   "metadata": {},
   "outputs": [],
   "source": [
    "path_df['rms'] = path_df['path'].apply(cal_rms)"
   ]
  },
  {
   "cell_type": "code",
   "execution_count": 262,
   "metadata": {},
   "outputs": [],
   "source": [
    "path_df['mfcc'] = path_df['path'].apply(cal_mfcc)"
   ]
  },
  {
   "cell_type": "code",
   "execution_count": 263,
   "metadata": {},
   "outputs": [],
   "source": [
    "path_df['melspectrogram'] = path_df['path'].apply(cal_melspectrogram)"
   ]
  },
  {
   "cell_type": "code",
   "execution_count": 264,
   "metadata": {},
   "outputs": [],
   "source": [
    "path_df['zcr'] = path_df['path'].apply(cal_zcr)"
   ]
  },
  {
   "cell_type": "code",
   "execution_count": 265,
   "metadata": {},
   "outputs": [],
   "source": [
    "path_df['sc'] = path_df['path'].apply(cal_sc)"
   ]
  },
  {
   "cell_type": "code",
   "execution_count": 266,
   "metadata": {},
   "outputs": [
    {
     "data": {
      "text/plain": [
       "array([-15.744001  , 124.11996   , -29.42888   ,  39.44719   ,\n",
       "       -23.501917  ,  16.550812  , -21.736814  ,  16.533567  ,\n",
       "       -16.971731  ,   4.483585  , -17.387693  ,   0.737122  ,\n",
       "       -16.289228  ,   5.112149  , -10.559228  ,   2.9178734 ,\n",
       "       -10.390847  ,   0.65130013, -10.046339  ,  -1.7834797 ,\n",
       "        -6.099714  ,   5.6297855 ,  -4.6511116 ,  -1.3691933 ,\n",
       "        -8.249165  ,  -2.361927  ,  -4.796207  ,  -0.5025695 ,\n",
       "        -5.410676  ,   2.078045  ,   7.1860027 ,   8.18575   ,\n",
       "         0.7673603 ,   0.32726124,  -2.2136655 ,  -3.1068382 ,\n",
       "        -5.7238464 ,   0.8237056 ,   1.7193222 ,  -0.33146355],\n",
       "      dtype=float32)"
      ]
     },
     "execution_count": 266,
     "metadata": {},
     "output_type": "execute_result"
    }
   ],
   "source": [
    "path_df['mfcc'][1]"
   ]
  },
  {
   "cell_type": "code",
   "execution_count": 267,
   "metadata": {},
   "outputs": [],
   "source": [
    "path_df['mfcc'] = path_df['mfcc'].apply(pd.to_numeric)"
   ]
  },
  {
   "cell_type": "code",
   "execution_count": 268,
   "metadata": {},
   "outputs": [
    {
     "data": {
      "text/html": [
       "<div>\n",
       "<style scoped>\n",
       "    .dataframe tbody tr th:only-of-type {\n",
       "        vertical-align: middle;\n",
       "    }\n",
       "\n",
       "    .dataframe tbody tr th {\n",
       "        vertical-align: top;\n",
       "    }\n",
       "\n",
       "    .dataframe thead th {\n",
       "        text-align: right;\n",
       "    }\n",
       "</style>\n",
       "<table border=\"1\" class=\"dataframe\">\n",
       "  <thead>\n",
       "    <tr style=\"text-align: right;\">\n",
       "      <th></th>\n",
       "      <th>path</th>\n",
       "      <th>label</th>\n",
       "      <th>rms</th>\n",
       "      <th>mfcc</th>\n",
       "      <th>melspectrogram</th>\n",
       "      <th>zcr</th>\n",
       "      <th>sc</th>\n",
       "    </tr>\n",
       "  </thead>\n",
       "  <tbody>\n",
       "    <tr>\n",
       "      <td>0</td>\n",
       "      <td>train/Train/0.wav</td>\n",
       "      <td>siren</td>\n",
       "      <td>0.107979</td>\n",
       "      <td>[-82.12359, 139.50595, -42.430847, 24.82786, -...</td>\n",
       "      <td>2.618728</td>\n",
       "      <td>0.085286</td>\n",
       "      <td>[[1721.7573842070665, 1756.5329224582442, 1776...</td>\n",
       "    </tr>\n",
       "    <tr>\n",
       "      <td>1</td>\n",
       "      <td>train/Train/1.wav</td>\n",
       "      <td>street_music</td>\n",
       "      <td>0.227405</td>\n",
       "      <td>[-15.744001, 124.11996, -29.42888, 39.44719, -...</td>\n",
       "      <td>11.364860</td>\n",
       "      <td>0.091678</td>\n",
       "      <td>[[1944.4446714720325, 1754.38639470224, 1490.6...</td>\n",
       "    </tr>\n",
       "    <tr>\n",
       "      <td>2</td>\n",
       "      <td>train/Train/2.wav</td>\n",
       "      <td>drilling</td>\n",
       "      <td>0.067240</td>\n",
       "      <td>[-123.393654, 15.181944, -50.093338, 7.141871,...</td>\n",
       "      <td>0.606284</td>\n",
       "      <td>0.314608</td>\n",
       "      <td>[[2637.5527198212058, 2363.7869031161554, 2322...</td>\n",
       "    </tr>\n",
       "    <tr>\n",
       "      <td>3</td>\n",
       "      <td>train/Train/3.wav</td>\n",
       "      <td>siren</td>\n",
       "      <td>0.184036</td>\n",
       "      <td>[-213.2787, 89.323616, -55.256165, 12.632097, ...</td>\n",
       "      <td>7.957627</td>\n",
       "      <td>0.107778</td>\n",
       "      <td>[[2408.419503752015, 2502.4956303337826, 2464....</td>\n",
       "    </tr>\n",
       "    <tr>\n",
       "      <td>4</td>\n",
       "      <td>train/Train/4.wav</td>\n",
       "      <td>dog_bark</td>\n",
       "      <td>0.150679</td>\n",
       "      <td>[-237.9265, 135.90247, 39.26844, 21.24023, 9.5...</td>\n",
       "      <td>9.616514</td>\n",
       "      <td>0.025309</td>\n",
       "      <td>[[1576.293899393653, 1567.6104449351628, 1879....</td>\n",
       "    </tr>\n",
       "  </tbody>\n",
       "</table>\n",
       "</div>"
      ],
      "text/plain": [
       "                path         label       rms  \\\n",
       "0  train/Train/0.wav         siren  0.107979   \n",
       "1  train/Train/1.wav  street_music  0.227405   \n",
       "2  train/Train/2.wav      drilling  0.067240   \n",
       "3  train/Train/3.wav         siren  0.184036   \n",
       "4  train/Train/4.wav      dog_bark  0.150679   \n",
       "\n",
       "                                                mfcc  melspectrogram  \\\n",
       "0  [-82.12359, 139.50595, -42.430847, 24.82786, -...        2.618728   \n",
       "1  [-15.744001, 124.11996, -29.42888, 39.44719, -...       11.364860   \n",
       "2  [-123.393654, 15.181944, -50.093338, 7.141871,...        0.606284   \n",
       "3  [-213.2787, 89.323616, -55.256165, 12.632097, ...        7.957627   \n",
       "4  [-237.9265, 135.90247, 39.26844, 21.24023, 9.5...        9.616514   \n",
       "\n",
       "        zcr                                                 sc  \n",
       "0  0.085286  [[1721.7573842070665, 1756.5329224582442, 1776...  \n",
       "1  0.091678  [[1944.4446714720325, 1754.38639470224, 1490.6...  \n",
       "2  0.314608  [[2637.5527198212058, 2363.7869031161554, 2322...  \n",
       "3  0.107778  [[2408.419503752015, 2502.4956303337826, 2464....  \n",
       "4  0.025309  [[1576.293899393653, 1567.6104449351628, 1879....  "
      ]
     },
     "execution_count": 268,
     "metadata": {},
     "output_type": "execute_result"
    }
   ],
   "source": [
    "path_df.head()       "
   ]
  },
  {
   "cell_type": "code",
   "execution_count": null,
   "metadata": {},
   "outputs": [],
   "source": []
  },
  {
   "cell_type": "code",
   "execution_count": 269,
   "metadata": {},
   "outputs": [],
   "source": [
    "def check_sc(sc):\n",
    "    print(\"Hello\")\n",
    "    print(path_df.sc)\n",
    "    for p in sc:\n",
    "        co = (p.shape)\n",
    "        if co ==(1,173):\n",
    "            return sc\n",
    "        else:\n",
    "            break"
   ]
  },
  {
   "cell_type": "code",
   "execution_count": 270,
   "metadata": {},
   "outputs": [],
   "source": [
    "# path_df['sc'] = path_df['sc'].T.ravel()\n",
    "# sc = path_df['sc']\n",
    "# #path_df[ sc== for p in sc: if p.shape==(1,173)]\n",
    "# path_df['sc'] = path_df['sc'].apply(check_sc)\n",
    "# # for p in sc:\n",
    "# #     print(p.shape)\n",
    "# path_df.head()"
   ]
  },
  {
   "cell_type": "code",
   "execution_count": 271,
   "metadata": {},
   "outputs": [],
   "source": [
    "#column_train = ['mfcc','zcr']"
   ]
  },
  {
   "cell_type": "code",
   "execution_count": 272,
   "metadata": {},
   "outputs": [],
   "source": [
    "X = path_df['mfcc']\n",
    "y = path_df['label']\n",
    "#y.shape\n",
    "#X_1 = X.reshape(-1,1)\n"
   ]
  },
  {
   "cell_type": "code",
   "execution_count": 273,
   "metadata": {},
   "outputs": [
    {
     "name": "stdout",
     "output_type": "stream",
     "text": [
      "(5435,)\n"
     ]
    }
   ],
   "source": [
    "P = np.copy(X)\n",
    "#P.shape\n",
    "#for p in P:\n",
    "#    print(p.shape)\n",
    "print(y.shape)\n",
    "#path_df.label"
   ]
  },
  {
   "cell_type": "code",
   "execution_count": 274,
   "metadata": {},
   "outputs": [
    {
     "name": "stdout",
     "output_type": "stream",
     "text": [
      "0\n"
     ]
    }
   ],
   "source": [
    "P[0].T.ravel().shape\n",
    "count = 0 \n",
    "for p in P:\n",
    "    co = (p.shape)\n",
    "    if co !=(40,):\n",
    "        count = count+1\n",
    "    #if co ==(173,):\n",
    "     #   count = count+1\n",
    "print(count)\n",
    "    #print(count(p.shape)!=((173,) or (1,173))) "
   ]
  },
  {
   "cell_type": "code",
   "execution_count": 275,
   "metadata": {},
   "outputs": [],
   "source": [
    "P_list = [p for p in P]"
   ]
  },
  {
   "cell_type": "code",
   "execution_count": 276,
   "metadata": {},
   "outputs": [],
   "source": [
    "X = np.array(P_list)"
   ]
  },
  {
   "cell_type": "code",
   "execution_count": 277,
   "metadata": {},
   "outputs": [
    {
     "name": "stdout",
     "output_type": "stream",
     "text": [
      "[[-8.21235886e+01  1.39505951e+02 -4.24308472e+01 ... -5.02371252e-01\n",
      "  -2.60428572e+00 -1.05346370e+00]\n",
      " [-1.57440014e+01  1.24119957e+02 -2.94288807e+01 ...  8.23705614e-01\n",
      "   1.71932220e+00 -3.31463546e-01]\n",
      " [-1.23393654e+02  1.51819439e+01 -5.00933380e+01 ...  1.57439053e+00\n",
      "  -3.99674225e+00  3.24575019e+00]\n",
      " ...\n",
      " [-3.20817383e+02  5.83005714e+01 -6.86950397e+00 ...  9.27267194e-01\n",
      "  -4.82822418e+00  2.27338696e+00]\n",
      " [-2.77031799e+02  1.41145706e+02 -3.63291206e+01 ... -8.68412614e-01\n",
      "   1.51832962e+00  1.36296976e+00]\n",
      " [-2.90996765e+02  2.33351517e+02 -4.67234850e+00 ...  2.80950904e-01\n",
      "  -3.52302939e-01 -1.58163998e-02]]\n"
     ]
    }
   ],
   "source": [
    "print(X)"
   ]
  },
  {
   "cell_type": "code",
   "execution_count": 278,
   "metadata": {},
   "outputs": [],
   "source": [
    "#P_sc = path_df['sc']"
   ]
  },
  {
   "cell_type": "code",
   "execution_count": 279,
   "metadata": {},
   "outputs": [],
   "source": [
    "#P_sc_list = [p for p in P_sc]"
   ]
  },
  {
   "cell_type": "code",
   "execution_count": 280,
   "metadata": {},
   "outputs": [],
   "source": [
    "#X = path_df['sc']"
   ]
  },
  {
   "cell_type": "code",
   "execution_count": 281,
   "metadata": {},
   "outputs": [],
   "source": [
    "from sklearn.model_selection import train_test_split\n",
    "x_train,x_test,y_train,y_test = train_test_split(X,y,test_size=0.33,random_state=23)"
   ]
  },
  {
   "cell_type": "code",
   "execution_count": 282,
   "metadata": {},
   "outputs": [
    {
     "name": "stdout",
     "output_type": "stream",
     "text": [
      "0.9865421587475968\n",
      "0.8405797101449275\n"
     ]
    }
   ],
   "source": [
    "from sklearn.neural_network import MLPClassifier\n",
    "#60,40,10,\n",
    "clf = MLPClassifier(hidden_layer_sizes=(60,40,10,), activation='relu', solver='adam', alpha=0.0001, batch_size='auto', \n",
    "                   learning_rate='constant', max_iter=1000, verbose = False, random_state=5)\n",
    "\n",
    "clf.fit(x_train,y_train)\n",
    "print(clf.score(x_train,y_train))\n",
    "print(clf.score(x_test,y_test))"
   ]
  },
  {
   "cell_type": "code",
   "execution_count": 283,
   "metadata": {},
   "outputs": [
    {
     "name": "stdout",
     "output_type": "stream",
     "text": [
      "['car_horn' 'children_playing' 'jackhammer' 'dog_bark' 'siren' 'siren'\n",
      " 'car_horn' 'children_playing' 'siren' 'engine_idling']\n",
      "558             car_horn\n",
      "4807    children_playing\n",
      "2045          jackhammer\n",
      "1405     air_conditioner\n",
      "2830               siren\n",
      "4773               siren\n",
      "5067            car_horn\n",
      "476     children_playing\n",
      "1977               siren\n",
      "4571       engine_idling\n",
      "Name: label, dtype: object\n"
     ]
    }
   ],
   "source": [
    "print(clf.predict(x_test[0:10]))\n",
    "print(y_test[0:10])"
   ]
  },
  {
   "cell_type": "markdown",
   "metadata": {},
   "source": [
    "# Testing"
   ]
  },
  {
   "cell_type": "code",
   "execution_count": 153,
   "metadata": {},
   "outputs": [
    {
     "name": "stdout",
     "output_type": "stream",
     "text": [
      "0.9865421587475968\n",
      "0.8405797101449275\n"
     ]
    }
   ],
   "source": [
    "from sklearn.neural_network import MLPClassifier\n",
    "#60,40,10,\n",
    "clf = MLPClassifier(hidden_layer_sizes=(60,40,10,), activation='relu', solver='adam', alpha=0.0001, batch_size='auto', \n",
    "                   learning_rate='constant', max_iter=1000, verbose = False, random_state=5)\n",
    "\n",
    "clf.fit(x_train,y_train)\n",
    "print(clf.score(x_train,y_train))\n",
    "print(clf.score(x_test,y_test))"
   ]
  },
  {
   "cell_type": "code",
   "execution_count": 86,
   "metadata": {},
   "outputs": [],
   "source": [
    "from sklearn.model_selection import train_test_split\n",
    "x_train,x_test,y_train,y_test = train_test_split(X_t,y_t,test_size=0.33,random_state=23)"
   ]
  },
  {
   "cell_type": "code",
   "execution_count": 85,
   "metadata": {},
   "outputs": [],
   "source": [
    "column_train = ['melspectrogram','rms']\n",
    "X_t = path_df[column_train]\n",
    "y_t = path_df['label']"
   ]
  },
  {
   "cell_type": "code",
   "execution_count": 88,
   "metadata": {},
   "outputs": [
    {
     "name": "stdout",
     "output_type": "stream",
     "text": [
      "['siren' 'children_playing' 'engine_idling' 'siren' 'siren' 'siren'\n",
      " 'dog_bark' 'children_playing' 'children_playing' 'jackhammer']\n",
      "558             car_horn\n",
      "4807    children_playing\n",
      "2045          jackhammer\n",
      "1405     air_conditioner\n",
      "2830               siren\n",
      "4773               siren\n",
      "5067            car_horn\n",
      "476     children_playing\n",
      "1977               siren\n",
      "4571       engine_idling\n",
      "Name: label, dtype: object\n"
     ]
    }
   ],
   "source": [
    "print(clf.predict(x_test[0:10]))\n",
    "print(y_test[0:10])"
   ]
  },
  {
   "cell_type": "code",
   "execution_count": 94,
   "metadata": {},
   "outputs": [
    {
     "data": {
      "text/plain": [
       "<matplotlib.collections.PathCollection at 0x1c40459a10>"
      ]
     },
     "execution_count": 94,
     "metadata": {},
     "output_type": "execute_result"
    },
    {
     "data": {
      "image/png": "[encoded data removed]",
      "text/plain": [
       "<Figure size 432x288 with 1 Axes>"
      ]
     },
     "metadata": {
      "needs_background": "light"
     },
     "output_type": "display_data"
    }
   ],
   "source": [
    "plt.scatter(path_df.melspectrogram,path_df.rms)"
   ]
  },
  {
   "cell_type": "markdown",
   "metadata": {},
   "source": [
    "# KERAS"
   ]
  },
  {
   "cell_type": "code",
   "execution_count": 156,
   "metadata": {},
   "outputs": [],
   "source": [
    "from keras.utils import np_utils\n",
    "from keras.models import Sequential\n",
    "from keras.layers import Dense,Dropout,Activation,Flatten,Convolution2D,MaxPooling2D\n",
    "from keras.optimizers import adam"
   ]
  },
  {
   "cell_type": "code",
   "execution_count": 157,
   "metadata": {},
   "outputs": [],
   "source": [
    "from sklearn.preprocessing import LabelEncoder\n",
    "#X = path_df['mfcc']\n",
    "#X = Z\n",
    "#X = X1.reshape(-1,1)\n",
    "y = path_df['label']\n",
    "\n",
    "lb = LabelEncoder()\n",
    "\n",
    "y = np_utils.to_categorical(lb.fit_transform(y))"
   ]
  },
  {
   "cell_type": "code",
   "execution_count": 160,
   "metadata": {},
   "outputs": [],
   "source": [
    "model = Sequential()\n",
    "\n",
    "model.add(Dense(256,input_shape=(40, )))\n",
    "model.add(Activation('relu'))\n",
    "model.add(Dropout(0.5))\n",
    "\n",
    "model.add(Dense(256))\n",
    "model.add(Activation('relu'))\n",
    "model.add(Dropout(0.5))\n",
    "\n",
    "model.add(Dense(10))\n",
    "model.add(Activation('softmax'))\n",
    "\n",
    "model.compile(loss='categorical_crossentropy', metrics=['accuracy'], optimizer='adam')"
   ]
  },
  {
   "cell_type": "code",
   "execution_count": 159,
   "metadata": {},
   "outputs": [
    {
     "data": {
      "text/plain": [
       "<matplotlib.collections.PolyCollection at 0x1c4d317c90>"
      ]
     },
     "execution_count": 159,
     "metadata": {},
     "output_type": "execute_result"
    },
    {
     "data": {
      "image/png": "[encoded data removed]",
      "text/plain": [
       "<Figure size 864x288 with 1 Axes>"
      ]
     },
     "metadata": {
      "needs_background": "light"
     },
     "output_type": "display_data"
    }
   ],
   "source": [
    "x, sr = librosa.load('train/Train/0.wav')\n",
    "plt.figure(figsize=(12, 4))\n",
    "librosa.display.waveplot(x, sr=sr)"
   ]
  },
  {
   "cell_type": "code",
   "execution_count": 160,
   "metadata": {},
   "outputs": [
    {
     "data": {
      "text/plain": [
       "<matplotlib.collections.PolyCollection at 0x1c4c0a4250>"
      ]
     },
     "execution_count": 160,
     "metadata": {},
     "output_type": "execute_result"
    },
    {
     "data": {
      "image/png": "[encoded data removed]",
      "text/plain": [
       "<Figure size 864x288 with 1 Axes>"
      ]
     },
     "metadata": {
      "needs_background": "light"
     },
     "output_type": "display_data"
    }
   ],
   "source": [
    "x, sr = librosa.load('train/Train/3.wav')\n",
    "plt.figure(figsize=(12, 4))\n",
    "librosa.display.waveplot(x, sr=sr)"
   ]
  },
  {
   "cell_type": "code",
   "execution_count": 177,
   "metadata": {},
   "outputs": [],
   "source": [
    "from mlxtend.plotting import plot_learning_curves"
   ]
  },
  {
   "cell_type": "code",
   "execution_count": 178,
   "metadata": {},
   "outputs": [
    {
     "name": "stderr",
     "output_type": "stream",
     "text": [
      "/opt/anaconda3/lib/python3.7/site-packages/sklearn/neural_network/multilayer_perceptron.py:566: ConvergenceWarning: Stochastic Optimizer: Maximum iterations (1000) reached and the optimization hasn't converged yet.\n",
      "  % self.max_iter, ConvergenceWarning)\n",
      "/opt/anaconda3/lib/python3.7/site-packages/sklearn/neural_network/multilayer_perceptron.py:566: ConvergenceWarning: Stochastic Optimizer: Maximum iterations (1000) reached and the optimization hasn't converged yet.\n",
      "  % self.max_iter, ConvergenceWarning)\n"
     ]
    },
    {
     "data": {
      "image/png": "[encoded data removed]",
      "text/plain": [
       "<Figure size 432x288 with 1 Axes>"
      ]
     },
     "metadata": {},
     "output_type": "display_data"
    }
   ],
   "source": [
    "plot_learning_curves(x_train, y_train, x_test, y_test, clf)\n",
    "plt.show()"
   ]
  },
  {
   "cell_type": "code",
   "execution_count": 3,
   "metadata": {},
   "outputs": [
    {
     "ename": "NameError",
     "evalue": "name 'np' is not defined",
     "output_type": "error",
     "traceback": [
      "\u001b[0;31m---------------------------------------------------------------------------\u001b[0m",
      "\u001b[0;31mNameError\u001b[0m                                 Traceback (most recent call last)",
      "\u001b[0;32m<ipython-input-3-c02e1d8450e1>\u001b[0m in \u001b[0;36m<module>\u001b[0;34m\u001b[0m\n\u001b[0;32m----> 1\u001b[0;31m \u001b[0mX_t\u001b[0m \u001b[0;34m=\u001b[0m \u001b[0mnp\u001b[0m\u001b[0;34m.\u001b[0m\u001b[0marray\u001b[0m\u001b[0;34m(\u001b[0m\u001b[0mpath_df\u001b[0m\u001b[0;34m.\u001b[0m\u001b[0mmfcc\u001b[0m\u001b[0;34m.\u001b[0m\u001b[0mtolist\u001b[0m\u001b[0;34m(\u001b[0m\u001b[0;34m)\u001b[0m\u001b[0;34m)\u001b[0m\u001b[0;34m\u001b[0m\u001b[0;34m\u001b[0m\u001b[0m\n\u001b[0m\u001b[1;32m      2\u001b[0m \u001b[0my_t\u001b[0m \u001b[0;34m=\u001b[0m \u001b[0mnp\u001b[0m\u001b[0;34m.\u001b[0m\u001b[0marray\u001b[0m\u001b[0;34m(\u001b[0m\u001b[0mpath_df\u001b[0m\u001b[0;34m.\u001b[0m\u001b[0mlabel\u001b[0m\u001b[0;34m.\u001b[0m\u001b[0mtolist\u001b[0m\u001b[0;34m(\u001b[0m\u001b[0;34m)\u001b[0m\u001b[0;34m)\u001b[0m\u001b[0;34m\u001b[0m\u001b[0;34m\u001b[0m\u001b[0m\n\u001b[1;32m      3\u001b[0m \u001b[0mlb\u001b[0m \u001b[0;34m=\u001b[0m \u001b[0mLabelEncoder\u001b[0m\u001b[0;34m(\u001b[0m\u001b[0;34m)\u001b[0m\u001b[0;34m\u001b[0m\u001b[0;34m\u001b[0m\u001b[0m\n\u001b[1;32m      4\u001b[0m \u001b[0;34m\u001b[0m\u001b[0m\n\u001b[1;32m      5\u001b[0m \u001b[0mY_t\u001b[0m \u001b[0;34m=\u001b[0m \u001b[0mnp_utils\u001b[0m\u001b[0;34m.\u001b[0m\u001b[0mto_categorical\u001b[0m\u001b[0;34m(\u001b[0m\u001b[0mlb\u001b[0m\u001b[0;34m.\u001b[0m\u001b[0mfit_transform\u001b[0m\u001b[0;34m(\u001b[0m\u001b[0my_t\u001b[0m\u001b[0;34m)\u001b[0m\u001b[0;34m)\u001b[0m\u001b[0;34m\u001b[0m\u001b[0;34m\u001b[0m\u001b[0m\n",
      "\u001b[0;31mNameError\u001b[0m: name 'np' is not defined"
     ]
    }
   ],
   "source": [
    "X_t = np.array(path_df.mfcc.tolist())\n",
    "y_t = np.array(path_df.label.tolist())\n",
    "lb = LabelEncoder()\n",
    "\n",
    "Y_t = np_utils.to_categorical(lb.fit_transform(y_t))"
   ]
  },
  {
   "cell_type": "code",
   "execution_count": 171,
   "metadata": {},
   "outputs": [],
   "source": [
    "from sklearn.model_selection import train_test_split\n",
    "x_train,x_test,y_train,y_test = train_test_split(X_t,Y_t,test_size=0.33,random_state=23)"
   ]
  },
  {
   "cell_type": "code",
   "execution_count": 2,
   "metadata": {},
   "outputs": [
    {
     "ename": "NameError",
     "evalue": "name 'Y_t' is not defined",
     "output_type": "error",
     "traceback": [
      "\u001b[0;31m---------------------------------------------------------------------------\u001b[0m",
      "\u001b[0;31mNameError\u001b[0m                                 Traceback (most recent call last)",
      "\u001b[0;32m<ipython-input-2-e8b3898b1367>\u001b[0m in \u001b[0;36m<module>\u001b[0;34m\u001b[0m\n\u001b[0;32m----> 1\u001b[0;31m \u001b[0mnum_label\u001b[0m \u001b[0;34m=\u001b[0m \u001b[0mY_t\u001b[0m\u001b[0;34m[\u001b[0m\u001b[0;36m1\u001b[0m\u001b[0;34m]\u001b[0m\u001b[0;34m\u001b[0m\u001b[0;34m\u001b[0m\u001b[0m\n\u001b[0m\u001b[1;32m      2\u001b[0m \u001b[0mfilter_size\u001b[0m \u001b[0;34m=\u001b[0m \u001b[0;36m2\u001b[0m\u001b[0;34m\u001b[0m\u001b[0;34m\u001b[0m\u001b[0m\n\u001b[1;32m      3\u001b[0m \u001b[0mmodel\u001b[0m \u001b[0;34m=\u001b[0m \u001b[0mSequential\u001b[0m\u001b[0;34m(\u001b[0m\u001b[0;34m)\u001b[0m\u001b[0;34m\u001b[0m\u001b[0;34m\u001b[0m\u001b[0m\n\u001b[1;32m      4\u001b[0m \u001b[0;34m\u001b[0m\u001b[0m\n\u001b[1;32m      5\u001b[0m \u001b[0mmodel\u001b[0m\u001b[0;34m.\u001b[0m\u001b[0madd\u001b[0m\u001b[0;34m(\u001b[0m\u001b[0mDense\u001b[0m\u001b[0;34m(\u001b[0m\u001b[0;36m256\u001b[0m\u001b[0;34m,\u001b[0m\u001b[0minput_shape\u001b[0m\u001b[0;34m=\u001b[0m\u001b[0;34m(\u001b[0m\u001b[0;36m40\u001b[0m\u001b[0;34m,\u001b[0m \u001b[0;34m)\u001b[0m\u001b[0;34m)\u001b[0m\u001b[0;34m)\u001b[0m\u001b[0;34m\u001b[0m\u001b[0;34m\u001b[0m\u001b[0m\n",
      "\u001b[0;31mNameError\u001b[0m: name 'Y_t' is not defined"
     ]
    }
   ],
   "source": [
    "num_label = Y_t[1]\n",
    "filter_size = 2\n",
    "model = Sequential()\n",
    "\n",
    "model.add(Dense(256,input_shape=(40, )))\n",
    "model.add(Activation('relu'))\n",
    "model.add(Dropout(0.5))\n",
    "\n",
    "model.add(Dense(256))\n",
    "model.add(Activation('relu'))\n",
    "model.add(Dropout(0.5))\n",
    "\n",
    "model.add(Dense(10))\n",
    "model.add(Activation('softmax'))\n",
    "\n",
    "model.compile(loss='categorical_crossentropy', metrics=['accuracy'], optimizer='adam')"
   ]
  },
  {
   "cell_type": "code",
   "execution_count": 1,
   "metadata": {},
   "outputs": [
    {
     "ename": "NameError",
     "evalue": "name 'model' is not defined",
     "output_type": "error",
     "traceback": [
      "\u001b[0;31m---------------------------------------------------------------------------\u001b[0m",
      "\u001b[0;31mNameError\u001b[0m                                 Traceback (most recent call last)",
      "\u001b[0;32m<ipython-input-1-0cdc3f51594d>\u001b[0m in \u001b[0;36m<module>\u001b[0;34m\u001b[0m\n\u001b[0;32m----> 1\u001b[0;31m \u001b[0mmodel\u001b[0m\u001b[0;34m.\u001b[0m\u001b[0msummary\u001b[0m\u001b[0;34m(\u001b[0m\u001b[0;34m)\u001b[0m\u001b[0;34m\u001b[0m\u001b[0;34m\u001b[0m\u001b[0m\n\u001b[0m\u001b[1;32m      2\u001b[0m \u001b[0mmodel\u001b[0m\u001b[0;34m.\u001b[0m\u001b[0mfit\u001b[0m\u001b[0;34m(\u001b[0m\u001b[0mx_train\u001b[0m\u001b[0;34m,\u001b[0m\u001b[0my_train\u001b[0m\u001b[0;34m,\u001b[0m\u001b[0mbatch_size\u001b[0m\u001b[0;34m=\u001b[0m\u001b[0;36m32\u001b[0m\u001b[0;34m,\u001b[0m\u001b[0mepochs\u001b[0m\u001b[0;34m=\u001b[0m\u001b[0;36m200\u001b[0m\u001b[0;34m,\u001b[0m\u001b[0mvalidation_data\u001b[0m\u001b[0;34m=\u001b[0m\u001b[0;34m(\u001b[0m\u001b[0mx_test\u001b[0m\u001b[0;34m,\u001b[0m\u001b[0my_test\u001b[0m\u001b[0;34m)\u001b[0m\u001b[0;34m,\u001b[0m\u001b[0mverbose\u001b[0m\u001b[0;34m=\u001b[0m\u001b[0;36m1\u001b[0m\u001b[0;34m)\u001b[0m\u001b[0;34m\u001b[0m\u001b[0;34m\u001b[0m\u001b[0m\n",
      "\u001b[0;31mNameError\u001b[0m: name 'model' is not defined"
     ]
    }
   ],
   "source": [
    "model.summary()\n",
    "model.fit(x_train,y_train,batch_size=32,epochs=200,validation_data=(x_test,y_test),verbose=1)"
   ]
  },
  {
   "cell_type": "code",
   "execution_count": 176,
   "metadata": {},
   "outputs": [
    {
     "name": "stdout",
     "output_type": "stream",
     "text": [
      "[0.18554951196530794, 0.9491897821426392]\n",
      "[0.38348437400499447, 0.8835005760192871]\n"
     ]
    }
   ],
   "source": [
    "score_train = model.evaluate(x_train,y_train,verbose=0)\n",
    "score_test = model.evaluate(x_test,y_test,verbose=0)\n",
    "print(score_train)\n",
    "print(score_test)"
   ]
  },
  {
   "cell_type": "markdown",
   "metadata": {},
   "source": [
    "# Testing Attribute Relevance Analysis"
   ]
  },
  {
   "cell_type": "code",
   "execution_count": 300,
   "metadata": {},
   "outputs": [],
   "source": [
    "feature = ['melspectrogram','rms']\n",
    "#feature = path_df[column_train]\n",
    "label = dataset['label']"
   ]
  },
  {
   "cell_type": "code",
   "execution_count": 312,
   "metadata": {},
   "outputs": [],
   "source": [
    "def calculate_woe_iv(dataset, feature, target):\n",
    "    lst = []\n",
    "    for i in range(5435):\n",
    "        val = list(dataset[feature])[i]\n",
    "        lst.append({\n",
    "            'Value': val,\n",
    "            'All': dataset[dataset[feature] == val].count()[feature],\n",
    "            'Good': dataset[(dataset[feature] == val) & (dataset[target] == 0)].count()[feature],\n",
    "            'Bad': dataset[(dataset[feature] == val) & (dataset[target] == 1)].count()[feature]\n",
    "        })\n",
    "        \n",
    "    dset = pd.DataFrame(lst)\n",
    "    dset['Distr_Good'] = dset['Good'] / dset['Good'].sum()\n",
    "    dset['Distr_Bad'] = dset['Bad'] / dset['Bad'].sum()\n",
    "    dset['WoE'] = np.log(dset['Distr_Good'] / dset['Distr_Bad'])\n",
    "    dset = dset.replace({'WoE': {np.inf: 0, -np.inf: 0}})\n",
    "    dset['IV'] = (dset['Distr_Good'] - dset['Distr_Bad']) * dset['WoE']\n",
    "    iv = dset['IV'].sum()\n",
    "    \n",
    "    dset = dset.sort_values(by='WoE')\n",
    "    \n",
    "    return dset, iv"
   ]
  },
  {
   "cell_type": "code",
   "execution_count": 313,
   "metadata": {},
   "outputs": [
    {
     "ename": "KeyError",
     "evalue": "\"None of [Index(['siren', 'street_music', 'drilling', 'siren', 'dog_bark',\\n       'children_playing', 'street_music', 'drilling', 'gun_shot', 'dog_bark',\\n       ...\\n       'street_music', 'engine_idling', 'dog_bark', 'street_music',\\n       'children_playing', 'engine_idling', 'dog_bark', 'engine_idling',\\n       'engine_idling', 'air_conditioner'],\\n      dtype='object', length=5435)] are in the [columns]\"",
     "output_type": "error",
     "traceback": [
      "\u001b[0;31m---------------------------------------------------------------------------\u001b[0m",
      "\u001b[0;31mKeyError\u001b[0m                                  Traceback (most recent call last)",
      "\u001b[0;32m<ipython-input-313-78bf9a1166f4>\u001b[0m in \u001b[0;36m<module>\u001b[0;34m\u001b[0m\n\u001b[0;32m----> 1\u001b[0;31m \u001b[0mcalculate_woe_iv\u001b[0m\u001b[0;34m(\u001b[0m\u001b[0mdataset\u001b[0m\u001b[0;34m,\u001b[0m\u001b[0mfeature\u001b[0m\u001b[0;34m,\u001b[0m\u001b[0mlabel\u001b[0m\u001b[0;34m)\u001b[0m\u001b[0;34m\u001b[0m\u001b[0;34m\u001b[0m\u001b[0m\n\u001b[0m",
      "\u001b[0;32m<ipython-input-312-396ed6057b3b>\u001b[0m in \u001b[0;36mcalculate_woe_iv\u001b[0;34m(dataset, feature, target)\u001b[0m\n\u001b[1;32m      6\u001b[0m             \u001b[0;34m'Value'\u001b[0m\u001b[0;34m:\u001b[0m \u001b[0mval\u001b[0m\u001b[0;34m,\u001b[0m\u001b[0;34m\u001b[0m\u001b[0;34m\u001b[0m\u001b[0m\n\u001b[1;32m      7\u001b[0m             \u001b[0;34m'All'\u001b[0m\u001b[0;34m:\u001b[0m \u001b[0mdataset\u001b[0m\u001b[0;34m[\u001b[0m\u001b[0mdataset\u001b[0m\u001b[0;34m[\u001b[0m\u001b[0mfeature\u001b[0m\u001b[0;34m]\u001b[0m \u001b[0;34m==\u001b[0m \u001b[0mval\u001b[0m\u001b[0;34m]\u001b[0m\u001b[0;34m.\u001b[0m\u001b[0mcount\u001b[0m\u001b[0;34m(\u001b[0m\u001b[0;34m)\u001b[0m\u001b[0;34m[\u001b[0m\u001b[0mfeature\u001b[0m\u001b[0;34m]\u001b[0m\u001b[0;34m,\u001b[0m\u001b[0;34m\u001b[0m\u001b[0;34m\u001b[0m\u001b[0m\n\u001b[0;32m----> 8\u001b[0;31m             \u001b[0;34m'Good'\u001b[0m\u001b[0;34m:\u001b[0m \u001b[0mdataset\u001b[0m\u001b[0;34m[\u001b[0m\u001b[0;34m(\u001b[0m\u001b[0mdataset\u001b[0m\u001b[0;34m[\u001b[0m\u001b[0mfeature\u001b[0m\u001b[0;34m]\u001b[0m \u001b[0;34m==\u001b[0m \u001b[0mval\u001b[0m\u001b[0;34m)\u001b[0m \u001b[0;34m&\u001b[0m \u001b[0;34m(\u001b[0m\u001b[0mdataset\u001b[0m\u001b[0;34m[\u001b[0m\u001b[0mtarget\u001b[0m\u001b[0;34m]\u001b[0m \u001b[0;34m==\u001b[0m \u001b[0;36m0\u001b[0m\u001b[0;34m)\u001b[0m\u001b[0;34m]\u001b[0m\u001b[0;34m.\u001b[0m\u001b[0mcount\u001b[0m\u001b[0;34m(\u001b[0m\u001b[0;34m)\u001b[0m\u001b[0;34m[\u001b[0m\u001b[0mfeature\u001b[0m\u001b[0;34m]\u001b[0m\u001b[0;34m,\u001b[0m\u001b[0;34m\u001b[0m\u001b[0;34m\u001b[0m\u001b[0m\n\u001b[0m\u001b[1;32m      9\u001b[0m             \u001b[0;34m'Bad'\u001b[0m\u001b[0;34m:\u001b[0m \u001b[0mdataset\u001b[0m\u001b[0;34m[\u001b[0m\u001b[0;34m(\u001b[0m\u001b[0mdataset\u001b[0m\u001b[0;34m[\u001b[0m\u001b[0mfeature\u001b[0m\u001b[0;34m]\u001b[0m \u001b[0;34m==\u001b[0m \u001b[0mval\u001b[0m\u001b[0;34m)\u001b[0m \u001b[0;34m&\u001b[0m \u001b[0;34m(\u001b[0m\u001b[0mdataset\u001b[0m\u001b[0;34m[\u001b[0m\u001b[0mtarget\u001b[0m\u001b[0;34m]\u001b[0m \u001b[0;34m==\u001b[0m \u001b[0;36m1\u001b[0m\u001b[0;34m)\u001b[0m\u001b[0;34m]\u001b[0m\u001b[0;34m.\u001b[0m\u001b[0mcount\u001b[0m\u001b[0;34m(\u001b[0m\u001b[0;34m)\u001b[0m\u001b[0;34m[\u001b[0m\u001b[0mfeature\u001b[0m\u001b[0;34m]\u001b[0m\u001b[0;34m\u001b[0m\u001b[0;34m\u001b[0m\u001b[0m\n\u001b[1;32m     10\u001b[0m         })\n",
      "\u001b[0;32m/opt/anaconda3/lib/python3.7/site-packages/pandas/core/frame.py\u001b[0m in \u001b[0;36m__getitem__\u001b[0;34m(self, key)\u001b[0m\n\u001b[1;32m   2984\u001b[0m             \u001b[0;32mif\u001b[0m \u001b[0mis_iterator\u001b[0m\u001b[0;34m(\u001b[0m\u001b[0mkey\u001b[0m\u001b[0;34m)\u001b[0m\u001b[0;34m:\u001b[0m\u001b[0;34m\u001b[0m\u001b[0;34m\u001b[0m\u001b[0m\n\u001b[1;32m   2985\u001b[0m                 \u001b[0mkey\u001b[0m \u001b[0;34m=\u001b[0m \u001b[0mlist\u001b[0m\u001b[0;34m(\u001b[0m\u001b[0mkey\u001b[0m\u001b[0;34m)\u001b[0m\u001b[0;34m\u001b[0m\u001b[0;34m\u001b[0m\u001b[0m\n\u001b[0;32m-> 2986\u001b[0;31m             \u001b[0mindexer\u001b[0m \u001b[0;34m=\u001b[0m \u001b[0mself\u001b[0m\u001b[0;34m.\u001b[0m\u001b[0mloc\u001b[0m\u001b[0;34m.\u001b[0m\u001b[0m_convert_to_indexer\u001b[0m\u001b[0;34m(\u001b[0m\u001b[0mkey\u001b[0m\u001b[0;34m,\u001b[0m \u001b[0maxis\u001b[0m\u001b[0;34m=\u001b[0m\u001b[0;36m1\u001b[0m\u001b[0;34m,\u001b[0m \u001b[0mraise_missing\u001b[0m\u001b[0;34m=\u001b[0m\u001b[0;32mTrue\u001b[0m\u001b[0;34m)\u001b[0m\u001b[0;34m\u001b[0m\u001b[0;34m\u001b[0m\u001b[0m\n\u001b[0m\u001b[1;32m   2987\u001b[0m \u001b[0;34m\u001b[0m\u001b[0m\n\u001b[1;32m   2988\u001b[0m         \u001b[0;31m# take() does not accept boolean indexers\u001b[0m\u001b[0;34m\u001b[0m\u001b[0;34m\u001b[0m\u001b[0;34m\u001b[0m\u001b[0m\n",
      "\u001b[0;32m/opt/anaconda3/lib/python3.7/site-packages/pandas/core/indexing.py\u001b[0m in \u001b[0;36m_convert_to_indexer\u001b[0;34m(self, obj, axis, is_setter, raise_missing)\u001b[0m\n\u001b[1;32m   1283\u001b[0m                 \u001b[0;31m# When setting, missing keys are not allowed, even with .loc:\u001b[0m\u001b[0;34m\u001b[0m\u001b[0;34m\u001b[0m\u001b[0;34m\u001b[0m\u001b[0m\n\u001b[1;32m   1284\u001b[0m                 \u001b[0mkwargs\u001b[0m \u001b[0;34m=\u001b[0m \u001b[0;34m{\u001b[0m\u001b[0;34m\"raise_missing\"\u001b[0m\u001b[0;34m:\u001b[0m \u001b[0;32mTrue\u001b[0m \u001b[0;32mif\u001b[0m \u001b[0mis_setter\u001b[0m \u001b[0;32melse\u001b[0m \u001b[0mraise_missing\u001b[0m\u001b[0;34m}\u001b[0m\u001b[0;34m\u001b[0m\u001b[0;34m\u001b[0m\u001b[0m\n\u001b[0;32m-> 1285\u001b[0;31m                 \u001b[0;32mreturn\u001b[0m \u001b[0mself\u001b[0m\u001b[0;34m.\u001b[0m\u001b[0m_get_listlike_indexer\u001b[0m\u001b[0;34m(\u001b[0m\u001b[0mobj\u001b[0m\u001b[0;34m,\u001b[0m \u001b[0maxis\u001b[0m\u001b[0;34m,\u001b[0m \u001b[0;34m**\u001b[0m\u001b[0mkwargs\u001b[0m\u001b[0;34m)\u001b[0m\u001b[0;34m[\u001b[0m\u001b[0;36m1\u001b[0m\u001b[0;34m]\u001b[0m\u001b[0;34m\u001b[0m\u001b[0;34m\u001b[0m\u001b[0m\n\u001b[0m\u001b[1;32m   1286\u001b[0m         \u001b[0;32melse\u001b[0m\u001b[0;34m:\u001b[0m\u001b[0;34m\u001b[0m\u001b[0;34m\u001b[0m\u001b[0m\n\u001b[1;32m   1287\u001b[0m             \u001b[0;32mtry\u001b[0m\u001b[0;34m:\u001b[0m\u001b[0;34m\u001b[0m\u001b[0;34m\u001b[0m\u001b[0m\n",
      "\u001b[0;32m/opt/anaconda3/lib/python3.7/site-packages/pandas/core/indexing.py\u001b[0m in \u001b[0;36m_get_listlike_indexer\u001b[0;34m(self, key, axis, raise_missing)\u001b[0m\n\u001b[1;32m   1090\u001b[0m \u001b[0;34m\u001b[0m\u001b[0m\n\u001b[1;32m   1091\u001b[0m         self._validate_read_indexer(\n\u001b[0;32m-> 1092\u001b[0;31m             \u001b[0mkeyarr\u001b[0m\u001b[0;34m,\u001b[0m \u001b[0mindexer\u001b[0m\u001b[0;34m,\u001b[0m \u001b[0mo\u001b[0m\u001b[0;34m.\u001b[0m\u001b[0m_get_axis_number\u001b[0m\u001b[0;34m(\u001b[0m\u001b[0maxis\u001b[0m\u001b[0;34m)\u001b[0m\u001b[0;34m,\u001b[0m \u001b[0mraise_missing\u001b[0m\u001b[0;34m=\u001b[0m\u001b[0mraise_missing\u001b[0m\u001b[0;34m\u001b[0m\u001b[0;34m\u001b[0m\u001b[0m\n\u001b[0m\u001b[1;32m   1093\u001b[0m         )\n\u001b[1;32m   1094\u001b[0m         \u001b[0;32mreturn\u001b[0m \u001b[0mkeyarr\u001b[0m\u001b[0;34m,\u001b[0m \u001b[0mindexer\u001b[0m\u001b[0;34m\u001b[0m\u001b[0;34m\u001b[0m\u001b[0m\n",
      "\u001b[0;32m/opt/anaconda3/lib/python3.7/site-packages/pandas/core/indexing.py\u001b[0m in \u001b[0;36m_validate_read_indexer\u001b[0;34m(self, key, indexer, axis, raise_missing)\u001b[0m\n\u001b[1;32m   1175\u001b[0m                 raise KeyError(\n\u001b[1;32m   1176\u001b[0m                     \"None of [{key}] are in the [{axis}]\".format(\n\u001b[0;32m-> 1177\u001b[0;31m                         \u001b[0mkey\u001b[0m\u001b[0;34m=\u001b[0m\u001b[0mkey\u001b[0m\u001b[0;34m,\u001b[0m \u001b[0maxis\u001b[0m\u001b[0;34m=\u001b[0m\u001b[0mself\u001b[0m\u001b[0;34m.\u001b[0m\u001b[0mobj\u001b[0m\u001b[0;34m.\u001b[0m\u001b[0m_get_axis_name\u001b[0m\u001b[0;34m(\u001b[0m\u001b[0maxis\u001b[0m\u001b[0;34m)\u001b[0m\u001b[0;34m\u001b[0m\u001b[0;34m\u001b[0m\u001b[0m\n\u001b[0m\u001b[1;32m   1178\u001b[0m                     )\n\u001b[1;32m   1179\u001b[0m                 )\n",
      "\u001b[0;31mKeyError\u001b[0m: \"None of [Index(['siren', 'street_music', 'drilling', 'siren', 'dog_bark',\\n       'children_playing', 'street_music', 'drilling', 'gun_shot', 'dog_bark',\\n       ...\\n       'street_music', 'engine_idling', 'dog_bark', 'street_music',\\n       'children_playing', 'engine_idling', 'dog_bark', 'engine_idling',\\n       'engine_idling', 'air_conditioner'],\\n      dtype='object', length=5435)] are in the [columns]\""
     ]
    }
   ],
   "source": [
    "calculate_woe_iv(dataset,feature,label)"
   ]
  },
  {
   "cell_type": "code",
   "execution_count": 180,
   "metadata": {},
   "outputs": [
    {
     "data": {
      "text/html": [
       "<div>\n",
       "<style scoped>\n",
       "    .dataframe tbody tr th:only-of-type {\n",
       "        vertical-align: middle;\n",
       "    }\n",
       "\n",
       "    .dataframe tbody tr th {\n",
       "        vertical-align: top;\n",
       "    }\n",
       "\n",
       "    .dataframe thead th {\n",
       "        text-align: right;\n",
       "    }\n",
       "</style>\n",
       "<table border=\"1\" class=\"dataframe\">\n",
       "  <thead>\n",
       "    <tr style=\"text-align: right;\">\n",
       "      <th></th>\n",
       "      <th>path</th>\n",
       "      <th>label</th>\n",
       "      <th>rms</th>\n",
       "      <th>mfcc</th>\n",
       "      <th>melspectrogram</th>\n",
       "    </tr>\n",
       "  </thead>\n",
       "  <tbody>\n",
       "    <tr>\n",
       "      <td>0</td>\n",
       "      <td>train/Train/0.wav</td>\n",
       "      <td>siren</td>\n",
       "      <td>0.107979</td>\n",
       "      <td>[-82.12359, 139.50595, -42.430847, 24.82786, -...</td>\n",
       "      <td>2.618728</td>\n",
       "    </tr>\n",
       "    <tr>\n",
       "      <td>1</td>\n",
       "      <td>train/Train/1.wav</td>\n",
       "      <td>street_music</td>\n",
       "      <td>0.227405</td>\n",
       "      <td>[-15.744001, 124.11996, -29.42888, 39.44719, -...</td>\n",
       "      <td>11.364860</td>\n",
       "    </tr>\n",
       "    <tr>\n",
       "      <td>2</td>\n",
       "      <td>train/Train/2.wav</td>\n",
       "      <td>drilling</td>\n",
       "      <td>0.067240</td>\n",
       "      <td>[-123.393654, 15.181944, -50.093338, 7.141871,...</td>\n",
       "      <td>0.606284</td>\n",
       "    </tr>\n",
       "    <tr>\n",
       "      <td>3</td>\n",
       "      <td>train/Train/3.wav</td>\n",
       "      <td>siren</td>\n",
       "      <td>0.184036</td>\n",
       "      <td>[-213.2787, 89.323616, -55.256165, 12.632097, ...</td>\n",
       "      <td>7.957627</td>\n",
       "    </tr>\n",
       "    <tr>\n",
       "      <td>4</td>\n",
       "      <td>train/Train/4.wav</td>\n",
       "      <td>dog_bark</td>\n",
       "      <td>0.150679</td>\n",
       "      <td>[-237.9265, 135.90247, 39.26844, 21.24023, 9.5...</td>\n",
       "      <td>9.616514</td>\n",
       "    </tr>\n",
       "  </tbody>\n",
       "</table>\n",
       "</div>"
      ],
      "text/plain": [
       "                path         label       rms  \\\n",
       "0  train/Train/0.wav         siren  0.107979   \n",
       "1  train/Train/1.wav  street_music  0.227405   \n",
       "2  train/Train/2.wav      drilling  0.067240   \n",
       "3  train/Train/3.wav         siren  0.184036   \n",
       "4  train/Train/4.wav      dog_bark  0.150679   \n",
       "\n",
       "                                                mfcc  melspectrogram  \n",
       "0  [-82.12359, 139.50595, -42.430847, 24.82786, -...        2.618728  \n",
       "1  [-15.744001, 124.11996, -29.42888, 39.44719, -...       11.364860  \n",
       "2  [-123.393654, 15.181944, -50.093338, 7.141871,...        0.606284  \n",
       "3  [-213.2787, 89.323616, -55.256165, 12.632097, ...        7.957627  \n",
       "4  [-237.9265, 135.90247, 39.26844, 21.24023, 9.5...        9.616514  "
      ]
     },
     "execution_count": 180,
     "metadata": {},
     "output_type": "execute_result"
    }
   ],
   "source": [
    "path_df.head()"
   ]
  },
  {
   "cell_type": "code",
   "execution_count": 314,
   "metadata": {},
   "outputs": [
    {
     "data": {
      "text/plain": [
       "0                 siren\n",
       "1          street_music\n",
       "2              drilling\n",
       "3                 siren\n",
       "4              dog_bark\n",
       "             ...       \n",
       "5430      engine_idling\n",
       "5431           dog_bark\n",
       "5432      engine_idling\n",
       "5433      engine_idling\n",
       "5434    air_conditioner\n",
       "Name: label, Length: 5435, dtype: object"
      ]
     },
     "execution_count": 314,
     "metadata": {},
     "output_type": "execute_result"
    }
   ],
   "source": [
    "label"
   ]
  },
  {
   "cell_type": "code",
   "execution_count": 285,
   "metadata": {},
   "outputs": [
    {
     "data": {
      "text/html": [
       "<div>\n",
       "<style scoped>\n",
       "    .dataframe tbody tr th:only-of-type {\n",
       "        vertical-align: middle;\n",
       "    }\n",
       "\n",
       "    .dataframe tbody tr th {\n",
       "        vertical-align: top;\n",
       "    }\n",
       "\n",
       "    .dataframe thead th {\n",
       "        text-align: right;\n",
       "    }\n",
       "</style>\n",
       "<table border=\"1\" class=\"dataframe\">\n",
       "  <thead>\n",
       "    <tr style=\"text-align: right;\">\n",
       "      <th></th>\n",
       "      <th>path</th>\n",
       "      <th>label</th>\n",
       "      <th>rms</th>\n",
       "      <th>mfcc</th>\n",
       "      <th>melspectrogram</th>\n",
       "      <th>zcr</th>\n",
       "      <th>sc</th>\n",
       "    </tr>\n",
       "  </thead>\n",
       "  <tbody>\n",
       "    <tr>\n",
       "      <td>0</td>\n",
       "      <td>train/Train/0.wav</td>\n",
       "      <td>siren</td>\n",
       "      <td>0.107979</td>\n",
       "      <td>[-82.12359, 139.50595, -42.430847, 24.82786, -...</td>\n",
       "      <td>2.618728</td>\n",
       "      <td>0.085286</td>\n",
       "      <td>[[1721.7573842070665, 1756.5329224582442, 1776...</td>\n",
       "    </tr>\n",
       "    <tr>\n",
       "      <td>1</td>\n",
       "      <td>train/Train/1.wav</td>\n",
       "      <td>street_music</td>\n",
       "      <td>0.227405</td>\n",
       "      <td>[-15.744001, 124.11996, -29.42888, 39.44719, -...</td>\n",
       "      <td>11.364860</td>\n",
       "      <td>0.091678</td>\n",
       "      <td>[[1944.4446714720325, 1754.38639470224, 1490.6...</td>\n",
       "    </tr>\n",
       "    <tr>\n",
       "      <td>2</td>\n",
       "      <td>train/Train/2.wav</td>\n",
       "      <td>drilling</td>\n",
       "      <td>0.067240</td>\n",
       "      <td>[-123.393654, 15.181944, -50.093338, 7.141871,...</td>\n",
       "      <td>0.606284</td>\n",
       "      <td>0.314608</td>\n",
       "      <td>[[2637.5527198212058, 2363.7869031161554, 2322...</td>\n",
       "    </tr>\n",
       "    <tr>\n",
       "      <td>3</td>\n",
       "      <td>train/Train/3.wav</td>\n",
       "      <td>siren</td>\n",
       "      <td>0.184036</td>\n",
       "      <td>[-213.2787, 89.323616, -55.256165, 12.632097, ...</td>\n",
       "      <td>7.957627</td>\n",
       "      <td>0.107778</td>\n",
       "      <td>[[2408.419503752015, 2502.4956303337826, 2464....</td>\n",
       "    </tr>\n",
       "    <tr>\n",
       "      <td>4</td>\n",
       "      <td>train/Train/4.wav</td>\n",
       "      <td>dog_bark</td>\n",
       "      <td>0.150679</td>\n",
       "      <td>[-237.9265, 135.90247, 39.26844, 21.24023, 9.5...</td>\n",
       "      <td>9.616514</td>\n",
       "      <td>0.025309</td>\n",
       "      <td>[[1576.293899393653, 1567.6104449351628, 1879....</td>\n",
       "    </tr>\n",
       "  </tbody>\n",
       "</table>\n",
       "</div>"
      ],
      "text/plain": [
       "                path         label       rms  \\\n",
       "0  train/Train/0.wav         siren  0.107979   \n",
       "1  train/Train/1.wav  street_music  0.227405   \n",
       "2  train/Train/2.wav      drilling  0.067240   \n",
       "3  train/Train/3.wav         siren  0.184036   \n",
       "4  train/Train/4.wav      dog_bark  0.150679   \n",
       "\n",
       "                                                mfcc  melspectrogram  \\\n",
       "0  [-82.12359, 139.50595, -42.430847, 24.82786, -...        2.618728   \n",
       "1  [-15.744001, 124.11996, -29.42888, 39.44719, -...       11.364860   \n",
       "2  [-123.393654, 15.181944, -50.093338, 7.141871,...        0.606284   \n",
       "3  [-213.2787, 89.323616, -55.256165, 12.632097, ...        7.957627   \n",
       "4  [-237.9265, 135.90247, 39.26844, 21.24023, 9.5...        9.616514   \n",
       "\n",
       "        zcr                                                 sc  \n",
       "0  0.085286  [[1721.7573842070665, 1756.5329224582442, 1776...  \n",
       "1  0.091678  [[1944.4446714720325, 1754.38639470224, 1490.6...  \n",
       "2  0.314608  [[2637.5527198212058, 2363.7869031161554, 2322...  \n",
       "3  0.107778  [[2408.419503752015, 2502.4956303337826, 2464....  \n",
       "4  0.025309  [[1576.293899393653, 1567.6104449351628, 1879....  "
      ]
     },
     "execution_count": 285,
     "metadata": {},
     "output_type": "execute_result"
    }
   ],
   "source": []
  },
  {
   "cell_type": "code",
   "execution_count": 287,
   "metadata": {},
   "outputs": [],
   "source": [
    "with pd.ExcelWriter('test.xlsx') as writer:  \n",
    "    path_df.to_excel(writer, sheet_name='')"
   ]
  },
  {
   "cell_type": "code",
   "execution_count": 298,
   "metadata": {},
   "outputs": [],
   "source": [
    "dataset = pd.read_excel('test.xlsx',delim_whitespace=True,header=0)"
   ]
  },
  {
   "cell_type": "code",
   "execution_count": 299,
   "metadata": {},
   "outputs": [
    {
     "data": {
      "text/html": [
       "<div>\n",
       "<style scoped>\n",
       "    .dataframe tbody tr th:only-of-type {\n",
       "        vertical-align: middle;\n",
       "    }\n",
       "\n",
       "    .dataframe tbody tr th {\n",
       "        vertical-align: top;\n",
       "    }\n",
       "\n",
       "    .dataframe thead th {\n",
       "        text-align: right;\n",
       "    }\n",
       "</style>\n",
       "<table border=\"1\" class=\"dataframe\">\n",
       "  <thead>\n",
       "    <tr style=\"text-align: right;\">\n",
       "      <th></th>\n",
       "      <th>Unnamed: 0</th>\n",
       "      <th>path</th>\n",
       "      <th>label</th>\n",
       "      <th>rms</th>\n",
       "      <th>mfcc</th>\n",
       "      <th>melspectrogram</th>\n",
       "      <th>zcr</th>\n",
       "      <th>sc</th>\n",
       "    </tr>\n",
       "  </thead>\n",
       "  <tbody>\n",
       "    <tr>\n",
       "      <td>0</td>\n",
       "      <td>0</td>\n",
       "      <td>train/Train/0.wav</td>\n",
       "      <td>siren</td>\n",
       "      <td>0.107979</td>\n",
       "      <td>[-82.12359    139.50595    -42.430847    24.82...</td>\n",
       "      <td>2.618728</td>\n",
       "      <td>0.085286</td>\n",
       "      <td>[[1721.75738421 1756.53292246 1776.29732762 17...</td>\n",
       "    </tr>\n",
       "    <tr>\n",
       "      <td>1</td>\n",
       "      <td>1</td>\n",
       "      <td>train/Train/1.wav</td>\n",
       "      <td>street_music</td>\n",
       "      <td>0.227405</td>\n",
       "      <td>[-15.744001   124.11996    -29.42888     39.44...</td>\n",
       "      <td>11.364860</td>\n",
       "      <td>0.091678</td>\n",
       "      <td>[[1944.44467147 1754.3863947  1490.69434487 13...</td>\n",
       "    </tr>\n",
       "    <tr>\n",
       "      <td>2</td>\n",
       "      <td>2</td>\n",
       "      <td>train/Train/2.wav</td>\n",
       "      <td>drilling</td>\n",
       "      <td>0.067240</td>\n",
       "      <td>[-123.393654     15.181944    -50.093338      ...</td>\n",
       "      <td>0.606284</td>\n",
       "      <td>0.314608</td>\n",
       "      <td>[[2637.55271982 2363.78690312 2322.25789727 23...</td>\n",
       "    </tr>\n",
       "    <tr>\n",
       "      <td>3</td>\n",
       "      <td>3</td>\n",
       "      <td>train/Train/3.wav</td>\n",
       "      <td>siren</td>\n",
       "      <td>0.184036</td>\n",
       "      <td>[-2.13278702e+02  8.93236160e+01 -5.52561646e+...</td>\n",
       "      <td>7.957627</td>\n",
       "      <td>0.107778</td>\n",
       "      <td>[[2408.41950375 2502.49563033 2464.42190046 25...</td>\n",
       "    </tr>\n",
       "    <tr>\n",
       "      <td>4</td>\n",
       "      <td>4</td>\n",
       "      <td>train/Train/4.wav</td>\n",
       "      <td>dog_bark</td>\n",
       "      <td>0.150679</td>\n",
       "      <td>[-2.3792650e+02  1.3590247e+02  3.9268440e+01 ...</td>\n",
       "      <td>9.616514</td>\n",
       "      <td>0.025309</td>\n",
       "      <td>[[1576.29389939 1567.61044494 1879.77479853 23...</td>\n",
       "    </tr>\n",
       "  </tbody>\n",
       "</table>\n",
       "</div>"
      ],
      "text/plain": [
       "   Unnamed: 0               path         label       rms  \\\n",
       "0           0  train/Train/0.wav         siren  0.107979   \n",
       "1           1  train/Train/1.wav  street_music  0.227405   \n",
       "2           2  train/Train/2.wav      drilling  0.067240   \n",
       "3           3  train/Train/3.wav         siren  0.184036   \n",
       "4           4  train/Train/4.wav      dog_bark  0.150679   \n",
       "\n",
       "                                                mfcc  melspectrogram  \\\n",
       "0  [-82.12359    139.50595    -42.430847    24.82...        2.618728   \n",
       "1  [-15.744001   124.11996    -29.42888     39.44...       11.364860   \n",
       "2  [-123.393654     15.181944    -50.093338      ...        0.606284   \n",
       "3  [-2.13278702e+02  8.93236160e+01 -5.52561646e+...        7.957627   \n",
       "4  [-2.3792650e+02  1.3590247e+02  3.9268440e+01 ...        9.616514   \n",
       "\n",
       "        zcr                                                 sc  \n",
       "0  0.085286  [[1721.75738421 1756.53292246 1776.29732762 17...  \n",
       "1  0.091678  [[1944.44467147 1754.3863947  1490.69434487 13...  \n",
       "2  0.314608  [[2637.55271982 2363.78690312 2322.25789727 23...  \n",
       "3  0.107778  [[2408.41950375 2502.49563033 2464.42190046 25...  \n",
       "4  0.025309  [[1576.29389939 1567.61044494 1879.77479853 23...  "
      ]
     },
     "execution_count": 299,
     "metadata": {},
     "output_type": "execute_result"
    }
   ],
   "source": [
    "dataset.head()"
   ]
  },
  {
   "cell_type": "code",
   "execution_count": 307,
   "metadata": {},
   "outputs": [
    {
     "data": {
      "text/plain": [
       "0                 siren\n",
       "1          street_music\n",
       "2              drilling\n",
       "3                 siren\n",
       "4              dog_bark\n",
       "             ...       \n",
       "5430      engine_idling\n",
       "5431           dog_bark\n",
       "5432      engine_idling\n",
       "5433      engine_idling\n",
       "5434    air_conditioner\n",
       "Name: label, Length: 5435, dtype: object"
      ]
     },
     "execution_count": 307,
     "metadata": {},
     "output_type": "execute_result"
    }
   ],
   "source": [
    "dataset['label']"
   ]
  },
  {
   "cell_type": "code",
   "execution_count": null,
   "metadata": {},
   "outputs": [],
   "source": []
  }
 ],
 "metadata": {
  "kernelspec": {
   "display_name": "Python 3",
   "language": "python",
   "name": "python3"
  },
  "language_info": {
   "codemirror_mode": {
    "name": "ipython",
    "version": 3
   },
   "file_extension": ".py",
   "mimetype": "text/x-python",
   "name": "python",
   "nbconvert_exporter": "python",
   "pygments_lexer": "ipython3",
   "version": "3.7.4"
  }
 },
 "nbformat": 4,
 "nbformat_minor": 2
}
