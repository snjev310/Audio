{
 "cells": [
  {
   "cell_type": "code",
   "execution_count": 1,
   "metadata": {},
   "outputs": [],
   "source": [
    "import numpy as np\n",
    "import pandas as pd\n",
    "import seaborn as sns\n",
    "import matplotlib.pyplot as plt"
   ]
  },
  {
   "cell_type": "code",
   "execution_count": 2,
   "metadata": {},
   "outputs": [],
   "source": [
    "df = pd.read_csv('signal_feature_new.csv')\n",
    "del df['Unnamed: 0']"
   ]
  },
  {
   "cell_type": "code",
   "execution_count": 3,
   "metadata": {},
   "outputs": [
    {
     "data": {
      "text/html": [
       "<div>\n",
       "<style scoped>\n",
       "    .dataframe tbody tr th:only-of-type {\n",
       "        vertical-align: middle;\n",
       "    }\n",
       "\n",
       "    .dataframe tbody tr th {\n",
       "        vertical-align: top;\n",
       "    }\n",
       "\n",
       "    .dataframe thead th {\n",
       "        text-align: right;\n",
       "    }\n",
       "</style>\n",
       "<table border=\"1\" class=\"dataframe\">\n",
       "  <thead>\n",
       "    <tr style=\"text-align: right;\">\n",
       "      <th></th>\n",
       "      <th>signal</th>\n",
       "      <th>path</th>\n",
       "      <th>mfcc</th>\n",
       "      <th>mfcc_mean</th>\n",
       "      <th>zcr</th>\n",
       "      <th>sc</th>\n",
       "      <th>rms</th>\n",
       "      <th>melspectrogram</th>\n",
       "    </tr>\n",
       "  </thead>\n",
       "  <tbody>\n",
       "    <tr>\n",
       "      <td>0</td>\n",
       "      <td>2</td>\n",
       "      <td>F:\\RMS Samples\\S2\\A17BA_12055_1333_27_08_2017.MP3</td>\n",
       "      <td>[-1.19005562e+02,2.06678009e+02,-1.05538704e+0...</td>\n",
       "      <td>0.055562</td>\n",
       "      <td>0.114928</td>\n",
       "      <td>1463.040193</td>\n",
       "      <td>0.145157</td>\n",
       "      <td>4.540862</td>\n",
       "    </tr>\n",
       "    <tr>\n",
       "      <td>1</td>\n",
       "      <td>2</td>\n",
       "      <td>F:\\RMS Samples\\S2\\A17BA_12055_1336_27_08_2017.MP3</td>\n",
       "      <td>[-1.1469097e+02,2.1500935e+02,-1.1449629e+02,4...</td>\n",
       "      <td>0.384692</td>\n",
       "      <td>0.119250</td>\n",
       "      <td>1484.006563</td>\n",
       "      <td>0.147916</td>\n",
       "      <td>4.452103</td>\n",
       "    </tr>\n",
       "    <tr>\n",
       "      <td>2</td>\n",
       "      <td>2</td>\n",
       "      <td>F:\\RMS Samples\\S2\\A17BA_12055_1341_27_08_2017.MP3</td>\n",
       "      <td>[-1.22675224e+02,2.07198257e+02,-1.02659149e+0...</td>\n",
       "      <td>0.464670</td>\n",
       "      <td>0.109778</td>\n",
       "      <td>1413.981019</td>\n",
       "      <td>0.134147</td>\n",
       "      <td>3.892156</td>\n",
       "    </tr>\n",
       "    <tr>\n",
       "      <td>3</td>\n",
       "      <td>2</td>\n",
       "      <td>F:\\RMS Samples\\S2\\A17BA_12055_1346_27_08_2017.MP3</td>\n",
       "      <td>[-1.1597163e+02,2.1474585e+02,-1.1746875e+02,4...</td>\n",
       "      <td>0.278849</td>\n",
       "      <td>0.119023</td>\n",
       "      <td>1495.144218</td>\n",
       "      <td>0.147518</td>\n",
       "      <td>4.409816</td>\n",
       "    </tr>\n",
       "    <tr>\n",
       "      <td>4</td>\n",
       "      <td>2</td>\n",
       "      <td>F:\\RMS Samples\\S2\\A17BA_12055_1351_27_08_2017.MP3</td>\n",
       "      <td>[-1.04732437e+02,2.15139145e+02,-1.20868294e+0...</td>\n",
       "      <td>0.233441</td>\n",
       "      <td>0.125884</td>\n",
       "      <td>1538.705541</td>\n",
       "      <td>0.154144</td>\n",
       "      <td>4.562316</td>\n",
       "    </tr>\n",
       "  </tbody>\n",
       "</table>\n",
       "</div>"
      ],
      "text/plain": [
       "   signal                                               path  \\\n",
       "0       2  F:\\RMS Samples\\S2\\A17BA_12055_1333_27_08_2017.MP3   \n",
       "1       2  F:\\RMS Samples\\S2\\A17BA_12055_1336_27_08_2017.MP3   \n",
       "2       2  F:\\RMS Samples\\S2\\A17BA_12055_1341_27_08_2017.MP3   \n",
       "3       2  F:\\RMS Samples\\S2\\A17BA_12055_1346_27_08_2017.MP3   \n",
       "4       2  F:\\RMS Samples\\S2\\A17BA_12055_1351_27_08_2017.MP3   \n",
       "\n",
       "                                                mfcc  mfcc_mean       zcr  \\\n",
       "0  [-1.19005562e+02,2.06678009e+02,-1.05538704e+0...   0.055562  0.114928   \n",
       "1  [-1.1469097e+02,2.1500935e+02,-1.1449629e+02,4...   0.384692  0.119250   \n",
       "2  [-1.22675224e+02,2.07198257e+02,-1.02659149e+0...   0.464670  0.109778   \n",
       "3  [-1.1597163e+02,2.1474585e+02,-1.1746875e+02,4...   0.278849  0.119023   \n",
       "4  [-1.04732437e+02,2.15139145e+02,-1.20868294e+0...   0.233441  0.125884   \n",
       "\n",
       "            sc       rms  melspectrogram  \n",
       "0  1463.040193  0.145157        4.540862  \n",
       "1  1484.006563  0.147916        4.452103  \n",
       "2  1413.981019  0.134147        3.892156  \n",
       "3  1495.144218  0.147518        4.409816  \n",
       "4  1538.705541  0.154144        4.562316  "
      ]
     },
     "execution_count": 3,
     "metadata": {},
     "output_type": "execute_result"
    }
   ],
   "source": [
    "df.head()"
   ]
  },
  {
   "cell_type": "code",
   "execution_count": 4,
   "metadata": {},
   "outputs": [],
   "source": [
    "def quality(signal):\n",
    "    if signal == 1 or signal == 2:\n",
    "        return 0\n",
    "    else:\n",
    "        return 1"
   ]
  },
  {
   "cell_type": "code",
   "execution_count": 5,
   "metadata": {},
   "outputs": [],
   "source": [
    "#S=1 & 2 will be 0 {Bad} and rest 1 {Good}\n",
    "df['quality'] = df['signal'].apply(quality)"
   ]
  },
  {
   "cell_type": "code",
   "execution_count": 6,
   "metadata": {},
   "outputs": [
    {
     "name": "stdout",
     "output_type": "stream",
     "text": [
      "<class 'pandas.core.frame.DataFrame'>\n",
      "RangeIndex: 407 entries, 0 to 406\n",
      "Data columns (total 9 columns):\n",
      "signal            407 non-null int64\n",
      "path              407 non-null object\n",
      "mfcc              407 non-null object\n",
      "mfcc_mean         407 non-null float64\n",
      "zcr               407 non-null float64\n",
      "sc                407 non-null float64\n",
      "rms               407 non-null float64\n",
      "melspectrogram    407 non-null float64\n",
      "quality           407 non-null int64\n",
      "dtypes: float64(5), int64(2), object(2)\n",
      "memory usage: 28.7+ KB\n"
     ]
    }
   ],
   "source": [
    "df.info()"
   ]
  },
  {
   "cell_type": "code",
   "execution_count": 7,
   "metadata": {},
   "outputs": [
    {
     "data": {
      "text/html": [
       "<div>\n",
       "<style scoped>\n",
       "    .dataframe tbody tr th:only-of-type {\n",
       "        vertical-align: middle;\n",
       "    }\n",
       "\n",
       "    .dataframe tbody tr th {\n",
       "        vertical-align: top;\n",
       "    }\n",
       "\n",
       "    .dataframe thead th {\n",
       "        text-align: right;\n",
       "    }\n",
       "</style>\n",
       "<table border=\"1\" class=\"dataframe\">\n",
       "  <thead>\n",
       "    <tr style=\"text-align: right;\">\n",
       "      <th></th>\n",
       "      <th>signal</th>\n",
       "      <th>path</th>\n",
       "      <th>mfcc</th>\n",
       "      <th>mfcc_mean</th>\n",
       "      <th>zcr</th>\n",
       "      <th>sc</th>\n",
       "      <th>rms</th>\n",
       "      <th>melspectrogram</th>\n",
       "      <th>quality</th>\n",
       "    </tr>\n",
       "  </thead>\n",
       "  <tbody>\n",
       "    <tr>\n",
       "      <td>0</td>\n",
       "      <td>2</td>\n",
       "      <td>F:\\RMS Samples\\S2\\A17BA_12055_1333_27_08_2017.MP3</td>\n",
       "      <td>[-1.19005562e+02,2.06678009e+02,-1.05538704e+0...</td>\n",
       "      <td>0.055562</td>\n",
       "      <td>0.114928</td>\n",
       "      <td>1463.040193</td>\n",
       "      <td>0.145157</td>\n",
       "      <td>4.540862</td>\n",
       "      <td>0</td>\n",
       "    </tr>\n",
       "    <tr>\n",
       "      <td>1</td>\n",
       "      <td>2</td>\n",
       "      <td>F:\\RMS Samples\\S2\\A17BA_12055_1336_27_08_2017.MP3</td>\n",
       "      <td>[-1.1469097e+02,2.1500935e+02,-1.1449629e+02,4...</td>\n",
       "      <td>0.384692</td>\n",
       "      <td>0.119250</td>\n",
       "      <td>1484.006563</td>\n",
       "      <td>0.147916</td>\n",
       "      <td>4.452103</td>\n",
       "      <td>0</td>\n",
       "    </tr>\n",
       "    <tr>\n",
       "      <td>2</td>\n",
       "      <td>2</td>\n",
       "      <td>F:\\RMS Samples\\S2\\A17BA_12055_1341_27_08_2017.MP3</td>\n",
       "      <td>[-1.22675224e+02,2.07198257e+02,-1.02659149e+0...</td>\n",
       "      <td>0.464670</td>\n",
       "      <td>0.109778</td>\n",
       "      <td>1413.981019</td>\n",
       "      <td>0.134147</td>\n",
       "      <td>3.892156</td>\n",
       "      <td>0</td>\n",
       "    </tr>\n",
       "    <tr>\n",
       "      <td>3</td>\n",
       "      <td>2</td>\n",
       "      <td>F:\\RMS Samples\\S2\\A17BA_12055_1346_27_08_2017.MP3</td>\n",
       "      <td>[-1.1597163e+02,2.1474585e+02,-1.1746875e+02,4...</td>\n",
       "      <td>0.278849</td>\n",
       "      <td>0.119023</td>\n",
       "      <td>1495.144218</td>\n",
       "      <td>0.147518</td>\n",
       "      <td>4.409816</td>\n",
       "      <td>0</td>\n",
       "    </tr>\n",
       "    <tr>\n",
       "      <td>4</td>\n",
       "      <td>2</td>\n",
       "      <td>F:\\RMS Samples\\S2\\A17BA_12055_1351_27_08_2017.MP3</td>\n",
       "      <td>[-1.04732437e+02,2.15139145e+02,-1.20868294e+0...</td>\n",
       "      <td>0.233441</td>\n",
       "      <td>0.125884</td>\n",
       "      <td>1538.705541</td>\n",
       "      <td>0.154144</td>\n",
       "      <td>4.562316</td>\n",
       "      <td>0</td>\n",
       "    </tr>\n",
       "  </tbody>\n",
       "</table>\n",
       "</div>"
      ],
      "text/plain": [
       "   signal                                               path  \\\n",
       "0       2  F:\\RMS Samples\\S2\\A17BA_12055_1333_27_08_2017.MP3   \n",
       "1       2  F:\\RMS Samples\\S2\\A17BA_12055_1336_27_08_2017.MP3   \n",
       "2       2  F:\\RMS Samples\\S2\\A17BA_12055_1341_27_08_2017.MP3   \n",
       "3       2  F:\\RMS Samples\\S2\\A17BA_12055_1346_27_08_2017.MP3   \n",
       "4       2  F:\\RMS Samples\\S2\\A17BA_12055_1351_27_08_2017.MP3   \n",
       "\n",
       "                                                mfcc  mfcc_mean       zcr  \\\n",
       "0  [-1.19005562e+02,2.06678009e+02,-1.05538704e+0...   0.055562  0.114928   \n",
       "1  [-1.1469097e+02,2.1500935e+02,-1.1449629e+02,4...   0.384692  0.119250   \n",
       "2  [-1.22675224e+02,2.07198257e+02,-1.02659149e+0...   0.464670  0.109778   \n",
       "3  [-1.1597163e+02,2.1474585e+02,-1.1746875e+02,4...   0.278849  0.119023   \n",
       "4  [-1.04732437e+02,2.15139145e+02,-1.20868294e+0...   0.233441  0.125884   \n",
       "\n",
       "            sc       rms  melspectrogram  quality  \n",
       "0  1463.040193  0.145157        4.540862        0  \n",
       "1  1484.006563  0.147916        4.452103        0  \n",
       "2  1413.981019  0.134147        3.892156        0  \n",
       "3  1495.144218  0.147518        4.409816        0  \n",
       "4  1538.705541  0.154144        4.562316        0  "
      ]
     },
     "execution_count": 7,
     "metadata": {},
     "output_type": "execute_result"
    }
   ],
   "source": [
    "df.head()"
   ]
  },
  {
   "cell_type": "code",
   "execution_count": 8,
   "metadata": {},
   "outputs": [
    {
     "data": {
      "text/plain": [
       "1    205\n",
       "0    202\n",
       "Name: quality, dtype: int64"
      ]
     },
     "execution_count": 8,
     "metadata": {},
     "output_type": "execute_result"
    }
   ],
   "source": [
    "df['quality'].value_counts()"
   ]
  },
  {
   "cell_type": "code",
   "execution_count": 9,
   "metadata": {},
   "outputs": [],
   "source": [
    "P_0 = 203/(202+205)\n",
    "P_1 = 205/(202+205)"
   ]
  },
  {
   "cell_type": "code",
   "execution_count": 10,
   "metadata": {},
   "outputs": [],
   "source": [
    "entropy_quality = -( P_0*np.log2(P_0) + P_1*np.log2(P_1) )"
   ]
  },
  {
   "cell_type": "code",
   "execution_count": 11,
   "metadata": {},
   "outputs": [
    {
     "name": "stdout",
     "output_type": "stream",
     "text": [
      "0.9988905700084068\n"
     ]
    }
   ],
   "source": [
    "print(entropy_quality)"
   ]
  },
  {
   "cell_type": "code",
   "execution_count": 19,
   "metadata": {},
   "outputs": [
    {
     "name": "stdout",
     "output_type": "stream",
     "text": [
      "0.9999608075721955\n"
     ]
    }
   ],
   "source": [
    "import scipy.stats as st\n",
    "#Entropy of Quality\n",
    "E_Quality = st.entropy([205,202],base=2)\n",
    "print(E_Quality)"
   ]
  },
  {
   "cell_type": "code",
   "execution_count": 20,
   "metadata": {},
   "outputs": [
    {
     "data": {
      "text/plain": [
       "4    105\n",
       "1    102\n",
       "3    100\n",
       "2    100\n",
       "Name: signal, dtype: int64"
      ]
     },
     "execution_count": 20,
     "metadata": {},
     "output_type": "execute_result"
    }
   ],
   "source": [
    "df['signal'].value_counts()"
   ]
  },
  {
   "cell_type": "code",
   "execution_count": 21,
   "metadata": {},
   "outputs": [
    {
     "name": "stdout",
     "output_type": "stream",
     "text": [
      "0.9182916130667387\n"
     ]
    }
   ],
   "source": [
    "#Entropy of (Quality,Signal)\n",
    "p_s1 = 102/407\n",
    "p_s2 = 100/407\n",
    "p_s3 = 100/407\n",
    "p_s4 = 105/407\n",
    "\n",
    "E_Quality_Signal = (p_s1*st.entropy([102,202],base=2) + p_s2*st.entropy([100,202],base=2)\n",
    "                    +p_s3*st.entropy([100,205],base=2)+\n",
    "                    p_s4*st.entropy([105,205],base=2))\n",
    "print(E_Quality_Signal)"
   ]
  },
  {
   "cell_type": "code",
   "execution_count": 23,
   "metadata": {},
   "outputs": [
    {
     "name": "stdout",
     "output_type": "stream",
     "text": [
      "0.08166919450545684\n"
     ]
    }
   ],
   "source": [
    "#Information Gain of Quality and Signal\n",
    "Gain_Quality_Signal = E_Quality - E_Quality_Signal\n",
    "print(Gain_Quality_Signal)"
   ]
  },
  {
   "cell_type": "code",
   "execution_count": null,
   "metadata": {},
   "outputs": [],
   "source": []
  },
  {
   "cell_type": "code",
   "execution_count": null,
   "metadata": {},
   "outputs": [],
   "source": []
  },
  {
   "cell_type": "code",
   "execution_count": null,
   "metadata": {},
   "outputs": [],
   "source": []
  },
  {
   "cell_type": "code",
   "execution_count": null,
   "metadata": {},
   "outputs": [],
   "source": []
  },
  {
   "cell_type": "code",
   "execution_count": null,
   "metadata": {},
   "outputs": [],
   "source": []
  },
  {
   "cell_type": "code",
   "execution_count": null,
   "metadata": {},
   "outputs": [],
   "source": []
  },
  {
   "cell_type": "code",
   "execution_count": null,
   "metadata": {},
   "outputs": [],
   "source": []
  },
  {
   "cell_type": "code",
   "execution_count": null,
   "metadata": {},
   "outputs": [],
   "source": []
  },
  {
   "cell_type": "code",
   "execution_count": null,
   "metadata": {},
   "outputs": [],
   "source": []
  },
  {
   "cell_type": "markdown",
   "metadata": {},
   "source": [
    "# Classifier"
   ]
  },
  {
   "cell_type": "code",
   "execution_count": 43,
   "metadata": {},
   "outputs": [],
   "source": [
    "from sklearn.model_selection import train_test_split\n",
    "from sklearn.ensemble import RandomForestClassifier\n",
    "X = df[['mfcc_mean','zcr','sc','rms','melspectrogram']]\n",
    "y = df['signal']\n",
    "X_train,X_test,y_train,y_test = train_test_split(X_new,y,random_state=123,test_size=0.33)"
   ]
  },
  {
   "cell_type": "code",
   "execution_count": 66,
   "metadata": {},
   "outputs": [
    {
     "data": {
      "text/plain": [
       "RandomForestClassifier(bootstrap=True, class_weight=None, criterion='gini',\n",
       "                       max_depth=5, max_features='auto', max_leaf_nodes=None,\n",
       "                       min_impurity_decrease=0.0, min_impurity_split=None,\n",
       "                       min_samples_leaf=1, min_samples_split=2,\n",
       "                       min_weight_fraction_leaf=0.0, n_estimators=30,\n",
       "                       n_jobs=None, oob_score=False, random_state=None,\n",
       "                       verbose=0, warm_start=False)"
      ]
     },
     "execution_count": 66,
     "metadata": {},
     "output_type": "execute_result"
    }
   ],
   "source": [
    "clf = RandomForestClassifier(n_estimators=30,max_depth=5)\n",
    "clf.fit(X_train,y_train)"
   ]
  },
  {
   "cell_type": "code",
   "execution_count": 67,
   "metadata": {},
   "outputs": [
    {
     "name": "stdout",
     "output_type": "stream",
     "text": [
      "0.7610294117647058\n",
      "0.5777777777777777\n"
     ]
    }
   ],
   "source": [
    "pred = clf.predict(X_test)\n",
    "\n",
    "print(clf.score(X_train,y_train))\n",
    "print(clf.score(X_test,y_test))"
   ]
  },
  {
   "cell_type": "code",
   "execution_count": 68,
   "metadata": {},
   "outputs": [
    {
     "name": "stdout",
     "output_type": "stream",
     "text": [
      "[[19  4  0  5]\n",
      " [ 7 21  1  1]\n",
      " [ 2 13 11 12]\n",
      " [ 3  7  2 27]]\n"
     ]
    }
   ],
   "source": [
    "from sklearn.metrics import classification_report,confusion_matrix\n",
    "print(confusion_matrix(y_test,pred))"
   ]
  },
  {
   "cell_type": "code",
   "execution_count": 69,
   "metadata": {},
   "outputs": [
    {
     "name": "stdout",
     "output_type": "stream",
     "text": [
      "              precision    recall  f1-score   support\n",
      "\n",
      "           1       0.61      0.68      0.64        28\n",
      "           2       0.47      0.70      0.56        30\n",
      "           3       0.79      0.29      0.42        38\n",
      "           4       0.60      0.69      0.64        39\n",
      "\n",
      "    accuracy                           0.58       135\n",
      "   macro avg       0.62      0.59      0.57       135\n",
      "weighted avg       0.63      0.58      0.56       135\n",
      "\n"
     ]
    }
   ],
   "source": [
    "print(classification_report(y_test,pred))"
   ]
  },
  {
   "cell_type": "code",
   "execution_count": 70,
   "metadata": {},
   "outputs": [],
   "source": [
    "from sklearn.preprocessing import StandardScaler\n",
    "scaler = StandardScaler()\n",
    "scaler.fit(X)\n",
    "scaled_data = scaler.transform(X)\n"
   ]
  },
  {
   "cell_type": "code",
   "execution_count": 37,
   "metadata": {},
   "outputs": [],
   "source": [
    "X_new = scaled_data.tolist()"
   ]
  },
  {
   "cell_type": "markdown",
   "metadata": {},
   "source": [
    "# testing other"
   ]
  },
  {
   "cell_type": "code",
   "execution_count": 68,
   "metadata": {},
   "outputs": [],
   "source": [
    "df = pd.read_csv('MFCC_Break.csv')"
   ]
  },
  {
   "cell_type": "code",
   "execution_count": 69,
   "metadata": {},
   "outputs": [
    {
     "data": {
      "text/html": [
       "<div>\n",
       "<style scoped>\n",
       "    .dataframe tbody tr th:only-of-type {\n",
       "        vertical-align: middle;\n",
       "    }\n",
       "\n",
       "    .dataframe tbody tr th {\n",
       "        vertical-align: top;\n",
       "    }\n",
       "\n",
       "    .dataframe thead th {\n",
       "        text-align: right;\n",
       "    }\n",
       "</style>\n",
       "<table border=\"1\" class=\"dataframe\">\n",
       "  <thead>\n",
       "    <tr style=\"text-align: right;\">\n",
       "      <th></th>\n",
       "      <th>signal</th>\n",
       "      <th>a</th>\n",
       "      <th>b</th>\n",
       "      <th>c</th>\n",
       "      <th>d</th>\n",
       "      <th>e</th>\n",
       "      <th>f</th>\n",
       "      <th>g</th>\n",
       "      <th>h</th>\n",
       "      <th>i</th>\n",
       "      <th>...</th>\n",
       "      <th>ae</th>\n",
       "      <th>af</th>\n",
       "      <th>ag</th>\n",
       "      <th>ah</th>\n",
       "      <th>ai</th>\n",
       "      <th>aj</th>\n",
       "      <th>ak</th>\n",
       "      <th>al</th>\n",
       "      <th>am</th>\n",
       "      <th>an</th>\n",
       "    </tr>\n",
       "  </thead>\n",
       "  <tbody>\n",
       "    <tr>\n",
       "      <td>0</td>\n",
       "      <td>2</td>\n",
       "      <td>-119.0</td>\n",
       "      <td>207.0</td>\n",
       "      <td>-106.0</td>\n",
       "      <td>44.8</td>\n",
       "      <td>11.20</td>\n",
       "      <td>-19.3</td>\n",
       "      <td>10.7</td>\n",
       "      <td>-6.19</td>\n",
       "      <td>6.10</td>\n",
       "      <td>...</td>\n",
       "      <td>0.236</td>\n",
       "      <td>-0.803</td>\n",
       "      <td>-2.830</td>\n",
       "      <td>0.675</td>\n",
       "      <td>-3.38</td>\n",
       "      <td>-1.7500</td>\n",
       "      <td>-1.450</td>\n",
       "      <td>-2.96</td>\n",
       "      <td>0.0204</td>\n",
       "      <td>-2.04</td>\n",
       "    </tr>\n",
       "    <tr>\n",
       "      <td>1</td>\n",
       "      <td>2</td>\n",
       "      <td>-115.0</td>\n",
       "      <td>215.0</td>\n",
       "      <td>-114.0</td>\n",
       "      <td>49.5</td>\n",
       "      <td>9.32</td>\n",
       "      <td>-19.2</td>\n",
       "      <td>12.0</td>\n",
       "      <td>-8.52</td>\n",
       "      <td>8.62</td>\n",
       "      <td>...</td>\n",
       "      <td>0.831</td>\n",
       "      <td>0.178</td>\n",
       "      <td>-1.510</td>\n",
       "      <td>1.640</td>\n",
       "      <td>-2.60</td>\n",
       "      <td>-0.1160</td>\n",
       "      <td>-0.789</td>\n",
       "      <td>-2.95</td>\n",
       "      <td>0.4730</td>\n",
       "      <td>-1.89</td>\n",
       "    </tr>\n",
       "    <tr>\n",
       "      <td>2</td>\n",
       "      <td>2</td>\n",
       "      <td>-123.0</td>\n",
       "      <td>207.0</td>\n",
       "      <td>-103.0</td>\n",
       "      <td>41.4</td>\n",
       "      <td>14.50</td>\n",
       "      <td>-14.3</td>\n",
       "      <td>10.2</td>\n",
       "      <td>-3.70</td>\n",
       "      <td>6.08</td>\n",
       "      <td>...</td>\n",
       "      <td>1.800</td>\n",
       "      <td>0.663</td>\n",
       "      <td>-1.250</td>\n",
       "      <td>1.300</td>\n",
       "      <td>-3.04</td>\n",
       "      <td>-0.0224</td>\n",
       "      <td>-0.860</td>\n",
       "      <td>-2.83</td>\n",
       "      <td>0.3950</td>\n",
       "      <td>-2.65</td>\n",
       "    </tr>\n",
       "    <tr>\n",
       "      <td>3</td>\n",
       "      <td>2</td>\n",
       "      <td>-116.0</td>\n",
       "      <td>215.0</td>\n",
       "      <td>-117.0</td>\n",
       "      <td>47.1</td>\n",
       "      <td>10.40</td>\n",
       "      <td>-19.1</td>\n",
       "      <td>12.3</td>\n",
       "      <td>-8.26</td>\n",
       "      <td>7.51</td>\n",
       "      <td>...</td>\n",
       "      <td>0.975</td>\n",
       "      <td>0.636</td>\n",
       "      <td>-0.591</td>\n",
       "      <td>2.110</td>\n",
       "      <td>-2.32</td>\n",
       "      <td>0.7450</td>\n",
       "      <td>-0.106</td>\n",
       "      <td>-2.73</td>\n",
       "      <td>1.1700</td>\n",
       "      <td>-1.89</td>\n",
       "    </tr>\n",
       "    <tr>\n",
       "      <td>4</td>\n",
       "      <td>2</td>\n",
       "      <td>-105.0</td>\n",
       "      <td>215.0</td>\n",
       "      <td>-121.0</td>\n",
       "      <td>50.5</td>\n",
       "      <td>9.81</td>\n",
       "      <td>-19.8</td>\n",
       "      <td>15.7</td>\n",
       "      <td>-10.30</td>\n",
       "      <td>8.66</td>\n",
       "      <td>...</td>\n",
       "      <td>-1.910</td>\n",
       "      <td>-0.794</td>\n",
       "      <td>-3.110</td>\n",
       "      <td>0.124</td>\n",
       "      <td>-3.68</td>\n",
       "      <td>-1.3900</td>\n",
       "      <td>-0.231</td>\n",
       "      <td>-3.06</td>\n",
       "      <td>1.2600</td>\n",
       "      <td>-0.77</td>\n",
       "    </tr>\n",
       "  </tbody>\n",
       "</table>\n",
       "<p>5 rows × 41 columns</p>\n",
       "</div>"
      ],
      "text/plain": [
       "   signal      a      b      c     d      e     f     g      h     i  ...  \\\n",
       "0       2 -119.0  207.0 -106.0  44.8  11.20 -19.3  10.7  -6.19  6.10  ...   \n",
       "1       2 -115.0  215.0 -114.0  49.5   9.32 -19.2  12.0  -8.52  8.62  ...   \n",
       "2       2 -123.0  207.0 -103.0  41.4  14.50 -14.3  10.2  -3.70  6.08  ...   \n",
       "3       2 -116.0  215.0 -117.0  47.1  10.40 -19.1  12.3  -8.26  7.51  ...   \n",
       "4       2 -105.0  215.0 -121.0  50.5   9.81 -19.8  15.7 -10.30  8.66  ...   \n",
       "\n",
       "      ae     af     ag     ah    ai      aj     ak    al      am    an  \n",
       "0  0.236 -0.803 -2.830  0.675 -3.38 -1.7500 -1.450 -2.96  0.0204 -2.04  \n",
       "1  0.831  0.178 -1.510  1.640 -2.60 -0.1160 -0.789 -2.95  0.4730 -1.89  \n",
       "2  1.800  0.663 -1.250  1.300 -3.04 -0.0224 -0.860 -2.83  0.3950 -2.65  \n",
       "3  0.975  0.636 -0.591  2.110 -2.32  0.7450 -0.106 -2.73  1.1700 -1.89  \n",
       "4 -1.910 -0.794 -3.110  0.124 -3.68 -1.3900 -0.231 -3.06  1.2600 -0.77  \n",
       "\n",
       "[5 rows x 41 columns]"
      ]
     },
     "execution_count": 69,
     "metadata": {},
     "output_type": "execute_result"
    }
   ],
   "source": [
    "df.head()"
   ]
  },
  {
   "cell_type": "code",
   "execution_count": 70,
   "metadata": {},
   "outputs": [
    {
     "name": "stdout",
     "output_type": "stream",
     "text": [
      "<class 'pandas.core.frame.DataFrame'>\n",
      "RangeIndex: 407 entries, 0 to 406\n",
      "Data columns (total 41 columns):\n",
      "signal    407 non-null int64\n",
      "a         407 non-null float64\n",
      "b         407 non-null float64\n",
      "c         407 non-null float64\n",
      "d         407 non-null float64\n",
      "e         407 non-null float64\n",
      "f         407 non-null float64\n",
      "g         407 non-null float64\n",
      "h         407 non-null float64\n",
      "i         407 non-null float64\n",
      "j         407 non-null float64\n",
      "k         407 non-null float64\n",
      "l         407 non-null float64\n",
      "m         407 non-null float64\n",
      "n         407 non-null float64\n",
      "o         407 non-null float64\n",
      "p         407 non-null float64\n",
      "q         407 non-null float64\n",
      "r         407 non-null float64\n",
      "s         407 non-null float64\n",
      "t         407 non-null float64\n",
      "u         407 non-null float64\n",
      "v         407 non-null float64\n",
      "w         407 non-null float64\n",
      "x         407 non-null float64\n",
      "y         407 non-null float64\n",
      "z         407 non-null float64\n",
      "aa        407 non-null float64\n",
      "ab        407 non-null float64\n",
      "ac        407 non-null float64\n",
      "ad        407 non-null float64\n",
      "ae        407 non-null float64\n",
      "af        407 non-null float64\n",
      "ag        407 non-null float64\n",
      "ah        407 non-null float64\n",
      "ai        407 non-null float64\n",
      "aj        407 non-null float64\n",
      "ak        407 non-null float64\n",
      "al        407 non-null float64\n",
      "am        407 non-null float64\n",
      "an        407 non-null float64\n",
      "dtypes: float64(40), int64(1)\n",
      "memory usage: 130.5 KB\n"
     ]
    }
   ],
   "source": [
    "df.info()"
   ]
  },
  {
   "cell_type": "code",
   "execution_count": 71,
   "metadata": {},
   "outputs": [],
   "source": [
    "X = df[['a','b','c','d','e','f','g','h','i','j','k','l','m','n','o','p','q','r','s','t','u','v','w','x','y','z','aa','ab','ac','ad','ae','af','ag','ah','ai','aj','ak','al','am','an']]\n",
    "y = df['signal']"
   ]
  },
  {
   "cell_type": "code",
   "execution_count": 72,
   "metadata": {},
   "outputs": [
    {
     "data": {
      "text/html": [
       "<div>\n",
       "<style scoped>\n",
       "    .dataframe tbody tr th:only-of-type {\n",
       "        vertical-align: middle;\n",
       "    }\n",
       "\n",
       "    .dataframe tbody tr th {\n",
       "        vertical-align: top;\n",
       "    }\n",
       "\n",
       "    .dataframe thead th {\n",
       "        text-align: right;\n",
       "    }\n",
       "</style>\n",
       "<table border=\"1\" class=\"dataframe\">\n",
       "  <thead>\n",
       "    <tr style=\"text-align: right;\">\n",
       "      <th></th>\n",
       "      <th>a</th>\n",
       "      <th>b</th>\n",
       "      <th>c</th>\n",
       "      <th>d</th>\n",
       "      <th>e</th>\n",
       "      <th>f</th>\n",
       "      <th>g</th>\n",
       "      <th>h</th>\n",
       "      <th>i</th>\n",
       "      <th>j</th>\n",
       "      <th>...</th>\n",
       "      <th>ae</th>\n",
       "      <th>af</th>\n",
       "      <th>ag</th>\n",
       "      <th>ah</th>\n",
       "      <th>ai</th>\n",
       "      <th>aj</th>\n",
       "      <th>ak</th>\n",
       "      <th>al</th>\n",
       "      <th>am</th>\n",
       "      <th>an</th>\n",
       "    </tr>\n",
       "  </thead>\n",
       "  <tbody>\n",
       "    <tr>\n",
       "      <td>0</td>\n",
       "      <td>-119.0</td>\n",
       "      <td>207.0</td>\n",
       "      <td>-106.0</td>\n",
       "      <td>44.8</td>\n",
       "      <td>11.200</td>\n",
       "      <td>-19.30</td>\n",
       "      <td>10.70</td>\n",
       "      <td>-6.19</td>\n",
       "      <td>6.10</td>\n",
       "      <td>-10.00</td>\n",
       "      <td>...</td>\n",
       "      <td>0.236</td>\n",
       "      <td>-0.803</td>\n",
       "      <td>-2.830</td>\n",
       "      <td>0.675</td>\n",
       "      <td>-3.38</td>\n",
       "      <td>-1.7500</td>\n",
       "      <td>-1.450</td>\n",
       "      <td>-2.96</td>\n",
       "      <td>0.0204</td>\n",
       "      <td>-2.04</td>\n",
       "    </tr>\n",
       "    <tr>\n",
       "      <td>1</td>\n",
       "      <td>-115.0</td>\n",
       "      <td>215.0</td>\n",
       "      <td>-114.0</td>\n",
       "      <td>49.5</td>\n",
       "      <td>9.320</td>\n",
       "      <td>-19.20</td>\n",
       "      <td>12.00</td>\n",
       "      <td>-8.52</td>\n",
       "      <td>8.62</td>\n",
       "      <td>-10.90</td>\n",
       "      <td>...</td>\n",
       "      <td>0.831</td>\n",
       "      <td>0.178</td>\n",
       "      <td>-1.510</td>\n",
       "      <td>1.640</td>\n",
       "      <td>-2.60</td>\n",
       "      <td>-0.1160</td>\n",
       "      <td>-0.789</td>\n",
       "      <td>-2.95</td>\n",
       "      <td>0.4730</td>\n",
       "      <td>-1.89</td>\n",
       "    </tr>\n",
       "    <tr>\n",
       "      <td>2</td>\n",
       "      <td>-123.0</td>\n",
       "      <td>207.0</td>\n",
       "      <td>-103.0</td>\n",
       "      <td>41.4</td>\n",
       "      <td>14.500</td>\n",
       "      <td>-14.30</td>\n",
       "      <td>10.20</td>\n",
       "      <td>-3.70</td>\n",
       "      <td>6.08</td>\n",
       "      <td>-12.40</td>\n",
       "      <td>...</td>\n",
       "      <td>1.800</td>\n",
       "      <td>0.663</td>\n",
       "      <td>-1.250</td>\n",
       "      <td>1.300</td>\n",
       "      <td>-3.04</td>\n",
       "      <td>-0.0224</td>\n",
       "      <td>-0.860</td>\n",
       "      <td>-2.83</td>\n",
       "      <td>0.3950</td>\n",
       "      <td>-2.65</td>\n",
       "    </tr>\n",
       "    <tr>\n",
       "      <td>3</td>\n",
       "      <td>-116.0</td>\n",
       "      <td>215.0</td>\n",
       "      <td>-117.0</td>\n",
       "      <td>47.1</td>\n",
       "      <td>10.400</td>\n",
       "      <td>-19.10</td>\n",
       "      <td>12.30</td>\n",
       "      <td>-8.26</td>\n",
       "      <td>7.51</td>\n",
       "      <td>-11.00</td>\n",
       "      <td>...</td>\n",
       "      <td>0.975</td>\n",
       "      <td>0.636</td>\n",
       "      <td>-0.591</td>\n",
       "      <td>2.110</td>\n",
       "      <td>-2.32</td>\n",
       "      <td>0.7450</td>\n",
       "      <td>-0.106</td>\n",
       "      <td>-2.73</td>\n",
       "      <td>1.1700</td>\n",
       "      <td>-1.89</td>\n",
       "    </tr>\n",
       "    <tr>\n",
       "      <td>4</td>\n",
       "      <td>-105.0</td>\n",
       "      <td>215.0</td>\n",
       "      <td>-121.0</td>\n",
       "      <td>50.5</td>\n",
       "      <td>9.810</td>\n",
       "      <td>-19.80</td>\n",
       "      <td>15.70</td>\n",
       "      <td>-10.30</td>\n",
       "      <td>8.66</td>\n",
       "      <td>-8.11</td>\n",
       "      <td>...</td>\n",
       "      <td>-1.910</td>\n",
       "      <td>-0.794</td>\n",
       "      <td>-3.110</td>\n",
       "      <td>0.124</td>\n",
       "      <td>-3.68</td>\n",
       "      <td>-1.3900</td>\n",
       "      <td>-0.231</td>\n",
       "      <td>-3.06</td>\n",
       "      <td>1.2600</td>\n",
       "      <td>-0.77</td>\n",
       "    </tr>\n",
       "    <tr>\n",
       "      <td>...</td>\n",
       "      <td>...</td>\n",
       "      <td>...</td>\n",
       "      <td>...</td>\n",
       "      <td>...</td>\n",
       "      <td>...</td>\n",
       "      <td>...</td>\n",
       "      <td>...</td>\n",
       "      <td>...</td>\n",
       "      <td>...</td>\n",
       "      <td>...</td>\n",
       "      <td>...</td>\n",
       "      <td>...</td>\n",
       "      <td>...</td>\n",
       "      <td>...</td>\n",
       "      <td>...</td>\n",
       "      <td>...</td>\n",
       "      <td>...</td>\n",
       "      <td>...</td>\n",
       "      <td>...</td>\n",
       "      <td>...</td>\n",
       "      <td>...</td>\n",
       "    </tr>\n",
       "    <tr>\n",
       "      <td>402</td>\n",
       "      <td>-162.0</td>\n",
       "      <td>214.0</td>\n",
       "      <td>-81.8</td>\n",
       "      <td>49.3</td>\n",
       "      <td>9.500</td>\n",
       "      <td>-9.74</td>\n",
       "      <td>3.19</td>\n",
       "      <td>-6.98</td>\n",
       "      <td>9.27</td>\n",
       "      <td>-15.60</td>\n",
       "      <td>...</td>\n",
       "      <td>-6.850</td>\n",
       "      <td>-1.590</td>\n",
       "      <td>-3.520</td>\n",
       "      <td>-2.510</td>\n",
       "      <td>1.52</td>\n",
       "      <td>-1.7800</td>\n",
       "      <td>1.380</td>\n",
       "      <td>-2.03</td>\n",
       "      <td>-3.9500</td>\n",
       "      <td>-4.24</td>\n",
       "    </tr>\n",
       "    <tr>\n",
       "      <td>403</td>\n",
       "      <td>-133.0</td>\n",
       "      <td>223.0</td>\n",
       "      <td>-132.0</td>\n",
       "      <td>61.7</td>\n",
       "      <td>0.656</td>\n",
       "      <td>-16.30</td>\n",
       "      <td>18.00</td>\n",
       "      <td>-14.80</td>\n",
       "      <td>13.80</td>\n",
       "      <td>-11.30</td>\n",
       "      <td>...</td>\n",
       "      <td>-0.480</td>\n",
       "      <td>-1.870</td>\n",
       "      <td>-2.900</td>\n",
       "      <td>1.050</td>\n",
       "      <td>-4.46</td>\n",
       "      <td>0.1450</td>\n",
       "      <td>-0.980</td>\n",
       "      <td>-2.51</td>\n",
       "      <td>0.8660</td>\n",
       "      <td>-3.03</td>\n",
       "    </tr>\n",
       "    <tr>\n",
       "      <td>404</td>\n",
       "      <td>-136.0</td>\n",
       "      <td>230.0</td>\n",
       "      <td>-142.0</td>\n",
       "      <td>66.1</td>\n",
       "      <td>-3.390</td>\n",
       "      <td>-16.90</td>\n",
       "      <td>19.60</td>\n",
       "      <td>-18.00</td>\n",
       "      <td>14.90</td>\n",
       "      <td>-12.10</td>\n",
       "      <td>...</td>\n",
       "      <td>1.390</td>\n",
       "      <td>-1.040</td>\n",
       "      <td>-2.320</td>\n",
       "      <td>2.310</td>\n",
       "      <td>-3.33</td>\n",
       "      <td>1.3300</td>\n",
       "      <td>-0.384</td>\n",
       "      <td>-2.21</td>\n",
       "      <td>1.3000</td>\n",
       "      <td>-2.66</td>\n",
       "    </tr>\n",
       "    <tr>\n",
       "      <td>405</td>\n",
       "      <td>-135.0</td>\n",
       "      <td>219.0</td>\n",
       "      <td>-128.0</td>\n",
       "      <td>57.2</td>\n",
       "      <td>3.190</td>\n",
       "      <td>-15.60</td>\n",
       "      <td>15.70</td>\n",
       "      <td>-12.60</td>\n",
       "      <td>12.80</td>\n",
       "      <td>-12.30</td>\n",
       "      <td>...</td>\n",
       "      <td>0.584</td>\n",
       "      <td>-0.829</td>\n",
       "      <td>-1.990</td>\n",
       "      <td>1.710</td>\n",
       "      <td>-2.96</td>\n",
       "      <td>0.9640</td>\n",
       "      <td>-0.735</td>\n",
       "      <td>-2.55</td>\n",
       "      <td>1.1400</td>\n",
       "      <td>-2.49</td>\n",
       "    </tr>\n",
       "    <tr>\n",
       "      <td>406</td>\n",
       "      <td>-132.0</td>\n",
       "      <td>224.0</td>\n",
       "      <td>-136.0</td>\n",
       "      <td>62.1</td>\n",
       "      <td>0.452</td>\n",
       "      <td>-17.00</td>\n",
       "      <td>18.00</td>\n",
       "      <td>-16.10</td>\n",
       "      <td>13.60</td>\n",
       "      <td>-11.30</td>\n",
       "      <td>...</td>\n",
       "      <td>0.656</td>\n",
       "      <td>-0.850</td>\n",
       "      <td>-2.670</td>\n",
       "      <td>1.780</td>\n",
       "      <td>-3.49</td>\n",
       "      <td>0.2990</td>\n",
       "      <td>-0.404</td>\n",
       "      <td>-2.49</td>\n",
       "      <td>1.0500</td>\n",
       "      <td>-2.56</td>\n",
       "    </tr>\n",
       "  </tbody>\n",
       "</table>\n",
       "<p>407 rows × 40 columns</p>\n",
       "</div>"
      ],
      "text/plain": [
       "         a      b      c     d       e      f      g      h      i      j  \\\n",
       "0   -119.0  207.0 -106.0  44.8  11.200 -19.30  10.70  -6.19   6.10 -10.00   \n",
       "1   -115.0  215.0 -114.0  49.5   9.320 -19.20  12.00  -8.52   8.62 -10.90   \n",
       "2   -123.0  207.0 -103.0  41.4  14.500 -14.30  10.20  -3.70   6.08 -12.40   \n",
       "3   -116.0  215.0 -117.0  47.1  10.400 -19.10  12.30  -8.26   7.51 -11.00   \n",
       "4   -105.0  215.0 -121.0  50.5   9.810 -19.80  15.70 -10.30   8.66  -8.11   \n",
       "..     ...    ...    ...   ...     ...    ...    ...    ...    ...    ...   \n",
       "402 -162.0  214.0  -81.8  49.3   9.500  -9.74   3.19  -6.98   9.27 -15.60   \n",
       "403 -133.0  223.0 -132.0  61.7   0.656 -16.30  18.00 -14.80  13.80 -11.30   \n",
       "404 -136.0  230.0 -142.0  66.1  -3.390 -16.90  19.60 -18.00  14.90 -12.10   \n",
       "405 -135.0  219.0 -128.0  57.2   3.190 -15.60  15.70 -12.60  12.80 -12.30   \n",
       "406 -132.0  224.0 -136.0  62.1   0.452 -17.00  18.00 -16.10  13.60 -11.30   \n",
       "\n",
       "     ...     ae     af     ag     ah    ai      aj     ak    al      am    an  \n",
       "0    ...  0.236 -0.803 -2.830  0.675 -3.38 -1.7500 -1.450 -2.96  0.0204 -2.04  \n",
       "1    ...  0.831  0.178 -1.510  1.640 -2.60 -0.1160 -0.789 -2.95  0.4730 -1.89  \n",
       "2    ...  1.800  0.663 -1.250  1.300 -3.04 -0.0224 -0.860 -2.83  0.3950 -2.65  \n",
       "3    ...  0.975  0.636 -0.591  2.110 -2.32  0.7450 -0.106 -2.73  1.1700 -1.89  \n",
       "4    ... -1.910 -0.794 -3.110  0.124 -3.68 -1.3900 -0.231 -3.06  1.2600 -0.77  \n",
       "..   ...    ...    ...    ...    ...   ...     ...    ...   ...     ...   ...  \n",
       "402  ... -6.850 -1.590 -3.520 -2.510  1.52 -1.7800  1.380 -2.03 -3.9500 -4.24  \n",
       "403  ... -0.480 -1.870 -2.900  1.050 -4.46  0.1450 -0.980 -2.51  0.8660 -3.03  \n",
       "404  ...  1.390 -1.040 -2.320  2.310 -3.33  1.3300 -0.384 -2.21  1.3000 -2.66  \n",
       "405  ...  0.584 -0.829 -1.990  1.710 -2.96  0.9640 -0.735 -2.55  1.1400 -2.49  \n",
       "406  ...  0.656 -0.850 -2.670  1.780 -3.49  0.2990 -0.404 -2.49  1.0500 -2.56  \n",
       "\n",
       "[407 rows x 40 columns]"
      ]
     },
     "execution_count": 72,
     "metadata": {},
     "output_type": "execute_result"
    }
   ],
   "source": [
    "X"
   ]
  },
  {
   "cell_type": "code",
   "execution_count": 156,
   "metadata": {},
   "outputs": [],
   "source": [
    "from sklearn.model_selection import train_test_split\n",
    "from sklearn.ensemble import RandomForestClassifier\n",
    "X_train,X_test,y_train,y_test = train_test_split(X,y,random_state=123,test_size=0.33)"
   ]
  },
  {
   "cell_type": "code",
   "execution_count": 157,
   "metadata": {},
   "outputs": [
    {
     "data": {
      "text/plain": [
       "RandomForestClassifier(bootstrap=True, class_weight=None, criterion='gini',\n",
       "                       max_depth=20, max_features='auto', max_leaf_nodes=None,\n",
       "                       min_impurity_decrease=0.0, min_impurity_split=None,\n",
       "                       min_samples_leaf=1, min_samples_split=2,\n",
       "                       min_weight_fraction_leaf=0.0, n_estimators=40,\n",
       "                       n_jobs=None, oob_score=False, random_state=None,\n",
       "                       verbose=0, warm_start=False)"
      ]
     },
     "execution_count": 157,
     "metadata": {},
     "output_type": "execute_result"
    }
   ],
   "source": [
    "clf = RandomForestClassifier(n_estimators=40,max_depth=20)\n",
    "clf.fit(X_train,y_train)"
   ]
  },
  {
   "cell_type": "code",
   "execution_count": 158,
   "metadata": {},
   "outputs": [
    {
     "name": "stdout",
     "output_type": "stream",
     "text": [
      "0.9926470588235294\n",
      "0.6148148148148148\n"
     ]
    }
   ],
   "source": [
    "pred = clf.predict(X_test)\n",
    "\n",
    "print(clf.score(X_train,y_train))\n",
    "print(clf.score(X_test,y_test))"
   ]
  },
  {
   "cell_type": "code",
   "execution_count": 161,
   "metadata": {},
   "outputs": [],
   "source": [
    "from sklearn.neural_network import MLPClassifier\n",
    "clf = MLPClassifier(hidden_layer_sizes=(20, ), activation='relu', solver='adam', alpha=0.0001,\n",
    "                    batch_size='auto', learning_rate='constant', learning_rate_init=0.001, power_t=0.5,\n",
    "                    max_iter=1500, shuffle=True, random_state=100, tol=0.0001, verbose=False, warm_start=False, \n",
    "                    momentum=0.9, nesterovs_momentum=True, early_stopping=False, validation_fraction=0.1, beta_1=0.9,\n",
    "                    beta_2=0.999, epsilon=1e-08, n_iter_no_change=10)"
   ]
  },
  {
   "cell_type": "code",
   "execution_count": 163,
   "metadata": {},
   "outputs": [
    {
     "name": "stdout",
     "output_type": "stream",
     "text": [
      "0.7352941176470589\n",
      "0.6370370370370371\n"
     ]
    }
   ],
   "source": [
    "clf.fit(X_train,y_train)\n",
    "pred = clf.predict(X_test)\n",
    "\n",
    "print(clf.score(X_train,y_train))\n",
    "print(clf.score(X_test,y_test))"
   ]
  },
  {
   "cell_type": "code",
   "execution_count": 51,
   "metadata": {},
   "outputs": [],
   "source": []
  },
  {
   "cell_type": "code",
   "execution_count": null,
   "metadata": {},
   "outputs": [],
   "source": []
  },
  {
   "cell_type": "code",
   "execution_count": null,
   "metadata": {},
   "outputs": [],
   "source": []
  },
  {
   "cell_type": "code",
   "execution_count": null,
   "metadata": {},
   "outputs": [],
   "source": []
  }
 ],
 "metadata": {
  "kernelspec": {
   "display_name": "Python 3",
   "language": "python",
   "name": "python3"
  },
  "language_info": {
   "codemirror_mode": {
    "name": "ipython",
    "version": 3
   },
   "file_extension": ".py",
   "mimetype": "text/x-python",
   "name": "python",
   "nbconvert_exporter": "python",
   "pygments_lexer": "ipython3",
   "version": "3.7.4"
  }
 },
 "nbformat": 4,
 "nbformat_minor": 2
}
