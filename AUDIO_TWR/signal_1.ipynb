{
 "cells": [
  {
   "cell_type": "code",
   "execution_count": 1,
   "metadata": {},
   "outputs": [],
   "source": [
    "import numpy as np\n",
    "import pandas as pd\n",
    "import seaborn as sns\n",
    "import matplotlib.pyplot as plt\n",
    "import librosa"
   ]
  },
  {
   "cell_type": "code",
   "execution_count": 2,
   "metadata": {},
   "outputs": [],
   "source": [
    "df = pd.read_excel('signal_feature.xlsx')\n",
    "del df['Unnamed: 0']"
   ]
  },
  {
   "cell_type": "code",
   "execution_count": 36,
   "metadata": {},
   "outputs": [
    {
     "data": {
      "text/html": [
       "<div>\n",
       "<style scoped>\n",
       "    .dataframe tbody tr th:only-of-type {\n",
       "        vertical-align: middle;\n",
       "    }\n",
       "\n",
       "    .dataframe tbody tr th {\n",
       "        vertical-align: top;\n",
       "    }\n",
       "\n",
       "    .dataframe thead th {\n",
       "        text-align: right;\n",
       "    }\n",
       "</style>\n",
       "<table border=\"1\" class=\"dataframe\">\n",
       "  <thead>\n",
       "    <tr style=\"text-align: right;\">\n",
       "      <th></th>\n",
       "      <th>signal</th>\n",
       "      <th>path</th>\n",
       "      <th>mfcc</th>\n",
       "      <th>mfcc_mean</th>\n",
       "      <th>zcr</th>\n",
       "      <th>sc</th>\n",
       "      <th>rms</th>\n",
       "      <th>melspectrogram</th>\n",
       "      <th>quality</th>\n",
       "    </tr>\n",
       "  </thead>\n",
       "  <tbody>\n",
       "    <tr>\n",
       "      <td>0</td>\n",
       "      <td>2</td>\n",
       "      <td>F:\\RMS Samples\\S2\\A17BA_12055_1333_27_08_2017.MP3</td>\n",
       "      <td>[-1.19005562e+02  2.06678009e+02 -1.05538704e+...</td>\n",
       "      <td>0.055562</td>\n",
       "      <td>0.114928</td>\n",
       "      <td>1463.040193</td>\n",
       "      <td>0.145157</td>\n",
       "      <td>4.540862</td>\n",
       "      <td>0</td>\n",
       "    </tr>\n",
       "    <tr>\n",
       "      <td>1</td>\n",
       "      <td>2</td>\n",
       "      <td>F:\\RMS Samples\\S2\\A17BA_12055_1336_27_08_2017.MP3</td>\n",
       "      <td>[-1.1469097e+02  2.1500935e+02 -1.1449629e+02 ...</td>\n",
       "      <td>0.384692</td>\n",
       "      <td>0.119250</td>\n",
       "      <td>1484.006563</td>\n",
       "      <td>0.147916</td>\n",
       "      <td>4.452103</td>\n",
       "      <td>0</td>\n",
       "    </tr>\n",
       "    <tr>\n",
       "      <td>2</td>\n",
       "      <td>2</td>\n",
       "      <td>F:\\RMS Samples\\S2\\A17BA_12055_1341_27_08_2017.MP3</td>\n",
       "      <td>[-1.22675224e+02  2.07198257e+02 -1.02659149e+...</td>\n",
       "      <td>0.464670</td>\n",
       "      <td>0.109778</td>\n",
       "      <td>1413.981019</td>\n",
       "      <td>0.134147</td>\n",
       "      <td>3.892156</td>\n",
       "      <td>0</td>\n",
       "    </tr>\n",
       "    <tr>\n",
       "      <td>3</td>\n",
       "      <td>2</td>\n",
       "      <td>F:\\RMS Samples\\S2\\A17BA_12055_1346_27_08_2017.MP3</td>\n",
       "      <td>[-1.1597163e+02  2.1474585e+02 -1.1746875e+02 ...</td>\n",
       "      <td>0.278849</td>\n",
       "      <td>0.119023</td>\n",
       "      <td>1495.144218</td>\n",
       "      <td>0.147518</td>\n",
       "      <td>4.409816</td>\n",
       "      <td>0</td>\n",
       "    </tr>\n",
       "    <tr>\n",
       "      <td>4</td>\n",
       "      <td>2</td>\n",
       "      <td>F:\\RMS Samples\\S2\\A17BA_12055_1351_27_08_2017.MP3</td>\n",
       "      <td>[-1.04732437e+02  2.15139145e+02 -1.20868294e+...</td>\n",
       "      <td>0.233441</td>\n",
       "      <td>0.125884</td>\n",
       "      <td>1538.705541</td>\n",
       "      <td>0.154144</td>\n",
       "      <td>4.562316</td>\n",
       "      <td>0</td>\n",
       "    </tr>\n",
       "  </tbody>\n",
       "</table>\n",
       "</div>"
      ],
      "text/plain": [
       "   signal                                               path  \\\n",
       "0       2  F:\\RMS Samples\\S2\\A17BA_12055_1333_27_08_2017.MP3   \n",
       "1       2  F:\\RMS Samples\\S2\\A17BA_12055_1336_27_08_2017.MP3   \n",
       "2       2  F:\\RMS Samples\\S2\\A17BA_12055_1341_27_08_2017.MP3   \n",
       "3       2  F:\\RMS Samples\\S2\\A17BA_12055_1346_27_08_2017.MP3   \n",
       "4       2  F:\\RMS Samples\\S2\\A17BA_12055_1351_27_08_2017.MP3   \n",
       "\n",
       "                                                mfcc  mfcc_mean       zcr  \\\n",
       "0  [-1.19005562e+02  2.06678009e+02 -1.05538704e+...   0.055562  0.114928   \n",
       "1  [-1.1469097e+02  2.1500935e+02 -1.1449629e+02 ...   0.384692  0.119250   \n",
       "2  [-1.22675224e+02  2.07198257e+02 -1.02659149e+...   0.464670  0.109778   \n",
       "3  [-1.1597163e+02  2.1474585e+02 -1.1746875e+02 ...   0.278849  0.119023   \n",
       "4  [-1.04732437e+02  2.15139145e+02 -1.20868294e+...   0.233441  0.125884   \n",
       "\n",
       "            sc       rms  melspectrogram  quality  \n",
       "0  1463.040193  0.145157        4.540862        0  \n",
       "1  1484.006563  0.147916        4.452103        0  \n",
       "2  1413.981019  0.134147        3.892156        0  \n",
       "3  1495.144218  0.147518        4.409816        0  \n",
       "4  1538.705541  0.154144        4.562316        0  "
      ]
     },
     "execution_count": 36,
     "metadata": {},
     "output_type": "execute_result"
    }
   ],
   "source": [
    "df.head()"
   ]
  },
  {
   "cell_type": "code",
   "execution_count": 7,
   "metadata": {},
   "outputs": [],
   "source": [
    "def quality(signal):\n",
    "    if signal == 1 or signal == 2:\n",
    "        return 0\n",
    "    else:\n",
    "        return 1"
   ]
  },
  {
   "cell_type": "code",
   "execution_count": 8,
   "metadata": {},
   "outputs": [],
   "source": [
    "df['quality'] = df['signal'].apply(quality)"
   ]
  },
  {
   "cell_type": "code",
   "execution_count": 10,
   "metadata": {},
   "outputs": [
    {
     "name": "stdout",
     "output_type": "stream",
     "text": [
      "<class 'pandas.core.frame.DataFrame'>\n",
      "RangeIndex: 408 entries, 0 to 407\n",
      "Data columns (total 9 columns):\n",
      "signal            408 non-null int64\n",
      "path              408 non-null object\n",
      "mfcc              408 non-null object\n",
      "mfcc_mean         408 non-null float64\n",
      "zcr               408 non-null float64\n",
      "sc                408 non-null float64\n",
      "rms               408 non-null float64\n",
      "melspectrogram    408 non-null float64\n",
      "quality           408 non-null int64\n",
      "dtypes: float64(5), int64(2), object(2)\n",
      "memory usage: 28.8+ KB\n"
     ]
    }
   ],
   "source": [
    "df.info()"
   ]
  },
  {
   "cell_type": "code",
   "execution_count": 18,
   "metadata": {},
   "outputs": [
    {
     "data": {
      "text/html": [
       "<div>\n",
       "<style scoped>\n",
       "    .dataframe tbody tr th:only-of-type {\n",
       "        vertical-align: middle;\n",
       "    }\n",
       "\n",
       "    .dataframe tbody tr th {\n",
       "        vertical-align: top;\n",
       "    }\n",
       "\n",
       "    .dataframe thead th {\n",
       "        text-align: right;\n",
       "    }\n",
       "</style>\n",
       "<table border=\"1\" class=\"dataframe\">\n",
       "  <thead>\n",
       "    <tr style=\"text-align: right;\">\n",
       "      <th></th>\n",
       "      <th>signal</th>\n",
       "      <th>mfcc_mean</th>\n",
       "      <th>zcr</th>\n",
       "      <th>sc</th>\n",
       "      <th>rms</th>\n",
       "      <th>melspectrogram</th>\n",
       "      <th>quality</th>\n",
       "    </tr>\n",
       "  </thead>\n",
       "  <tbody>\n",
       "    <tr>\n",
       "      <td>count</td>\n",
       "      <td>408.000000</td>\n",
       "      <td>408.000000</td>\n",
       "      <td>408.000000</td>\n",
       "      <td>408.000000</td>\n",
       "      <td>408.000000</td>\n",
       "      <td>408.000000</td>\n",
       "      <td>408.000000</td>\n",
       "    </tr>\n",
       "    <tr>\n",
       "      <td>mean</td>\n",
       "      <td>2.509804</td>\n",
       "      <td>-0.973707</td>\n",
       "      <td>0.116621</td>\n",
       "      <td>1545.845107</td>\n",
       "      <td>0.107266</td>\n",
       "      <td>2.815569</td>\n",
       "      <td>0.502451</td>\n",
       "    </tr>\n",
       "    <tr>\n",
       "      <td>std</td>\n",
       "      <td>1.125929</td>\n",
       "      <td>1.552889</td>\n",
       "      <td>0.023544</td>\n",
       "      <td>196.559130</td>\n",
       "      <td>0.044750</td>\n",
       "      <td>1.749397</td>\n",
       "      <td>0.500608</td>\n",
       "    </tr>\n",
       "    <tr>\n",
       "      <td>min</td>\n",
       "      <td>1.000000</td>\n",
       "      <td>-6.808770</td>\n",
       "      <td>0.054692</td>\n",
       "      <td>1044.114408</td>\n",
       "      <td>0.005196</td>\n",
       "      <td>0.001990</td>\n",
       "      <td>0.000000</td>\n",
       "    </tr>\n",
       "    <tr>\n",
       "      <td>25%</td>\n",
       "      <td>1.750000</td>\n",
       "      <td>-1.259390</td>\n",
       "      <td>0.100047</td>\n",
       "      <td>1432.739391</td>\n",
       "      <td>0.083184</td>\n",
       "      <td>1.451741</td>\n",
       "      <td>0.000000</td>\n",
       "    </tr>\n",
       "    <tr>\n",
       "      <td>50%</td>\n",
       "      <td>3.000000</td>\n",
       "      <td>-0.597562</td>\n",
       "      <td>0.115029</td>\n",
       "      <td>1510.920661</td>\n",
       "      <td>0.106676</td>\n",
       "      <td>2.652132</td>\n",
       "      <td>1.000000</td>\n",
       "    </tr>\n",
       "    <tr>\n",
       "      <td>75%</td>\n",
       "      <td>4.000000</td>\n",
       "      <td>-0.018491</td>\n",
       "      <td>0.130557</td>\n",
       "      <td>1604.220208</td>\n",
       "      <td>0.145281</td>\n",
       "      <td>4.129977</td>\n",
       "      <td>1.000000</td>\n",
       "    </tr>\n",
       "    <tr>\n",
       "      <td>max</td>\n",
       "      <td>4.000000</td>\n",
       "      <td>1.469374</td>\n",
       "      <td>0.166038</td>\n",
       "      <td>2541.239780</td>\n",
       "      <td>0.195066</td>\n",
       "      <td>7.741895</td>\n",
       "      <td>1.000000</td>\n",
       "    </tr>\n",
       "  </tbody>\n",
       "</table>\n",
       "</div>"
      ],
      "text/plain": [
       "           signal   mfcc_mean         zcr           sc         rms  \\\n",
       "count  408.000000  408.000000  408.000000   408.000000  408.000000   \n",
       "mean     2.509804   -0.973707    0.116621  1545.845107    0.107266   \n",
       "std      1.125929    1.552889    0.023544   196.559130    0.044750   \n",
       "min      1.000000   -6.808770    0.054692  1044.114408    0.005196   \n",
       "25%      1.750000   -1.259390    0.100047  1432.739391    0.083184   \n",
       "50%      3.000000   -0.597562    0.115029  1510.920661    0.106676   \n",
       "75%      4.000000   -0.018491    0.130557  1604.220208    0.145281   \n",
       "max      4.000000    1.469374    0.166038  2541.239780    0.195066   \n",
       "\n",
       "       melspectrogram     quality  \n",
       "count      408.000000  408.000000  \n",
       "mean         2.815569    0.502451  \n",
       "std          1.749397    0.500608  \n",
       "min          0.001990    0.000000  \n",
       "25%          1.451741    0.000000  \n",
       "50%          2.652132    1.000000  \n",
       "75%          4.129977    1.000000  \n",
       "max          7.741895    1.000000  "
      ]
     },
     "execution_count": 18,
     "metadata": {},
     "output_type": "execute_result"
    }
   ],
   "source": [
    "df.describe()"
   ]
  },
  {
   "cell_type": "code",
   "execution_count": 24,
   "metadata": {},
   "outputs": [
    {
     "data": {
      "text/plain": [
       "1    205\n",
       "0    203\n",
       "Name: split, dtype: int64"
      ]
     },
     "execution_count": 24,
     "metadata": {},
     "output_type": "execute_result"
    }
   ],
   "source": [
    "df['quality'].value_counts()"
   ]
  },
  {
   "cell_type": "code",
   "execution_count": 26,
   "metadata": {},
   "outputs": [],
   "source": [
    "P_0 = 203/(203+205)\n",
    "P_1 = 205/(203+205)"
   ]
  },
  {
   "cell_type": "code",
   "execution_count": 27,
   "metadata": {},
   "outputs": [],
   "source": [
    "entropy_parent = -( P_0*np.log2(P_0) + P_1*np.log2(P_1) )"
   ]
  },
  {
   "cell_type": "code",
   "execution_count": 28,
   "metadata": {},
   "outputs": [
    {
     "data": {
      "text/plain": [
       "0.9999826665126543"
      ]
     },
     "execution_count": 28,
     "metadata": {},
     "output_type": "execute_result"
    }
   ],
   "source": [
    "#Entropy of Quality \n",
    "entropy_parent"
   ]
  },
  {
   "cell_type": "code",
   "execution_count": 29,
   "metadata": {},
   "outputs": [
    {
     "data": {
      "text/plain": [
       "4    105\n",
       "1    102\n",
       "2    101\n",
       "3    100\n",
       "Name: members, dtype: int64"
      ]
     },
     "execution_count": 29,
     "metadata": {},
     "output_type": "execute_result"
    }
   ],
   "source": [
    "df['signal'].value_counts()"
   ]
  },
  {
   "cell_type": "code",
   "execution_count": 31,
   "metadata": {},
   "outputs": [
    {
     "name": "stdout",
     "output_type": "stream",
     "text": [
      "1.9997583248846351\n"
     ]
    }
   ],
   "source": [
    "import scipy.stats as st\n",
    "#Entropy of Signal\n",
    "print (st.entropy([102,101,100,105],base=2))"
   ]
  },
  {
   "cell_type": "code",
   "execution_count": null,
   "metadata": {},
   "outputs": [],
   "source": []
  },
  {
   "cell_type": "code",
   "execution_count": null,
   "metadata": {},
   "outputs": [],
   "source": []
  },
  {
   "cell_type": "code",
   "execution_count": 17,
   "metadata": {},
   "outputs": [
    {
     "ename": "TypeError",
     "evalue": "entropy() got an unexpected keyword argument 'axis'",
     "output_type": "error",
     "traceback": [
      "\u001b[0;31m---------------------------------------------------------------------------\u001b[0m",
      "\u001b[0;31mTypeError\u001b[0m                                 Traceback (most recent call last)",
      "\u001b[0;32m<ipython-input-17-28f64cb002dd>\u001b[0m in \u001b[0;36m<module>\u001b[0;34m\u001b[0m\n\u001b[1;32m     21\u001b[0m \u001b[0mmembers\u001b[0m \u001b[0;34m=\u001b[0m \u001b[0mdf\u001b[0m\u001b[0;34m[\u001b[0m\u001b[0;34m'signal'\u001b[0m\u001b[0;34m]\u001b[0m\u001b[0;34m\u001b[0m\u001b[0;34m\u001b[0m\u001b[0m\n\u001b[1;32m     22\u001b[0m \u001b[0msplit\u001b[0m \u001b[0;34m=\u001b[0m \u001b[0mdf\u001b[0m\u001b[0;34m[\u001b[0m\u001b[0;34m'quality'\u001b[0m\u001b[0;34m]\u001b[0m\u001b[0;34m\u001b[0m\u001b[0;34m\u001b[0m\u001b[0m\n\u001b[0;32m---> 23\u001b[0;31m \u001b[0mprint\u001b[0m \u001b[0;34m(\u001b[0m\u001b[0minformation_gain\u001b[0m\u001b[0;34m(\u001b[0m\u001b[0mmembers\u001b[0m\u001b[0;34m,\u001b[0m \u001b[0msplit\u001b[0m\u001b[0;34m)\u001b[0m\u001b[0;34m)\u001b[0m\u001b[0;34m\u001b[0m\u001b[0;34m\u001b[0m\u001b[0m\n\u001b[0m",
      "\u001b[0;32m<ipython-input-17-28f64cb002dd>\u001b[0m in \u001b[0;36minformation_gain\u001b[0;34m(members, split)\u001b[0m\n\u001b[1;32m     15\u001b[0m                         \u001b[0;34m.\u001b[0m\u001b[0mreset_index\u001b[0m\u001b[0;34m(\u001b[0m\u001b[0mname\u001b[0m\u001b[0;34m=\u001b[0m\u001b[0;34m'count'\u001b[0m\u001b[0;34m)\u001b[0m\u001b[0;31m \u001b[0m\u001b[0;31m\\\u001b[0m\u001b[0;34m\u001b[0m\u001b[0;34m\u001b[0m\u001b[0m\n\u001b[1;32m     16\u001b[0m                         \u001b[0;34m.\u001b[0m\u001b[0mpivot_table\u001b[0m\u001b[0;34m(\u001b[0m\u001b[0mindex\u001b[0m\u001b[0;34m=\u001b[0m\u001b[0;34m'split'\u001b[0m\u001b[0;34m,\u001b[0m \u001b[0mcolumns\u001b[0m\u001b[0;34m=\u001b[0m\u001b[0;34m'members'\u001b[0m\u001b[0;34m,\u001b[0m \u001b[0mvalues\u001b[0m\u001b[0;34m=\u001b[0m\u001b[0;34m'count'\u001b[0m\u001b[0;34m)\u001b[0m\u001b[0;34m.\u001b[0m\u001b[0mfillna\u001b[0m\u001b[0;34m(\u001b[0m\u001b[0;36m0\u001b[0m\u001b[0;34m)\u001b[0m\u001b[0;34m\u001b[0m\u001b[0;34m\u001b[0m\u001b[0m\n\u001b[0;32m---> 17\u001b[0;31m     \u001b[0mentropy_after\u001b[0m \u001b[0;34m=\u001b[0m \u001b[0mentropy\u001b[0m\u001b[0;34m(\u001b[0m\u001b[0mgrouped_distrib\u001b[0m\u001b[0;34m,\u001b[0m \u001b[0maxis\u001b[0m\u001b[0;34m=\u001b[0m\u001b[0;36m0\u001b[0m\u001b[0;34m)\u001b[0m\u001b[0;34m\u001b[0m\u001b[0;34m\u001b[0m\u001b[0m\n\u001b[0m\u001b[1;32m     18\u001b[0m     \u001b[0mentropy_after\u001b[0m \u001b[0;34m*=\u001b[0m \u001b[0msplit\u001b[0m\u001b[0;34m.\u001b[0m\u001b[0mvalue_counts\u001b[0m\u001b[0;34m(\u001b[0m\u001b[0msort\u001b[0m\u001b[0;34m=\u001b[0m\u001b[0;32mFalse\u001b[0m\u001b[0;34m,\u001b[0m \u001b[0mnormalize\u001b[0m\u001b[0;34m=\u001b[0m\u001b[0;32mTrue\u001b[0m\u001b[0;34m)\u001b[0m\u001b[0;34m\u001b[0m\u001b[0;34m\u001b[0m\u001b[0m\n\u001b[1;32m     19\u001b[0m     \u001b[0;32mreturn\u001b[0m \u001b[0mentropy_before\u001b[0m \u001b[0;34m-\u001b[0m \u001b[0mentropy_after\u001b[0m\u001b[0;34m.\u001b[0m\u001b[0msum\u001b[0m\u001b[0;34m(\u001b[0m\u001b[0;34m)\u001b[0m\u001b[0;34m\u001b[0m\u001b[0;34m\u001b[0m\u001b[0m\n",
      "\u001b[0;31mTypeError\u001b[0m: entropy() got an unexpected keyword argument 'axis'"
     ]
    }
   ],
   "source": [
    "from scipy.stats import entropy\n",
    "import pandas as pd\n",
    "def information_gain(members, split):\n",
    "    '''\n",
    "    Measures the reduction in entropy after the split  \n",
    "    :param v: Pandas Series of the members\n",
    "    :param split:\n",
    "    :return:\n",
    "    '''\n",
    "    entropy_before = entropy(members.value_counts(normalize=True))\n",
    "    split.name = 'split'\n",
    "    members.name = 'members'\n",
    "    grouped_distrib = members.groupby(split) \\\n",
    "                        .value_counts(normalize=True) \\\n",
    "                        .reset_index(name='count') \\\n",
    "                        .pivot_table(index='split', columns='members', values='count').fillna(0) \n",
    "    entropy_after = entropy(grouped_distrib, axis=0)\n",
    "    entropy_after *= split.value_counts(sort=False, normalize=True)\n",
    "    return entropy_before - entropy_after.sum()\n",
    "\n",
    "members = df['signal']\n",
    "split = df['quality']\n",
    "print (information_gain(members, split))"
   ]
  },
  {
   "cell_type": "code",
   "execution_count": 16,
   "metadata": {},
   "outputs": [
    {
     "data": {
      "text/plain": [
       "(408,)"
      ]
     },
     "execution_count": 16,
     "metadata": {},
     "output_type": "execute_result"
    }
   ],
   "source": [
    "members = df['signal']\n",
    "split = df['quality']\n",
    "members.shape\n",
    "split.shape"
   ]
  },
  {
   "cell_type": "code",
   "execution_count": 47,
   "metadata": {},
   "outputs": [],
   "source": [
    "p = \"[-1.19005562e+02,2.06678009e+02,-1.05538704e+02,4.48204079e+01,1.11865625e+01,-1.92529087e+01,1.06882820e+01,-6.18736935e+00,6.10216188e+00,-1.00257215e+01,2.39508319e+00,4.69961548e+00,-1.31886606e+01,7.41868591e+00,-1.52671719e+00,-3.83753300e+00,3.93492627e+00,-7.81431973e-01,2.34639859e+00,-4.07584858e+00,1.93202055e+00,6.45269215e-01,-4.63217640e+00,4.33690834e+00,-2.32549834e+00,-6.85804307e-01,2.59325719e+00,-1.35948873e+00,1.12610710e+00,-1.97841501e+00,2.35813826e-01,-8.02883685e-01,-2.83340859e+00,6.75041020e-01,-3.37705207e+00,-1.74651301e+00,-1.44945669e+00,-2.96129656e+00,2.03646086e-02,-2.03996587e+00]\""
   ]
  },
  {
   "cell_type": "code",
   "execution_count": 58,
   "metadata": {},
   "outputs": [],
   "source": [
    "import seaborn as sns"
   ]
  },
  {
   "cell_type": "code",
   "execution_count": 68,
   "metadata": {},
   "outputs": [],
   "source": [
    "p = [-1.1469097e+02,2.1500935e+02,-1.1449629e+02,4.9527676e+01,9.3154840e+00,-1.9206678e+01,1.1983718e+01,-8.5214376e+00,8.6188974e+00,-1.0890959e+01,5.7270837e-01,5.9147525e+00,-1.3107455e+01,7.7478476e+00,-1.7761862e+00,-2.9357328e+00,4.3633304e+00,-2.1678770e+00,2.7836373e+00,-4.3461537e+00,1.4387857e+00,9.2462170e-01,-5.2273936e+00,3.8505909e+00,-2.2911551e+00,-1.2515810e-01,1.8591126e+00,-2.2373650e+00,1.7675447e+00,-1.5231973e+00,8.3124447e-01,1.7811665e-01,-1.5109183e+00,1.6352978e+00,-2.6037316e+00,-1.1576887e-01,-7.8922659e-01,-2.9496646e+00,4.7315314e-01,-1.8948734e+00 ]\n",
    "#p= [-1.19005562e+02,2.06678009e+02,-1.05538704e+02,4.48204079e+01,1.11865625e+01,-1.92529087e+01,1.06882820e+01,-6.18736935e+00,6.10216188e+00,-1.00257215e+01,2.39508319e+00,4.69961548e+00,-1.31886606e+01,7.41868591e+00,-1.52671719e+00,-3.83753300e+00,3.93492627e+00,-7.81431973e-01,2.34639859e+00,-4.07584858e+00,1.93202055e+00,6.45269215e-01,-4.63217640e+00,4.33690834e+00,-2.32549834e+00,-6.85804307e-01,2.59325719e+00,-1.35948873e+00,1.12610710e+00,-1.97841501e+00,2.35813826e-01,-8.02883685e-01,-2.83340859e+00,6.75041020e-01,-3.37705207e+00,-1.74651301e+00,-1.44945669e+00,-2.96129656e+00,2.03646086e-02,-2.03996587e+00]"
   ]
  },
  {
   "cell_type": "code",
   "execution_count": 69,
   "metadata": {},
   "outputs": [
    {
     "data": {
      "text/plain": [
       "<matplotlib.axes._subplots.AxesSubplot at 0x7fd68e176690>"
      ]
     },
     "execution_count": 69,
     "metadata": {},
     "output_type": "execute_result"
    },
    {
     "data": {
      "image/png": "[encoded data removed]",
      "text/plain": [
       "<Figure size 432x288 with 1 Axes>"
      ]
     },
     "metadata": {
      "needs_background": "light"
     },
     "output_type": "display_data"
    }
   ],
   "source": [
    "sns.distplot(p)"
   ]
  },
  {
   "cell_type": "code",
   "execution_count": 51,
   "metadata": {},
   "outputs": [
    {
     "ename": "ValueError",
     "evalue": "invalid literal for int() with base 10: '['",
     "output_type": "error",
     "traceback": [
      "\u001b[0;31m---------------------------------------------------------------------------\u001b[0m",
      "\u001b[0;31mValueError\u001b[0m                                Traceback (most recent call last)",
      "\u001b[0;32m<ipython-input-51-95820845d4d6>\u001b[0m in \u001b[0;36m<module>\u001b[0;34m\u001b[0m\n\u001b[1;32m      1\u001b[0m \u001b[0;32mfor\u001b[0m \u001b[0mi\u001b[0m \u001b[0;32min\u001b[0m \u001b[0mrange\u001b[0m\u001b[0;34m(\u001b[0m\u001b[0;36m0\u001b[0m\u001b[0;34m,\u001b[0m \u001b[0mlen\u001b[0m\u001b[0;34m(\u001b[0m\u001b[0mp\u001b[0m\u001b[0;34m)\u001b[0m\u001b[0;34m)\u001b[0m\u001b[0;34m:\u001b[0m\u001b[0;34m\u001b[0m\u001b[0;34m\u001b[0m\u001b[0m\n\u001b[0;32m----> 2\u001b[0;31m     \u001b[0mp\u001b[0m\u001b[0;34m[\u001b[0m\u001b[0mi\u001b[0m\u001b[0;34m]\u001b[0m \u001b[0;34m=\u001b[0m \u001b[0mint\u001b[0m\u001b[0;34m(\u001b[0m\u001b[0mp\u001b[0m\u001b[0;34m[\u001b[0m\u001b[0mi\u001b[0m\u001b[0;34m]\u001b[0m\u001b[0;34m)\u001b[0m\u001b[0;34m\u001b[0m\u001b[0;34m\u001b[0m\u001b[0m\n\u001b[0m\u001b[1;32m      3\u001b[0m \u001b[0;34m\u001b[0m\u001b[0m\n\u001b[1;32m      4\u001b[0m \u001b[0;34m\u001b[0m\u001b[0m\n\u001b[1;32m      5\u001b[0m \u001b[0;31m# Printing modified list\u001b[0m\u001b[0;34m\u001b[0m\u001b[0;34m\u001b[0m\u001b[0;34m\u001b[0m\u001b[0m\n",
      "\u001b[0;31mValueError\u001b[0m: invalid literal for int() with base 10: '['"
     ]
    }
   ],
   "source": [
    "for i in range(0, len(p)): \n",
    "    p[i] = int(p[i]) \n",
    "      \n",
    "  \n",
    "# Printing modified list  \n",
    "print (\"Modified list is : \" + str(p)) "
   ]
  },
  {
   "cell_type": "code",
   "execution_count": 61,
   "metadata": {},
   "outputs": [],
   "source": [
    "pf = pd.read_csv('signal_feature_new.csv')"
   ]
  },
  {
   "cell_type": "code",
   "execution_count": 62,
   "metadata": {},
   "outputs": [
    {
     "data": {
      "text/html": [
       "<div>\n",
       "<style scoped>\n",
       "    .dataframe tbody tr th:only-of-type {\n",
       "        vertical-align: middle;\n",
       "    }\n",
       "\n",
       "    .dataframe tbody tr th {\n",
       "        vertical-align: top;\n",
       "    }\n",
       "\n",
       "    .dataframe thead th {\n",
       "        text-align: right;\n",
       "    }\n",
       "</style>\n",
       "<table border=\"1\" class=\"dataframe\">\n",
       "  <thead>\n",
       "    <tr style=\"text-align: right;\">\n",
       "      <th></th>\n",
       "      <th>Unnamed: 0</th>\n",
       "      <th>signal</th>\n",
       "      <th>path</th>\n",
       "      <th>mfcc</th>\n",
       "      <th>mfcc_mean</th>\n",
       "      <th>zcr</th>\n",
       "      <th>sc</th>\n",
       "      <th>rms</th>\n",
       "      <th>melspectrogram</th>\n",
       "    </tr>\n",
       "  </thead>\n",
       "  <tbody>\n",
       "    <tr>\n",
       "      <td>0</td>\n",
       "      <td>0</td>\n",
       "      <td>2</td>\n",
       "      <td>F:\\RMS Samples\\S2\\A17BA_12055_1333_27_08_2017.MP3</td>\n",
       "      <td>[-1.19005562e+02,2.06678009e+02,-1.05538704e+0...</td>\n",
       "      <td>0.055562</td>\n",
       "      <td>0.114928</td>\n",
       "      <td>1463.040193</td>\n",
       "      <td>0.145157</td>\n",
       "      <td>4.540862</td>\n",
       "    </tr>\n",
       "    <tr>\n",
       "      <td>1</td>\n",
       "      <td>1</td>\n",
       "      <td>2</td>\n",
       "      <td>F:\\RMS Samples\\S2\\A17BA_12055_1336_27_08_2017.MP3</td>\n",
       "      <td>[-1.1469097e+02,2.1500935e+02,-1.1449629e+02,4...</td>\n",
       "      <td>0.384692</td>\n",
       "      <td>0.119250</td>\n",
       "      <td>1484.006563</td>\n",
       "      <td>0.147916</td>\n",
       "      <td>4.452103</td>\n",
       "    </tr>\n",
       "    <tr>\n",
       "      <td>2</td>\n",
       "      <td>2</td>\n",
       "      <td>2</td>\n",
       "      <td>F:\\RMS Samples\\S2\\A17BA_12055_1341_27_08_2017.MP3</td>\n",
       "      <td>[-1.22675224e+02,2.07198257e+02,-1.02659149e+0...</td>\n",
       "      <td>0.464670</td>\n",
       "      <td>0.109778</td>\n",
       "      <td>1413.981019</td>\n",
       "      <td>0.134147</td>\n",
       "      <td>3.892156</td>\n",
       "    </tr>\n",
       "    <tr>\n",
       "      <td>3</td>\n",
       "      <td>3</td>\n",
       "      <td>2</td>\n",
       "      <td>F:\\RMS Samples\\S2\\A17BA_12055_1346_27_08_2017.MP3</td>\n",
       "      <td>[-1.1597163e+02,2.1474585e+02,-1.1746875e+02,4...</td>\n",
       "      <td>0.278849</td>\n",
       "      <td>0.119023</td>\n",
       "      <td>1495.144218</td>\n",
       "      <td>0.147518</td>\n",
       "      <td>4.409816</td>\n",
       "    </tr>\n",
       "    <tr>\n",
       "      <td>4</td>\n",
       "      <td>4</td>\n",
       "      <td>2</td>\n",
       "      <td>F:\\RMS Samples\\S2\\A17BA_12055_1351_27_08_2017.MP3</td>\n",
       "      <td>[-1.04732437e+02,2.15139145e+02,-1.20868294e+0...</td>\n",
       "      <td>0.233441</td>\n",
       "      <td>0.125884</td>\n",
       "      <td>1538.705541</td>\n",
       "      <td>0.154144</td>\n",
       "      <td>4.562316</td>\n",
       "    </tr>\n",
       "  </tbody>\n",
       "</table>\n",
       "</div>"
      ],
      "text/plain": [
       "   Unnamed: 0  signal                                               path  \\\n",
       "0           0       2  F:\\RMS Samples\\S2\\A17BA_12055_1333_27_08_2017.MP3   \n",
       "1           1       2  F:\\RMS Samples\\S2\\A17BA_12055_1336_27_08_2017.MP3   \n",
       "2           2       2  F:\\RMS Samples\\S2\\A17BA_12055_1341_27_08_2017.MP3   \n",
       "3           3       2  F:\\RMS Samples\\S2\\A17BA_12055_1346_27_08_2017.MP3   \n",
       "4           4       2  F:\\RMS Samples\\S2\\A17BA_12055_1351_27_08_2017.MP3   \n",
       "\n",
       "                                                mfcc  mfcc_mean       zcr  \\\n",
       "0  [-1.19005562e+02,2.06678009e+02,-1.05538704e+0...   0.055562  0.114928   \n",
       "1  [-1.1469097e+02,2.1500935e+02,-1.1449629e+02,4...   0.384692  0.119250   \n",
       "2  [-1.22675224e+02,2.07198257e+02,-1.02659149e+0...   0.464670  0.109778   \n",
       "3  [-1.1597163e+02,2.1474585e+02,-1.1746875e+02,4...   0.278849  0.119023   \n",
       "4  [-1.04732437e+02,2.15139145e+02,-1.20868294e+0...   0.233441  0.125884   \n",
       "\n",
       "            sc       rms  melspectrogram  \n",
       "0  1463.040193  0.145157        4.540862  \n",
       "1  1484.006563  0.147916        4.452103  \n",
       "2  1413.981019  0.134147        3.892156  \n",
       "3  1495.144218  0.147518        4.409816  \n",
       "4  1538.705541  0.154144        4.562316  "
      ]
     },
     "execution_count": 62,
     "metadata": {},
     "output_type": "execute_result"
    }
   ],
   "source": [
    "pf.head()"
   ]
  },
  {
   "cell_type": "code",
   "execution_count": 71,
   "metadata": {},
   "outputs": [
    {
     "data": {
      "text/plain": [
       "'[-1.19005562e+02  2.06678009e+02 -1.05538704e+02  4.48204079e+01\\n  1.11865625e+01 -1.92529087e+01  1.06882820e+01 -6.18736935e+00\\n  6.10216188e+00 -1.00257215e+01  2.39508319e+00  4.69961548e+00\\n -1.31886606e+01  7.41868591e+00 -1.52671719e+00 -3.83753300e+00\\n  3.93492627e+00 -7.81431973e-01  2.34639859e+00 -4.07584858e+00\\n  1.93202055e+00  6.45269215e-01 -4.63217640e+00  4.33690834e+00\\n -2.32549834e+00 -6.85804307e-01  2.59325719e+00 -1.35948873e+00\\n  1.12610710e+00 -1.97841501e+00  2.35813826e-01 -8.02883685e-01\\n -2.83340859e+00  6.75041020e-01 -3.37705207e+00 -1.74651301e+00\\n -1.44945669e+00 -2.96129656e+00  2.03646086e-02 -2.03996587e+00]'"
      ]
     },
     "execution_count": 71,
     "metadata": {},
     "output_type": "execute_result"
    }
   ],
   "source": [
    "df['mfcc'][0]"
   ]
  },
  {
   "cell_type": "code",
   "execution_count": 84,
   "metadata": {},
   "outputs": [
    {
     "data": {
      "text/plain": [
       "398632"
      ]
     },
     "execution_count": 84,
     "metadata": {},
     "output_type": "execute_result"
    }
   ],
   "source": [
    "from bs4 import BeautifulSoup as bs\n",
    "import requests\n",
    "video_url = \"https://www.youtube.com/watch?v=jNQXAC9IVRw\"\n",
    "content = requests.get(video_url)\n",
    "soup = bs(content.content, \"html.parser\")\n",
    "open(\"video.html\", \"w\", encoding='utf8').write(content.text)\n"
   ]
  },
  {
   "cell_type": "code",
   "execution_count": 94,
   "metadata": {},
   "outputs": [
    {
     "name": "stdout",
     "output_type": "stream",
     "text": [
      "None\n"
     ]
    }
   ],
   "source": [
    "print(soup.find(\"span\", attrs={'class': 'view-count style-scope yt-view-count-renderer'}))"
   ]
  },
  {
   "cell_type": "code",
   "execution_count": 103,
   "metadata": {},
   "outputs": [],
   "source": [
    "p = soup.findAll(\"div\",{\"class\":\"table-body\"})"
   ]
  },
  {
   "cell_type": "code",
   "execution_count": 105,
   "metadata": {},
   "outputs": [
    {
     "data": {
      "text/plain": [
       "[]"
      ]
     },
     "execution_count": 105,
     "metadata": {},
     "output_type": "execute_result"
    }
   ],
   "source": [
    "p"
   ]
  },
  {
   "cell_type": "code",
   "execution_count": null,
   "metadata": {},
   "outputs": [],
   "source": []
  }
 ],
 "metadata": {
  "kernelspec": {
   "display_name": "Python 3",
   "language": "python",
   "name": "python3"
  },
  "language_info": {
   "codemirror_mode": {
    "name": "ipython",
    "version": 3
   },
   "file_extension": ".py",
   "mimetype": "text/x-python",
   "name": "python",
   "nbconvert_exporter": "python",
   "pygments_lexer": "ipython3",
   "version": "3.7.4"
  }
 },
 "nbformat": 4,
 "nbformat_minor": 2
}
